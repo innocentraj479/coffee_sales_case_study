{
 "cells": [
  {
   "cell_type": "markdown",
   "metadata": {},
   "source": [
    "# Exploring Coffee Shop Trends: A Comprehensive Analysis\n",
    "\n",
    "# introduction:\n",
    "### in this analysis, we dive into a coffee shop's transaction data, uncovering trends, spending patterns, and customer preferences. From coffee types to payment methods, let’s explore the story behind the numbers."
   ]
  },
  {
   "cell_type": "markdown",
   "metadata": {},
   "source": [
    "# Key Findings \n",
    "\n",
    "### Coffee Preferences \n",
    "\n"
   ]
  },
  {
   "cell_type": "markdown",
   "metadata": {},
   "source": [
    "### .Top Choice :\n",
    " \"Americano with Milk\" leads with the highest count of transactions, indicating strong customer preference.\n",
    "\n"
   ]
  },
  {
   "cell_type": "markdown",
   "metadata": {},
   "source": [
    "### . Most Expensive Coffee:\n",
    " Latte emerges as the priciest, with a median spend around  \n",
    "37.50\n",
    ",\n",
    "c\n",
    "o\n",
    "m\n",
    "p\n",
    "a\n",
    "r\n",
    "e\n",
    "d\n",
    "t\n",
    "o\n",
    "∗\n",
    "∗\n",
    "A\n",
    "m\n",
    "e\n",
    "r\n",
    "i\n",
    "c\n",
    "a\n",
    "n\n",
    "o\n",
    "∗\n",
    "∗\n",
    "a\n",
    "t\n",
    " 27.50. The price for Lattes shows more variability, suggesting a wider range of options or promotions."
   ]
  },
  {
   "cell_type": "markdown",
   "metadata": {},
   "source": [
    "### Cash vs. Card Spending"
   ]
  },
  {
   "cell_type": "markdown",
   "metadata": {},
   "source": [
    "### . Card Payments:\n",
    " Cards not only dominate but also exhibit higher median spending. The wider interquartile range (IQR) for card transactions highlights greater variability in spending compared to cash."
   ]
  },
  {
   "cell_type": "markdown",
   "metadata": {},
   "source": [
    "### Spending Trends Over Time "
   ]
  },
  {
   "cell_type": "markdown",
   "metadata": {},
   "source": [
    "### .Monthly Trends:\n",
    "Spending was steady from February to May 2024, hovering around  \n",
    "2\n",
    ",\n",
    "000\n",
    "m\n",
    "o\n",
    "n\n",
    "t\n",
    "h\n",
    "l\n",
    "y\n",
    ".\n",
    "A\n",
    "s\n",
    "i\n",
    "g\n",
    "n\n",
    "i\n",
    "f\n",
    "i\n",
    "c\n",
    "a\n",
    "n\n",
    "t\n",
    "u\n",
    "p\n",
    "t\n",
    "i\n",
    "c\n",
    "k\n",
    "i\n",
    "n\n",
    "J\n",
    "u\n",
    "n\n",
    "e\n",
    "a\n",
    "n\n",
    "d\n",
    "J\n",
    "u\n",
    "l\n",
    "y\n",
    "s\n",
    "a\n",
    "w\n",
    "s\n",
    "p\n",
    "e\n",
    "n\n",
    "d\n",
    "i\n",
    "n\n",
    "g\n",
    "s\n",
    "o\n",
    "a\n",
    "r\n",
    "t\n",
    "o\n",
    " 8,000, hinting at seasonal spikes or successful promotions"
   ]
  },
  {
   "cell_type": "markdown",
   "metadata": {},
   "source": [
    "### Weekly Trends:\n",
    " Weekly spending remained stable at  \n",
    "1\n",
    ",\n",
    "000\n",
    "f\n",
    "r\n",
    "o\n",
    "m\n",
    "M\n",
    "a\n",
    "r\n",
    "c\n",
    "h\n",
    "t\n",
    "o\n",
    "M\n",
    "a\n",
    "y\n",
    ",\n",
    "w\n",
    "i\n",
    "t\n",
    "h\n",
    "a\n",
    "n\n",
    "o\n",
    "t\n",
    "a\n",
    "b\n",
    "l\n",
    "e\n",
    "r\n",
    "i\n",
    "s\n",
    "e\n",
    "t\n",
    "o\n",
    " 2,000 per week in June and July, aligning with the monthly trend."
   ]
  },
  {
   "cell_type": "markdown",
   "metadata": {},
   "source": [
    "## Transaction Insights"
   ]
  },
  {
   "cell_type": "markdown",
   "metadata": {},
   "source": [
    "### Monthly Transactions:\n",
    " The number of transactions peaked in July with 250 cups, while February had the fewest at 50. This fluctuation suggests growing customer engagement or seasonal influences."
   ]
  },
  {
   "cell_type": "markdown",
   "metadata": {},
   "source": [
    "## Weekly Transaction:\n",
    "Weekly transaction counts saw gradual growth from 20 in February to 80 by July, reflecting an upward trend"
   ]
  },
  {
   "cell_type": "markdown",
   "metadata": {},
   "source": [
    "# Distribution of Spending"
   ]
  },
  {
   "cell_type": "markdown",
   "metadata": {},
   "source": [
    "### Maximum Transaction:\n",
    " The highest recorded spend was $37.25, with a total of 273 such transactions, demonstrating significant customer expenditure on premium options."
   ]
  },
  {
   "cell_type": "markdown",
   "metadata": {},
   "source": [
    "# Conclusion \n",
    "The data paints a vibrant picture of customer behavior, revealing a strong preference for certain coffee types and payment methods. The increase in spending during the summer months and the higher spend with cards provide actionable insights for marketing and inventory management."
   ]
  },
  {
   "cell_type": "markdown",
   "metadata": {},
   "source": [
    "# Import Library"
   ]
  },
  {
   "cell_type": "code",
   "execution_count": null,
   "metadata": {},
   "outputs": [],
   "source": [
    "import pandas as pd\n",
    "import numpy as np\n",
    "import matplotlib.pyplot as plt\n",
    "import seaborn as sns\n",
    "import plotly.express as px \n",
    "import datetime as dt"
   ]
  },
  {
   "cell_type": "code",
   "execution_count": 28,
   "metadata": {},
   "outputs": [],
   "source": [
    "df=pd.read_csv(\"C:\\\\Users\\\\3520\\\\Downloads\\\\index (2).csv\")"
   ]
  },
  {
   "cell_type": "code",
   "execution_count": 29,
   "metadata": {},
   "outputs": [
    {
     "data": {
      "text/html": [
       "<div>\n",
       "<style scoped>\n",
       "    .dataframe tbody tr th:only-of-type {\n",
       "        vertical-align: middle;\n",
       "    }\n",
       "\n",
       "    .dataframe tbody tr th {\n",
       "        vertical-align: top;\n",
       "    }\n",
       "\n",
       "    .dataframe thead th {\n",
       "        text-align: right;\n",
       "    }\n",
       "</style>\n",
       "<table border=\"1\" class=\"dataframe\">\n",
       "  <thead>\n",
       "    <tr style=\"text-align: right;\">\n",
       "      <th></th>\n",
       "      <th>date</th>\n",
       "      <th>datetime</th>\n",
       "      <th>cash_type</th>\n",
       "      <th>card</th>\n",
       "      <th>money</th>\n",
       "      <th>coffee_name</th>\n",
       "    </tr>\n",
       "  </thead>\n",
       "  <tbody>\n",
       "    <tr>\n",
       "      <th>0</th>\n",
       "      <td>2024-03-01</td>\n",
       "      <td>2024-03-01 10:15:50.520</td>\n",
       "      <td>card</td>\n",
       "      <td>ANON-0000-0000-0001</td>\n",
       "      <td>38.70</td>\n",
       "      <td>Latte</td>\n",
       "    </tr>\n",
       "    <tr>\n",
       "      <th>1</th>\n",
       "      <td>2024-03-01</td>\n",
       "      <td>2024-03-01 12:19:22.539</td>\n",
       "      <td>card</td>\n",
       "      <td>ANON-0000-0000-0002</td>\n",
       "      <td>38.70</td>\n",
       "      <td>Hot Chocolate</td>\n",
       "    </tr>\n",
       "    <tr>\n",
       "      <th>2</th>\n",
       "      <td>2024-03-01</td>\n",
       "      <td>2024-03-01 12:20:18.089</td>\n",
       "      <td>card</td>\n",
       "      <td>ANON-0000-0000-0002</td>\n",
       "      <td>38.70</td>\n",
       "      <td>Hot Chocolate</td>\n",
       "    </tr>\n",
       "    <tr>\n",
       "      <th>3</th>\n",
       "      <td>2024-03-01</td>\n",
       "      <td>2024-03-01 13:46:33.006</td>\n",
       "      <td>card</td>\n",
       "      <td>ANON-0000-0000-0003</td>\n",
       "      <td>28.90</td>\n",
       "      <td>Americano</td>\n",
       "    </tr>\n",
       "    <tr>\n",
       "      <th>4</th>\n",
       "      <td>2024-03-01</td>\n",
       "      <td>2024-03-01 13:48:14.626</td>\n",
       "      <td>card</td>\n",
       "      <td>ANON-0000-0000-0004</td>\n",
       "      <td>38.70</td>\n",
       "      <td>Latte</td>\n",
       "    </tr>\n",
       "    <tr>\n",
       "      <th>...</th>\n",
       "      <td>...</td>\n",
       "      <td>...</td>\n",
       "      <td>...</td>\n",
       "      <td>...</td>\n",
       "      <td>...</td>\n",
       "      <td>...</td>\n",
       "    </tr>\n",
       "    <tr>\n",
       "      <th>971</th>\n",
       "      <td>2024-07-14</td>\n",
       "      <td>2024-07-14 22:31:29.976</td>\n",
       "      <td>card</td>\n",
       "      <td>ANON-0000-0000-0376</td>\n",
       "      <td>32.82</td>\n",
       "      <td>Latte</td>\n",
       "    </tr>\n",
       "    <tr>\n",
       "      <th>972</th>\n",
       "      <td>2024-07-15</td>\n",
       "      <td>2024-07-15 07:33:05.557</td>\n",
       "      <td>card</td>\n",
       "      <td>ANON-0000-0000-0377</td>\n",
       "      <td>32.82</td>\n",
       "      <td>Cappuccino</td>\n",
       "    </tr>\n",
       "    <tr>\n",
       "      <th>973</th>\n",
       "      <td>2024-07-16</td>\n",
       "      <td>2024-07-16 12:23:37.467</td>\n",
       "      <td>card</td>\n",
       "      <td>ANON-0000-0000-0378</td>\n",
       "      <td>27.92</td>\n",
       "      <td>Americano with Milk</td>\n",
       "    </tr>\n",
       "    <tr>\n",
       "      <th>974</th>\n",
       "      <td>2024-07-16</td>\n",
       "      <td>2024-07-16 19:29:25.485</td>\n",
       "      <td>card</td>\n",
       "      <td>ANON-0000-0000-0367</td>\n",
       "      <td>32.82</td>\n",
       "      <td>Hot Chocolate</td>\n",
       "    </tr>\n",
       "    <tr>\n",
       "      <th>975</th>\n",
       "      <td>2024-07-17</td>\n",
       "      <td>2024-07-17 13:04:59.744</td>\n",
       "      <td>card</td>\n",
       "      <td>ANON-0000-0000-0379</td>\n",
       "      <td>27.92</td>\n",
       "      <td>Americano with Milk</td>\n",
       "    </tr>\n",
       "  </tbody>\n",
       "</table>\n",
       "<p>976 rows × 6 columns</p>\n",
       "</div>"
      ],
      "text/plain": [
       "           date                 datetime cash_type                 card  \\\n",
       "0    2024-03-01  2024-03-01 10:15:50.520      card  ANON-0000-0000-0001   \n",
       "1    2024-03-01  2024-03-01 12:19:22.539      card  ANON-0000-0000-0002   \n",
       "2    2024-03-01  2024-03-01 12:20:18.089      card  ANON-0000-0000-0002   \n",
       "3    2024-03-01  2024-03-01 13:46:33.006      card  ANON-0000-0000-0003   \n",
       "4    2024-03-01  2024-03-01 13:48:14.626      card  ANON-0000-0000-0004   \n",
       "..          ...                      ...       ...                  ...   \n",
       "971  2024-07-14  2024-07-14 22:31:29.976      card  ANON-0000-0000-0376   \n",
       "972  2024-07-15  2024-07-15 07:33:05.557      card  ANON-0000-0000-0377   \n",
       "973  2024-07-16  2024-07-16 12:23:37.467      card  ANON-0000-0000-0378   \n",
       "974  2024-07-16  2024-07-16 19:29:25.485      card  ANON-0000-0000-0367   \n",
       "975  2024-07-17  2024-07-17 13:04:59.744      card  ANON-0000-0000-0379   \n",
       "\n",
       "     money          coffee_name  \n",
       "0    38.70                Latte  \n",
       "1    38.70        Hot Chocolate  \n",
       "2    38.70        Hot Chocolate  \n",
       "3    28.90            Americano  \n",
       "4    38.70                Latte  \n",
       "..     ...                  ...  \n",
       "971  32.82                Latte  \n",
       "972  32.82           Cappuccino  \n",
       "973  27.92  Americano with Milk  \n",
       "974  32.82        Hot Chocolate  \n",
       "975  27.92  Americano with Milk  \n",
       "\n",
       "[976 rows x 6 columns]"
      ]
     },
     "execution_count": 29,
     "metadata": {},
     "output_type": "execute_result"
    }
   ],
   "source": [
    "df"
   ]
  },
  {
   "cell_type": "code",
   "execution_count": 30,
   "metadata": {},
   "outputs": [
    {
     "data": {
      "text/plain": [
       "Index(['date', 'datetime', 'cash_type', 'card', 'money', 'coffee_name'], dtype='object')"
      ]
     },
     "execution_count": 30,
     "metadata": {},
     "output_type": "execute_result"
    }
   ],
   "source": [
    "df.columns"
   ]
  },
  {
   "cell_type": "code",
   "execution_count": 31,
   "metadata": {},
   "outputs": [
    {
     "name": "stdout",
     "output_type": "stream",
     "text": [
      "<class 'pandas.core.frame.DataFrame'>\n",
      "RangeIndex: 976 entries, 0 to 975\n",
      "Data columns (total 6 columns):\n",
      " #   Column       Non-Null Count  Dtype  \n",
      "---  ------       --------------  -----  \n",
      " 0   date         976 non-null    object \n",
      " 1   datetime     976 non-null    object \n",
      " 2   cash_type    976 non-null    object \n",
      " 3   card         887 non-null    object \n",
      " 4   money        976 non-null    float64\n",
      " 5   coffee_name  976 non-null    object \n",
      "dtypes: float64(1), object(5)\n",
      "memory usage: 45.9+ KB\n"
     ]
    }
   ],
   "source": [
    "df.info()"
   ]
  },
  {
   "cell_type": "markdown",
   "metadata": {},
   "source": [
    "### check null values"
   ]
  },
  {
   "cell_type": "code",
   "execution_count": 32,
   "metadata": {},
   "outputs": [
    {
     "data": {
      "text/plain": [
       "date            0\n",
       "datetime        0\n",
       "cash_type       0\n",
       "card           89\n",
       "money           0\n",
       "coffee_name     0\n",
       "dtype: int64"
      ]
     },
     "execution_count": 32,
     "metadata": {},
     "output_type": "execute_result"
    }
   ],
   "source": [
    "df.isnull().sum()"
   ]
  },
  {
   "cell_type": "markdown",
   "metadata": {},
   "source": [
    "## fill null value"
   ]
  },
  {
   "cell_type": "code",
   "execution_count": 33,
   "metadata": {},
   "outputs": [],
   "source": [
    "df['card'] = df['card'].fillna('Unknown')"
   ]
  },
  {
   "cell_type": "code",
   "execution_count": 34,
   "metadata": {},
   "outputs": [
    {
     "data": {
      "text/html": [
       "<div>\n",
       "<style scoped>\n",
       "    .dataframe tbody tr th:only-of-type {\n",
       "        vertical-align: middle;\n",
       "    }\n",
       "\n",
       "    .dataframe tbody tr th {\n",
       "        vertical-align: top;\n",
       "    }\n",
       "\n",
       "    .dataframe thead th {\n",
       "        text-align: right;\n",
       "    }\n",
       "</style>\n",
       "<table border=\"1\" class=\"dataframe\">\n",
       "  <thead>\n",
       "    <tr style=\"text-align: right;\">\n",
       "      <th></th>\n",
       "      <th>date</th>\n",
       "      <th>datetime</th>\n",
       "      <th>cash_type</th>\n",
       "      <th>card</th>\n",
       "      <th>money</th>\n",
       "      <th>coffee_name</th>\n",
       "    </tr>\n",
       "  </thead>\n",
       "  <tbody>\n",
       "    <tr>\n",
       "      <th>0</th>\n",
       "      <td>2024-03-01</td>\n",
       "      <td>2024-03-01 10:15:50.520</td>\n",
       "      <td>card</td>\n",
       "      <td>ANON-0000-0000-0001</td>\n",
       "      <td>38.70</td>\n",
       "      <td>Latte</td>\n",
       "    </tr>\n",
       "    <tr>\n",
       "      <th>1</th>\n",
       "      <td>2024-03-01</td>\n",
       "      <td>2024-03-01 12:19:22.539</td>\n",
       "      <td>card</td>\n",
       "      <td>ANON-0000-0000-0002</td>\n",
       "      <td>38.70</td>\n",
       "      <td>Hot Chocolate</td>\n",
       "    </tr>\n",
       "    <tr>\n",
       "      <th>2</th>\n",
       "      <td>2024-03-01</td>\n",
       "      <td>2024-03-01 12:20:18.089</td>\n",
       "      <td>card</td>\n",
       "      <td>ANON-0000-0000-0002</td>\n",
       "      <td>38.70</td>\n",
       "      <td>Hot Chocolate</td>\n",
       "    </tr>\n",
       "    <tr>\n",
       "      <th>3</th>\n",
       "      <td>2024-03-01</td>\n",
       "      <td>2024-03-01 13:46:33.006</td>\n",
       "      <td>card</td>\n",
       "      <td>ANON-0000-0000-0003</td>\n",
       "      <td>28.90</td>\n",
       "      <td>Americano</td>\n",
       "    </tr>\n",
       "    <tr>\n",
       "      <th>4</th>\n",
       "      <td>2024-03-01</td>\n",
       "      <td>2024-03-01 13:48:14.626</td>\n",
       "      <td>card</td>\n",
       "      <td>ANON-0000-0000-0004</td>\n",
       "      <td>38.70</td>\n",
       "      <td>Latte</td>\n",
       "    </tr>\n",
       "    <tr>\n",
       "      <th>...</th>\n",
       "      <td>...</td>\n",
       "      <td>...</td>\n",
       "      <td>...</td>\n",
       "      <td>...</td>\n",
       "      <td>...</td>\n",
       "      <td>...</td>\n",
       "    </tr>\n",
       "    <tr>\n",
       "      <th>971</th>\n",
       "      <td>2024-07-14</td>\n",
       "      <td>2024-07-14 22:31:29.976</td>\n",
       "      <td>card</td>\n",
       "      <td>ANON-0000-0000-0376</td>\n",
       "      <td>32.82</td>\n",
       "      <td>Latte</td>\n",
       "    </tr>\n",
       "    <tr>\n",
       "      <th>972</th>\n",
       "      <td>2024-07-15</td>\n",
       "      <td>2024-07-15 07:33:05.557</td>\n",
       "      <td>card</td>\n",
       "      <td>ANON-0000-0000-0377</td>\n",
       "      <td>32.82</td>\n",
       "      <td>Cappuccino</td>\n",
       "    </tr>\n",
       "    <tr>\n",
       "      <th>973</th>\n",
       "      <td>2024-07-16</td>\n",
       "      <td>2024-07-16 12:23:37.467</td>\n",
       "      <td>card</td>\n",
       "      <td>ANON-0000-0000-0378</td>\n",
       "      <td>27.92</td>\n",
       "      <td>Americano with Milk</td>\n",
       "    </tr>\n",
       "    <tr>\n",
       "      <th>974</th>\n",
       "      <td>2024-07-16</td>\n",
       "      <td>2024-07-16 19:29:25.485</td>\n",
       "      <td>card</td>\n",
       "      <td>ANON-0000-0000-0367</td>\n",
       "      <td>32.82</td>\n",
       "      <td>Hot Chocolate</td>\n",
       "    </tr>\n",
       "    <tr>\n",
       "      <th>975</th>\n",
       "      <td>2024-07-17</td>\n",
       "      <td>2024-07-17 13:04:59.744</td>\n",
       "      <td>card</td>\n",
       "      <td>ANON-0000-0000-0379</td>\n",
       "      <td>27.92</td>\n",
       "      <td>Americano with Milk</td>\n",
       "    </tr>\n",
       "  </tbody>\n",
       "</table>\n",
       "<p>976 rows × 6 columns</p>\n",
       "</div>"
      ],
      "text/plain": [
       "           date                 datetime cash_type                 card  \\\n",
       "0    2024-03-01  2024-03-01 10:15:50.520      card  ANON-0000-0000-0001   \n",
       "1    2024-03-01  2024-03-01 12:19:22.539      card  ANON-0000-0000-0002   \n",
       "2    2024-03-01  2024-03-01 12:20:18.089      card  ANON-0000-0000-0002   \n",
       "3    2024-03-01  2024-03-01 13:46:33.006      card  ANON-0000-0000-0003   \n",
       "4    2024-03-01  2024-03-01 13:48:14.626      card  ANON-0000-0000-0004   \n",
       "..          ...                      ...       ...                  ...   \n",
       "971  2024-07-14  2024-07-14 22:31:29.976      card  ANON-0000-0000-0376   \n",
       "972  2024-07-15  2024-07-15 07:33:05.557      card  ANON-0000-0000-0377   \n",
       "973  2024-07-16  2024-07-16 12:23:37.467      card  ANON-0000-0000-0378   \n",
       "974  2024-07-16  2024-07-16 19:29:25.485      card  ANON-0000-0000-0367   \n",
       "975  2024-07-17  2024-07-17 13:04:59.744      card  ANON-0000-0000-0379   \n",
       "\n",
       "     money          coffee_name  \n",
       "0    38.70                Latte  \n",
       "1    38.70        Hot Chocolate  \n",
       "2    38.70        Hot Chocolate  \n",
       "3    28.90            Americano  \n",
       "4    38.70                Latte  \n",
       "..     ...                  ...  \n",
       "971  32.82                Latte  \n",
       "972  32.82           Cappuccino  \n",
       "973  27.92  Americano with Milk  \n",
       "974  32.82        Hot Chocolate  \n",
       "975  27.92  Americano with Milk  \n",
       "\n",
       "[976 rows x 6 columns]"
      ]
     },
     "execution_count": 34,
     "metadata": {},
     "output_type": "execute_result"
    }
   ],
   "source": [
    "df"
   ]
  },
  {
   "cell_type": "code",
   "execution_count": 35,
   "metadata": {},
   "outputs": [
    {
     "name": "stdout",
     "output_type": "stream",
     "text": [
      "<class 'pandas.core.frame.DataFrame'>\n",
      "RangeIndex: 976 entries, 0 to 975\n",
      "Data columns (total 6 columns):\n",
      " #   Column       Non-Null Count  Dtype  \n",
      "---  ------       --------------  -----  \n",
      " 0   date         976 non-null    object \n",
      " 1   datetime     976 non-null    object \n",
      " 2   cash_type    976 non-null    object \n",
      " 3   card         976 non-null    object \n",
      " 4   money        976 non-null    float64\n",
      " 5   coffee_name  976 non-null    object \n",
      "dtypes: float64(1), object(5)\n",
      "memory usage: 45.9+ KB\n"
     ]
    }
   ],
   "source": [
    "df.info()"
   ]
  },
  {
   "cell_type": "code",
   "execution_count": 36,
   "metadata": {},
   "outputs": [
    {
     "data": {
      "text/plain": [
       "date            object\n",
       "datetime        object\n",
       "cash_type       object\n",
       "card            object\n",
       "money          float64\n",
       "coffee_name     object\n",
       "dtype: object"
      ]
     },
     "execution_count": 36,
     "metadata": {},
     "output_type": "execute_result"
    }
   ],
   "source": [
    "df.dtypes"
   ]
  },
  {
   "cell_type": "markdown",
   "metadata": {},
   "source": [
    "# change datatype"
   ]
  },
  {
   "cell_type": "code",
   "execution_count": 38,
   "metadata": {},
   "outputs": [],
   "source": [
    "df['date']=df['date'].apply(lambda x :dt.datetime.strptime(x,\"%Y-%m-%d\"))"
   ]
  },
  {
   "cell_type": "code",
   "execution_count": 41,
   "metadata": {},
   "outputs": [],
   "source": [
    "df['datetime']=df['datetime'].apply(lambda x :dt.datetime.strptime(x,\"%Y-%m-%d %H:%M:%S.%f\"))"
   ]
  },
  {
   "cell_type": "code",
   "execution_count": null,
   "metadata": {},
   "outputs": [],
   "source": []
  },
  {
   "cell_type": "code",
   "execution_count": 42,
   "metadata": {},
   "outputs": [],
   "source": [
    "df['date'] = pd.to_datetime(df['date'])\n",
    "df['datetime'] = pd.to_datetime(df['datetime'])\n",
    "df['datetime'] = df['datetime'].combine_first(df['date'])\n",
    "df['datetime'] = df['datetime'].dt.floor('min')\n",
    "df.drop(columns=['date'],inplace=True)\n"
   ]
  },
  {
   "cell_type": "markdown",
   "metadata": {},
   "source": [
    "# plot graph"
   ]
  },
  {
   "cell_type": "code",
   "execution_count": 43,
   "metadata": {},
   "outputs": [
    {
     "data": {
      "application/vnd.plotly.v1+json": {
       "config": {
        "plotlyServerURL": "https://plot.ly"
       },
       "data": [
        {
         "alignmentgroup": "True",
         "bingroup": "x",
         "hovertemplate": "coffee_name=%{x}<br>count=%{y}<extra></extra>",
         "legendgroup": "",
         "marker": {
          "color": "#636efa",
          "pattern": {
           "shape": ""
          }
         },
         "name": "",
         "offsetgroup": "",
         "orientation": "v",
         "showlegend": false,
         "type": "histogram",
         "x": [
          "Latte",
          "Hot Chocolate",
          "Hot Chocolate",
          "Americano",
          "Latte",
          "Americano with Milk",
          "Hot Chocolate",
          "Americano with Milk",
          "Cocoa",
          "Americano with Milk",
          "Americano with Milk",
          "Americano",
          "Latte",
          "Americano with Milk",
          "Americano with Milk",
          "Americano",
          "Americano with Milk",
          "Americano",
          "Latte",
          "Latte",
          "Cortado",
          "Americano",
          "Hot Chocolate",
          "Cocoa",
          "Cortado",
          "Americano with Milk",
          "Americano with Milk",
          "Hot Chocolate",
          "Latte",
          "Latte",
          "Americano with Milk",
          "Espresso",
          "Latte",
          "Latte",
          "Latte",
          "Hot Chocolate",
          "Cocoa",
          "Hot Chocolate",
          "Hot Chocolate",
          "Cortado",
          "Hot Chocolate",
          "Americano with Milk",
          "Americano",
          "Cortado",
          "Cappuccino",
          "Cappuccino",
          "Latte",
          "Hot Chocolate",
          "Latte",
          "Latte",
          "Americano",
          "Americano with Milk",
          "Cortado",
          "Cappuccino",
          "Americano",
          "Americano",
          "Americano",
          "Americano with Milk",
          "Latte",
          "Latte",
          "Hot Chocolate",
          "Espresso",
          "Americano",
          "Cappuccino",
          "Americano",
          "Americano",
          "Latte",
          "Americano with Milk",
          "Cortado",
          "Cappuccino",
          "Americano with Milk",
          "Hot Chocolate",
          "Cappuccino",
          "Hot Chocolate",
          "Americano",
          "Americano with Milk",
          "Latte",
          "Espresso",
          "Americano with Milk",
          "Latte",
          "Cortado",
          "Latte",
          "Cappuccino",
          "Cortado",
          "Americano",
          "Cappuccino",
          "Americano",
          "Latte",
          "Cortado",
          "Latte",
          "Americano",
          "Cortado",
          "Hot Chocolate",
          "Americano with Milk",
          "Americano",
          "Americano",
          "Hot Chocolate",
          "Americano",
          "Americano",
          "Americano",
          "Espresso",
          "Americano with Milk",
          "Espresso",
          "Espresso",
          "Espresso",
          "Latte",
          "Latte",
          "Hot Chocolate",
          "Cortado",
          "Americano",
          "Americano with Milk",
          "Espresso",
          "Latte",
          "Americano with Milk",
          "Espresso",
          "Hot Chocolate",
          "Cortado",
          "Latte",
          "Hot Chocolate",
          "Americano",
          "Americano with Milk",
          "Americano",
          "Cortado",
          "Cortado",
          "Cortado",
          "Americano with Milk",
          "Latte",
          "Cortado",
          "Cortado",
          "Americano",
          "Americano",
          "Americano",
          "Cortado",
          "Latte",
          "Latte",
          "Hot Chocolate",
          "Americano with Milk",
          "Hot Chocolate",
          "Cortado",
          "Latte",
          "Cortado",
          "Cappuccino",
          "Cocoa",
          "Latte",
          "Cappuccino",
          "Cortado",
          "Cappuccino",
          "Americano",
          "Cortado",
          "Latte",
          "Americano with Milk",
          "Americano with Milk",
          "Cappuccino",
          "Americano",
          "Espresso",
          "Americano",
          "Latte",
          "Americano with Milk",
          "Cappuccino",
          "Cocoa",
          "Americano with Milk",
          "Latte",
          "Americano with Milk",
          "Cortado",
          "Latte",
          "Latte",
          "Latte",
          "Americano with Milk",
          "Latte",
          "Latte",
          "Americano with Milk",
          "Cappuccino",
          "Cocoa",
          "Latte",
          "Latte",
          "Cortado",
          "Americano",
          "Cortado",
          "Cortado",
          "Americano",
          "Latte",
          "Latte",
          "Hot Chocolate",
          "Cortado",
          "Americano with Milk",
          "Americano with Milk",
          "Hot Chocolate",
          "Cappuccino",
          "Americano",
          "Cortado",
          "Latte",
          "Cortado",
          "Cortado",
          "Americano",
          "Latte",
          "Latte",
          "Cappuccino",
          "Cappuccino",
          "Cappuccino",
          "Latte",
          "Cappuccino",
          "Latte",
          "Latte",
          "Americano with Milk",
          "Cappuccino",
          "Americano",
          "Americano",
          "Americano with Milk",
          "Americano with Milk",
          "Americano with Milk",
          "Cappuccino",
          "Americano with Milk",
          "Hot Chocolate",
          "Latte",
          "Americano",
          "Cortado",
          "Cappuccino",
          "Cortado",
          "Americano",
          "Cappuccino",
          "Cortado",
          "Latte",
          "Latte",
          "Cappuccino",
          "Cortado",
          "Latte",
          "Americano",
          "Americano",
          "Cortado",
          "Americano with Milk",
          "Latte",
          "Cortado",
          "Latte",
          "Cappuccino",
          "Americano",
          "Cocoa",
          "Espresso",
          "Americano with Milk",
          "Cappuccino",
          "Americano",
          "Latte",
          "Latte",
          "Cappuccino",
          "Cappuccino",
          "Cortado",
          "Espresso",
          "Hot Chocolate",
          "Americano with Milk",
          "Americano with Milk",
          "Cappuccino",
          "Americano",
          "Cappuccino",
          "Espresso",
          "Americano with Milk",
          "Latte",
          "Americano",
          "Americano with Milk",
          "Cappuccino",
          "Cappuccino",
          "Americano",
          "Latte",
          "Hot Chocolate",
          "Hot Chocolate",
          "Espresso",
          "Hot Chocolate",
          "Espresso",
          "Cappuccino",
          "Latte",
          "Americano",
          "Americano",
          "Latte",
          "Cappuccino",
          "Americano with Milk",
          "Hot Chocolate",
          "Cortado",
          "Latte",
          "Americano",
          "Hot Chocolate",
          "Hot Chocolate",
          "Cappuccino",
          "Latte",
          "Cappuccino",
          "Cappuccino",
          "Latte",
          "Cappuccino",
          "Cortado",
          "Cortado",
          "Americano with Milk",
          "Cortado",
          "Americano",
          "Americano",
          "Americano",
          "Cappuccino",
          "Cortado",
          "Latte",
          "Cappuccino",
          "Americano",
          "Americano",
          "Americano with Milk",
          "Americano with Milk",
          "Espresso",
          "Americano with Milk",
          "Americano with Milk",
          "Cocoa",
          "Cortado",
          "Americano",
          "Americano with Milk",
          "Cappuccino",
          "Cocoa",
          "Americano",
          "Espresso",
          "Cappuccino",
          "Cappuccino",
          "Cappuccino",
          "Cortado",
          "Americano",
          "Americano",
          "Americano with Milk",
          "Cortado",
          "Cappuccino",
          "Latte",
          "Latte",
          "Cappuccino",
          "Hot Chocolate",
          "Hot Chocolate",
          "Latte",
          "Americano with Milk",
          "Cappuccino",
          "Hot Chocolate",
          "Cappuccino",
          "Cocoa",
          "Americano with Milk",
          "Americano with Milk",
          "Americano with Milk",
          "Americano with Milk",
          "Americano",
          "Americano with Milk",
          "Hot Chocolate",
          "Cappuccino",
          "Americano with Milk",
          "Americano with Milk",
          "Americano with Milk",
          "Cocoa",
          "Cappuccino",
          "Cappuccino",
          "Latte",
          "Latte",
          "Americano",
          "Cappuccino",
          "Americano",
          "Americano with Milk",
          "Latte",
          "Latte",
          "Cappuccino",
          "Cappuccino",
          "Americano with Milk",
          "Cappuccino",
          "Americano with Milk",
          "Americano with Milk",
          "Latte",
          "Americano with Milk",
          "Americano with Milk",
          "Americano with Milk",
          "Americano with Milk",
          "Americano with Milk",
          "Americano with Milk",
          "Cappuccino",
          "Americano",
          "Latte",
          "Americano",
          "Americano",
          "Latte",
          "Latte",
          "Cappuccino",
          "Americano",
          "Americano",
          "Cortado",
          "Americano",
          "Hot Chocolate",
          "Cocoa",
          "Cappuccino",
          "Latte",
          "Cappuccino",
          "Americano",
          "Americano",
          "Latte",
          "Cortado",
          "Americano",
          "Cortado",
          "Cortado",
          "Americano with Milk",
          "Cappuccino",
          "Cappuccino",
          "Cappuccino",
          "Latte",
          "Americano with Milk",
          "Americano with Milk",
          "Americano",
          "Americano with Milk",
          "Cappuccino",
          "Americano with Milk",
          "Latte",
          "Americano",
          "Latte",
          "Americano with Milk",
          "Cappuccino",
          "Americano with Milk",
          "Latte",
          "Cappuccino",
          "Latte",
          "Latte",
          "Latte",
          "Americano",
          "Cappuccino",
          "Americano with Milk",
          "Americano",
          "Cortado",
          "Americano",
          "Cortado",
          "Americano",
          "Cappuccino",
          "Cappuccino",
          "Cocoa",
          "Cortado",
          "Cortado",
          "Cocoa",
          "Americano",
          "Cappuccino",
          "Latte",
          "Americano with Milk",
          "Cappuccino",
          "Cappuccino",
          "Latte",
          "Cappuccino",
          "Americano",
          "Latte",
          "Latte",
          "Latte",
          "Americano",
          "Americano",
          "Americano",
          "Americano with Milk",
          "Latte",
          "Latte",
          "Latte",
          "Americano with Milk",
          "Latte",
          "Latte",
          "Americano with Milk",
          "Cocoa",
          "Cappuccino",
          "Americano with Milk",
          "Cappuccino",
          "Latte",
          "Latte",
          "Latte",
          "Americano",
          "Latte",
          "Americano with Milk",
          "Americano with Milk",
          "Americano with Milk",
          "Americano with Milk",
          "Americano with Milk",
          "Americano",
          "Americano",
          "Americano",
          "Americano",
          "Americano",
          "Cappuccino",
          "Latte",
          "Cappuccino",
          "Cappuccino",
          "Americano with Milk",
          "Americano",
          "Americano with Milk",
          "Cappuccino",
          "Hot Chocolate",
          "Latte",
          "Espresso",
          "Americano",
          "Americano",
          "Americano",
          "Americano",
          "Americano with Milk",
          "Americano",
          "Cortado",
          "Cortado",
          "Espresso",
          "Cappuccino",
          "Americano with Milk",
          "Americano with Milk",
          "Latte",
          "Cappuccino",
          "Americano with Milk",
          "Hot Chocolate",
          "Latte",
          "Hot Chocolate",
          "Latte",
          "Americano",
          "Americano with Milk",
          "Americano with Milk",
          "Americano with Milk",
          "Cappuccino",
          "Cappuccino",
          "Americano",
          "Latte",
          "Latte",
          "Cappuccino",
          "Cappuccino",
          "Americano with Milk",
          "Americano with Milk",
          "Americano with Milk",
          "Americano with Milk",
          "Latte",
          "Cappuccino",
          "Americano",
          "Americano",
          "Cappuccino",
          "Espresso",
          "Americano with Milk",
          "Americano",
          "Americano with Milk",
          "Americano with Milk",
          "Espresso",
          "Hot Chocolate",
          "Cappuccino",
          "Cappuccino",
          "Cappuccino",
          "Americano with Milk",
          "Latte",
          "Latte",
          "Americano",
          "Americano",
          "Americano",
          "Americano",
          "Americano with Milk",
          "Cappuccino",
          "Americano",
          "Latte",
          "Latte",
          "Americano with Milk",
          "Cocoa",
          "Cortado",
          "Americano with Milk",
          "Americano with Milk",
          "Latte",
          "Americano",
          "Americano with Milk",
          "Cocoa",
          "Latte",
          "Latte",
          "Espresso",
          "Cappuccino",
          "Cappuccino",
          "Cappuccino",
          "Americano with Milk",
          "Cortado",
          "Americano with Milk",
          "Americano",
          "Americano",
          "Americano with Milk",
          "Cappuccino",
          "Cappuccino",
          "Hot Chocolate",
          "Cappuccino",
          "Cappuccino",
          "Espresso",
          "Cappuccino",
          "Cappuccino",
          "Cappuccino",
          "Latte",
          "Cappuccino",
          "Latte",
          "Cortado",
          "Cappuccino",
          "Cappuccino",
          "Cappuccino",
          "Cappuccino",
          "Latte",
          "Americano with Milk",
          "Hot Chocolate",
          "Cortado",
          "Americano",
          "Americano",
          "Hot Chocolate",
          "Cortado",
          "Cortado",
          "Americano with Milk",
          "Americano",
          "Latte",
          "Americano",
          "Americano with Milk",
          "Americano with Milk",
          "Americano with Milk",
          "Americano with Milk",
          "Americano",
          "Latte",
          "Americano with Milk",
          "Cortado",
          "Americano with Milk",
          "Cappuccino",
          "Hot Chocolate",
          "Hot Chocolate",
          "Americano",
          "Latte",
          "Hot Chocolate",
          "Cappuccino",
          "Cortado",
          "Cappuccino",
          "Latte",
          "Cappuccino",
          "Americano",
          "Americano with Milk",
          "Cocoa",
          "Americano",
          "Americano",
          "Latte",
          "Americano",
          "Latte",
          "Latte",
          "Americano with Milk",
          "Cappuccino",
          "Americano with Milk",
          "Americano with Milk",
          "Cappuccino",
          "Cappuccino",
          "Cocoa",
          "Cortado",
          "Cappuccino",
          "Americano",
          "Latte",
          "Americano with Milk",
          "Americano",
          "Latte",
          "Latte",
          "Hot Chocolate",
          "Americano",
          "Latte",
          "Cappuccino",
          "Latte",
          "Cortado",
          "Latte",
          "Hot Chocolate",
          "Cocoa",
          "Cappuccino",
          "Latte",
          "Americano with Milk",
          "Latte",
          "Americano with Milk",
          "Espresso",
          "Espresso",
          "Cappuccino",
          "Latte",
          "Hot Chocolate",
          "Americano with Milk",
          "Americano with Milk",
          "Latte",
          "Latte",
          "Hot Chocolate",
          "Cocoa",
          "Americano with Milk",
          "Latte",
          "Latte",
          "Cappuccino",
          "Americano with Milk",
          "Latte",
          "Cappuccino",
          "Americano with Milk",
          "Cortado",
          "Cortado",
          "Latte",
          "Latte",
          "Americano with Milk",
          "Americano with Milk",
          "Americano with Milk",
          "Cappuccino",
          "Cappuccino",
          "Cocoa",
          "Cocoa",
          "Americano with Milk",
          "Latte",
          "Americano with Milk",
          "Cappuccino",
          "Americano with Milk",
          "Latte",
          "Americano with Milk",
          "Latte",
          "Latte",
          "Cappuccino",
          "Americano with Milk",
          "Latte",
          "Americano with Milk",
          "Americano with Milk",
          "Cortado",
          "Americano with Milk",
          "Latte",
          "Hot Chocolate",
          "Latte",
          "Cortado",
          "Cappuccino",
          "Hot Chocolate",
          "Cappuccino",
          "Cortado",
          "Americano with Milk",
          "Americano with Milk",
          "Americano with Milk",
          "Americano with Milk",
          "Cappuccino",
          "Cappuccino",
          "Americano",
          "Latte",
          "Americano with Milk",
          "Americano with Milk",
          "Latte",
          "Cocoa",
          "Cortado",
          "Americano with Milk",
          "Americano with Milk",
          "Latte",
          "Americano",
          "Americano with Milk",
          "Cappuccino",
          "Latte",
          "Latte",
          "Cappuccino",
          "Americano with Milk",
          "Latte",
          "Cappuccino",
          "Espresso",
          "Americano with Milk",
          "Cortado",
          "Cortado",
          "Cortado",
          "Americano with Milk",
          "Cappuccino",
          "Cappuccino",
          "Latte",
          "Latte",
          "Cappuccino",
          "Cortado",
          "Espresso",
          "Cappuccino",
          "Americano with Milk",
          "Latte",
          "Latte",
          "Cortado",
          "Cappuccino",
          "Americano with Milk",
          "Americano",
          "Cappuccino",
          "Latte",
          "Hot Chocolate",
          "Hot Chocolate",
          "Latte",
          "Latte",
          "Americano with Milk",
          "Latte",
          "Latte",
          "Hot Chocolate",
          "Americano with Milk",
          "Americano with Milk",
          "Hot Chocolate",
          "Cappuccino",
          "Latte",
          "Latte",
          "Hot Chocolate",
          "Americano with Milk",
          "Americano",
          "Latte",
          "Americano with Milk",
          "Cortado",
          "Americano with Milk",
          "Hot Chocolate",
          "Latte",
          "Americano with Milk",
          "Espresso",
          "Espresso",
          "Americano with Milk",
          "Americano with Milk",
          "Cortado",
          "Americano",
          "Latte",
          "Americano with Milk",
          "Cappuccino",
          "Latte",
          "Americano with Milk",
          "Espresso",
          "Cocoa",
          "Americano with Milk",
          "Americano with Milk",
          "Americano",
          "Americano with Milk",
          "Latte",
          "Hot Chocolate",
          "Hot Chocolate",
          "Americano with Milk",
          "Espresso",
          "Americano with Milk",
          "Americano with Milk",
          "Hot Chocolate",
          "Hot Chocolate",
          "Americano with Milk",
          "Americano with Milk",
          "Americano",
          "Cortado",
          "Cortado",
          "Cappuccino",
          "Cappuccino",
          "Cappuccino",
          "Cappuccino",
          "Americano",
          "Americano",
          "Americano with Milk",
          "Americano",
          "Cappuccino",
          "Cappuccino",
          "Cappuccino",
          "Cortado",
          "Americano with Milk",
          "Americano with Milk",
          "Latte",
          "Cortado",
          "Americano",
          "Latte",
          "Cocoa",
          "Americano with Milk",
          "Cappuccino",
          "Latte",
          "Americano with Milk",
          "Cappuccino",
          "Americano with Milk",
          "Latte",
          "Latte",
          "Latte",
          "Latte",
          "Latte",
          "Americano with Milk",
          "Latte",
          "Americano",
          "Americano with Milk",
          "Americano with Milk",
          "Espresso",
          "Latte",
          "Cappuccino",
          "Cappuccino",
          "Cappuccino",
          "Cappuccino",
          "Americano",
          "Americano with Milk",
          "Cortado",
          "Americano with Milk",
          "Americano with Milk",
          "Latte",
          "Cappuccino",
          "Americano with Milk",
          "Americano with Milk",
          "Cappuccino",
          "Latte",
          "Cappuccino",
          "Americano with Milk",
          "Cappuccino",
          "Cappuccino",
          "Latte",
          "Cappuccino",
          "Cappuccino",
          "Latte",
          "Americano with Milk",
          "Americano with Milk",
          "Cappuccino",
          "Latte",
          "Espresso",
          "Americano",
          "Latte",
          "Cappuccino",
          "Americano with Milk",
          "Americano with Milk",
          "Cortado",
          "Americano with Milk",
          "Cappuccino",
          "Cortado",
          "Espresso",
          "Americano with Milk",
          "Latte",
          "Cappuccino",
          "Americano with Milk",
          "Americano with Milk",
          "Americano with Milk",
          "Cappuccino",
          "Cappuccino",
          "Cappuccino",
          "Hot Chocolate",
          "Latte",
          "Latte",
          "Espresso",
          "Hot Chocolate",
          "Americano with Milk",
          "Espresso",
          "Cappuccino",
          "Cappuccino",
          "Americano with Milk",
          "Americano",
          "Latte",
          "Americano",
          "Americano with Milk",
          "Americano with Milk",
          "Americano with Milk",
          "Cappuccino",
          "Cappuccino",
          "Americano with Milk",
          "Americano with Milk",
          "Latte",
          "Espresso",
          "Cappuccino",
          "Latte",
          "Americano with Milk",
          "Americano",
          "Cocoa",
          "Americano with Milk",
          "Americano with Milk",
          "Espresso",
          "Americano",
          "Espresso",
          "Americano",
          "Americano",
          "Cappuccino",
          "Americano with Milk",
          "Latte",
          "Latte",
          "Latte",
          "Latte",
          "Americano with Milk",
          "Cappuccino",
          "Americano with Milk",
          "Americano with Milk",
          "Cappuccino",
          "Cappuccino",
          "Hot Chocolate",
          "Cocoa",
          "Latte",
          "Cappuccino",
          "Hot Chocolate",
          "Americano with Milk",
          "Latte",
          "Americano",
          "Americano",
          "Americano with Milk",
          "Latte",
          "Americano with Milk",
          "Americano with Milk",
          "Americano with Milk",
          "Cappuccino",
          "Americano with Milk",
          "Americano",
          "Americano with Milk",
          "Latte",
          "Hot Chocolate",
          "Americano with Milk",
          "Latte",
          "Americano",
          "Cortado",
          "Hot Chocolate",
          "Hot Chocolate",
          "Hot Chocolate",
          "Hot Chocolate",
          "Latte",
          "Latte",
          "Americano",
          "Americano with Milk",
          "Cappuccino",
          "Latte",
          "Americano",
          "Latte",
          "Cappuccino",
          "Americano with Milk",
          "Hot Chocolate",
          "Americano with Milk"
         ],
         "xaxis": "x",
         "yaxis": "y"
        }
       ],
       "layout": {
        "barmode": "relative",
        "legend": {
         "tracegroupgap": 0
        },
        "template": {
         "data": {
          "bar": [
           {
            "error_x": {
             "color": "#2a3f5f"
            },
            "error_y": {
             "color": "#2a3f5f"
            },
            "marker": {
             "line": {
              "color": "#E5ECF6",
              "width": 0.5
             },
             "pattern": {
              "fillmode": "overlay",
              "size": 10,
              "solidity": 0.2
             }
            },
            "type": "bar"
           }
          ],
          "barpolar": [
           {
            "marker": {
             "line": {
              "color": "#E5ECF6",
              "width": 0.5
             },
             "pattern": {
              "fillmode": "overlay",
              "size": 10,
              "solidity": 0.2
             }
            },
            "type": "barpolar"
           }
          ],
          "carpet": [
           {
            "aaxis": {
             "endlinecolor": "#2a3f5f",
             "gridcolor": "white",
             "linecolor": "white",
             "minorgridcolor": "white",
             "startlinecolor": "#2a3f5f"
            },
            "baxis": {
             "endlinecolor": "#2a3f5f",
             "gridcolor": "white",
             "linecolor": "white",
             "minorgridcolor": "white",
             "startlinecolor": "#2a3f5f"
            },
            "type": "carpet"
           }
          ],
          "choropleth": [
           {
            "colorbar": {
             "outlinewidth": 0,
             "ticks": ""
            },
            "type": "choropleth"
           }
          ],
          "contour": [
           {
            "colorbar": {
             "outlinewidth": 0,
             "ticks": ""
            },
            "colorscale": [
             [
              0,
              "#0d0887"
             ],
             [
              0.1111111111111111,
              "#46039f"
             ],
             [
              0.2222222222222222,
              "#7201a8"
             ],
             [
              0.3333333333333333,
              "#9c179e"
             ],
             [
              0.4444444444444444,
              "#bd3786"
             ],
             [
              0.5555555555555556,
              "#d8576b"
             ],
             [
              0.6666666666666666,
              "#ed7953"
             ],
             [
              0.7777777777777778,
              "#fb9f3a"
             ],
             [
              0.8888888888888888,
              "#fdca26"
             ],
             [
              1,
              "#f0f921"
             ]
            ],
            "type": "contour"
           }
          ],
          "contourcarpet": [
           {
            "colorbar": {
             "outlinewidth": 0,
             "ticks": ""
            },
            "type": "contourcarpet"
           }
          ],
          "heatmap": [
           {
            "colorbar": {
             "outlinewidth": 0,
             "ticks": ""
            },
            "colorscale": [
             [
              0,
              "#0d0887"
             ],
             [
              0.1111111111111111,
              "#46039f"
             ],
             [
              0.2222222222222222,
              "#7201a8"
             ],
             [
              0.3333333333333333,
              "#9c179e"
             ],
             [
              0.4444444444444444,
              "#bd3786"
             ],
             [
              0.5555555555555556,
              "#d8576b"
             ],
             [
              0.6666666666666666,
              "#ed7953"
             ],
             [
              0.7777777777777778,
              "#fb9f3a"
             ],
             [
              0.8888888888888888,
              "#fdca26"
             ],
             [
              1,
              "#f0f921"
             ]
            ],
            "type": "heatmap"
           }
          ],
          "heatmapgl": [
           {
            "colorbar": {
             "outlinewidth": 0,
             "ticks": ""
            },
            "colorscale": [
             [
              0,
              "#0d0887"
             ],
             [
              0.1111111111111111,
              "#46039f"
             ],
             [
              0.2222222222222222,
              "#7201a8"
             ],
             [
              0.3333333333333333,
              "#9c179e"
             ],
             [
              0.4444444444444444,
              "#bd3786"
             ],
             [
              0.5555555555555556,
              "#d8576b"
             ],
             [
              0.6666666666666666,
              "#ed7953"
             ],
             [
              0.7777777777777778,
              "#fb9f3a"
             ],
             [
              0.8888888888888888,
              "#fdca26"
             ],
             [
              1,
              "#f0f921"
             ]
            ],
            "type": "heatmapgl"
           }
          ],
          "histogram": [
           {
            "marker": {
             "pattern": {
              "fillmode": "overlay",
              "size": 10,
              "solidity": 0.2
             }
            },
            "type": "histogram"
           }
          ],
          "histogram2d": [
           {
            "colorbar": {
             "outlinewidth": 0,
             "ticks": ""
            },
            "colorscale": [
             [
              0,
              "#0d0887"
             ],
             [
              0.1111111111111111,
              "#46039f"
             ],
             [
              0.2222222222222222,
              "#7201a8"
             ],
             [
              0.3333333333333333,
              "#9c179e"
             ],
             [
              0.4444444444444444,
              "#bd3786"
             ],
             [
              0.5555555555555556,
              "#d8576b"
             ],
             [
              0.6666666666666666,
              "#ed7953"
             ],
             [
              0.7777777777777778,
              "#fb9f3a"
             ],
             [
              0.8888888888888888,
              "#fdca26"
             ],
             [
              1,
              "#f0f921"
             ]
            ],
            "type": "histogram2d"
           }
          ],
          "histogram2dcontour": [
           {
            "colorbar": {
             "outlinewidth": 0,
             "ticks": ""
            },
            "colorscale": [
             [
              0,
              "#0d0887"
             ],
             [
              0.1111111111111111,
              "#46039f"
             ],
             [
              0.2222222222222222,
              "#7201a8"
             ],
             [
              0.3333333333333333,
              "#9c179e"
             ],
             [
              0.4444444444444444,
              "#bd3786"
             ],
             [
              0.5555555555555556,
              "#d8576b"
             ],
             [
              0.6666666666666666,
              "#ed7953"
             ],
             [
              0.7777777777777778,
              "#fb9f3a"
             ],
             [
              0.8888888888888888,
              "#fdca26"
             ],
             [
              1,
              "#f0f921"
             ]
            ],
            "type": "histogram2dcontour"
           }
          ],
          "mesh3d": [
           {
            "colorbar": {
             "outlinewidth": 0,
             "ticks": ""
            },
            "type": "mesh3d"
           }
          ],
          "parcoords": [
           {
            "line": {
             "colorbar": {
              "outlinewidth": 0,
              "ticks": ""
             }
            },
            "type": "parcoords"
           }
          ],
          "pie": [
           {
            "automargin": true,
            "type": "pie"
           }
          ],
          "scatter": [
           {
            "fillpattern": {
             "fillmode": "overlay",
             "size": 10,
             "solidity": 0.2
            },
            "type": "scatter"
           }
          ],
          "scatter3d": [
           {
            "line": {
             "colorbar": {
              "outlinewidth": 0,
              "ticks": ""
             }
            },
            "marker": {
             "colorbar": {
              "outlinewidth": 0,
              "ticks": ""
             }
            },
            "type": "scatter3d"
           }
          ],
          "scattercarpet": [
           {
            "marker": {
             "colorbar": {
              "outlinewidth": 0,
              "ticks": ""
             }
            },
            "type": "scattercarpet"
           }
          ],
          "scattergeo": [
           {
            "marker": {
             "colorbar": {
              "outlinewidth": 0,
              "ticks": ""
             }
            },
            "type": "scattergeo"
           }
          ],
          "scattergl": [
           {
            "marker": {
             "colorbar": {
              "outlinewidth": 0,
              "ticks": ""
             }
            },
            "type": "scattergl"
           }
          ],
          "scattermapbox": [
           {
            "marker": {
             "colorbar": {
              "outlinewidth": 0,
              "ticks": ""
             }
            },
            "type": "scattermapbox"
           }
          ],
          "scatterpolar": [
           {
            "marker": {
             "colorbar": {
              "outlinewidth": 0,
              "ticks": ""
             }
            },
            "type": "scatterpolar"
           }
          ],
          "scatterpolargl": [
           {
            "marker": {
             "colorbar": {
              "outlinewidth": 0,
              "ticks": ""
             }
            },
            "type": "scatterpolargl"
           }
          ],
          "scatterternary": [
           {
            "marker": {
             "colorbar": {
              "outlinewidth": 0,
              "ticks": ""
             }
            },
            "type": "scatterternary"
           }
          ],
          "surface": [
           {
            "colorbar": {
             "outlinewidth": 0,
             "ticks": ""
            },
            "colorscale": [
             [
              0,
              "#0d0887"
             ],
             [
              0.1111111111111111,
              "#46039f"
             ],
             [
              0.2222222222222222,
              "#7201a8"
             ],
             [
              0.3333333333333333,
              "#9c179e"
             ],
             [
              0.4444444444444444,
              "#bd3786"
             ],
             [
              0.5555555555555556,
              "#d8576b"
             ],
             [
              0.6666666666666666,
              "#ed7953"
             ],
             [
              0.7777777777777778,
              "#fb9f3a"
             ],
             [
              0.8888888888888888,
              "#fdca26"
             ],
             [
              1,
              "#f0f921"
             ]
            ],
            "type": "surface"
           }
          ],
          "table": [
           {
            "cells": {
             "fill": {
              "color": "#EBF0F8"
             },
             "line": {
              "color": "white"
             }
            },
            "header": {
             "fill": {
              "color": "#C8D4E3"
             },
             "line": {
              "color": "white"
             }
            },
            "type": "table"
           }
          ]
         },
         "layout": {
          "annotationdefaults": {
           "arrowcolor": "#2a3f5f",
           "arrowhead": 0,
           "arrowwidth": 1
          },
          "autotypenumbers": "strict",
          "coloraxis": {
           "colorbar": {
            "outlinewidth": 0,
            "ticks": ""
           }
          },
          "colorscale": {
           "diverging": [
            [
             0,
             "#8e0152"
            ],
            [
             0.1,
             "#c51b7d"
            ],
            [
             0.2,
             "#de77ae"
            ],
            [
             0.3,
             "#f1b6da"
            ],
            [
             0.4,
             "#fde0ef"
            ],
            [
             0.5,
             "#f7f7f7"
            ],
            [
             0.6,
             "#e6f5d0"
            ],
            [
             0.7,
             "#b8e186"
            ],
            [
             0.8,
             "#7fbc41"
            ],
            [
             0.9,
             "#4d9221"
            ],
            [
             1,
             "#276419"
            ]
           ],
           "sequential": [
            [
             0,
             "#0d0887"
            ],
            [
             0.1111111111111111,
             "#46039f"
            ],
            [
             0.2222222222222222,
             "#7201a8"
            ],
            [
             0.3333333333333333,
             "#9c179e"
            ],
            [
             0.4444444444444444,
             "#bd3786"
            ],
            [
             0.5555555555555556,
             "#d8576b"
            ],
            [
             0.6666666666666666,
             "#ed7953"
            ],
            [
             0.7777777777777778,
             "#fb9f3a"
            ],
            [
             0.8888888888888888,
             "#fdca26"
            ],
            [
             1,
             "#f0f921"
            ]
           ],
           "sequentialminus": [
            [
             0,
             "#0d0887"
            ],
            [
             0.1111111111111111,
             "#46039f"
            ],
            [
             0.2222222222222222,
             "#7201a8"
            ],
            [
             0.3333333333333333,
             "#9c179e"
            ],
            [
             0.4444444444444444,
             "#bd3786"
            ],
            [
             0.5555555555555556,
             "#d8576b"
            ],
            [
             0.6666666666666666,
             "#ed7953"
            ],
            [
             0.7777777777777778,
             "#fb9f3a"
            ],
            [
             0.8888888888888888,
             "#fdca26"
            ],
            [
             1,
             "#f0f921"
            ]
           ]
          },
          "colorway": [
           "#636efa",
           "#EF553B",
           "#00cc96",
           "#ab63fa",
           "#FFA15A",
           "#19d3f3",
           "#FF6692",
           "#B6E880",
           "#FF97FF",
           "#FECB52"
          ],
          "font": {
           "color": "#2a3f5f"
          },
          "geo": {
           "bgcolor": "white",
           "lakecolor": "white",
           "landcolor": "#E5ECF6",
           "showlakes": true,
           "showland": true,
           "subunitcolor": "white"
          },
          "hoverlabel": {
           "align": "left"
          },
          "hovermode": "closest",
          "mapbox": {
           "style": "light"
          },
          "paper_bgcolor": "white",
          "plot_bgcolor": "#E5ECF6",
          "polar": {
           "angularaxis": {
            "gridcolor": "white",
            "linecolor": "white",
            "ticks": ""
           },
           "bgcolor": "#E5ECF6",
           "radialaxis": {
            "gridcolor": "white",
            "linecolor": "white",
            "ticks": ""
           }
          },
          "scene": {
           "xaxis": {
            "backgroundcolor": "#E5ECF6",
            "gridcolor": "white",
            "gridwidth": 2,
            "linecolor": "white",
            "showbackground": true,
            "ticks": "",
            "zerolinecolor": "white"
           },
           "yaxis": {
            "backgroundcolor": "#E5ECF6",
            "gridcolor": "white",
            "gridwidth": 2,
            "linecolor": "white",
            "showbackground": true,
            "ticks": "",
            "zerolinecolor": "white"
           },
           "zaxis": {
            "backgroundcolor": "#E5ECF6",
            "gridcolor": "white",
            "gridwidth": 2,
            "linecolor": "white",
            "showbackground": true,
            "ticks": "",
            "zerolinecolor": "white"
           }
          },
          "shapedefaults": {
           "line": {
            "color": "#2a3f5f"
           }
          },
          "ternary": {
           "aaxis": {
            "gridcolor": "white",
            "linecolor": "white",
            "ticks": ""
           },
           "baxis": {
            "gridcolor": "white",
            "linecolor": "white",
            "ticks": ""
           },
           "bgcolor": "#E5ECF6",
           "caxis": {
            "gridcolor": "white",
            "linecolor": "white",
            "ticks": ""
           }
          },
          "title": {
           "x": 0.05
          },
          "xaxis": {
           "automargin": true,
           "gridcolor": "white",
           "linecolor": "white",
           "ticks": "",
           "title": {
            "standoff": 15
           },
           "zerolinecolor": "white",
           "zerolinewidth": 2
          },
          "yaxis": {
           "automargin": true,
           "gridcolor": "white",
           "linecolor": "white",
           "ticks": "",
           "title": {
            "standoff": 15
           },
           "zerolinecolor": "white",
           "zerolinewidth": 2
          }
         }
        },
        "title": {
         "text": "Count of Different Coffee Types"
        },
        "xaxis": {
         "anchor": "y",
         "domain": [
          0,
          1
         ],
         "title": {
          "text": "coffee_name"
         }
        },
        "yaxis": {
         "anchor": "x",
         "domain": [
          0,
          1
         ],
         "title": {
          "text": "count"
         }
        }
       }
      }
     },
     "metadata": {},
     "output_type": "display_data"
    }
   ],
   "source": [
    "fig = px.histogram(df, x='coffee_name', title='Count of Different Coffee Types')\n",
    "fig.show()"
   ]
  },
  {
   "cell_type": "code",
   "execution_count": 44,
   "metadata": {},
   "outputs": [
    {
     "data": {
      "application/vnd.plotly.v1+json": {
       "config": {
        "plotlyServerURL": "https://plot.ly"
       },
       "data": [
        {
         "hovertemplate": "datetime=%{x}<br>count=%{y}<extra></extra>",
         "legendgroup": "",
         "line": {
          "color": "#636efa",
          "dash": "solid"
         },
         "marker": {
          "symbol": "circle"
         },
         "mode": "lines",
         "name": "",
         "orientation": "v",
         "showlegend": false,
         "type": "scatter",
         "x": [
          "2024-03-12T10:15:00",
          "2024-05-13T15:31:00",
          "2024-04-10T17:55:00",
          "2024-07-05T22:18:00",
          "2024-05-15T14:38:00",
          "2024-03-11T11:24:00",
          "2024-03-22T17:17:00",
          "2024-05-29T18:24:00",
          "2024-05-30T15:16:00",
          "2024-05-30T14:56:00",
          "2024-05-31T07:53:00",
          "2024-05-30T15:17:00",
          "2024-05-30T19:53:00",
          "2024-05-30T20:31:00",
          "2024-05-30T20:46:00",
          "2024-05-30T20:47:00",
          "2024-05-30T09:47:00",
          "2024-03-01T10:15:00",
          "2024-05-31T09:23:00",
          "2024-05-31T09:21:00",
          "2024-05-30T08:30:00",
          "2024-05-31T10:38:00",
          "2024-05-31T10:39:00",
          "2024-05-31T14:50:00",
          "2024-05-31T18:23:00",
          "2024-05-31T18:25:00",
          "2024-05-31T20:06:00",
          "2024-05-31T20:33:00",
          "2024-05-31T20:34:00",
          "2024-05-31T22:05:00",
          "2024-05-31T22:06:00",
          "2024-05-31T22:07:00",
          "2024-06-01T08:27:00",
          "2024-05-30T08:37:00",
          "2024-05-29T20:30:00",
          "2024-05-30T08:29:00",
          "2024-05-28T16:25:00",
          "2024-05-27T15:14:00",
          "2024-05-27T17:50:00",
          "2024-05-27T18:00:00",
          "2024-05-27T19:16:00",
          "2024-05-27T19:17:00",
          "2024-05-27T21:29:00",
          "2024-05-27T21:30:00",
          "2024-05-28T08:37:00",
          "2024-05-28T09:20:00",
          "2024-05-28T11:48:00",
          "2024-05-28T13:14:00",
          "2024-05-28T14:10:00",
          "2024-05-28T17:21:00",
          "2024-05-29T20:32:00",
          "2024-05-28T19:09:00",
          "2024-05-28T19:10:00",
          "2024-05-28T20:24:00",
          "2024-05-28T20:50:00",
          "2024-05-29T09:14:00",
          "2024-05-29T10:48:00",
          "2024-05-29T11:14:00",
          "2024-05-29T15:10:00",
          "2024-05-29T15:22:00",
          "2024-05-29T15:45:00",
          "2024-05-29T16:45:00",
          "2024-06-01T11:38:00",
          "2024-06-01T09:48:00",
          "2024-06-01T18:21:00",
          "2024-06-01T14:28:00",
          "2024-06-01T18:20:00",
          "2024-06-04T21:34:00",
          "2024-06-04T21:36:00",
          "2024-06-04T21:37:00",
          "2024-06-05T08:21:00",
          "2024-06-05T08:23:00",
          "2024-06-05T09:22:00",
          "2024-06-05T10:28:00",
          "2024-06-05T10:40:00",
          "2024-06-05T19:43:00",
          "2024-06-05T19:59:00",
          "2024-06-05T20:10:00",
          "2024-06-05T20:12:00",
          "2024-06-06T08:52:00",
          "2024-06-06T08:54:00",
          "2024-06-06T10:36:00",
          "2024-06-06T12:17:00",
          "2024-06-06T15:11:00",
          "2024-06-06T15:24:00",
          "2024-06-06T21:14:00",
          "2024-06-06T21:15:00",
          "2024-06-06T21:18:00",
          "2024-06-06T21:19:00",
          "2024-06-06T21:21:00",
          "2024-06-07T08:18:00",
          "2024-06-07T10:35:00",
          "2024-06-07T13:34:00",
          "2024-06-07T16:45:00",
          "2024-06-04T21:33:00",
          "2024-06-04T21:31:00",
          "2024-06-04T20:50:00",
          "2024-06-03T10:12:00",
          "2024-05-27T14:06:00",
          "2024-06-01T20:50:00",
          "2024-06-01T20:51:00",
          "2024-06-01T20:54:00",
          "2024-06-01T20:59:00",
          "2024-06-01T21:51:00",
          "2024-06-02T20:03:00",
          "2024-06-02T20:24:00",
          "2024-06-02T20:25:00",
          "2024-06-02T21:07:00",
          "2024-06-02T21:30:00",
          "2024-06-02T22:43:00",
          "2024-06-03T10:27:00",
          "2024-06-04T20:13:00",
          "2024-06-03T14:31:00",
          "2024-06-03T14:33:00",
          "2024-06-03T14:34:00",
          "2024-06-03T21:42:00",
          "2024-06-03T21:43:00",
          "2024-06-04T09:23:00",
          "2024-06-04T10:27:00",
          "2024-06-04T12:02:00",
          "2024-06-04T12:05:00",
          "2024-06-04T15:30:00",
          "2024-06-04T17:46:00",
          "2024-06-04T17:47:00",
          "2024-05-27T15:11:00",
          "2024-05-26T21:06:00",
          "2024-05-27T14:05:00",
          "2024-05-20T14:32:00",
          "2024-05-19T19:51:00",
          "2024-05-19T21:15:00",
          "2024-05-19T21:18:00",
          "2024-05-20T10:05:00",
          "2024-05-20T10:17:00",
          "2024-05-20T10:58:00",
          "2024-05-20T11:15:00",
          "2024-05-20T11:16:00",
          "2024-05-20T13:27:00",
          "2024-05-20T13:28:00",
          "2024-05-20T14:13:00",
          "2024-05-20T14:14:00",
          "2024-05-20T17:12:00",
          "2024-05-19T18:13:00",
          "2024-05-20T17:13:00",
          "2024-05-20T20:36:00",
          "2024-05-20T20:37:00",
          "2024-05-20T20:46:00",
          "2024-05-20T21:36:00",
          "2024-05-20T21:37:00",
          "2024-05-21T08:27:00",
          "2024-05-21T09:43:00",
          "2024-05-21T09:44:00",
          "2024-05-21T09:46:00",
          "2024-05-21T10:05:00",
          "2024-05-21T16:10:00",
          "2024-05-19T18:16:00",
          "2024-05-19T18:12:00",
          "2024-05-21T19:11:00",
          "2024-05-18T08:01:00",
          "2024-05-16T17:44:00",
          "2024-05-16T18:12:00",
          "2024-05-16T18:13:00",
          "2024-05-17T09:00:00",
          "2024-05-17T11:30:00",
          "2024-05-17T14:58:00",
          "2024-05-17T19:55:00",
          "2024-05-17T19:56:00",
          "2024-05-17T20:37:00",
          "2024-05-17T22:34:00",
          "2024-05-17T22:36:00",
          "2024-05-17T22:37:00",
          "2024-05-18T08:02:00",
          "2024-05-19T15:58:00",
          "2024-05-18T11:15:00",
          "2024-05-18T16:48:00",
          "2024-05-18T16:49:00",
          "2024-05-18T19:58:00",
          "2024-05-18T20:22:00",
          "2024-05-18T22:05:00",
          "2024-05-19T07:58:00",
          "2024-05-19T07:59:00",
          "2024-05-19T08:00:00",
          "2024-05-19T09:28:00",
          "2024-05-19T12:14:00",
          "2024-05-19T14:43:00",
          "2024-05-21T18:13:00",
          "2024-05-21T20:13:00",
          "2024-05-27T11:34:00",
          "2024-05-26T14:24:00",
          "2024-05-24T18:17:00",
          "2024-05-24T18:18:00",
          "2024-05-24T22:30:00",
          "2024-05-25T07:40:00",
          "2024-05-25T12:13:00",
          "2024-05-25T12:40:00",
          "2024-05-25T12:42:00",
          "2024-05-25T12:43:00",
          "2024-05-25T12:58:00",
          "2024-05-25T16:47:00",
          "2024-05-25T16:48:00",
          "2024-05-26T10:20:00",
          "2024-05-26T14:26:00",
          "2024-05-24T11:16:00",
          "2024-05-26T14:40:00",
          "2024-05-26T17:19:00",
          "2024-05-26T18:09:00",
          "2024-05-26T18:11:00",
          "2024-05-26T18:13:00",
          "2024-05-26T18:39:00",
          "2024-05-26T20:59:00",
          "2024-05-26T21:00:00",
          "2024-05-26T21:02:00",
          "2024-05-26T21:03:00",
          "2024-05-26T21:04:00",
          "2024-06-08T09:04:00",
          "2024-05-24T16:07:00",
          "2024-05-24T11:15:00",
          "2024-05-22T09:34:00",
          "2024-05-23T15:55:00",
          "2024-05-22T10:49:00",
          "2024-05-22T11:18:00",
          "2024-05-22T11:34:00",
          "2024-05-22T12:29:00",
          "2024-05-22T12:30:00",
          "2024-05-22T14:00:00",
          "2024-05-22T19:24:00",
          "2024-05-22T19:25:00",
          "2024-05-22T21:23:00",
          "2024-05-22T21:24:00",
          "2024-05-23T10:10:00",
          "2024-05-23T12:22:00",
          "2024-05-23T15:56:00",
          "2024-05-24T11:11:00",
          "2024-05-23T16:18:00",
          "2024-05-23T16:41:00",
          "2024-05-23T17:14:00",
          "2024-05-23T17:15:00",
          "2024-05-23T19:03:00",
          "2024-05-23T19:17:00",
          "2024-05-23T19:18:00",
          "2024-05-23T19:42:00",
          "2024-05-23T20:15:00",
          "2024-05-23T20:16:00",
          "2024-05-23T22:48:00",
          "2024-05-23T22:55:00",
          "2024-06-07T16:47:00",
          "2024-06-08T20:25:00",
          "2024-06-08T09:26:00",
          "2024-06-23T18:12:00",
          "2024-06-29T11:41:00",
          "2024-06-29T12:30:00",
          "2024-06-29T12:31:00",
          "2024-06-29T17:23:00",
          "2024-06-29T17:24:00",
          "2024-06-29T21:27:00",
          "2024-06-30T10:28:00",
          "2024-06-30T13:05:00",
          "2024-06-30T16:54:00",
          "2024-06-30T21:04:00",
          "2024-07-01T18:07:00",
          "2024-07-01T18:56:00",
          "2024-07-01T18:57:00",
          "2024-07-02T10:42:00",
          "2024-07-02T10:45:00",
          "2024-07-02T12:48:00",
          "2024-07-02T14:03:00",
          "2024-07-02T16:31:00",
          "2024-07-02T22:02:00",
          "2024-07-03T13:51:00",
          "2024-07-03T16:01:00",
          "2024-07-03T16:50:00",
          "2024-07-03T16:53:00",
          "2024-07-03T16:54:00",
          "2024-07-03T16:55:00",
          "2024-07-03T16:59:00",
          "2024-07-03T17:59:00",
          "2024-06-29T11:40:00",
          "2024-06-29T09:47:00",
          "2024-06-28T22:28:00",
          "2024-06-25T11:34:00",
          "2024-06-23T21:06:00",
          "2024-06-23T21:29:00",
          "2024-06-23T21:30:00",
          "2024-06-24T11:44:00",
          "2024-06-24T11:49:00",
          "2024-06-24T11:50:00",
          "2024-06-24T15:02:00",
          "2024-06-24T16:46:00",
          "2024-06-24T16:47:00",
          "2024-06-25T08:19:00",
          "2024-06-25T10:28:00",
          "2024-06-25T10:29:00",
          "2024-06-26T09:33:00",
          "2024-06-28T21:52:00",
          "2024-06-26T16:32:00",
          "2024-06-26T16:34:00",
          "2024-06-26T21:21:00",
          "2024-06-26T21:27:00",
          "2024-06-26T21:28:00",
          "2024-06-27T09:15:00",
          "2024-06-27T16:11:00",
          "2024-06-27T21:44:00",
          "2024-06-27T21:50:00",
          "2024-06-28T08:08:00",
          "2024-06-28T17:51:00",
          "2024-06-28T21:50:00",
          "2024-07-03T19:06:00",
          "2024-07-04T10:26:00",
          "2024-07-04T10:27:00",
          "2024-07-12T22:33:00",
          "2024-07-09T11:21:00",
          "2024-07-09T11:22:00",
          "2024-07-09T16:42:00",
          "2024-07-10T11:10:00",
          "2024-07-10T12:28:00",
          "2024-07-10T22:13:00",
          "2024-07-11T11:27:00",
          "2024-07-11T16:48:00",
          "2024-07-11T22:22:00",
          "2024-07-11T22:30:00",
          "2024-07-12T08:03:00",
          "2024-07-12T11:48:00",
          "2024-07-12T22:34:00",
          "2024-07-09T10:26:00",
          "2024-07-12T22:35:00",
          "2024-07-13T10:38:00",
          "2024-07-13T11:41:00",
          "2024-07-14T10:54:00",
          "2024-07-14T10:55:00",
          "2024-07-14T10:56:00",
          "2024-07-14T10:57:00",
          "2024-07-14T11:02:00",
          "2024-07-14T22:31:00",
          "2024-07-15T07:33:00",
          "2024-07-16T12:23:00",
          "2024-07-16T19:29:00",
          "2024-07-09T10:40:00",
          "2024-07-08T22:14:00",
          "2024-07-05T12:20:00",
          "2024-07-07T09:04:00",
          "2024-07-05T13:43:00",
          "2024-07-05T13:44:00",
          "2024-07-05T18:55:00",
          "2024-07-05T19:55:00",
          "2024-07-05T22:11:00",
          "2024-07-05T22:20:00",
          "2024-07-05T22:21:00",
          "2024-07-06T10:28:00",
          "2024-07-06T17:15:00",
          "2024-07-06T17:17:00",
          "2024-07-06T19:09:00",
          "2024-07-06T19:10:00",
          "2024-07-07T09:14:00",
          "2024-07-08T19:30:00",
          "2024-07-07T09:15:00",
          "2024-07-07T09:28:00",
          "2024-07-07T09:29:00",
          "2024-07-07T14:56:00",
          "2024-07-07T14:57:00",
          "2024-07-07T17:07:00",
          "2024-07-07T19:33:00",
          "2024-07-07T20:01:00",
          "2024-07-07T22:33:00",
          "2024-07-08T07:33:00",
          "2024-07-08T12:02:00",
          "2024-07-08T14:40:00",
          "2024-06-23T18:13:00",
          "2024-06-22T22:10:00",
          "2024-06-08T20:24:00",
          "2024-06-22T15:37:00",
          "2024-06-12T20:16:00",
          "2024-06-12T20:25:00",
          "2024-06-13T08:54:00",
          "2024-06-13T08:57:00",
          "2024-06-13T09:50:00",
          "2024-06-13T09:57:00",
          "2024-06-13T17:04:00",
          "2024-06-13T17:27:00",
          "2024-06-13T19:22:00",
          "2024-06-13T20:20:00",
          "2024-06-13T20:43:00",
          "2024-06-13T20:45:00",
          "2024-06-13T20:48:00",
          "2024-06-13T21:02:00",
          "2024-06-14T07:46:00",
          "2024-06-14T10:30:00",
          "2024-06-14T12:14:00",
          "2024-06-14T18:29:00",
          "2024-06-15T11:26:00",
          "2024-06-15T12:21:00",
          "2024-06-15T12:22:00",
          "2024-06-15T12:23:00",
          "2024-06-15T12:24:00",
          "2024-06-15T12:25:00",
          "2024-06-15T16:03:00",
          "2024-06-15T18:14:00",
          "2024-06-16T10:43:00",
          "2024-06-12T17:47:00",
          "2024-06-12T17:41:00",
          "2024-06-12T11:51:00",
          "2024-06-09T19:21:00",
          "2024-05-16T12:14:00",
          "2024-06-09T08:15:00",
          "2024-06-09T10:30:00",
          "2024-06-09T10:52:00",
          "2024-06-09T11:04:00",
          "2024-06-09T11:07:00",
          "2024-06-09T11:52:00",
          "2024-06-09T12:11:00",
          "2024-06-09T12:13:00",
          "2024-06-09T12:14:00",
          "2024-06-09T15:10:00",
          "2024-06-09T16:17:00",
          "2024-06-09T21:05:00",
          "2024-06-12T10:18:00",
          "2024-06-10T12:47:00",
          "2024-06-10T12:56:00",
          "2024-06-10T19:04:00",
          "2024-06-10T19:05:00",
          "2024-06-10T19:37:00",
          "2024-06-10T19:38:00",
          "2024-06-11T10:38:00",
          "2024-06-11T18:48:00",
          "2024-06-11T18:49:00",
          "2024-06-11T21:17:00",
          "2024-06-11T21:27:00",
          "2024-06-11T21:28:00",
          "2024-06-16T10:58:00",
          "2024-06-16T11:00:00",
          "2024-06-16T11:01:00",
          "2024-06-21T10:01:00",
          "2024-06-19T18:28:00",
          "2024-06-19T18:29:00",
          "2024-06-19T19:31:00",
          "2024-06-19T21:28:00",
          "2024-06-19T21:30:00",
          "2024-06-20T10:50:00",
          "2024-06-20T18:59:00",
          "2024-06-20T19:00:00",
          "2024-06-20T21:39:00",
          "2024-06-20T21:57:00",
          "2024-06-20T21:59:00",
          "2024-06-21T09:59:00",
          "2024-06-21T13:19:00",
          "2024-06-19T11:12:00",
          "2024-06-21T13:20:00",
          "2024-06-21T18:12:00",
          "2024-06-21T19:30:00",
          "2024-06-21T19:47:00",
          "2024-06-21T19:48:00",
          "2024-06-21T19:49:00",
          "2024-06-21T19:51:00",
          "2024-06-21T19:52:00",
          "2024-06-21T19:55:00",
          "2024-06-22T08:39:00",
          "2024-06-22T09:37:00",
          "2024-06-22T12:53:00",
          "2024-06-19T14:21:00",
          "2024-06-19T11:11:00",
          "2024-06-16T12:49:00",
          "2024-06-17T16:50:00",
          "2024-06-16T14:00:00",
          "2024-06-16T15:02:00",
          "2024-06-16T15:05:00",
          "2024-06-16T15:43:00",
          "2024-06-16T16:47:00",
          "2024-06-16T17:45:00",
          "2024-06-16T17:46:00",
          "2024-06-17T08:57:00",
          "2024-06-17T10:12:00",
          "2024-06-17T10:13:00",
          "2024-06-17T10:55:00",
          "2024-06-17T14:51:00",
          "2024-06-17T16:51:00",
          "2024-06-19T10:54:00",
          "2024-06-17T16:52:00",
          "2024-06-17T18:51:00",
          "2024-06-17T21:16:00",
          "2024-06-18T14:04:00",
          "2024-06-18T14:05:00",
          "2024-06-18T19:20:00",
          "2024-06-18T19:21:00",
          "2024-06-18T20:35:00",
          "2024-06-18T21:20:00",
          "2024-06-18T21:22:00",
          "2024-06-19T07:47:00",
          "2024-06-19T08:17:00",
          "2024-05-16T15:15:00",
          "2024-05-16T10:39:00",
          "2024-05-16T11:44:00",
          "2024-05-16T11:42:00",
          "2024-03-23T13:10:00",
          "2024-03-23T13:11:00",
          "2024-03-23T14:44:00",
          "2024-03-23T15:47:00",
          "2024-03-23T15:49:00",
          "2024-03-23T16:00:00",
          "2024-03-24T10:03:00",
          "2024-03-24T18:45:00",
          "2024-03-25T10:31:00",
          "2024-03-25T11:16:00",
          "2024-03-25T14:27:00",
          "2024-03-25T14:29:00",
          "2024-03-25T18:37:00",
          "2024-03-25T19:34:00",
          "2024-03-26T10:35:00",
          "2024-03-26T10:36:00",
          "2024-03-26T10:42:00",
          "2024-03-26T11:11:00",
          "2024-03-26T13:35:00",
          "2024-03-26T13:36:00",
          "2024-03-26T13:37:00",
          "2024-03-26T13:57:00",
          "2024-03-26T15:48:00",
          "2024-03-26T18:33:00",
          "2024-03-26T18:34:00",
          "2024-03-27T11:04:00",
          "2024-03-27T11:05:00",
          "2024-03-23T10:45:00",
          "2024-03-23T10:43:00",
          "2024-03-22T17:20:00",
          "2024-03-20T11:41:00",
          "2024-03-17T10:10:00",
          "2024-03-17T12:55:00",
          "2024-03-18T11:17:00",
          "2024-03-18T15:31:00",
          "2024-03-18T15:32:00",
          "2024-03-18T15:33:00",
          "2024-03-19T10:20:00",
          "2024-03-19T14:02:00",
          "2024-03-19T14:03:00",
          "2024-03-19T15:04:00",
          "2024-03-19T16:53:00",
          "2024-03-19T19:26:00",
          "2024-03-20T12:21:00",
          "2024-03-22T16:15:00",
          "2024-03-20T12:30:00",
          "2024-03-20T13:16:00",
          "2024-03-20T16:42:00",
          "2024-03-20T17:50:00",
          "2024-03-21T10:18:00",
          "2024-03-21T12:25:00",
          "2024-03-21T12:26:00",
          "2024-03-21T17:21:00",
          "2024-03-21T17:22:00",
          "2024-03-21T19:20:00",
          "2024-03-22T10:35:00",
          "2024-03-22T13:29:00",
          "2024-03-27T12:57:00",
          "2024-03-27T13:35:00",
          "2024-03-27T14:22:00",
          "2024-04-05T14:24:00",
          "2024-04-03T13:12:00",
          "2024-04-03T15:36:00",
          "2024-04-04T10:44:00",
          "2024-04-04T11:26:00",
          "2024-04-04T11:27:00",
          "2024-04-04T12:23:00",
          "2024-04-04T19:42:00",
          "2024-04-05T10:40:00",
          "2024-04-05T10:42:00",
          "2024-04-05T11:06:00",
          "2024-04-05T12:14:00",
          "2024-04-05T14:23:00",
          "2024-04-05T15:30:00",
          "2024-04-03T10:19:00",
          "2024-04-05T15:54:00",
          "2024-04-05T15:55:00",
          "2024-04-05T16:17:00",
          "2024-04-05T16:18:00",
          "2024-04-06T12:32:00",
          "2024-04-06T14:13:00",
          "2024-04-06T14:14:00",
          "2024-04-06T14:49:00",
          "2024-04-07T10:12:00",
          "2024-04-07T12:44:00",
          "2024-04-07T12:46:00",
          "2024-04-07T14:16:00",
          "2024-04-03T10:20:00",
          "2024-04-02T19:59:00",
          "2024-03-27T14:23:00",
          "2024-03-30T16:12:00",
          "2024-03-27T18:30:00",
          "2024-03-27T19:31:00",
          "2024-03-28T14:24:00",
          "2024-03-28T17:24:00",
          "2024-03-28T17:27:00",
          "2024-03-28T17:32:00",
          "2024-03-29T10:56:00",
          "2024-03-29T12:34:00",
          "2024-03-29T12:41:00",
          "2024-03-29T13:22:00",
          "2024-03-30T11:59:00",
          "2024-03-30T13:49:00",
          "2024-03-30T16:36:00",
          "2024-04-02T16:19:00",
          "2024-03-30T16:37:00",
          "2024-03-31T10:40:00",
          "2024-03-31T19:36:00",
          "2024-04-01T10:28:00",
          "2024-04-01T10:29:00",
          "2024-04-01T10:30:00",
          "2024-04-01T11:15:00",
          "2024-04-01T17:01:00",
          "2024-04-01T18:18:00",
          "2024-04-01T18:45:00",
          "2024-04-02T10:01:00",
          "2024-04-02T16:18:00",
          "2024-03-16T17:58:00",
          "2024-03-16T16:04:00",
          "2024-03-16T16:03:00",
          "2024-03-06T14:52:00",
          "2024-03-05T09:59:00",
          "2024-03-05T14:34:00",
          "2024-03-05T17:34:00",
          "2024-03-05T17:35:00",
          "2024-03-05T17:36:00",
          "2024-03-05T17:37:00",
          "2024-03-05T17:38:00",
          "2024-03-05T17:56:00",
          "2024-03-05T18:01:00",
          "2024-03-06T12:30:00",
          "2024-03-06T13:24:00",
          "2024-03-06T13:25:00",
          "2024-03-06T14:53:00",
          "2024-03-04T11:05:00",
          "2024-03-07T10:08:00",
          "2024-03-07T10:18:00",
          "2024-03-07T11:03:00",
          "2024-03-07T11:25:00",
          "2024-03-07T15:40:00",
          "2024-03-07T15:41:00",
          "2024-03-08T10:34:00",
          "2024-03-08T12:22:00",
          "2024-03-08T13:53:00",
          "2024-03-08T14:44:00",
          "2024-03-08T14:45:00",
          "2024-03-08T14:46:00",
          "2024-03-04T14:04:00",
          "2024-03-04T10:54:00",
          "2024-03-08T18:59:00",
          "2024-03-02T11:59:00",
          "2024-03-01T12:20:00",
          "2024-03-01T13:46:00",
          "2024-03-01T13:48:00",
          "2024-03-01T15:39:00",
          "2024-03-01T16:19:00",
          "2024-03-01T18:39:00",
          "2024-03-01T19:22:00",
          "2024-03-01T19:23:00",
          "2024-03-01T19:29:00",
          "2024-03-02T10:22:00",
          "2024-03-02T10:30:00",
          "2024-03-02T10:41:00",
          "2024-03-02T14:38:00",
          "2024-03-04T10:03:00",
          "2024-03-02T16:37:00",
          "2024-03-02T17:34:00",
          "2024-03-03T10:10:00",
          "2024-03-03T10:27:00",
          "2024-03-03T11:33:00",
          "2024-03-03T12:26:00",
          "2024-03-03T13:09:00",
          "2024-03-03T17:06:00",
          "2024-03-03T17:08:00",
          "2024-03-03T18:03:00",
          "2024-03-03T18:04:00",
          "2024-03-03T18:08:00",
          "2024-03-08T18:57:00",
          "2024-03-09T11:49:00",
          "2024-03-16T15:58:00",
          "2024-03-14T13:27:00",
          "2024-03-13T11:06:00",
          "2024-03-13T11:48:00",
          "2024-03-13T12:18:00",
          "2024-03-13T12:19:00",
          "2024-03-13T12:34:00",
          "2024-03-13T14:26:00",
          "2024-03-13T15:40:00",
          "2024-03-13T15:41:00",
          "2024-03-13T16:47:00",
          "2024-03-14T10:02:00",
          "2024-03-14T10:28:00",
          "2024-03-14T10:29:00",
          "2024-03-14T13:28:00",
          "2024-03-12T12:47:00",
          "2024-03-14T13:51:00",
          "2024-03-14T13:52:00",
          "2024-03-14T15:20:00",
          "2024-03-14T16:04:00",
          "2024-03-14T16:54:00",
          "2024-03-14T18:58:00",
          "2024-03-14T19:00:00",
          "2024-03-15T10:02:00",
          "2024-03-15T10:53:00",
          "2024-03-15T18:19:00",
          "2024-03-16T12:06:00",
          "2024-03-16T12:07:00",
          "2024-03-12T16:15:00",
          "2024-03-12T12:46:00",
          "2024-03-09T12:05:00",
          "2024-03-10T07:44:00",
          "2024-03-09T12:07:00",
          "2024-03-09T12:09:00",
          "2024-03-09T12:13:00",
          "2024-03-09T12:14:00",
          "2024-03-09T13:09:00",
          "2024-03-09T13:41:00",
          "2024-03-09T13:53:00",
          "2024-03-09T13:54:00",
          "2024-03-09T14:08:00",
          "2024-03-09T14:26:00",
          "2024-03-09T19:17:00",
          "2024-03-09T19:19:00",
          "2024-03-10T07:45:00",
          "2024-03-12T11:20:00",
          "2024-03-10T10:06:00",
          "2024-03-10T11:19:00",
          "2024-03-10T17:51:00",
          "2024-03-10T19:34:00",
          "2024-03-10T19:35:00",
          "2024-03-11T10:18:00",
          "2024-03-11T11:26:00",
          "2024-03-11T11:32:00",
          "2024-03-11T16:24:00",
          "2024-03-11T16:25:00",
          "2024-03-11T16:50:00",
          "2024-03-12T10:16:00",
          "2024-04-07T14:17:00",
          "2024-04-07T18:01:00",
          "2024-04-07T18:02:00",
          "2024-05-06T10:06:00",
          "2024-04-30T19:31:00",
          "2024-05-02T10:33:00",
          "2024-05-02T11:29:00",
          "2024-05-02T13:49:00",
          "2024-05-02T18:36:00",
          "2024-05-02T18:41:00",
          "2024-05-02T19:18:00",
          "2024-05-02T19:19:00",
          "2024-05-03T10:11:00",
          "2024-05-03T14:30:00",
          "2024-05-03T17:03:00",
          "2024-05-06T10:05:00",
          "2024-05-06T10:08:00",
          "2024-04-30T19:19:00",
          "2024-05-06T10:09:00",
          "2024-05-06T10:39:00",
          "2024-05-06T11:34:00",
          "2024-05-06T13:18:00",
          "2024-05-06T13:19:00",
          "2024-05-06T19:18:00",
          "2024-05-06T19:19:00",
          "2024-05-07T10:44:00",
          "2024-05-07T11:21:00",
          "2024-05-07T13:23:00",
          "2024-05-07T16:42:00",
          "2024-05-07T16:55:00",
          "2024-04-30T19:30:00",
          "2024-04-30T13:42:00",
          "2024-05-07T17:38:00",
          "2024-04-28T18:27:00",
          "2024-04-26T10:12:00",
          "2024-04-26T12:01:00",
          "2024-04-26T13:31:00",
          "2024-04-26T15:32:00",
          "2024-04-26T15:33:00",
          "2024-04-26T16:23:00",
          "2024-04-26T16:24:00",
          "2024-04-26T19:32:00",
          "2024-04-26T19:33:00",
          "2024-04-27T15:27:00",
          "2024-04-28T10:32:00",
          "2024-04-28T12:30:00",
          "2024-04-28T18:28:00",
          "2024-04-30T13:41:00",
          "2024-04-28T18:29:00",
          "2024-04-29T11:26:00",
          "2024-04-29T13:27:00",
          "2024-04-29T13:28:00",
          "2024-04-29T13:53:00",
          "2024-04-29T13:54:00",
          "2024-04-29T18:37:00",
          "2024-04-29T19:12:00",
          "2024-04-29T19:13:00",
          "2024-04-30T10:16:00",
          "2024-04-30T10:34:00",
          "2024-04-30T10:35:00",
          "2024-05-07T17:37:00",
          "2024-05-07T18:35:00",
          "2024-04-25T17:09:00",
          "2024-05-14T16:59:00",
          "2024-05-12T19:41:00",
          "2024-05-13T11:03:00",
          "2024-05-14T08:38:00",
          "2024-05-14T08:39:00",
          "2024-05-14T08:40:00",
          "2024-05-14T10:19:00",
          "2024-05-14T11:32:00",
          "2024-05-14T11:34:00",
          "2024-05-14T14:04:00",
          "2024-05-14T14:06:00",
          "2024-05-14T15:01:00",
          "2024-05-14T16:57:00",
          "2024-05-14T22:51:00",
          "2024-05-12T15:52:00",
          "2024-05-15T08:40:00",
          "2024-05-15T11:14:00",
          "2024-05-15T11:19:00",
          "2024-05-15T13:34:00",
          "2024-05-15T13:35:00",
          "2024-05-15T13:36:00",
          "2024-05-15T13:55:00",
          "2024-05-15T14:39:00",
          "2024-05-15T17:28:00",
          "2024-05-15T20:20:00",
          "2024-05-16T10:38:00",
          "2024-03-01T12:19:00",
          "2024-05-12T16:04:00",
          "2024-05-12T15:38:00",
          "2024-05-07T19:12:00",
          "2024-05-10T15:46:00",
          "2024-05-07T19:13:00",
          "2024-05-08T10:07:00",
          "2024-05-09T12:54:00",
          "2024-05-09T13:03:00",
          "2024-05-09T13:04:00",
          "2024-05-09T13:06:00",
          "2024-05-09T13:07:00",
          "2024-05-09T16:55:00",
          "2024-05-09T16:56:00",
          "2024-05-09T18:01:00",
          "2024-05-09T18:13:00",
          "2024-05-10T10:09:00",
          "2024-05-10T15:47:00",
          "2024-05-12T15:16:00",
          "2024-05-10T16:20:00",
          "2024-05-11T11:39:00",
          "2024-05-11T17:02:00",
          "2024-05-11T17:20:00",
          "2024-05-11T17:21:00",
          "2024-05-11T17:23:00",
          "2024-05-11T17:28:00",
          "2024-05-11T18:35:00",
          "2024-05-11T19:38:00",
          "2024-05-12T10:20:00",
          "2024-05-12T13:24:00",
          "2024-05-12T13:27:00",
          "2024-04-25T17:10:00",
          "2024-04-25T15:18:00",
          "2024-04-08T10:58:00",
          "2024-04-14T16:59:00",
          "2024-04-13T17:51:00",
          "2024-04-13T17:53:00",
          "2024-04-14T10:55:00",
          "2024-04-14T12:24:00",
          "2024-04-14T12:27:00",
          "2024-04-14T12:29:00",
          "2024-04-14T12:31:00",
          "2024-04-14T13:21:00",
          "2024-04-14T14:23:00",
          "2024-04-14T14:24:00",
          "2024-04-14T14:25:00",
          "2024-04-14T15:46:00",
          "2024-04-14T17:00:00",
          "2024-04-13T16:18:00",
          "2024-04-14T18:38:00",
          "2024-04-15T11:45:00",
          "2024-04-15T17:01:00",
          "2024-04-15T17:02:00",
          "2024-04-15T19:33:00",
          "2024-04-15T19:41:00",
          "2024-04-16T10:43:00",
          "2024-04-16T10:46:00",
          "2024-04-16T12:40:00",
          "2024-04-16T12:52:00",
          "2024-04-16T15:03:00",
          "2024-04-16T17:42:00",
          "2024-04-13T16:19:00",
          "2024-04-13T15:07:00",
          "2024-04-16T18:09:00",
          "2024-04-09T15:11:00",
          "2024-04-08T10:59:00",
          "2024-04-08T11:01:00",
          "2024-04-08T11:04:00",
          "2024-04-08T12:54:00",
          "2024-04-08T15:43:00",
          "2024-04-08T16:41:00",
          "2024-04-08T18:18:00",
          "2024-04-08T19:22:00",
          "2024-04-08T19:23:00",
          "2024-04-09T10:22:00",
          "2024-04-09T10:24:00",
          "2024-04-09T11:42:00",
          "2024-04-09T17:25:00",
          "2024-04-13T15:06:00",
          "2024-04-10T10:21:00",
          "2024-04-10T18:24:00",
          "2024-04-10T20:04:00",
          "2024-04-11T10:41:00",
          "2024-04-11T10:42:00",
          "2024-04-11T16:35:00",
          "2024-04-11T19:16:00",
          "2024-04-11T19:18:00",
          "2024-04-12T19:03:00",
          "2024-04-12T19:38:00",
          "2024-04-13T12:29:00",
          "2024-04-13T12:43:00",
          "2024-04-16T17:43:00",
          "2024-04-17T13:32:00",
          "2024-04-25T10:46:00",
          "2024-04-22T20:02:00",
          "2024-04-20T15:49:00",
          "2024-04-20T17:07:00",
          "2024-04-20T18:27:00",
          "2024-04-20T18:28:00",
          "2024-04-20T19:30:00",
          "2024-04-21T11:16:00",
          "2024-04-21T14:15:00",
          "2024-04-21T17:09:00",
          "2024-04-22T11:09:00",
          "2024-04-22T11:29:00",
          "2024-04-22T18:40:00",
          "2024-04-22T19:39:00",
          "2024-04-23T14:22:00",
          "2024-04-20T15:11:00",
          "2024-04-23T14:23:00",
          "2024-04-23T14:24:00",
          "2024-04-23T19:42:00",
          "2024-04-23T19:43:00",
          "2024-04-24T10:19:00",
          "2024-04-24T10:21:00",
          "2024-04-24T11:23:00",
          "2024-04-24T11:33:00",
          "2024-04-24T12:39:00",
          "2024-04-24T16:39:00",
          "2024-04-24T19:39:00",
          "2024-04-24T19:40:00",
          "2024-04-20T15:22:00",
          "2024-04-20T14:44:00",
          "2024-04-17T13:44:00",
          "2024-04-18T19:39:00",
          "2024-04-17T16:13:00",
          "2024-04-17T17:01:00",
          "2024-04-17T17:02:00",
          "2024-04-17T18:14:00",
          "2024-04-18T11:19:00",
          "2024-04-18T11:20:00",
          "2024-04-18T13:49:00",
          "2024-04-18T13:50:00",
          "2024-04-18T14:34:00",
          "2024-04-18T14:35:00",
          "2024-04-18T17:44:00",
          "2024-04-18T18:21:00",
          "2024-04-18T19:40:00",
          "2024-04-20T13:10:00",
          "2024-04-19T10:10:00",
          "2024-04-19T13:11:00",
          "2024-04-19T13:13:00",
          "2024-04-19T13:58:00",
          "2024-04-19T13:59:00",
          "2024-04-19T18:23:00",
          "2024-04-19T18:25:00",
          "2024-04-20T11:24:00",
          "2024-04-20T12:08:00",
          "2024-04-20T12:09:00",
          "2024-04-20T13:08:00",
          "2024-04-20T13:09:00",
          "2024-07-17T13:04:00"
         ],
         "xaxis": "x",
         "y": [
          2,
          2,
          2,
          2,
          2,
          2,
          2,
          2,
          1,
          1,
          1,
          1,
          1,
          1,
          1,
          1,
          1,
          1,
          1,
          1,
          1,
          1,
          1,
          1,
          1,
          1,
          1,
          1,
          1,
          1,
          1,
          1,
          1,
          1,
          1,
          1,
          1,
          1,
          1,
          1,
          1,
          1,
          1,
          1,
          1,
          1,
          1,
          1,
          1,
          1,
          1,
          1,
          1,
          1,
          1,
          1,
          1,
          1,
          1,
          1,
          1,
          1,
          1,
          1,
          1,
          1,
          1,
          1,
          1,
          1,
          1,
          1,
          1,
          1,
          1,
          1,
          1,
          1,
          1,
          1,
          1,
          1,
          1,
          1,
          1,
          1,
          1,
          1,
          1,
          1,
          1,
          1,
          1,
          1,
          1,
          1,
          1,
          1,
          1,
          1,
          1,
          1,
          1,
          1,
          1,
          1,
          1,
          1,
          1,
          1,
          1,
          1,
          1,
          1,
          1,
          1,
          1,
          1,
          1,
          1,
          1,
          1,
          1,
          1,
          1,
          1,
          1,
          1,
          1,
          1,
          1,
          1,
          1,
          1,
          1,
          1,
          1,
          1,
          1,
          1,
          1,
          1,
          1,
          1,
          1,
          1,
          1,
          1,
          1,
          1,
          1,
          1,
          1,
          1,
          1,
          1,
          1,
          1,
          1,
          1,
          1,
          1,
          1,
          1,
          1,
          1,
          1,
          1,
          1,
          1,
          1,
          1,
          1,
          1,
          1,
          1,
          1,
          1,
          1,
          1,
          1,
          1,
          1,
          1,
          1,
          1,
          1,
          1,
          1,
          1,
          1,
          1,
          1,
          1,
          1,
          1,
          1,
          1,
          1,
          1,
          1,
          1,
          1,
          1,
          1,
          1,
          1,
          1,
          1,
          1,
          1,
          1,
          1,
          1,
          1,
          1,
          1,
          1,
          1,
          1,
          1,
          1,
          1,
          1,
          1,
          1,
          1,
          1,
          1,
          1,
          1,
          1,
          1,
          1,
          1,
          1,
          1,
          1,
          1,
          1,
          1,
          1,
          1,
          1,
          1,
          1,
          1,
          1,
          1,
          1,
          1,
          1,
          1,
          1,
          1,
          1,
          1,
          1,
          1,
          1,
          1,
          1,
          1,
          1,
          1,
          1,
          1,
          1,
          1,
          1,
          1,
          1,
          1,
          1,
          1,
          1,
          1,
          1,
          1,
          1,
          1,
          1,
          1,
          1,
          1,
          1,
          1,
          1,
          1,
          1,
          1,
          1,
          1,
          1,
          1,
          1,
          1,
          1,
          1,
          1,
          1,
          1,
          1,
          1,
          1,
          1,
          1,
          1,
          1,
          1,
          1,
          1,
          1,
          1,
          1,
          1,
          1,
          1,
          1,
          1,
          1,
          1,
          1,
          1,
          1,
          1,
          1,
          1,
          1,
          1,
          1,
          1,
          1,
          1,
          1,
          1,
          1,
          1,
          1,
          1,
          1,
          1,
          1,
          1,
          1,
          1,
          1,
          1,
          1,
          1,
          1,
          1,
          1,
          1,
          1,
          1,
          1,
          1,
          1,
          1,
          1,
          1,
          1,
          1,
          1,
          1,
          1,
          1,
          1,
          1,
          1,
          1,
          1,
          1,
          1,
          1,
          1,
          1,
          1,
          1,
          1,
          1,
          1,
          1,
          1,
          1,
          1,
          1,
          1,
          1,
          1,
          1,
          1,
          1,
          1,
          1,
          1,
          1,
          1,
          1,
          1,
          1,
          1,
          1,
          1,
          1,
          1,
          1,
          1,
          1,
          1,
          1,
          1,
          1,
          1,
          1,
          1,
          1,
          1,
          1,
          1,
          1,
          1,
          1,
          1,
          1,
          1,
          1,
          1,
          1,
          1,
          1,
          1,
          1,
          1,
          1,
          1,
          1,
          1,
          1,
          1,
          1,
          1,
          1,
          1,
          1,
          1,
          1,
          1,
          1,
          1,
          1,
          1,
          1,
          1,
          1,
          1,
          1,
          1,
          1,
          1,
          1,
          1,
          1,
          1,
          1,
          1,
          1,
          1,
          1,
          1,
          1,
          1,
          1,
          1,
          1,
          1,
          1,
          1,
          1,
          1,
          1,
          1,
          1,
          1,
          1,
          1,
          1,
          1,
          1,
          1,
          1,
          1,
          1,
          1,
          1,
          1,
          1,
          1,
          1,
          1,
          1,
          1,
          1,
          1,
          1,
          1,
          1,
          1,
          1,
          1,
          1,
          1,
          1,
          1,
          1,
          1,
          1,
          1,
          1,
          1,
          1,
          1,
          1,
          1,
          1,
          1,
          1,
          1,
          1,
          1,
          1,
          1,
          1,
          1,
          1,
          1,
          1,
          1,
          1,
          1,
          1,
          1,
          1,
          1,
          1,
          1,
          1,
          1,
          1,
          1,
          1,
          1,
          1,
          1,
          1,
          1,
          1,
          1,
          1,
          1,
          1,
          1,
          1,
          1,
          1,
          1,
          1,
          1,
          1,
          1,
          1,
          1,
          1,
          1,
          1,
          1,
          1,
          1,
          1,
          1,
          1,
          1,
          1,
          1,
          1,
          1,
          1,
          1,
          1,
          1,
          1,
          1,
          1,
          1,
          1,
          1,
          1,
          1,
          1,
          1,
          1,
          1,
          1,
          1,
          1,
          1,
          1,
          1,
          1,
          1,
          1,
          1,
          1,
          1,
          1,
          1,
          1,
          1,
          1,
          1,
          1,
          1,
          1,
          1,
          1,
          1,
          1,
          1,
          1,
          1,
          1,
          1,
          1,
          1,
          1,
          1,
          1,
          1,
          1,
          1,
          1,
          1,
          1,
          1,
          1,
          1,
          1,
          1,
          1,
          1,
          1,
          1,
          1,
          1,
          1,
          1,
          1,
          1,
          1,
          1,
          1,
          1,
          1,
          1,
          1,
          1,
          1,
          1,
          1,
          1,
          1,
          1,
          1,
          1,
          1,
          1,
          1,
          1,
          1,
          1,
          1,
          1,
          1,
          1,
          1,
          1,
          1,
          1,
          1,
          1,
          1,
          1,
          1,
          1,
          1,
          1,
          1,
          1,
          1,
          1,
          1,
          1,
          1,
          1,
          1,
          1,
          1,
          1,
          1,
          1,
          1,
          1,
          1,
          1,
          1,
          1,
          1,
          1,
          1,
          1,
          1,
          1,
          1,
          1,
          1,
          1,
          1,
          1,
          1,
          1,
          1,
          1,
          1,
          1,
          1,
          1,
          1,
          1,
          1,
          1,
          1,
          1,
          1,
          1,
          1,
          1,
          1,
          1,
          1,
          1,
          1,
          1,
          1,
          1,
          1,
          1,
          1,
          1,
          1,
          1,
          1,
          1,
          1,
          1,
          1,
          1,
          1,
          1,
          1,
          1,
          1,
          1,
          1,
          1,
          1,
          1,
          1,
          1,
          1,
          1,
          1,
          1,
          1,
          1,
          1,
          1,
          1,
          1,
          1,
          1,
          1,
          1,
          1,
          1,
          1,
          1,
          1,
          1,
          1,
          1,
          1,
          1,
          1,
          1,
          1,
          1,
          1,
          1,
          1,
          1,
          1,
          1,
          1,
          1,
          1,
          1,
          1,
          1,
          1,
          1,
          1,
          1,
          1,
          1,
          1,
          1,
          1,
          1,
          1,
          1,
          1,
          1,
          1,
          1,
          1,
          1,
          1,
          1,
          1,
          1,
          1,
          1,
          1,
          1,
          1,
          1,
          1,
          1,
          1,
          1,
          1,
          1,
          1,
          1,
          1,
          1,
          1,
          1,
          1,
          1,
          1,
          1,
          1,
          1,
          1,
          1,
          1,
          1,
          1,
          1,
          1,
          1,
          1,
          1,
          1,
          1,
          1,
          1,
          1,
          1,
          1,
          1,
          1,
          1,
          1,
          1,
          1,
          1,
          1,
          1,
          1,
          1,
          1,
          1,
          1,
          1,
          1,
          1,
          1,
          1,
          1,
          1,
          1,
          1,
          1,
          1,
          1,
          1,
          1,
          1,
          1,
          1,
          1,
          1,
          1,
          1,
          1,
          1,
          1,
          1,
          1,
          1,
          1,
          1,
          1,
          1,
          1,
          1,
          1,
          1,
          1,
          1,
          1,
          1,
          1,
          1,
          1,
          1,
          1,
          1,
          1,
          1,
          1,
          1,
          1,
          1,
          1,
          1,
          1,
          1,
          1,
          1,
          1,
          1,
          1,
          1,
          1,
          1,
          1,
          1,
          1,
          1,
          1,
          1,
          1,
          1,
          1
         ],
         "yaxis": "y"
        }
       ],
       "layout": {
        "legend": {
         "tracegroupgap": 0
        },
        "template": {
         "data": {
          "bar": [
           {
            "error_x": {
             "color": "#2a3f5f"
            },
            "error_y": {
             "color": "#2a3f5f"
            },
            "marker": {
             "line": {
              "color": "#E5ECF6",
              "width": 0.5
             },
             "pattern": {
              "fillmode": "overlay",
              "size": 10,
              "solidity": 0.2
             }
            },
            "type": "bar"
           }
          ],
          "barpolar": [
           {
            "marker": {
             "line": {
              "color": "#E5ECF6",
              "width": 0.5
             },
             "pattern": {
              "fillmode": "overlay",
              "size": 10,
              "solidity": 0.2
             }
            },
            "type": "barpolar"
           }
          ],
          "carpet": [
           {
            "aaxis": {
             "endlinecolor": "#2a3f5f",
             "gridcolor": "white",
             "linecolor": "white",
             "minorgridcolor": "white",
             "startlinecolor": "#2a3f5f"
            },
            "baxis": {
             "endlinecolor": "#2a3f5f",
             "gridcolor": "white",
             "linecolor": "white",
             "minorgridcolor": "white",
             "startlinecolor": "#2a3f5f"
            },
            "type": "carpet"
           }
          ],
          "choropleth": [
           {
            "colorbar": {
             "outlinewidth": 0,
             "ticks": ""
            },
            "type": "choropleth"
           }
          ],
          "contour": [
           {
            "colorbar": {
             "outlinewidth": 0,
             "ticks": ""
            },
            "colorscale": [
             [
              0,
              "#0d0887"
             ],
             [
              0.1111111111111111,
              "#46039f"
             ],
             [
              0.2222222222222222,
              "#7201a8"
             ],
             [
              0.3333333333333333,
              "#9c179e"
             ],
             [
              0.4444444444444444,
              "#bd3786"
             ],
             [
              0.5555555555555556,
              "#d8576b"
             ],
             [
              0.6666666666666666,
              "#ed7953"
             ],
             [
              0.7777777777777778,
              "#fb9f3a"
             ],
             [
              0.8888888888888888,
              "#fdca26"
             ],
             [
              1,
              "#f0f921"
             ]
            ],
            "type": "contour"
           }
          ],
          "contourcarpet": [
           {
            "colorbar": {
             "outlinewidth": 0,
             "ticks": ""
            },
            "type": "contourcarpet"
           }
          ],
          "heatmap": [
           {
            "colorbar": {
             "outlinewidth": 0,
             "ticks": ""
            },
            "colorscale": [
             [
              0,
              "#0d0887"
             ],
             [
              0.1111111111111111,
              "#46039f"
             ],
             [
              0.2222222222222222,
              "#7201a8"
             ],
             [
              0.3333333333333333,
              "#9c179e"
             ],
             [
              0.4444444444444444,
              "#bd3786"
             ],
             [
              0.5555555555555556,
              "#d8576b"
             ],
             [
              0.6666666666666666,
              "#ed7953"
             ],
             [
              0.7777777777777778,
              "#fb9f3a"
             ],
             [
              0.8888888888888888,
              "#fdca26"
             ],
             [
              1,
              "#f0f921"
             ]
            ],
            "type": "heatmap"
           }
          ],
          "heatmapgl": [
           {
            "colorbar": {
             "outlinewidth": 0,
             "ticks": ""
            },
            "colorscale": [
             [
              0,
              "#0d0887"
             ],
             [
              0.1111111111111111,
              "#46039f"
             ],
             [
              0.2222222222222222,
              "#7201a8"
             ],
             [
              0.3333333333333333,
              "#9c179e"
             ],
             [
              0.4444444444444444,
              "#bd3786"
             ],
             [
              0.5555555555555556,
              "#d8576b"
             ],
             [
              0.6666666666666666,
              "#ed7953"
             ],
             [
              0.7777777777777778,
              "#fb9f3a"
             ],
             [
              0.8888888888888888,
              "#fdca26"
             ],
             [
              1,
              "#f0f921"
             ]
            ],
            "type": "heatmapgl"
           }
          ],
          "histogram": [
           {
            "marker": {
             "pattern": {
              "fillmode": "overlay",
              "size": 10,
              "solidity": 0.2
             }
            },
            "type": "histogram"
           }
          ],
          "histogram2d": [
           {
            "colorbar": {
             "outlinewidth": 0,
             "ticks": ""
            },
            "colorscale": [
             [
              0,
              "#0d0887"
             ],
             [
              0.1111111111111111,
              "#46039f"
             ],
             [
              0.2222222222222222,
              "#7201a8"
             ],
             [
              0.3333333333333333,
              "#9c179e"
             ],
             [
              0.4444444444444444,
              "#bd3786"
             ],
             [
              0.5555555555555556,
              "#d8576b"
             ],
             [
              0.6666666666666666,
              "#ed7953"
             ],
             [
              0.7777777777777778,
              "#fb9f3a"
             ],
             [
              0.8888888888888888,
              "#fdca26"
             ],
             [
              1,
              "#f0f921"
             ]
            ],
            "type": "histogram2d"
           }
          ],
          "histogram2dcontour": [
           {
            "colorbar": {
             "outlinewidth": 0,
             "ticks": ""
            },
            "colorscale": [
             [
              0,
              "#0d0887"
             ],
             [
              0.1111111111111111,
              "#46039f"
             ],
             [
              0.2222222222222222,
              "#7201a8"
             ],
             [
              0.3333333333333333,
              "#9c179e"
             ],
             [
              0.4444444444444444,
              "#bd3786"
             ],
             [
              0.5555555555555556,
              "#d8576b"
             ],
             [
              0.6666666666666666,
              "#ed7953"
             ],
             [
              0.7777777777777778,
              "#fb9f3a"
             ],
             [
              0.8888888888888888,
              "#fdca26"
             ],
             [
              1,
              "#f0f921"
             ]
            ],
            "type": "histogram2dcontour"
           }
          ],
          "mesh3d": [
           {
            "colorbar": {
             "outlinewidth": 0,
             "ticks": ""
            },
            "type": "mesh3d"
           }
          ],
          "parcoords": [
           {
            "line": {
             "colorbar": {
              "outlinewidth": 0,
              "ticks": ""
             }
            },
            "type": "parcoords"
           }
          ],
          "pie": [
           {
            "automargin": true,
            "type": "pie"
           }
          ],
          "scatter": [
           {
            "fillpattern": {
             "fillmode": "overlay",
             "size": 10,
             "solidity": 0.2
            },
            "type": "scatter"
           }
          ],
          "scatter3d": [
           {
            "line": {
             "colorbar": {
              "outlinewidth": 0,
              "ticks": ""
             }
            },
            "marker": {
             "colorbar": {
              "outlinewidth": 0,
              "ticks": ""
             }
            },
            "type": "scatter3d"
           }
          ],
          "scattercarpet": [
           {
            "marker": {
             "colorbar": {
              "outlinewidth": 0,
              "ticks": ""
             }
            },
            "type": "scattercarpet"
           }
          ],
          "scattergeo": [
           {
            "marker": {
             "colorbar": {
              "outlinewidth": 0,
              "ticks": ""
             }
            },
            "type": "scattergeo"
           }
          ],
          "scattergl": [
           {
            "marker": {
             "colorbar": {
              "outlinewidth": 0,
              "ticks": ""
             }
            },
            "type": "scattergl"
           }
          ],
          "scattermapbox": [
           {
            "marker": {
             "colorbar": {
              "outlinewidth": 0,
              "ticks": ""
             }
            },
            "type": "scattermapbox"
           }
          ],
          "scatterpolar": [
           {
            "marker": {
             "colorbar": {
              "outlinewidth": 0,
              "ticks": ""
             }
            },
            "type": "scatterpolar"
           }
          ],
          "scatterpolargl": [
           {
            "marker": {
             "colorbar": {
              "outlinewidth": 0,
              "ticks": ""
             }
            },
            "type": "scatterpolargl"
           }
          ],
          "scatterternary": [
           {
            "marker": {
             "colorbar": {
              "outlinewidth": 0,
              "ticks": ""
             }
            },
            "type": "scatterternary"
           }
          ],
          "surface": [
           {
            "colorbar": {
             "outlinewidth": 0,
             "ticks": ""
            },
            "colorscale": [
             [
              0,
              "#0d0887"
             ],
             [
              0.1111111111111111,
              "#46039f"
             ],
             [
              0.2222222222222222,
              "#7201a8"
             ],
             [
              0.3333333333333333,
              "#9c179e"
             ],
             [
              0.4444444444444444,
              "#bd3786"
             ],
             [
              0.5555555555555556,
              "#d8576b"
             ],
             [
              0.6666666666666666,
              "#ed7953"
             ],
             [
              0.7777777777777778,
              "#fb9f3a"
             ],
             [
              0.8888888888888888,
              "#fdca26"
             ],
             [
              1,
              "#f0f921"
             ]
            ],
            "type": "surface"
           }
          ],
          "table": [
           {
            "cells": {
             "fill": {
              "color": "#EBF0F8"
             },
             "line": {
              "color": "white"
             }
            },
            "header": {
             "fill": {
              "color": "#C8D4E3"
             },
             "line": {
              "color": "white"
             }
            },
            "type": "table"
           }
          ]
         },
         "layout": {
          "annotationdefaults": {
           "arrowcolor": "#2a3f5f",
           "arrowhead": 0,
           "arrowwidth": 1
          },
          "autotypenumbers": "strict",
          "coloraxis": {
           "colorbar": {
            "outlinewidth": 0,
            "ticks": ""
           }
          },
          "colorscale": {
           "diverging": [
            [
             0,
             "#8e0152"
            ],
            [
             0.1,
             "#c51b7d"
            ],
            [
             0.2,
             "#de77ae"
            ],
            [
             0.3,
             "#f1b6da"
            ],
            [
             0.4,
             "#fde0ef"
            ],
            [
             0.5,
             "#f7f7f7"
            ],
            [
             0.6,
             "#e6f5d0"
            ],
            [
             0.7,
             "#b8e186"
            ],
            [
             0.8,
             "#7fbc41"
            ],
            [
             0.9,
             "#4d9221"
            ],
            [
             1,
             "#276419"
            ]
           ],
           "sequential": [
            [
             0,
             "#0d0887"
            ],
            [
             0.1111111111111111,
             "#46039f"
            ],
            [
             0.2222222222222222,
             "#7201a8"
            ],
            [
             0.3333333333333333,
             "#9c179e"
            ],
            [
             0.4444444444444444,
             "#bd3786"
            ],
            [
             0.5555555555555556,
             "#d8576b"
            ],
            [
             0.6666666666666666,
             "#ed7953"
            ],
            [
             0.7777777777777778,
             "#fb9f3a"
            ],
            [
             0.8888888888888888,
             "#fdca26"
            ],
            [
             1,
             "#f0f921"
            ]
           ],
           "sequentialminus": [
            [
             0,
             "#0d0887"
            ],
            [
             0.1111111111111111,
             "#46039f"
            ],
            [
             0.2222222222222222,
             "#7201a8"
            ],
            [
             0.3333333333333333,
             "#9c179e"
            ],
            [
             0.4444444444444444,
             "#bd3786"
            ],
            [
             0.5555555555555556,
             "#d8576b"
            ],
            [
             0.6666666666666666,
             "#ed7953"
            ],
            [
             0.7777777777777778,
             "#fb9f3a"
            ],
            [
             0.8888888888888888,
             "#fdca26"
            ],
            [
             1,
             "#f0f921"
            ]
           ]
          },
          "colorway": [
           "#636efa",
           "#EF553B",
           "#00cc96",
           "#ab63fa",
           "#FFA15A",
           "#19d3f3",
           "#FF6692",
           "#B6E880",
           "#FF97FF",
           "#FECB52"
          ],
          "font": {
           "color": "#2a3f5f"
          },
          "geo": {
           "bgcolor": "white",
           "lakecolor": "white",
           "landcolor": "#E5ECF6",
           "showlakes": true,
           "showland": true,
           "subunitcolor": "white"
          },
          "hoverlabel": {
           "align": "left"
          },
          "hovermode": "closest",
          "mapbox": {
           "style": "light"
          },
          "paper_bgcolor": "white",
          "plot_bgcolor": "#E5ECF6",
          "polar": {
           "angularaxis": {
            "gridcolor": "white",
            "linecolor": "white",
            "ticks": ""
           },
           "bgcolor": "#E5ECF6",
           "radialaxis": {
            "gridcolor": "white",
            "linecolor": "white",
            "ticks": ""
           }
          },
          "scene": {
           "xaxis": {
            "backgroundcolor": "#E5ECF6",
            "gridcolor": "white",
            "gridwidth": 2,
            "linecolor": "white",
            "showbackground": true,
            "ticks": "",
            "zerolinecolor": "white"
           },
           "yaxis": {
            "backgroundcolor": "#E5ECF6",
            "gridcolor": "white",
            "gridwidth": 2,
            "linecolor": "white",
            "showbackground": true,
            "ticks": "",
            "zerolinecolor": "white"
           },
           "zaxis": {
            "backgroundcolor": "#E5ECF6",
            "gridcolor": "white",
            "gridwidth": 2,
            "linecolor": "white",
            "showbackground": true,
            "ticks": "",
            "zerolinecolor": "white"
           }
          },
          "shapedefaults": {
           "line": {
            "color": "#2a3f5f"
           }
          },
          "ternary": {
           "aaxis": {
            "gridcolor": "white",
            "linecolor": "white",
            "ticks": ""
           },
           "baxis": {
            "gridcolor": "white",
            "linecolor": "white",
            "ticks": ""
           },
           "bgcolor": "#E5ECF6",
           "caxis": {
            "gridcolor": "white",
            "linecolor": "white",
            "ticks": ""
           }
          },
          "title": {
           "x": 0.05
          },
          "xaxis": {
           "automargin": true,
           "gridcolor": "white",
           "linecolor": "white",
           "ticks": "",
           "title": {
            "standoff": 15
           },
           "zerolinecolor": "white",
           "zerolinewidth": 2
          },
          "yaxis": {
           "automargin": true,
           "gridcolor": "white",
           "linecolor": "white",
           "ticks": "",
           "title": {
            "standoff": 15
           },
           "zerolinecolor": "white",
           "zerolinewidth": 2
          }
         }
        },
        "title": {
         "text": "Transaction Count Over Time"
        },
        "xaxis": {
         "anchor": "y",
         "domain": [
          0,
          1
         ],
         "title": {
          "text": "datetime"
         }
        },
        "yaxis": {
         "anchor": "x",
         "domain": [
          0,
          1
         ],
         "title": {
          "text": "count"
         }
        }
       }
      }
     },
     "metadata": {},
     "output_type": "display_data"
    }
   ],
   "source": [
    "df_datetime_count = df['datetime'].value_counts().reset_index()\n",
    "df_datetime_count.columns = ['datetime', 'count']\n",
    "fig = px.line(df_datetime_count, x='datetime', y='count', title='Transaction Count Over Time')\n",
    "fig.show()"
   ]
  },
  {
   "cell_type": "code",
   "execution_count": 45,
   "metadata": {},
   "outputs": [
    {
     "data": {
      "application/vnd.plotly.v1+json": {
       "config": {
        "plotlyServerURL": "https://plot.ly"
       },
       "data": [
        {
         "alignmentgroup": "True",
         "bingroup": "x",
         "hovertemplate": "cash_type=%{x}<br>count=%{y}<extra></extra>",
         "legendgroup": "",
         "marker": {
          "color": "#636efa",
          "pattern": {
           "shape": ""
          }
         },
         "name": "",
         "offsetgroup": "",
         "orientation": "v",
         "showlegend": false,
         "type": "histogram",
         "x": [
          "card",
          "card",
          "card",
          "card",
          "card",
          "card",
          "card",
          "card",
          "card",
          "card",
          "card",
          "card",
          "cash",
          "card",
          "card",
          "card",
          "card",
          "card",
          "cash",
          "card",
          "card",
          "card",
          "card",
          "card",
          "card",
          "card",
          "card",
          "card",
          "card",
          "card",
          "card",
          "card",
          "card",
          "card",
          "card",
          "card",
          "card",
          "card",
          "card",
          "card",
          "card",
          "cash",
          "card",
          "card",
          "card",
          "card",
          "cash",
          "card",
          "card",
          "cash",
          "card",
          "card",
          "card",
          "card",
          "card",
          "card",
          "card",
          "card",
          "card",
          "card",
          "cash",
          "card",
          "card",
          "card",
          "card",
          "card",
          "card",
          "card",
          "card",
          "card",
          "card",
          "card",
          "card",
          "card",
          "cash",
          "cash",
          "cash",
          "card",
          "cash",
          "card",
          "card",
          "cash",
          "cash",
          "cash",
          "cash",
          "card",
          "card",
          "card",
          "card",
          "cash",
          "card",
          "card",
          "card",
          "card",
          "card",
          "card",
          "card",
          "card",
          "card",
          "card",
          "cash",
          "card",
          "card",
          "card",
          "card",
          "cash",
          "card",
          "card",
          "card",
          "card",
          "card",
          "card",
          "card",
          "card",
          "card",
          "card",
          "card",
          "cash",
          "card",
          "card",
          "card",
          "card",
          "card",
          "card",
          "card",
          "card",
          "cash",
          "card",
          "card",
          "card",
          "card",
          "card",
          "cash",
          "card",
          "card",
          "card",
          "card",
          "cash",
          "card",
          "cash",
          "card",
          "card",
          "card",
          "card",
          "cash",
          "card",
          "card",
          "cash",
          "card",
          "card",
          "card",
          "card",
          "cash",
          "card",
          "card",
          "card",
          "card",
          "card",
          "card",
          "card",
          "card",
          "card",
          "card",
          "card",
          "cash",
          "card",
          "card",
          "cash",
          "card",
          "card",
          "card",
          "card",
          "card",
          "card",
          "card",
          "card",
          "card",
          "card",
          "card",
          "card",
          "card",
          "card",
          "card",
          "card",
          "card",
          "card",
          "card",
          "card",
          "card",
          "card",
          "cash",
          "card",
          "card",
          "card",
          "card",
          "card",
          "card",
          "card",
          "cash",
          "card",
          "cash",
          "card",
          "card",
          "card",
          "card",
          "cash",
          "card",
          "card",
          "card",
          "card",
          "cash",
          "card",
          "card",
          "card",
          "card",
          "card",
          "cash",
          "card",
          "card",
          "card",
          "cash",
          "card",
          "card",
          "card",
          "card",
          "cash",
          "card",
          "card",
          "card",
          "card",
          "card",
          "card",
          "cash",
          "cash",
          "cash",
          "cash",
          "card",
          "card",
          "card",
          "card",
          "card",
          "card",
          "card",
          "card",
          "card",
          "card",
          "card",
          "card",
          "card",
          "card",
          "card",
          "card",
          "cash",
          "cash",
          "card",
          "card",
          "card",
          "card",
          "cash",
          "cash",
          "card",
          "card",
          "card",
          "cash",
          "cash",
          "card",
          "card",
          "card",
          "card",
          "card",
          "card",
          "card",
          "card",
          "card",
          "card",
          "card",
          "card",
          "cash",
          "cash",
          "card",
          "card",
          "card",
          "card",
          "cash",
          "card",
          "cash",
          "cash",
          "cash",
          "card",
          "card",
          "card",
          "card",
          "card",
          "card",
          "card",
          "card",
          "card",
          "card",
          "card",
          "card",
          "cash",
          "cash",
          "card",
          "card",
          "card",
          "card",
          "card",
          "card",
          "card",
          "card",
          "card",
          "cash",
          "card",
          "card",
          "card",
          "card",
          "card",
          "card",
          "card",
          "card",
          "card",
          "card",
          "card",
          "card",
          "card",
          "card",
          "card",
          "card",
          "card",
          "card",
          "card",
          "card",
          "cash",
          "card",
          "card",
          "card",
          "card",
          "card",
          "card",
          "card",
          "card",
          "card",
          "cash",
          "card",
          "card",
          "card",
          "card",
          "card",
          "cash",
          "card",
          "card",
          "cash",
          "card",
          "cash",
          "card",
          "card",
          "card",
          "card",
          "card",
          "card",
          "card",
          "card",
          "card",
          "card",
          "card",
          "card",
          "card",
          "card",
          "card",
          "card",
          "card",
          "card",
          "card",
          "card",
          "card",
          "card",
          "card",
          "card",
          "card",
          "card",
          "card",
          "card",
          "card",
          "card",
          "card",
          "card",
          "card",
          "card",
          "card",
          "card",
          "card",
          "card",
          "card",
          "card",
          "card",
          "card",
          "card",
          "card",
          "card",
          "card",
          "card",
          "card",
          "card",
          "cash",
          "card",
          "card",
          "card",
          "card",
          "card",
          "cash",
          "card",
          "card",
          "card",
          "card",
          "card",
          "card",
          "card",
          "cash",
          "card",
          "card",
          "card",
          "card",
          "card",
          "card",
          "card",
          "card",
          "card",
          "card",
          "card",
          "cash",
          "card",
          "card",
          "card",
          "card",
          "card",
          "card",
          "card",
          "card",
          "card",
          "card",
          "card",
          "card",
          "cash",
          "card",
          "card",
          "cash",
          "card",
          "cash",
          "card",
          "card",
          "card",
          "card",
          "card",
          "card",
          "card",
          "card",
          "card",
          "card",
          "card",
          "card",
          "card",
          "card",
          "card",
          "cash",
          "cash",
          "card",
          "card",
          "card",
          "card",
          "card",
          "card",
          "card",
          "card",
          "card",
          "card",
          "card",
          "card",
          "card",
          "card",
          "card",
          "card",
          "card",
          "card",
          "card",
          "cash",
          "card",
          "card",
          "card",
          "card",
          "card",
          "card",
          "cash",
          "cash",
          "card",
          "card",
          "card",
          "card",
          "card",
          "card",
          "card",
          "cash",
          "card",
          "card",
          "card",
          "card",
          "card",
          "card",
          "card",
          "card",
          "card",
          "card",
          "card",
          "card",
          "card",
          "cash",
          "card",
          "card",
          "card",
          "cash",
          "card",
          "card",
          "card",
          "card",
          "card",
          "card",
          "card",
          "card",
          "card",
          "card",
          "card",
          "card",
          "card",
          "card",
          "card",
          "card",
          "card",
          "card",
          "cash",
          "card",
          "card",
          "card",
          "card",
          "card",
          "card",
          "card",
          "card",
          "cash",
          "cash",
          "cash",
          "cash",
          "card",
          "card",
          "card",
          "card",
          "card",
          "card",
          "card",
          "card",
          "card",
          "card",
          "card",
          "card",
          "card",
          "card",
          "card",
          "card",
          "card",
          "card",
          "card",
          "card",
          "card",
          "card",
          "card",
          "card",
          "card",
          "card",
          "card",
          "card",
          "card",
          "card",
          "cash",
          "card",
          "card",
          "card",
          "card",
          "card",
          "card",
          "card",
          "cash",
          "card",
          "cash",
          "card",
          "card",
          "card",
          "card",
          "card",
          "card",
          "card",
          "card",
          "card",
          "card",
          "card",
          "card",
          "card",
          "card",
          "card",
          "card",
          "card",
          "card",
          "card",
          "card",
          "card",
          "card",
          "card",
          "card",
          "card",
          "card",
          "card",
          "card",
          "card",
          "card",
          "card",
          "card",
          "card",
          "card",
          "card",
          "card",
          "card",
          "cash",
          "card",
          "card",
          "card",
          "card",
          "card",
          "cash",
          "card",
          "card",
          "card",
          "card",
          "card",
          "card",
          "card",
          "card",
          "card",
          "card",
          "card",
          "card",
          "card",
          "card",
          "card",
          "card",
          "card",
          "card",
          "card",
          "card",
          "card",
          "card",
          "cash",
          "card",
          "card",
          "card",
          "card",
          "card",
          "card",
          "card",
          "card",
          "card",
          "card",
          "card",
          "card",
          "card",
          "card",
          "card",
          "card",
          "card",
          "card",
          "card",
          "cash",
          "card",
          "card",
          "card",
          "card",
          "card",
          "card",
          "card",
          "cash",
          "card",
          "card",
          "card",
          "card",
          "card",
          "cash",
          "cash",
          "card",
          "card",
          "card",
          "card",
          "card",
          "card",
          "card",
          "card",
          "card",
          "card",
          "card",
          "card",
          "card",
          "card",
          "card",
          "card",
          "card",
          "card",
          "card",
          "card",
          "card",
          "card",
          "card",
          "card",
          "card",
          "card",
          "card",
          "card",
          "card",
          "card",
          "card",
          "card",
          "card",
          "card",
          "card",
          "card",
          "card",
          "card",
          "card",
          "card",
          "card",
          "card",
          "card",
          "card",
          "card",
          "card",
          "card",
          "card",
          "card",
          "card",
          "card",
          "card",
          "card",
          "card",
          "card",
          "card",
          "card",
          "card",
          "card",
          "card",
          "card",
          "card",
          "card",
          "card",
          "card",
          "card",
          "card",
          "card",
          "card",
          "card",
          "card",
          "card",
          "card",
          "card",
          "card",
          "card",
          "card",
          "card",
          "card",
          "card",
          "card",
          "card",
          "card",
          "card",
          "card",
          "card",
          "card",
          "card",
          "card",
          "card",
          "card",
          "card",
          "card",
          "card",
          "card",
          "card",
          "card",
          "card",
          "card",
          "card",
          "card",
          "card",
          "card",
          "card",
          "card",
          "card",
          "card",
          "card",
          "card",
          "card",
          "card",
          "card",
          "card",
          "card",
          "card",
          "card",
          "card",
          "card",
          "card",
          "card",
          "card",
          "card",
          "card",
          "card",
          "card",
          "card",
          "card",
          "card",
          "card",
          "card",
          "card",
          "card",
          "card",
          "card",
          "card",
          "card",
          "card",
          "card",
          "card",
          "card",
          "card",
          "card",
          "card",
          "card",
          "card",
          "card",
          "card",
          "card",
          "card",
          "card",
          "card",
          "card",
          "card",
          "card",
          "card",
          "card",
          "card",
          "card",
          "card",
          "card",
          "card",
          "card",
          "card",
          "card",
          "card",
          "card",
          "card",
          "card",
          "card",
          "card",
          "card",
          "card",
          "card",
          "card",
          "card",
          "card",
          "card",
          "card",
          "card",
          "card",
          "card",
          "card",
          "card",
          "card",
          "card",
          "card",
          "card",
          "card",
          "card",
          "card",
          "card",
          "card",
          "card",
          "card",
          "card",
          "card",
          "card",
          "card",
          "card",
          "card",
          "card",
          "card",
          "card",
          "card",
          "card",
          "card",
          "card",
          "card",
          "card",
          "card",
          "card",
          "card",
          "card",
          "card",
          "card",
          "card",
          "card",
          "card",
          "card",
          "card",
          "card",
          "card",
          "card",
          "card",
          "card",
          "card",
          "card",
          "card",
          "card",
          "card",
          "card",
          "card",
          "card",
          "card",
          "card",
          "card",
          "card",
          "card",
          "card",
          "card",
          "card",
          "card",
          "card",
          "card",
          "card",
          "card",
          "card",
          "card",
          "card",
          "card",
          "card",
          "card",
          "card",
          "card",
          "card",
          "card",
          "card",
          "card",
          "card",
          "card",
          "card",
          "card",
          "card",
          "card",
          "card",
          "card",
          "card",
          "card",
          "card",
          "card",
          "card",
          "card",
          "card",
          "card",
          "card",
          "card",
          "card",
          "card",
          "card",
          "card",
          "card",
          "card",
          "card"
         ],
         "xaxis": "x",
         "yaxis": "y"
        }
       ],
       "layout": {
        "barmode": "relative",
        "legend": {
         "tracegroupgap": 0
        },
        "template": {
         "data": {
          "bar": [
           {
            "error_x": {
             "color": "#2a3f5f"
            },
            "error_y": {
             "color": "#2a3f5f"
            },
            "marker": {
             "line": {
              "color": "#E5ECF6",
              "width": 0.5
             },
             "pattern": {
              "fillmode": "overlay",
              "size": 10,
              "solidity": 0.2
             }
            },
            "type": "bar"
           }
          ],
          "barpolar": [
           {
            "marker": {
             "line": {
              "color": "#E5ECF6",
              "width": 0.5
             },
             "pattern": {
              "fillmode": "overlay",
              "size": 10,
              "solidity": 0.2
             }
            },
            "type": "barpolar"
           }
          ],
          "carpet": [
           {
            "aaxis": {
             "endlinecolor": "#2a3f5f",
             "gridcolor": "white",
             "linecolor": "white",
             "minorgridcolor": "white",
             "startlinecolor": "#2a3f5f"
            },
            "baxis": {
             "endlinecolor": "#2a3f5f",
             "gridcolor": "white",
             "linecolor": "white",
             "minorgridcolor": "white",
             "startlinecolor": "#2a3f5f"
            },
            "type": "carpet"
           }
          ],
          "choropleth": [
           {
            "colorbar": {
             "outlinewidth": 0,
             "ticks": ""
            },
            "type": "choropleth"
           }
          ],
          "contour": [
           {
            "colorbar": {
             "outlinewidth": 0,
             "ticks": ""
            },
            "colorscale": [
             [
              0,
              "#0d0887"
             ],
             [
              0.1111111111111111,
              "#46039f"
             ],
             [
              0.2222222222222222,
              "#7201a8"
             ],
             [
              0.3333333333333333,
              "#9c179e"
             ],
             [
              0.4444444444444444,
              "#bd3786"
             ],
             [
              0.5555555555555556,
              "#d8576b"
             ],
             [
              0.6666666666666666,
              "#ed7953"
             ],
             [
              0.7777777777777778,
              "#fb9f3a"
             ],
             [
              0.8888888888888888,
              "#fdca26"
             ],
             [
              1,
              "#f0f921"
             ]
            ],
            "type": "contour"
           }
          ],
          "contourcarpet": [
           {
            "colorbar": {
             "outlinewidth": 0,
             "ticks": ""
            },
            "type": "contourcarpet"
           }
          ],
          "heatmap": [
           {
            "colorbar": {
             "outlinewidth": 0,
             "ticks": ""
            },
            "colorscale": [
             [
              0,
              "#0d0887"
             ],
             [
              0.1111111111111111,
              "#46039f"
             ],
             [
              0.2222222222222222,
              "#7201a8"
             ],
             [
              0.3333333333333333,
              "#9c179e"
             ],
             [
              0.4444444444444444,
              "#bd3786"
             ],
             [
              0.5555555555555556,
              "#d8576b"
             ],
             [
              0.6666666666666666,
              "#ed7953"
             ],
             [
              0.7777777777777778,
              "#fb9f3a"
             ],
             [
              0.8888888888888888,
              "#fdca26"
             ],
             [
              1,
              "#f0f921"
             ]
            ],
            "type": "heatmap"
           }
          ],
          "heatmapgl": [
           {
            "colorbar": {
             "outlinewidth": 0,
             "ticks": ""
            },
            "colorscale": [
             [
              0,
              "#0d0887"
             ],
             [
              0.1111111111111111,
              "#46039f"
             ],
             [
              0.2222222222222222,
              "#7201a8"
             ],
             [
              0.3333333333333333,
              "#9c179e"
             ],
             [
              0.4444444444444444,
              "#bd3786"
             ],
             [
              0.5555555555555556,
              "#d8576b"
             ],
             [
              0.6666666666666666,
              "#ed7953"
             ],
             [
              0.7777777777777778,
              "#fb9f3a"
             ],
             [
              0.8888888888888888,
              "#fdca26"
             ],
             [
              1,
              "#f0f921"
             ]
            ],
            "type": "heatmapgl"
           }
          ],
          "histogram": [
           {
            "marker": {
             "pattern": {
              "fillmode": "overlay",
              "size": 10,
              "solidity": 0.2
             }
            },
            "type": "histogram"
           }
          ],
          "histogram2d": [
           {
            "colorbar": {
             "outlinewidth": 0,
             "ticks": ""
            },
            "colorscale": [
             [
              0,
              "#0d0887"
             ],
             [
              0.1111111111111111,
              "#46039f"
             ],
             [
              0.2222222222222222,
              "#7201a8"
             ],
             [
              0.3333333333333333,
              "#9c179e"
             ],
             [
              0.4444444444444444,
              "#bd3786"
             ],
             [
              0.5555555555555556,
              "#d8576b"
             ],
             [
              0.6666666666666666,
              "#ed7953"
             ],
             [
              0.7777777777777778,
              "#fb9f3a"
             ],
             [
              0.8888888888888888,
              "#fdca26"
             ],
             [
              1,
              "#f0f921"
             ]
            ],
            "type": "histogram2d"
           }
          ],
          "histogram2dcontour": [
           {
            "colorbar": {
             "outlinewidth": 0,
             "ticks": ""
            },
            "colorscale": [
             [
              0,
              "#0d0887"
             ],
             [
              0.1111111111111111,
              "#46039f"
             ],
             [
              0.2222222222222222,
              "#7201a8"
             ],
             [
              0.3333333333333333,
              "#9c179e"
             ],
             [
              0.4444444444444444,
              "#bd3786"
             ],
             [
              0.5555555555555556,
              "#d8576b"
             ],
             [
              0.6666666666666666,
              "#ed7953"
             ],
             [
              0.7777777777777778,
              "#fb9f3a"
             ],
             [
              0.8888888888888888,
              "#fdca26"
             ],
             [
              1,
              "#f0f921"
             ]
            ],
            "type": "histogram2dcontour"
           }
          ],
          "mesh3d": [
           {
            "colorbar": {
             "outlinewidth": 0,
             "ticks": ""
            },
            "type": "mesh3d"
           }
          ],
          "parcoords": [
           {
            "line": {
             "colorbar": {
              "outlinewidth": 0,
              "ticks": ""
             }
            },
            "type": "parcoords"
           }
          ],
          "pie": [
           {
            "automargin": true,
            "type": "pie"
           }
          ],
          "scatter": [
           {
            "fillpattern": {
             "fillmode": "overlay",
             "size": 10,
             "solidity": 0.2
            },
            "type": "scatter"
           }
          ],
          "scatter3d": [
           {
            "line": {
             "colorbar": {
              "outlinewidth": 0,
              "ticks": ""
             }
            },
            "marker": {
             "colorbar": {
              "outlinewidth": 0,
              "ticks": ""
             }
            },
            "type": "scatter3d"
           }
          ],
          "scattercarpet": [
           {
            "marker": {
             "colorbar": {
              "outlinewidth": 0,
              "ticks": ""
             }
            },
            "type": "scattercarpet"
           }
          ],
          "scattergeo": [
           {
            "marker": {
             "colorbar": {
              "outlinewidth": 0,
              "ticks": ""
             }
            },
            "type": "scattergeo"
           }
          ],
          "scattergl": [
           {
            "marker": {
             "colorbar": {
              "outlinewidth": 0,
              "ticks": ""
             }
            },
            "type": "scattergl"
           }
          ],
          "scattermapbox": [
           {
            "marker": {
             "colorbar": {
              "outlinewidth": 0,
              "ticks": ""
             }
            },
            "type": "scattermapbox"
           }
          ],
          "scatterpolar": [
           {
            "marker": {
             "colorbar": {
              "outlinewidth": 0,
              "ticks": ""
             }
            },
            "type": "scatterpolar"
           }
          ],
          "scatterpolargl": [
           {
            "marker": {
             "colorbar": {
              "outlinewidth": 0,
              "ticks": ""
             }
            },
            "type": "scatterpolargl"
           }
          ],
          "scatterternary": [
           {
            "marker": {
             "colorbar": {
              "outlinewidth": 0,
              "ticks": ""
             }
            },
            "type": "scatterternary"
           }
          ],
          "surface": [
           {
            "colorbar": {
             "outlinewidth": 0,
             "ticks": ""
            },
            "colorscale": [
             [
              0,
              "#0d0887"
             ],
             [
              0.1111111111111111,
              "#46039f"
             ],
             [
              0.2222222222222222,
              "#7201a8"
             ],
             [
              0.3333333333333333,
              "#9c179e"
             ],
             [
              0.4444444444444444,
              "#bd3786"
             ],
             [
              0.5555555555555556,
              "#d8576b"
             ],
             [
              0.6666666666666666,
              "#ed7953"
             ],
             [
              0.7777777777777778,
              "#fb9f3a"
             ],
             [
              0.8888888888888888,
              "#fdca26"
             ],
             [
              1,
              "#f0f921"
             ]
            ],
            "type": "surface"
           }
          ],
          "table": [
           {
            "cells": {
             "fill": {
              "color": "#EBF0F8"
             },
             "line": {
              "color": "white"
             }
            },
            "header": {
             "fill": {
              "color": "#C8D4E3"
             },
             "line": {
              "color": "white"
             }
            },
            "type": "table"
           }
          ]
         },
         "layout": {
          "annotationdefaults": {
           "arrowcolor": "#2a3f5f",
           "arrowhead": 0,
           "arrowwidth": 1
          },
          "autotypenumbers": "strict",
          "coloraxis": {
           "colorbar": {
            "outlinewidth": 0,
            "ticks": ""
           }
          },
          "colorscale": {
           "diverging": [
            [
             0,
             "#8e0152"
            ],
            [
             0.1,
             "#c51b7d"
            ],
            [
             0.2,
             "#de77ae"
            ],
            [
             0.3,
             "#f1b6da"
            ],
            [
             0.4,
             "#fde0ef"
            ],
            [
             0.5,
             "#f7f7f7"
            ],
            [
             0.6,
             "#e6f5d0"
            ],
            [
             0.7,
             "#b8e186"
            ],
            [
             0.8,
             "#7fbc41"
            ],
            [
             0.9,
             "#4d9221"
            ],
            [
             1,
             "#276419"
            ]
           ],
           "sequential": [
            [
             0,
             "#0d0887"
            ],
            [
             0.1111111111111111,
             "#46039f"
            ],
            [
             0.2222222222222222,
             "#7201a8"
            ],
            [
             0.3333333333333333,
             "#9c179e"
            ],
            [
             0.4444444444444444,
             "#bd3786"
            ],
            [
             0.5555555555555556,
             "#d8576b"
            ],
            [
             0.6666666666666666,
             "#ed7953"
            ],
            [
             0.7777777777777778,
             "#fb9f3a"
            ],
            [
             0.8888888888888888,
             "#fdca26"
            ],
            [
             1,
             "#f0f921"
            ]
           ],
           "sequentialminus": [
            [
             0,
             "#0d0887"
            ],
            [
             0.1111111111111111,
             "#46039f"
            ],
            [
             0.2222222222222222,
             "#7201a8"
            ],
            [
             0.3333333333333333,
             "#9c179e"
            ],
            [
             0.4444444444444444,
             "#bd3786"
            ],
            [
             0.5555555555555556,
             "#d8576b"
            ],
            [
             0.6666666666666666,
             "#ed7953"
            ],
            [
             0.7777777777777778,
             "#fb9f3a"
            ],
            [
             0.8888888888888888,
             "#fdca26"
            ],
            [
             1,
             "#f0f921"
            ]
           ]
          },
          "colorway": [
           "#636efa",
           "#EF553B",
           "#00cc96",
           "#ab63fa",
           "#FFA15A",
           "#19d3f3",
           "#FF6692",
           "#B6E880",
           "#FF97FF",
           "#FECB52"
          ],
          "font": {
           "color": "#2a3f5f"
          },
          "geo": {
           "bgcolor": "white",
           "lakecolor": "white",
           "landcolor": "#E5ECF6",
           "showlakes": true,
           "showland": true,
           "subunitcolor": "white"
          },
          "hoverlabel": {
           "align": "left"
          },
          "hovermode": "closest",
          "mapbox": {
           "style": "light"
          },
          "paper_bgcolor": "white",
          "plot_bgcolor": "#E5ECF6",
          "polar": {
           "angularaxis": {
            "gridcolor": "white",
            "linecolor": "white",
            "ticks": ""
           },
           "bgcolor": "#E5ECF6",
           "radialaxis": {
            "gridcolor": "white",
            "linecolor": "white",
            "ticks": ""
           }
          },
          "scene": {
           "xaxis": {
            "backgroundcolor": "#E5ECF6",
            "gridcolor": "white",
            "gridwidth": 2,
            "linecolor": "white",
            "showbackground": true,
            "ticks": "",
            "zerolinecolor": "white"
           },
           "yaxis": {
            "backgroundcolor": "#E5ECF6",
            "gridcolor": "white",
            "gridwidth": 2,
            "linecolor": "white",
            "showbackground": true,
            "ticks": "",
            "zerolinecolor": "white"
           },
           "zaxis": {
            "backgroundcolor": "#E5ECF6",
            "gridcolor": "white",
            "gridwidth": 2,
            "linecolor": "white",
            "showbackground": true,
            "ticks": "",
            "zerolinecolor": "white"
           }
          },
          "shapedefaults": {
           "line": {
            "color": "#2a3f5f"
           }
          },
          "ternary": {
           "aaxis": {
            "gridcolor": "white",
            "linecolor": "white",
            "ticks": ""
           },
           "baxis": {
            "gridcolor": "white",
            "linecolor": "white",
            "ticks": ""
           },
           "bgcolor": "#E5ECF6",
           "caxis": {
            "gridcolor": "white",
            "linecolor": "white",
            "ticks": ""
           }
          },
          "title": {
           "x": 0.05
          },
          "xaxis": {
           "automargin": true,
           "gridcolor": "white",
           "linecolor": "white",
           "ticks": "",
           "title": {
            "standoff": 15
           },
           "zerolinecolor": "white",
           "zerolinewidth": 2
          },
          "yaxis": {
           "automargin": true,
           "gridcolor": "white",
           "linecolor": "white",
           "ticks": "",
           "title": {
            "standoff": 15
           },
           "zerolinecolor": "white",
           "zerolinewidth": 2
          }
         }
        },
        "title": {
         "text": "Distribution of Cash Types"
        },
        "xaxis": {
         "anchor": "y",
         "domain": [
          0,
          1
         ],
         "title": {
          "text": "cash_type"
         }
        },
        "yaxis": {
         "anchor": "x",
         "domain": [
          0,
          1
         ],
         "title": {
          "text": "count"
         }
        }
       }
      }
     },
     "metadata": {},
     "output_type": "display_data"
    }
   ],
   "source": [
    "fig = px.histogram(df, x='cash_type', title='Distribution of Cash Types')\n",
    "fig.show()"
   ]
  },
  {
   "cell_type": "code",
   "execution_count": 46,
   "metadata": {},
   "outputs": [
    {
     "data": {
      "application/vnd.plotly.v1+json": {
       "config": {
        "plotlyServerURL": "https://plot.ly"
       },
       "data": [
        {
         "alignmentgroup": "True",
         "bingroup": "x",
         "hovertemplate": "money=%{x}<br>count=%{y}<extra></extra>",
         "legendgroup": "",
         "marker": {
          "color": "#636efa",
          "pattern": {
           "shape": ""
          }
         },
         "name": "",
         "nbinsx": 50,
         "offsetgroup": "",
         "orientation": "v",
         "showlegend": false,
         "type": "histogram",
         "x": [
          38.7,
          38.7,
          38.7,
          28.9,
          38.7,
          33.8,
          38.7,
          33.8,
          38.7,
          33.8,
          33.8,
          28.9,
          40,
          33.8,
          33.8,
          28.9,
          33.8,
          28.9,
          40,
          38.7,
          28.9,
          28.9,
          38.7,
          38.7,
          28.9,
          33.8,
          33.8,
          38.7,
          38.7,
          38.7,
          33.8,
          24,
          38.7,
          38.7,
          38.7,
          38.7,
          38.7,
          38.7,
          38.7,
          28.9,
          38.7,
          35,
          28.9,
          28.9,
          38.7,
          38.7,
          40,
          38.7,
          38.7,
          40,
          28.9,
          33.8,
          28.9,
          38.7,
          28.9,
          28.9,
          28.9,
          33.8,
          38.7,
          38.7,
          40,
          24,
          28.9,
          38.7,
          28.9,
          28.9,
          38.7,
          33.8,
          28.9,
          38.7,
          33.8,
          38.7,
          38.7,
          38.7,
          30,
          35,
          40,
          24,
          35,
          38.7,
          28.9,
          40,
          40,
          30,
          30,
          38.7,
          28.9,
          38.7,
          28.9,
          40,
          28.9,
          28.9,
          38.7,
          33.8,
          28.9,
          28.9,
          38.7,
          28.9,
          28.9,
          28.9,
          25,
          33.8,
          24,
          24,
          24,
          40,
          38.7,
          38.7,
          28.9,
          28.9,
          33.8,
          24,
          38.7,
          33.8,
          24,
          38.7,
          28.9,
          40,
          38.7,
          28.9,
          33.8,
          28.9,
          28.9,
          28.9,
          28.9,
          33.8,
          40,
          28.9,
          28.9,
          28.9,
          28.9,
          28.9,
          30,
          38.7,
          38.7,
          38.7,
          33.8,
          40,
          28.9,
          40,
          28.9,
          38.7,
          38.7,
          38.7,
          40,
          28.9,
          38.7,
          30,
          28.9,
          38.7,
          33.8,
          33.8,
          40,
          28.9,
          24,
          28.9,
          38.7,
          33.8,
          38.7,
          38.7,
          33.8,
          38.7,
          33.8,
          28.9,
          40,
          38.7,
          38.7,
          35,
          38.7,
          38.7,
          33.8,
          38.7,
          38.7,
          38.7,
          38.7,
          28.9,
          28.9,
          28.9,
          28.9,
          28.9,
          38.7,
          38.7,
          38.7,
          28.9,
          33.8,
          33.8,
          38.7,
          38.7,
          28.9,
          28.9,
          40,
          28.9,
          28.9,
          28.9,
          38.7,
          38.7,
          38.7,
          38.7,
          40,
          38.7,
          40,
          38.7,
          38.7,
          33.8,
          38.7,
          30,
          28.9,
          33.8,
          33.8,
          33.8,
          40,
          33.8,
          38.7,
          38.7,
          28.9,
          28.9,
          40,
          28.9,
          28.9,
          38.7,
          30,
          38.7,
          38.7,
          38.7,
          28.9,
          40,
          28.9,
          28.9,
          28.9,
          33.8,
          38.7,
          28.9,
          40,
          40,
          30,
          40,
          24,
          33.8,
          38.7,
          28.9,
          38.7,
          38.7,
          38.7,
          38.7,
          28.9,
          24,
          38.7,
          33.8,
          33.8,
          38.7,
          28.9,
          38.7,
          25,
          35,
          38.7,
          28.9,
          33.8,
          38.7,
          40,
          30,
          38.7,
          38.7,
          38.7,
          25,
          40,
          24,
          38.7,
          38.7,
          28.9,
          28.9,
          38.7,
          38.7,
          33.8,
          38.7,
          28.9,
          38.7,
          28.9,
          40,
          40,
          38.7,
          38.7,
          38.7,
          38.7,
          40,
          38.7,
          30,
          30,
          35,
          28.9,
          28.9,
          28.9,
          28.9,
          38.7,
          28.9,
          38.7,
          38.7,
          28.9,
          28.9,
          33.8,
          33.8,
          25,
          35,
          33.8,
          38.7,
          28.9,
          28.9,
          33.8,
          38.7,
          38.7,
          28.9,
          24,
          40,
          38.7,
          38.7,
          28.9,
          28.9,
          28.9,
          33.8,
          28.9,
          38.7,
          38.7,
          38.7,
          38.7,
          38.7,
          38.7,
          38.7,
          33.8,
          38.7,
          38.7,
          38.7,
          38.7,
          33.8,
          35,
          33.8,
          33.8,
          28.9,
          33.8,
          38.7,
          38.7,
          33.8,
          32.82,
          32.82,
          39,
          37.72,
          37.72,
          37.72,
          37.72,
          27.92,
          39,
          27.92,
          32.82,
          39,
          37.72,
          39,
          37.72,
          32.82,
          37.72,
          32.82,
          32.82,
          37.72,
          32.82,
          32.82,
          32.82,
          32.82,
          32.82,
          32.82,
          37.72,
          27.92,
          37.72,
          27.92,
          27.92,
          37.72,
          37.72,
          37.72,
          27.92,
          27.92,
          27.92,
          27.92,
          37.72,
          37.72,
          37.72,
          37.72,
          37.72,
          27.92,
          27.92,
          37.72,
          27.92,
          27.92,
          27.92,
          27.92,
          32.82,
          37.72,
          37.72,
          37.72,
          37.72,
          32.82,
          32.82,
          27.92,
          32.82,
          37.72,
          32.82,
          37.72,
          27.92,
          39,
          32.82,
          37.72,
          32.82,
          37.72,
          37.72,
          39,
          37.72,
          37.72,
          27.92,
          37.72,
          32.82,
          27.92,
          27.92,
          29,
          27.92,
          27.92,
          37.72,
          37.72,
          37.72,
          27.92,
          27.92,
          37.72,
          27.92,
          37.72,
          37.72,
          34,
          37.72,
          37.72,
          37.72,
          37.72,
          27.92,
          37.72,
          37.72,
          37.72,
          27.92,
          27.92,
          27.92,
          32.82,
          39,
          37.72,
          37.72,
          34,
          37.72,
          39,
          32.82,
          37.72,
          37.72,
          32.82,
          37.72,
          37.72,
          37.72,
          37.72,
          27.92,
          37.72,
          32.82,
          32.82,
          32.82,
          32.82,
          32.82,
          29,
          29,
          27.92,
          27.92,
          27.92,
          37.72,
          37.72,
          37.72,
          37.72,
          32.82,
          27.92,
          32.82,
          37.72,
          37.72,
          37.72,
          23.02,
          27.92,
          27.92,
          27.92,
          27.92,
          32.82,
          29,
          27.92,
          27.92,
          23.02,
          37.72,
          32.82,
          32.82,
          39,
          39,
          32.82,
          37.72,
          37.72,
          37.72,
          37.72,
          27.92,
          32.82,
          34,
          32.82,
          37.72,
          37.72,
          27.92,
          37.72,
          37.72,
          37.72,
          37.72,
          32.82,
          32.82,
          32.82,
          32.82,
          37.72,
          39,
          27.92,
          27.92,
          37.72,
          24,
          32.82,
          27.92,
          32.82,
          32.82,
          23.02,
          37.72,
          37.72,
          37.72,
          37.72,
          32.82,
          37.72,
          37.72,
          27.92,
          27.92,
          27.92,
          27.92,
          32.82,
          37.72,
          29,
          37.72,
          37.72,
          32.82,
          37.72,
          27.92,
          32.82,
          32.82,
          37.72,
          29,
          34,
          39,
          39,
          37.72,
          23.02,
          37.72,
          37.72,
          37.72,
          32.82,
          27.92,
          32.82,
          27.92,
          27.92,
          32.82,
          37.72,
          37.72,
          37.72,
          37.72,
          37.72,
          23.02,
          37.72,
          37.72,
          37.72,
          37.72,
          37.72,
          37.72,
          27.92,
          37.72,
          37.72,
          37.72,
          37.72,
          37.72,
          32.82,
          39,
          27.92,
          27.92,
          27.92,
          37.72,
          27.92,
          27.92,
          32.82,
          29,
          37.72,
          29,
          32.82,
          32.82,
          32.82,
          32.82,
          27.92,
          37.72,
          32.82,
          27.92,
          32.82,
          37.72,
          37.72,
          37.72,
          27.92,
          37.72,
          37.72,
          37.72,
          27.92,
          37.72,
          37.72,
          37.72,
          27.92,
          32.82,
          37.72,
          27.92,
          27.92,
          37.72,
          27.92,
          37.72,
          37.72,
          32.82,
          37.72,
          32.82,
          32.82,
          37.72,
          37.72,
          37.72,
          27.92,
          39,
          27.92,
          37.72,
          32.82,
          27.92,
          37.72,
          39,
          37.72,
          27.92,
          37.72,
          37.72,
          37.72,
          27.92,
          37.72,
          37.72,
          37.72,
          37.72,
          37.72,
          32.82,
          37.72,
          32.82,
          23.02,
          23.02,
          37.72,
          37.72,
          37.72,
          32.82,
          32.82,
          37.72,
          39,
          37.72,
          37.72,
          32.82,
          37.72,
          37.72,
          37.72,
          32.82,
          37.72,
          37.72,
          32.82,
          27.92,
          27.92,
          37.72,
          37.72,
          32.82,
          32.82,
          32.82,
          37.72,
          37.72,
          39,
          37.72,
          32.82,
          37.72,
          32.82,
          37.72,
          32.82,
          37.72,
          34,
          37.72,
          37.72,
          37.72,
          32.82,
          37.72,
          34,
          34,
          27.92,
          32.82,
          37.72,
          37.72,
          37.72,
          27.92,
          37.72,
          37.72,
          37.72,
          27.92,
          32.82,
          32.82,
          32.82,
          32.82,
          37.72,
          37.72,
          27.92,
          37.72,
          32.82,
          32.82,
          37.72,
          37.72,
          27.92,
          32.82,
          32.82,
          37.72,
          27.92,
          32.82,
          37.72,
          37.72,
          37.72,
          37.72,
          32.82,
          37.72,
          37.72,
          23.02,
          32.82,
          27.92,
          27.92,
          27.92,
          32.82,
          37.72,
          37.72,
          37.72,
          37.72,
          37.72,
          27.92,
          23.02,
          37.72,
          32.82,
          37.72,
          37.72,
          27.92,
          37.72,
          32.82,
          27.92,
          37.72,
          37.72,
          37.72,
          37.72,
          37.72,
          37.72,
          32.82,
          37.72,
          37.72,
          37.72,
          32.82,
          32.82,
          37.72,
          37.72,
          37.72,
          37.72,
          37.72,
          32.82,
          27.92,
          37.72,
          32.82,
          27.92,
          32.82,
          37.72,
          37.72,
          32.82,
          23.02,
          23.02,
          32.82,
          32.82,
          27.92,
          27.92,
          37.72,
          32.82,
          37.72,
          37.72,
          32.82,
          23.02,
          37.72,
          32.82,
          32.82,
          27.92,
          32.82,
          37.72,
          37.72,
          37.72,
          32.82,
          23.02,
          32.82,
          32.82,
          37.72,
          37.72,
          32.82,
          32.82,
          27.92,
          27.92,
          27.92,
          37.72,
          37.72,
          37.72,
          37.72,
          27.92,
          27.92,
          32.82,
          27.92,
          37.72,
          37.72,
          37.72,
          27.92,
          32.82,
          32.82,
          37.72,
          27.92,
          27.92,
          37.72,
          37.72,
          32.82,
          37.72,
          37.72,
          32.82,
          37.72,
          32.82,
          37.72,
          37.72,
          37.72,
          37.72,
          37.72,
          32.82,
          37.72,
          27.92,
          32.82,
          32.82,
          23.02,
          37.72,
          37.72,
          37.72,
          37.72,
          37.72,
          27.92,
          32.82,
          27.92,
          32.82,
          32.82,
          37.72,
          37.72,
          32.82,
          32.82,
          37.72,
          37.72,
          37.72,
          32.82,
          37.72,
          37.72,
          37.72,
          37.72,
          37.72,
          37.72,
          32.82,
          32.82,
          37.72,
          37.72,
          23.02,
          27.92,
          37.72,
          37.72,
          32.82,
          32.82,
          27.92,
          32.82,
          37.72,
          27.92,
          23.02,
          32.82,
          37.72,
          37.72,
          32.82,
          32.82,
          32.82,
          37.72,
          37.72,
          37.72,
          37.72,
          37.72,
          37.72,
          23.02,
          37.72,
          32.82,
          23.02,
          37.72,
          37.72,
          32.82,
          27.92,
          37.72,
          27.92,
          32.82,
          32.82,
          32.82,
          37.72,
          37.72,
          32.82,
          32.82,
          37.72,
          23.02,
          37.72,
          37.72,
          32.82,
          27.92,
          37.72,
          32.82,
          32.82,
          23.02,
          27.92,
          23.02,
          27.92,
          27.92,
          37.72,
          32.82,
          37.72,
          32.82,
          32.82,
          32.82,
          27.92,
          32.82,
          27.92,
          27.92,
          32.82,
          32.82,
          32.82,
          32.82,
          32.82,
          32.82,
          32.82,
          27.92,
          32.82,
          23.02,
          23.02,
          27.92,
          32.82,
          27.92,
          27.92,
          27.92,
          32.82,
          27.92,
          23.02,
          27.92,
          32.82,
          32.82,
          27.92,
          32.82,
          23.02,
          23.02,
          32.82,
          32.82,
          32.82,
          32.82,
          32.82,
          32.82,
          23.02,
          27.92,
          32.82,
          32.82,
          23.02,
          32.82,
          32.82,
          27.92,
          32.82,
          27.92
         ],
         "xaxis": "x",
         "yaxis": "y"
        }
       ],
       "layout": {
        "barmode": "relative",
        "legend": {
         "tracegroupgap": 0
        },
        "template": {
         "data": {
          "bar": [
           {
            "error_x": {
             "color": "#2a3f5f"
            },
            "error_y": {
             "color": "#2a3f5f"
            },
            "marker": {
             "line": {
              "color": "#E5ECF6",
              "width": 0.5
             },
             "pattern": {
              "fillmode": "overlay",
              "size": 10,
              "solidity": 0.2
             }
            },
            "type": "bar"
           }
          ],
          "barpolar": [
           {
            "marker": {
             "line": {
              "color": "#E5ECF6",
              "width": 0.5
             },
             "pattern": {
              "fillmode": "overlay",
              "size": 10,
              "solidity": 0.2
             }
            },
            "type": "barpolar"
           }
          ],
          "carpet": [
           {
            "aaxis": {
             "endlinecolor": "#2a3f5f",
             "gridcolor": "white",
             "linecolor": "white",
             "minorgridcolor": "white",
             "startlinecolor": "#2a3f5f"
            },
            "baxis": {
             "endlinecolor": "#2a3f5f",
             "gridcolor": "white",
             "linecolor": "white",
             "minorgridcolor": "white",
             "startlinecolor": "#2a3f5f"
            },
            "type": "carpet"
           }
          ],
          "choropleth": [
           {
            "colorbar": {
             "outlinewidth": 0,
             "ticks": ""
            },
            "type": "choropleth"
           }
          ],
          "contour": [
           {
            "colorbar": {
             "outlinewidth": 0,
             "ticks": ""
            },
            "colorscale": [
             [
              0,
              "#0d0887"
             ],
             [
              0.1111111111111111,
              "#46039f"
             ],
             [
              0.2222222222222222,
              "#7201a8"
             ],
             [
              0.3333333333333333,
              "#9c179e"
             ],
             [
              0.4444444444444444,
              "#bd3786"
             ],
             [
              0.5555555555555556,
              "#d8576b"
             ],
             [
              0.6666666666666666,
              "#ed7953"
             ],
             [
              0.7777777777777778,
              "#fb9f3a"
             ],
             [
              0.8888888888888888,
              "#fdca26"
             ],
             [
              1,
              "#f0f921"
             ]
            ],
            "type": "contour"
           }
          ],
          "contourcarpet": [
           {
            "colorbar": {
             "outlinewidth": 0,
             "ticks": ""
            },
            "type": "contourcarpet"
           }
          ],
          "heatmap": [
           {
            "colorbar": {
             "outlinewidth": 0,
             "ticks": ""
            },
            "colorscale": [
             [
              0,
              "#0d0887"
             ],
             [
              0.1111111111111111,
              "#46039f"
             ],
             [
              0.2222222222222222,
              "#7201a8"
             ],
             [
              0.3333333333333333,
              "#9c179e"
             ],
             [
              0.4444444444444444,
              "#bd3786"
             ],
             [
              0.5555555555555556,
              "#d8576b"
             ],
             [
              0.6666666666666666,
              "#ed7953"
             ],
             [
              0.7777777777777778,
              "#fb9f3a"
             ],
             [
              0.8888888888888888,
              "#fdca26"
             ],
             [
              1,
              "#f0f921"
             ]
            ],
            "type": "heatmap"
           }
          ],
          "heatmapgl": [
           {
            "colorbar": {
             "outlinewidth": 0,
             "ticks": ""
            },
            "colorscale": [
             [
              0,
              "#0d0887"
             ],
             [
              0.1111111111111111,
              "#46039f"
             ],
             [
              0.2222222222222222,
              "#7201a8"
             ],
             [
              0.3333333333333333,
              "#9c179e"
             ],
             [
              0.4444444444444444,
              "#bd3786"
             ],
             [
              0.5555555555555556,
              "#d8576b"
             ],
             [
              0.6666666666666666,
              "#ed7953"
             ],
             [
              0.7777777777777778,
              "#fb9f3a"
             ],
             [
              0.8888888888888888,
              "#fdca26"
             ],
             [
              1,
              "#f0f921"
             ]
            ],
            "type": "heatmapgl"
           }
          ],
          "histogram": [
           {
            "marker": {
             "pattern": {
              "fillmode": "overlay",
              "size": 10,
              "solidity": 0.2
             }
            },
            "type": "histogram"
           }
          ],
          "histogram2d": [
           {
            "colorbar": {
             "outlinewidth": 0,
             "ticks": ""
            },
            "colorscale": [
             [
              0,
              "#0d0887"
             ],
             [
              0.1111111111111111,
              "#46039f"
             ],
             [
              0.2222222222222222,
              "#7201a8"
             ],
             [
              0.3333333333333333,
              "#9c179e"
             ],
             [
              0.4444444444444444,
              "#bd3786"
             ],
             [
              0.5555555555555556,
              "#d8576b"
             ],
             [
              0.6666666666666666,
              "#ed7953"
             ],
             [
              0.7777777777777778,
              "#fb9f3a"
             ],
             [
              0.8888888888888888,
              "#fdca26"
             ],
             [
              1,
              "#f0f921"
             ]
            ],
            "type": "histogram2d"
           }
          ],
          "histogram2dcontour": [
           {
            "colorbar": {
             "outlinewidth": 0,
             "ticks": ""
            },
            "colorscale": [
             [
              0,
              "#0d0887"
             ],
             [
              0.1111111111111111,
              "#46039f"
             ],
             [
              0.2222222222222222,
              "#7201a8"
             ],
             [
              0.3333333333333333,
              "#9c179e"
             ],
             [
              0.4444444444444444,
              "#bd3786"
             ],
             [
              0.5555555555555556,
              "#d8576b"
             ],
             [
              0.6666666666666666,
              "#ed7953"
             ],
             [
              0.7777777777777778,
              "#fb9f3a"
             ],
             [
              0.8888888888888888,
              "#fdca26"
             ],
             [
              1,
              "#f0f921"
             ]
            ],
            "type": "histogram2dcontour"
           }
          ],
          "mesh3d": [
           {
            "colorbar": {
             "outlinewidth": 0,
             "ticks": ""
            },
            "type": "mesh3d"
           }
          ],
          "parcoords": [
           {
            "line": {
             "colorbar": {
              "outlinewidth": 0,
              "ticks": ""
             }
            },
            "type": "parcoords"
           }
          ],
          "pie": [
           {
            "automargin": true,
            "type": "pie"
           }
          ],
          "scatter": [
           {
            "fillpattern": {
             "fillmode": "overlay",
             "size": 10,
             "solidity": 0.2
            },
            "type": "scatter"
           }
          ],
          "scatter3d": [
           {
            "line": {
             "colorbar": {
              "outlinewidth": 0,
              "ticks": ""
             }
            },
            "marker": {
             "colorbar": {
              "outlinewidth": 0,
              "ticks": ""
             }
            },
            "type": "scatter3d"
           }
          ],
          "scattercarpet": [
           {
            "marker": {
             "colorbar": {
              "outlinewidth": 0,
              "ticks": ""
             }
            },
            "type": "scattercarpet"
           }
          ],
          "scattergeo": [
           {
            "marker": {
             "colorbar": {
              "outlinewidth": 0,
              "ticks": ""
             }
            },
            "type": "scattergeo"
           }
          ],
          "scattergl": [
           {
            "marker": {
             "colorbar": {
              "outlinewidth": 0,
              "ticks": ""
             }
            },
            "type": "scattergl"
           }
          ],
          "scattermapbox": [
           {
            "marker": {
             "colorbar": {
              "outlinewidth": 0,
              "ticks": ""
             }
            },
            "type": "scattermapbox"
           }
          ],
          "scatterpolar": [
           {
            "marker": {
             "colorbar": {
              "outlinewidth": 0,
              "ticks": ""
             }
            },
            "type": "scatterpolar"
           }
          ],
          "scatterpolargl": [
           {
            "marker": {
             "colorbar": {
              "outlinewidth": 0,
              "ticks": ""
             }
            },
            "type": "scatterpolargl"
           }
          ],
          "scatterternary": [
           {
            "marker": {
             "colorbar": {
              "outlinewidth": 0,
              "ticks": ""
             }
            },
            "type": "scatterternary"
           }
          ],
          "surface": [
           {
            "colorbar": {
             "outlinewidth": 0,
             "ticks": ""
            },
            "colorscale": [
             [
              0,
              "#0d0887"
             ],
             [
              0.1111111111111111,
              "#46039f"
             ],
             [
              0.2222222222222222,
              "#7201a8"
             ],
             [
              0.3333333333333333,
              "#9c179e"
             ],
             [
              0.4444444444444444,
              "#bd3786"
             ],
             [
              0.5555555555555556,
              "#d8576b"
             ],
             [
              0.6666666666666666,
              "#ed7953"
             ],
             [
              0.7777777777777778,
              "#fb9f3a"
             ],
             [
              0.8888888888888888,
              "#fdca26"
             ],
             [
              1,
              "#f0f921"
             ]
            ],
            "type": "surface"
           }
          ],
          "table": [
           {
            "cells": {
             "fill": {
              "color": "#EBF0F8"
             },
             "line": {
              "color": "white"
             }
            },
            "header": {
             "fill": {
              "color": "#C8D4E3"
             },
             "line": {
              "color": "white"
             }
            },
            "type": "table"
           }
          ]
         },
         "layout": {
          "annotationdefaults": {
           "arrowcolor": "#2a3f5f",
           "arrowhead": 0,
           "arrowwidth": 1
          },
          "autotypenumbers": "strict",
          "coloraxis": {
           "colorbar": {
            "outlinewidth": 0,
            "ticks": ""
           }
          },
          "colorscale": {
           "diverging": [
            [
             0,
             "#8e0152"
            ],
            [
             0.1,
             "#c51b7d"
            ],
            [
             0.2,
             "#de77ae"
            ],
            [
             0.3,
             "#f1b6da"
            ],
            [
             0.4,
             "#fde0ef"
            ],
            [
             0.5,
             "#f7f7f7"
            ],
            [
             0.6,
             "#e6f5d0"
            ],
            [
             0.7,
             "#b8e186"
            ],
            [
             0.8,
             "#7fbc41"
            ],
            [
             0.9,
             "#4d9221"
            ],
            [
             1,
             "#276419"
            ]
           ],
           "sequential": [
            [
             0,
             "#0d0887"
            ],
            [
             0.1111111111111111,
             "#46039f"
            ],
            [
             0.2222222222222222,
             "#7201a8"
            ],
            [
             0.3333333333333333,
             "#9c179e"
            ],
            [
             0.4444444444444444,
             "#bd3786"
            ],
            [
             0.5555555555555556,
             "#d8576b"
            ],
            [
             0.6666666666666666,
             "#ed7953"
            ],
            [
             0.7777777777777778,
             "#fb9f3a"
            ],
            [
             0.8888888888888888,
             "#fdca26"
            ],
            [
             1,
             "#f0f921"
            ]
           ],
           "sequentialminus": [
            [
             0,
             "#0d0887"
            ],
            [
             0.1111111111111111,
             "#46039f"
            ],
            [
             0.2222222222222222,
             "#7201a8"
            ],
            [
             0.3333333333333333,
             "#9c179e"
            ],
            [
             0.4444444444444444,
             "#bd3786"
            ],
            [
             0.5555555555555556,
             "#d8576b"
            ],
            [
             0.6666666666666666,
             "#ed7953"
            ],
            [
             0.7777777777777778,
             "#fb9f3a"
            ],
            [
             0.8888888888888888,
             "#fdca26"
            ],
            [
             1,
             "#f0f921"
            ]
           ]
          },
          "colorway": [
           "#636efa",
           "#EF553B",
           "#00cc96",
           "#ab63fa",
           "#FFA15A",
           "#19d3f3",
           "#FF6692",
           "#B6E880",
           "#FF97FF",
           "#FECB52"
          ],
          "font": {
           "color": "#2a3f5f"
          },
          "geo": {
           "bgcolor": "white",
           "lakecolor": "white",
           "landcolor": "#E5ECF6",
           "showlakes": true,
           "showland": true,
           "subunitcolor": "white"
          },
          "hoverlabel": {
           "align": "left"
          },
          "hovermode": "closest",
          "mapbox": {
           "style": "light"
          },
          "paper_bgcolor": "white",
          "plot_bgcolor": "#E5ECF6",
          "polar": {
           "angularaxis": {
            "gridcolor": "white",
            "linecolor": "white",
            "ticks": ""
           },
           "bgcolor": "#E5ECF6",
           "radialaxis": {
            "gridcolor": "white",
            "linecolor": "white",
            "ticks": ""
           }
          },
          "scene": {
           "xaxis": {
            "backgroundcolor": "#E5ECF6",
            "gridcolor": "white",
            "gridwidth": 2,
            "linecolor": "white",
            "showbackground": true,
            "ticks": "",
            "zerolinecolor": "white"
           },
           "yaxis": {
            "backgroundcolor": "#E5ECF6",
            "gridcolor": "white",
            "gridwidth": 2,
            "linecolor": "white",
            "showbackground": true,
            "ticks": "",
            "zerolinecolor": "white"
           },
           "zaxis": {
            "backgroundcolor": "#E5ECF6",
            "gridcolor": "white",
            "gridwidth": 2,
            "linecolor": "white",
            "showbackground": true,
            "ticks": "",
            "zerolinecolor": "white"
           }
          },
          "shapedefaults": {
           "line": {
            "color": "#2a3f5f"
           }
          },
          "ternary": {
           "aaxis": {
            "gridcolor": "white",
            "linecolor": "white",
            "ticks": ""
           },
           "baxis": {
            "gridcolor": "white",
            "linecolor": "white",
            "ticks": ""
           },
           "bgcolor": "#E5ECF6",
           "caxis": {
            "gridcolor": "white",
            "linecolor": "white",
            "ticks": ""
           }
          },
          "title": {
           "x": 0.05
          },
          "xaxis": {
           "automargin": true,
           "gridcolor": "white",
           "linecolor": "white",
           "ticks": "",
           "title": {
            "standoff": 15
           },
           "zerolinecolor": "white",
           "zerolinewidth": 2
          },
          "yaxis": {
           "automargin": true,
           "gridcolor": "white",
           "linecolor": "white",
           "ticks": "",
           "title": {
            "standoff": 15
           },
           "zerolinecolor": "white",
           "zerolinewidth": 2
          }
         }
        },
        "title": {
         "text": "Distribution of Money Spent"
        },
        "xaxis": {
         "anchor": "y",
         "domain": [
          0,
          1
         ],
         "title": {
          "text": "money"
         }
        },
        "yaxis": {
         "anchor": "x",
         "domain": [
          0,
          1
         ],
         "title": {
          "text": "count"
         }
        }
       }
      }
     },
     "metadata": {},
     "output_type": "display_data"
    }
   ],
   "source": [
    "fig = px.histogram(df, x='money', nbins=50, title='Distribution of Money Spent')\n",
    "fig.show()\n"
   ]
  },
  {
   "cell_type": "markdown",
   "metadata": {},
   "source": [
    "# bivariate analysis visualizations"
   ]
  },
  {
   "cell_type": "code",
   "execution_count": 47,
   "metadata": {},
   "outputs": [
    {
     "data": {
      "application/vnd.plotly.v1+json": {
       "config": {
        "plotlyServerURL": "https://plot.ly"
       },
       "data": [
        {
         "hovertemplate": "datetime=%{x}<br>money=%{y}<extra></extra>",
         "legendgroup": "",
         "marker": {
          "color": "#636efa",
          "symbol": "circle"
         },
         "mode": "markers",
         "name": "",
         "orientation": "v",
         "showlegend": false,
         "type": "scatter",
         "x": [
          "2024-03-01T10:15:00",
          "2024-03-01T12:19:00",
          "2024-03-01T12:20:00",
          "2024-03-01T13:46:00",
          "2024-03-01T13:48:00",
          "2024-03-01T15:39:00",
          "2024-03-01T16:19:00",
          "2024-03-01T18:39:00",
          "2024-03-01T19:22:00",
          "2024-03-01T19:23:00",
          "2024-03-01T19:29:00",
          "2024-03-02T10:22:00",
          "2024-03-02T10:30:00",
          "2024-03-02T10:41:00",
          "2024-03-02T11:59:00",
          "2024-03-02T14:38:00",
          "2024-03-02T16:37:00",
          "2024-03-02T17:34:00",
          "2024-03-03T10:10:00",
          "2024-03-03T10:27:00",
          "2024-03-03T11:33:00",
          "2024-03-03T12:26:00",
          "2024-03-03T13:09:00",
          "2024-03-03T17:06:00",
          "2024-03-03T17:08:00",
          "2024-03-03T18:03:00",
          "2024-03-03T18:04:00",
          "2024-03-03T18:08:00",
          "2024-03-04T10:03:00",
          "2024-03-04T10:54:00",
          "2024-03-04T11:05:00",
          "2024-03-04T14:04:00",
          "2024-03-05T09:59:00",
          "2024-03-05T14:34:00",
          "2024-03-05T17:34:00",
          "2024-03-05T17:35:00",
          "2024-03-05T17:36:00",
          "2024-03-05T17:37:00",
          "2024-03-05T17:38:00",
          "2024-03-05T17:56:00",
          "2024-03-05T18:01:00",
          "2024-03-06T12:30:00",
          "2024-03-06T13:24:00",
          "2024-03-06T13:25:00",
          "2024-03-06T14:52:00",
          "2024-03-06T14:53:00",
          "2024-03-07T10:08:00",
          "2024-03-07T10:18:00",
          "2024-03-07T11:03:00",
          "2024-03-07T11:25:00",
          "2024-03-07T15:40:00",
          "2024-03-07T15:41:00",
          "2024-03-08T10:34:00",
          "2024-03-08T12:22:00",
          "2024-03-08T13:53:00",
          "2024-03-08T14:44:00",
          "2024-03-08T14:45:00",
          "2024-03-08T14:46:00",
          "2024-03-08T18:57:00",
          "2024-03-08T18:59:00",
          "2024-03-09T11:49:00",
          "2024-03-09T12:05:00",
          "2024-03-09T12:07:00",
          "2024-03-09T12:09:00",
          "2024-03-09T12:13:00",
          "2024-03-09T12:14:00",
          "2024-03-09T13:09:00",
          "2024-03-09T13:41:00",
          "2024-03-09T13:53:00",
          "2024-03-09T13:54:00",
          "2024-03-09T14:08:00",
          "2024-03-09T14:26:00",
          "2024-03-09T19:17:00",
          "2024-03-09T19:19:00",
          "2024-03-10T07:44:00",
          "2024-03-10T07:45:00",
          "2024-03-10T10:06:00",
          "2024-03-10T11:19:00",
          "2024-03-10T17:51:00",
          "2024-03-10T19:34:00",
          "2024-03-10T19:35:00",
          "2024-03-11T10:18:00",
          "2024-03-11T11:24:00",
          "2024-03-11T11:24:00",
          "2024-03-11T11:26:00",
          "2024-03-11T11:32:00",
          "2024-03-11T16:24:00",
          "2024-03-11T16:25:00",
          "2024-03-11T16:50:00",
          "2024-03-12T10:15:00",
          "2024-03-12T10:15:00",
          "2024-03-12T10:16:00",
          "2024-03-12T11:20:00",
          "2024-03-12T12:46:00",
          "2024-03-12T12:47:00",
          "2024-03-12T16:15:00",
          "2024-03-13T11:06:00",
          "2024-03-13T11:48:00",
          "2024-03-13T12:18:00",
          "2024-03-13T12:19:00",
          "2024-03-13T12:34:00",
          "2024-03-13T14:26:00",
          "2024-03-13T15:40:00",
          "2024-03-13T15:41:00",
          "2024-03-13T16:47:00",
          "2024-03-14T10:02:00",
          "2024-03-14T10:28:00",
          "2024-03-14T10:29:00",
          "2024-03-14T13:27:00",
          "2024-03-14T13:28:00",
          "2024-03-14T13:51:00",
          "2024-03-14T13:52:00",
          "2024-03-14T15:20:00",
          "2024-03-14T16:04:00",
          "2024-03-14T16:54:00",
          "2024-03-14T18:58:00",
          "2024-03-14T19:00:00",
          "2024-03-15T10:02:00",
          "2024-03-15T10:53:00",
          "2024-03-15T18:19:00",
          "2024-03-16T12:06:00",
          "2024-03-16T12:07:00",
          "2024-03-16T15:58:00",
          "2024-03-16T16:03:00",
          "2024-03-16T16:04:00",
          "2024-03-16T17:58:00",
          "2024-03-17T10:10:00",
          "2024-03-17T12:55:00",
          "2024-03-18T11:17:00",
          "2024-03-18T15:31:00",
          "2024-03-18T15:32:00",
          "2024-03-18T15:33:00",
          "2024-03-19T10:20:00",
          "2024-03-19T14:02:00",
          "2024-03-19T14:03:00",
          "2024-03-19T15:04:00",
          "2024-03-19T16:53:00",
          "2024-03-19T19:26:00",
          "2024-03-20T11:41:00",
          "2024-03-20T12:21:00",
          "2024-03-20T12:30:00",
          "2024-03-20T13:16:00",
          "2024-03-20T16:42:00",
          "2024-03-20T17:50:00",
          "2024-03-21T10:18:00",
          "2024-03-21T12:25:00",
          "2024-03-21T12:26:00",
          "2024-03-21T17:21:00",
          "2024-03-21T17:22:00",
          "2024-03-21T19:20:00",
          "2024-03-22T10:35:00",
          "2024-03-22T13:29:00",
          "2024-03-22T16:15:00",
          "2024-03-22T17:17:00",
          "2024-03-22T17:17:00",
          "2024-03-22T17:20:00",
          "2024-03-23T10:43:00",
          "2024-03-23T10:45:00",
          "2024-03-23T13:10:00",
          "2024-03-23T13:11:00",
          "2024-03-23T14:44:00",
          "2024-03-23T15:47:00",
          "2024-03-23T15:49:00",
          "2024-03-23T16:00:00",
          "2024-03-24T10:03:00",
          "2024-03-24T18:45:00",
          "2024-03-25T10:31:00",
          "2024-03-25T11:16:00",
          "2024-03-25T14:27:00",
          "2024-03-25T14:29:00",
          "2024-03-25T18:37:00",
          "2024-03-25T19:34:00",
          "2024-03-26T10:35:00",
          "2024-03-26T10:36:00",
          "2024-03-26T10:42:00",
          "2024-03-26T11:11:00",
          "2024-03-26T13:35:00",
          "2024-03-26T13:36:00",
          "2024-03-26T13:37:00",
          "2024-03-26T13:57:00",
          "2024-03-26T15:48:00",
          "2024-03-26T18:33:00",
          "2024-03-26T18:34:00",
          "2024-03-27T11:04:00",
          "2024-03-27T11:05:00",
          "2024-03-27T12:57:00",
          "2024-03-27T13:35:00",
          "2024-03-27T14:22:00",
          "2024-03-27T14:23:00",
          "2024-03-27T18:30:00",
          "2024-03-27T19:31:00",
          "2024-03-28T14:24:00",
          "2024-03-28T17:24:00",
          "2024-03-28T17:27:00",
          "2024-03-28T17:32:00",
          "2024-03-29T10:56:00",
          "2024-03-29T12:34:00",
          "2024-03-29T12:41:00",
          "2024-03-29T13:22:00",
          "2024-03-30T11:59:00",
          "2024-03-30T13:49:00",
          "2024-03-30T16:12:00",
          "2024-03-30T16:36:00",
          "2024-03-30T16:37:00",
          "2024-03-31T10:40:00",
          "2024-03-31T19:36:00",
          "2024-04-01T10:28:00",
          "2024-04-01T10:29:00",
          "2024-04-01T10:30:00",
          "2024-04-01T11:15:00",
          "2024-04-01T17:01:00",
          "2024-04-01T18:18:00",
          "2024-04-01T18:45:00",
          "2024-04-02T10:01:00",
          "2024-04-02T16:18:00",
          "2024-04-02T16:19:00",
          "2024-04-02T19:59:00",
          "2024-04-03T10:19:00",
          "2024-04-03T10:20:00",
          "2024-04-03T13:12:00",
          "2024-04-03T15:36:00",
          "2024-04-04T10:44:00",
          "2024-04-04T11:26:00",
          "2024-04-04T11:27:00",
          "2024-04-04T12:23:00",
          "2024-04-04T19:42:00",
          "2024-04-05T10:40:00",
          "2024-04-05T10:42:00",
          "2024-04-05T11:06:00",
          "2024-04-05T12:14:00",
          "2024-04-05T14:23:00",
          "2024-04-05T14:24:00",
          "2024-04-05T15:30:00",
          "2024-04-05T15:54:00",
          "2024-04-05T15:55:00",
          "2024-04-05T16:17:00",
          "2024-04-05T16:18:00",
          "2024-04-06T12:32:00",
          "2024-04-06T14:13:00",
          "2024-04-06T14:14:00",
          "2024-04-06T14:49:00",
          "2024-04-07T10:12:00",
          "2024-04-07T12:44:00",
          "2024-04-07T12:46:00",
          "2024-04-07T14:16:00",
          "2024-04-07T14:17:00",
          "2024-04-07T18:01:00",
          "2024-04-07T18:02:00",
          "2024-04-08T10:58:00",
          "2024-04-08T10:59:00",
          "2024-04-08T11:01:00",
          "2024-04-08T11:04:00",
          "2024-04-08T12:54:00",
          "2024-04-08T15:43:00",
          "2024-04-08T16:41:00",
          "2024-04-08T18:18:00",
          "2024-04-08T19:22:00",
          "2024-04-08T19:23:00",
          "2024-04-09T10:22:00",
          "2024-04-09T10:24:00",
          "2024-04-09T11:42:00",
          "2024-04-09T15:11:00",
          "2024-04-09T17:25:00",
          "2024-04-10T10:21:00",
          "2024-04-10T17:55:00",
          "2024-04-10T17:55:00",
          "2024-04-10T18:24:00",
          "2024-04-10T20:04:00",
          "2024-04-11T10:41:00",
          "2024-04-11T10:42:00",
          "2024-04-11T16:35:00",
          "2024-04-11T19:16:00",
          "2024-04-11T19:18:00",
          "2024-04-12T19:03:00",
          "2024-04-12T19:38:00",
          "2024-04-13T12:29:00",
          "2024-04-13T12:43:00",
          "2024-04-13T15:06:00",
          "2024-04-13T15:07:00",
          "2024-04-13T16:18:00",
          "2024-04-13T16:19:00",
          "2024-04-13T17:51:00",
          "2024-04-13T17:53:00",
          "2024-04-14T10:55:00",
          "2024-04-14T12:24:00",
          "2024-04-14T12:27:00",
          "2024-04-14T12:29:00",
          "2024-04-14T12:31:00",
          "2024-04-14T13:21:00",
          "2024-04-14T14:23:00",
          "2024-04-14T14:24:00",
          "2024-04-14T14:25:00",
          "2024-04-14T15:46:00",
          "2024-04-14T16:59:00",
          "2024-04-14T17:00:00",
          "2024-04-14T18:38:00",
          "2024-04-15T11:45:00",
          "2024-04-15T17:01:00",
          "2024-04-15T17:02:00",
          "2024-04-15T19:33:00",
          "2024-04-15T19:41:00",
          "2024-04-16T10:43:00",
          "2024-04-16T10:46:00",
          "2024-04-16T12:40:00",
          "2024-04-16T12:52:00",
          "2024-04-16T15:03:00",
          "2024-04-16T17:42:00",
          "2024-04-16T17:43:00",
          "2024-04-16T18:09:00",
          "2024-04-17T13:32:00",
          "2024-04-17T13:44:00",
          "2024-04-17T16:13:00",
          "2024-04-17T17:01:00",
          "2024-04-17T17:02:00",
          "2024-04-17T18:14:00",
          "2024-04-18T11:19:00",
          "2024-04-18T11:20:00",
          "2024-04-18T13:49:00",
          "2024-04-18T13:50:00",
          "2024-04-18T14:34:00",
          "2024-04-18T14:35:00",
          "2024-04-18T17:44:00",
          "2024-04-18T18:21:00",
          "2024-04-18T19:39:00",
          "2024-04-18T19:40:00",
          "2024-04-19T10:10:00",
          "2024-04-19T13:11:00",
          "2024-04-19T13:13:00",
          "2024-04-19T13:58:00",
          "2024-04-19T13:59:00",
          "2024-04-19T18:23:00",
          "2024-04-19T18:25:00",
          "2024-04-20T11:24:00",
          "2024-04-20T12:08:00",
          "2024-04-20T12:09:00",
          "2024-04-20T13:08:00",
          "2024-04-20T13:09:00",
          "2024-04-20T13:10:00",
          "2024-04-20T14:44:00",
          "2024-04-20T15:11:00",
          "2024-04-20T15:22:00",
          "2024-04-20T15:49:00",
          "2024-04-20T17:07:00",
          "2024-04-20T18:27:00",
          "2024-04-20T18:28:00",
          "2024-04-20T19:30:00",
          "2024-04-21T11:16:00",
          "2024-04-21T14:15:00",
          "2024-04-21T17:09:00",
          "2024-04-22T11:09:00",
          "2024-04-22T11:29:00",
          "2024-04-22T18:40:00",
          "2024-04-22T19:39:00",
          "2024-04-22T20:02:00",
          "2024-04-23T14:22:00",
          "2024-04-23T14:23:00",
          "2024-04-23T14:24:00",
          "2024-04-23T19:42:00",
          "2024-04-23T19:43:00",
          "2024-04-24T10:19:00",
          "2024-04-24T10:21:00",
          "2024-04-24T11:23:00",
          "2024-04-24T11:33:00",
          "2024-04-24T12:39:00",
          "2024-04-24T16:39:00",
          "2024-04-24T19:39:00",
          "2024-04-24T19:40:00",
          "2024-04-25T10:46:00",
          "2024-04-25T15:18:00",
          "2024-04-25T17:09:00",
          "2024-04-25T17:10:00",
          "2024-04-26T10:12:00",
          "2024-04-26T12:01:00",
          "2024-04-26T13:31:00",
          "2024-04-26T15:32:00",
          "2024-04-26T15:33:00",
          "2024-04-26T16:23:00",
          "2024-04-26T16:24:00",
          "2024-04-26T19:32:00",
          "2024-04-26T19:33:00",
          "2024-04-27T15:27:00",
          "2024-04-28T10:32:00",
          "2024-04-28T12:30:00",
          "2024-04-28T18:27:00",
          "2024-04-28T18:28:00",
          "2024-04-28T18:29:00",
          "2024-04-29T11:26:00",
          "2024-04-29T13:27:00",
          "2024-04-29T13:28:00",
          "2024-04-29T13:53:00",
          "2024-04-29T13:54:00",
          "2024-04-29T18:37:00",
          "2024-04-29T19:12:00",
          "2024-04-29T19:13:00",
          "2024-04-30T10:16:00",
          "2024-04-30T10:34:00",
          "2024-04-30T10:35:00",
          "2024-04-30T13:41:00",
          "2024-04-30T13:42:00",
          "2024-04-30T19:19:00",
          "2024-04-30T19:30:00",
          "2024-04-30T19:31:00",
          "2024-05-02T10:33:00",
          "2024-05-02T11:29:00",
          "2024-05-02T13:49:00",
          "2024-05-02T18:36:00",
          "2024-05-02T18:41:00",
          "2024-05-02T19:18:00",
          "2024-05-02T19:19:00",
          "2024-05-03T10:11:00",
          "2024-05-03T14:30:00",
          "2024-05-03T17:03:00",
          "2024-05-06T10:05:00",
          "2024-05-06T10:06:00",
          "2024-05-06T10:08:00",
          "2024-05-06T10:09:00",
          "2024-05-06T10:39:00",
          "2024-05-06T11:34:00",
          "2024-05-06T13:18:00",
          "2024-05-06T13:19:00",
          "2024-05-06T19:18:00",
          "2024-05-06T19:19:00",
          "2024-05-07T10:44:00",
          "2024-05-07T11:21:00",
          "2024-05-07T13:23:00",
          "2024-05-07T16:42:00",
          "2024-05-07T16:55:00",
          "2024-05-07T17:37:00",
          "2024-05-07T17:38:00",
          "2024-05-07T18:35:00",
          "2024-05-07T19:12:00",
          "2024-05-07T19:13:00",
          "2024-05-08T10:07:00",
          "2024-05-09T12:54:00",
          "2024-05-09T13:03:00",
          "2024-05-09T13:04:00",
          "2024-05-09T13:06:00",
          "2024-05-09T13:07:00",
          "2024-05-09T16:55:00",
          "2024-05-09T16:56:00",
          "2024-05-09T18:01:00",
          "2024-05-09T18:13:00",
          "2024-05-10T10:09:00",
          "2024-05-10T15:46:00",
          "2024-05-10T15:47:00",
          "2024-05-10T16:20:00",
          "2024-05-11T11:39:00",
          "2024-05-11T17:02:00",
          "2024-05-11T17:20:00",
          "2024-05-11T17:21:00",
          "2024-05-11T17:23:00",
          "2024-05-11T17:28:00",
          "2024-05-11T18:35:00",
          "2024-05-11T19:38:00",
          "2024-05-12T10:20:00",
          "2024-05-12T13:24:00",
          "2024-05-12T13:27:00",
          "2024-05-12T15:16:00",
          "2024-05-12T15:38:00",
          "2024-05-12T15:52:00",
          "2024-05-12T16:04:00",
          "2024-05-12T19:41:00",
          "2024-05-13T11:03:00",
          "2024-05-13T15:31:00",
          "2024-05-13T15:31:00",
          "2024-05-14T08:38:00",
          "2024-05-14T08:39:00",
          "2024-05-14T08:40:00",
          "2024-05-14T10:19:00",
          "2024-05-14T11:32:00",
          "2024-05-14T11:34:00",
          "2024-05-14T14:04:00",
          "2024-05-14T14:06:00",
          "2024-05-14T15:01:00",
          "2024-05-14T16:57:00",
          "2024-05-14T16:59:00",
          "2024-05-14T22:51:00",
          "2024-05-15T08:40:00",
          "2024-05-15T11:14:00",
          "2024-05-15T11:19:00",
          "2024-05-15T13:34:00",
          "2024-05-15T13:35:00",
          "2024-05-15T13:36:00",
          "2024-05-15T13:55:00",
          "2024-05-15T14:38:00",
          "2024-05-15T14:38:00",
          "2024-05-15T14:39:00",
          "2024-05-15T17:28:00",
          "2024-05-15T20:20:00",
          "2024-05-16T10:38:00",
          "2024-05-16T10:39:00",
          "2024-05-16T11:42:00",
          "2024-05-16T11:44:00",
          "2024-05-16T12:14:00",
          "2024-05-16T15:15:00",
          "2024-05-16T17:44:00",
          "2024-05-16T18:12:00",
          "2024-05-16T18:13:00",
          "2024-05-17T09:00:00",
          "2024-05-17T11:30:00",
          "2024-05-17T14:58:00",
          "2024-05-17T19:55:00",
          "2024-05-17T19:56:00",
          "2024-05-17T20:37:00",
          "2024-05-17T22:34:00",
          "2024-05-17T22:36:00",
          "2024-05-17T22:37:00",
          "2024-05-18T08:01:00",
          "2024-05-18T08:02:00",
          "2024-05-18T11:15:00",
          "2024-05-18T16:48:00",
          "2024-05-18T16:49:00",
          "2024-05-18T19:58:00",
          "2024-05-18T20:22:00",
          "2024-05-18T22:05:00",
          "2024-05-19T07:58:00",
          "2024-05-19T07:59:00",
          "2024-05-19T08:00:00",
          "2024-05-19T09:28:00",
          "2024-05-19T12:14:00",
          "2024-05-19T14:43:00",
          "2024-05-19T15:58:00",
          "2024-05-19T18:12:00",
          "2024-05-19T18:13:00",
          "2024-05-19T18:16:00",
          "2024-05-19T19:51:00",
          "2024-05-19T21:15:00",
          "2024-05-19T21:18:00",
          "2024-05-20T10:05:00",
          "2024-05-20T10:17:00",
          "2024-05-20T10:58:00",
          "2024-05-20T11:15:00",
          "2024-05-20T11:16:00",
          "2024-05-20T13:27:00",
          "2024-05-20T13:28:00",
          "2024-05-20T14:13:00",
          "2024-05-20T14:14:00",
          "2024-05-20T14:32:00",
          "2024-05-20T17:12:00",
          "2024-05-20T17:13:00",
          "2024-05-20T20:36:00",
          "2024-05-20T20:37:00",
          "2024-05-20T20:46:00",
          "2024-05-20T21:36:00",
          "2024-05-20T21:37:00",
          "2024-05-21T08:27:00",
          "2024-05-21T09:43:00",
          "2024-05-21T09:44:00",
          "2024-05-21T09:46:00",
          "2024-05-21T10:05:00",
          "2024-05-21T16:10:00",
          "2024-05-21T18:13:00",
          "2024-05-21T19:11:00",
          "2024-05-21T20:13:00",
          "2024-05-22T09:34:00",
          "2024-05-22T10:49:00",
          "2024-05-22T11:18:00",
          "2024-05-22T11:34:00",
          "2024-05-22T12:29:00",
          "2024-05-22T12:30:00",
          "2024-05-22T14:00:00",
          "2024-05-22T19:24:00",
          "2024-05-22T19:25:00",
          "2024-05-22T21:23:00",
          "2024-05-22T21:24:00",
          "2024-05-23T10:10:00",
          "2024-05-23T12:22:00",
          "2024-05-23T15:55:00",
          "2024-05-23T15:56:00",
          "2024-05-23T16:18:00",
          "2024-05-23T16:41:00",
          "2024-05-23T17:14:00",
          "2024-05-23T17:15:00",
          "2024-05-23T19:03:00",
          "2024-05-23T19:17:00",
          "2024-05-23T19:18:00",
          "2024-05-23T19:42:00",
          "2024-05-23T20:15:00",
          "2024-05-23T20:16:00",
          "2024-05-23T22:48:00",
          "2024-05-23T22:55:00",
          "2024-05-24T11:11:00",
          "2024-05-24T11:15:00",
          "2024-05-24T11:16:00",
          "2024-05-24T16:07:00",
          "2024-05-24T18:17:00",
          "2024-05-24T18:18:00",
          "2024-05-24T22:30:00",
          "2024-05-25T07:40:00",
          "2024-05-25T12:13:00",
          "2024-05-25T12:40:00",
          "2024-05-25T12:42:00",
          "2024-05-25T12:43:00",
          "2024-05-25T12:58:00",
          "2024-05-25T16:47:00",
          "2024-05-25T16:48:00",
          "2024-05-26T10:20:00",
          "2024-05-26T14:24:00",
          "2024-05-26T14:26:00",
          "2024-05-26T14:40:00",
          "2024-05-26T17:19:00",
          "2024-05-26T18:09:00",
          "2024-05-26T18:11:00",
          "2024-05-26T18:13:00",
          "2024-05-26T18:39:00",
          "2024-05-26T20:59:00",
          "2024-05-26T21:00:00",
          "2024-05-26T21:02:00",
          "2024-05-26T21:03:00",
          "2024-05-26T21:04:00",
          "2024-05-26T21:06:00",
          "2024-05-27T11:34:00",
          "2024-05-27T14:05:00",
          "2024-05-27T14:06:00",
          "2024-05-27T15:11:00",
          "2024-05-27T15:14:00",
          "2024-05-27T17:50:00",
          "2024-05-27T18:00:00",
          "2024-05-27T19:16:00",
          "2024-05-27T19:17:00",
          "2024-05-27T21:29:00",
          "2024-05-27T21:30:00",
          "2024-05-28T08:37:00",
          "2024-05-28T09:20:00",
          "2024-05-28T11:48:00",
          "2024-05-28T13:14:00",
          "2024-05-28T14:10:00",
          "2024-05-28T16:25:00",
          "2024-05-28T17:21:00",
          "2024-05-28T19:09:00",
          "2024-05-28T19:10:00",
          "2024-05-28T20:24:00",
          "2024-05-28T20:50:00",
          "2024-05-29T09:14:00",
          "2024-05-29T10:48:00",
          "2024-05-29T11:14:00",
          "2024-05-29T15:10:00",
          "2024-05-29T15:22:00",
          "2024-05-29T15:45:00",
          "2024-05-29T16:45:00",
          "2024-05-29T18:24:00",
          "2024-05-29T18:24:00",
          "2024-05-29T20:30:00",
          "2024-05-29T20:32:00",
          "2024-05-30T08:29:00",
          "2024-05-30T08:30:00",
          "2024-05-30T08:37:00",
          "2024-05-30T09:47:00",
          "2024-05-30T14:56:00",
          "2024-05-30T15:16:00",
          "2024-05-30T15:17:00",
          "2024-05-30T19:53:00",
          "2024-05-30T20:31:00",
          "2024-05-30T20:46:00",
          "2024-05-30T20:47:00",
          "2024-05-31T07:53:00",
          "2024-05-31T09:21:00",
          "2024-05-31T09:23:00",
          "2024-05-31T10:38:00",
          "2024-05-31T10:39:00",
          "2024-05-31T14:50:00",
          "2024-05-31T18:23:00",
          "2024-05-31T18:25:00",
          "2024-05-31T20:06:00",
          "2024-05-31T20:33:00",
          "2024-05-31T20:34:00",
          "2024-05-31T22:05:00",
          "2024-05-31T22:06:00",
          "2024-05-31T22:07:00",
          "2024-06-01T08:27:00",
          "2024-06-01T09:48:00",
          "2024-06-01T11:38:00",
          "2024-06-01T14:28:00",
          "2024-06-01T18:20:00",
          "2024-06-01T18:21:00",
          "2024-06-01T20:50:00",
          "2024-06-01T20:51:00",
          "2024-06-01T20:54:00",
          "2024-06-01T20:59:00",
          "2024-06-01T21:51:00",
          "2024-06-02T20:03:00",
          "2024-06-02T20:24:00",
          "2024-06-02T20:25:00",
          "2024-06-02T21:07:00",
          "2024-06-02T21:30:00",
          "2024-06-02T22:43:00",
          "2024-06-03T10:12:00",
          "2024-06-03T10:27:00",
          "2024-06-03T14:31:00",
          "2024-06-03T14:33:00",
          "2024-06-03T14:34:00",
          "2024-06-03T21:42:00",
          "2024-06-03T21:43:00",
          "2024-06-04T09:23:00",
          "2024-06-04T10:27:00",
          "2024-06-04T12:02:00",
          "2024-06-04T12:05:00",
          "2024-06-04T15:30:00",
          "2024-06-04T17:46:00",
          "2024-06-04T17:47:00",
          "2024-06-04T20:13:00",
          "2024-06-04T20:50:00",
          "2024-06-04T21:31:00",
          "2024-06-04T21:33:00",
          "2024-06-04T21:34:00",
          "2024-06-04T21:36:00",
          "2024-06-04T21:37:00",
          "2024-06-05T08:21:00",
          "2024-06-05T08:23:00",
          "2024-06-05T09:22:00",
          "2024-06-05T10:28:00",
          "2024-06-05T10:40:00",
          "2024-06-05T19:43:00",
          "2024-06-05T19:59:00",
          "2024-06-05T20:10:00",
          "2024-06-05T20:12:00",
          "2024-06-06T08:52:00",
          "2024-06-06T08:54:00",
          "2024-06-06T10:36:00",
          "2024-06-06T12:17:00",
          "2024-06-06T15:11:00",
          "2024-06-06T15:24:00",
          "2024-06-06T21:14:00",
          "2024-06-06T21:15:00",
          "2024-06-06T21:18:00",
          "2024-06-06T21:19:00",
          "2024-06-06T21:21:00",
          "2024-06-07T08:18:00",
          "2024-06-07T10:35:00",
          "2024-06-07T13:34:00",
          "2024-06-07T16:45:00",
          "2024-06-07T16:47:00",
          "2024-06-08T09:04:00",
          "2024-06-08T09:26:00",
          "2024-06-08T20:24:00",
          "2024-06-08T20:25:00",
          "2024-06-09T08:15:00",
          "2024-06-09T10:30:00",
          "2024-06-09T10:52:00",
          "2024-06-09T11:04:00",
          "2024-06-09T11:07:00",
          "2024-06-09T11:52:00",
          "2024-06-09T12:11:00",
          "2024-06-09T12:13:00",
          "2024-06-09T12:14:00",
          "2024-06-09T15:10:00",
          "2024-06-09T16:17:00",
          "2024-06-09T19:21:00",
          "2024-06-09T21:05:00",
          "2024-06-10T12:47:00",
          "2024-06-10T12:56:00",
          "2024-06-10T19:04:00",
          "2024-06-10T19:05:00",
          "2024-06-10T19:37:00",
          "2024-06-10T19:38:00",
          "2024-06-11T10:38:00",
          "2024-06-11T18:48:00",
          "2024-06-11T18:49:00",
          "2024-06-11T21:17:00",
          "2024-06-11T21:27:00",
          "2024-06-11T21:28:00",
          "2024-06-12T10:18:00",
          "2024-06-12T11:51:00",
          "2024-06-12T17:41:00",
          "2024-06-12T17:47:00",
          "2024-06-12T20:16:00",
          "2024-06-12T20:25:00",
          "2024-06-13T08:54:00",
          "2024-06-13T08:57:00",
          "2024-06-13T09:50:00",
          "2024-06-13T09:57:00",
          "2024-06-13T17:04:00",
          "2024-06-13T17:27:00",
          "2024-06-13T19:22:00",
          "2024-06-13T20:20:00",
          "2024-06-13T20:43:00",
          "2024-06-13T20:45:00",
          "2024-06-13T20:48:00",
          "2024-06-13T21:02:00",
          "2024-06-14T07:46:00",
          "2024-06-14T10:30:00",
          "2024-06-14T12:14:00",
          "2024-06-14T18:29:00",
          "2024-06-15T11:26:00",
          "2024-06-15T12:21:00",
          "2024-06-15T12:22:00",
          "2024-06-15T12:23:00",
          "2024-06-15T12:24:00",
          "2024-06-15T12:25:00",
          "2024-06-15T16:03:00",
          "2024-06-15T18:14:00",
          "2024-06-16T10:43:00",
          "2024-06-16T10:58:00",
          "2024-06-16T11:00:00",
          "2024-06-16T11:01:00",
          "2024-06-16T12:49:00",
          "2024-06-16T14:00:00",
          "2024-06-16T15:02:00",
          "2024-06-16T15:05:00",
          "2024-06-16T15:43:00",
          "2024-06-16T16:47:00",
          "2024-06-16T17:45:00",
          "2024-06-16T17:46:00",
          "2024-06-17T08:57:00",
          "2024-06-17T10:12:00",
          "2024-06-17T10:13:00",
          "2024-06-17T10:55:00",
          "2024-06-17T14:51:00",
          "2024-06-17T16:50:00",
          "2024-06-17T16:51:00",
          "2024-06-17T16:52:00",
          "2024-06-17T18:51:00",
          "2024-06-17T21:16:00",
          "2024-06-18T14:04:00",
          "2024-06-18T14:05:00",
          "2024-06-18T19:20:00",
          "2024-06-18T19:21:00",
          "2024-06-18T20:35:00",
          "2024-06-18T21:20:00",
          "2024-06-18T21:22:00",
          "2024-06-19T07:47:00",
          "2024-06-19T08:17:00",
          "2024-06-19T10:54:00",
          "2024-06-19T11:11:00",
          "2024-06-19T11:12:00",
          "2024-06-19T14:21:00",
          "2024-06-19T18:28:00",
          "2024-06-19T18:29:00",
          "2024-06-19T19:31:00",
          "2024-06-19T21:28:00",
          "2024-06-19T21:30:00",
          "2024-06-20T10:50:00",
          "2024-06-20T18:59:00",
          "2024-06-20T19:00:00",
          "2024-06-20T21:39:00",
          "2024-06-20T21:57:00",
          "2024-06-20T21:59:00",
          "2024-06-21T09:59:00",
          "2024-06-21T10:01:00",
          "2024-06-21T13:19:00",
          "2024-06-21T13:20:00",
          "2024-06-21T18:12:00",
          "2024-06-21T19:30:00",
          "2024-06-21T19:47:00",
          "2024-06-21T19:48:00",
          "2024-06-21T19:49:00",
          "2024-06-21T19:51:00",
          "2024-06-21T19:52:00",
          "2024-06-21T19:55:00",
          "2024-06-22T08:39:00",
          "2024-06-22T09:37:00",
          "2024-06-22T12:53:00",
          "2024-06-22T15:37:00",
          "2024-06-22T22:10:00",
          "2024-06-23T18:12:00",
          "2024-06-23T18:13:00",
          "2024-06-23T21:06:00",
          "2024-06-23T21:29:00",
          "2024-06-23T21:30:00",
          "2024-06-24T11:44:00",
          "2024-06-24T11:49:00",
          "2024-06-24T11:50:00",
          "2024-06-24T15:02:00",
          "2024-06-24T16:46:00",
          "2024-06-24T16:47:00",
          "2024-06-25T08:19:00",
          "2024-06-25T10:28:00",
          "2024-06-25T10:29:00",
          "2024-06-25T11:34:00",
          "2024-06-26T09:33:00",
          "2024-06-26T16:32:00",
          "2024-06-26T16:34:00",
          "2024-06-26T21:21:00",
          "2024-06-26T21:27:00",
          "2024-06-26T21:28:00",
          "2024-06-27T09:15:00",
          "2024-06-27T16:11:00",
          "2024-06-27T21:44:00",
          "2024-06-27T21:50:00",
          "2024-06-28T08:08:00",
          "2024-06-28T17:51:00",
          "2024-06-28T21:50:00",
          "2024-06-28T21:52:00",
          "2024-06-28T22:28:00",
          "2024-06-29T09:47:00",
          "2024-06-29T11:40:00",
          "2024-06-29T11:41:00",
          "2024-06-29T12:30:00",
          "2024-06-29T12:31:00",
          "2024-06-29T17:23:00",
          "2024-06-29T17:24:00",
          "2024-06-29T21:27:00",
          "2024-06-30T10:28:00",
          "2024-06-30T13:05:00",
          "2024-06-30T16:54:00",
          "2024-06-30T21:04:00",
          "2024-07-01T18:07:00",
          "2024-07-01T18:56:00",
          "2024-07-01T18:57:00",
          "2024-07-02T10:42:00",
          "2024-07-02T10:45:00",
          "2024-07-02T12:48:00",
          "2024-07-02T14:03:00",
          "2024-07-02T16:31:00",
          "2024-07-02T22:02:00",
          "2024-07-03T13:51:00",
          "2024-07-03T16:01:00",
          "2024-07-03T16:50:00",
          "2024-07-03T16:53:00",
          "2024-07-03T16:54:00",
          "2024-07-03T16:55:00",
          "2024-07-03T16:59:00",
          "2024-07-03T17:59:00",
          "2024-07-03T19:06:00",
          "2024-07-04T10:26:00",
          "2024-07-04T10:27:00",
          "2024-07-05T12:20:00",
          "2024-07-05T13:43:00",
          "2024-07-05T13:44:00",
          "2024-07-05T18:55:00",
          "2024-07-05T19:55:00",
          "2024-07-05T22:11:00",
          "2024-07-05T22:18:00",
          "2024-07-05T22:18:00",
          "2024-07-05T22:20:00",
          "2024-07-05T22:21:00",
          "2024-07-06T10:28:00",
          "2024-07-06T17:15:00",
          "2024-07-06T17:17:00",
          "2024-07-06T19:09:00",
          "2024-07-06T19:10:00",
          "2024-07-07T09:04:00",
          "2024-07-07T09:14:00",
          "2024-07-07T09:15:00",
          "2024-07-07T09:28:00",
          "2024-07-07T09:29:00",
          "2024-07-07T14:56:00",
          "2024-07-07T14:57:00",
          "2024-07-07T17:07:00",
          "2024-07-07T19:33:00",
          "2024-07-07T20:01:00",
          "2024-07-07T22:33:00",
          "2024-07-08T07:33:00",
          "2024-07-08T12:02:00",
          "2024-07-08T14:40:00",
          "2024-07-08T19:30:00",
          "2024-07-08T22:14:00",
          "2024-07-09T10:26:00",
          "2024-07-09T10:40:00",
          "2024-07-09T11:21:00",
          "2024-07-09T11:22:00",
          "2024-07-09T16:42:00",
          "2024-07-10T11:10:00",
          "2024-07-10T12:28:00",
          "2024-07-10T22:13:00",
          "2024-07-11T11:27:00",
          "2024-07-11T16:48:00",
          "2024-07-11T22:22:00",
          "2024-07-11T22:30:00",
          "2024-07-12T08:03:00",
          "2024-07-12T11:48:00",
          "2024-07-12T22:33:00",
          "2024-07-12T22:34:00",
          "2024-07-12T22:35:00",
          "2024-07-13T10:38:00",
          "2024-07-13T11:41:00",
          "2024-07-14T10:54:00",
          "2024-07-14T10:55:00",
          "2024-07-14T10:56:00",
          "2024-07-14T10:57:00",
          "2024-07-14T11:02:00",
          "2024-07-14T22:31:00",
          "2024-07-15T07:33:00",
          "2024-07-16T12:23:00",
          "2024-07-16T19:29:00",
          "2024-07-17T13:04:00"
         ],
         "xaxis": "x",
         "y": [
          38.7,
          38.7,
          38.7,
          28.9,
          38.7,
          33.8,
          38.7,
          33.8,
          38.7,
          33.8,
          33.8,
          28.9,
          40,
          33.8,
          33.8,
          28.9,
          33.8,
          28.9,
          40,
          38.7,
          28.9,
          28.9,
          38.7,
          38.7,
          28.9,
          33.8,
          33.8,
          38.7,
          38.7,
          38.7,
          33.8,
          24,
          38.7,
          38.7,
          38.7,
          38.7,
          38.7,
          38.7,
          38.7,
          28.9,
          38.7,
          35,
          28.9,
          28.9,
          38.7,
          38.7,
          40,
          38.7,
          38.7,
          40,
          28.9,
          33.8,
          28.9,
          38.7,
          28.9,
          28.9,
          28.9,
          33.8,
          38.7,
          38.7,
          40,
          24,
          28.9,
          38.7,
          28.9,
          28.9,
          38.7,
          33.8,
          28.9,
          38.7,
          33.8,
          38.7,
          38.7,
          38.7,
          30,
          35,
          40,
          24,
          35,
          38.7,
          28.9,
          40,
          40,
          30,
          30,
          38.7,
          28.9,
          38.7,
          28.9,
          40,
          28.9,
          28.9,
          38.7,
          33.8,
          28.9,
          28.9,
          38.7,
          28.9,
          28.9,
          28.9,
          25,
          33.8,
          24,
          24,
          24,
          40,
          38.7,
          38.7,
          28.9,
          28.9,
          33.8,
          24,
          38.7,
          33.8,
          24,
          38.7,
          28.9,
          40,
          38.7,
          28.9,
          33.8,
          28.9,
          28.9,
          28.9,
          28.9,
          33.8,
          40,
          28.9,
          28.9,
          28.9,
          28.9,
          28.9,
          30,
          38.7,
          38.7,
          38.7,
          33.8,
          40,
          28.9,
          40,
          28.9,
          38.7,
          38.7,
          38.7,
          40,
          28.9,
          38.7,
          30,
          28.9,
          38.7,
          33.8,
          33.8,
          40,
          28.9,
          24,
          28.9,
          38.7,
          33.8,
          38.7,
          38.7,
          33.8,
          38.7,
          33.8,
          28.9,
          40,
          38.7,
          38.7,
          35,
          38.7,
          38.7,
          33.8,
          38.7,
          38.7,
          38.7,
          38.7,
          28.9,
          28.9,
          28.9,
          28.9,
          28.9,
          38.7,
          38.7,
          38.7,
          28.9,
          33.8,
          33.8,
          38.7,
          38.7,
          28.9,
          28.9,
          40,
          28.9,
          28.9,
          28.9,
          38.7,
          38.7,
          38.7,
          38.7,
          40,
          38.7,
          40,
          38.7,
          38.7,
          33.8,
          38.7,
          30,
          28.9,
          33.8,
          33.8,
          33.8,
          40,
          33.8,
          38.7,
          38.7,
          28.9,
          28.9,
          40,
          28.9,
          28.9,
          38.7,
          30,
          38.7,
          38.7,
          38.7,
          28.9,
          40,
          28.9,
          28.9,
          28.9,
          33.8,
          38.7,
          28.9,
          40,
          40,
          30,
          40,
          24,
          33.8,
          38.7,
          28.9,
          38.7,
          38.7,
          38.7,
          38.7,
          28.9,
          24,
          38.7,
          33.8,
          33.8,
          38.7,
          28.9,
          38.7,
          25,
          35,
          38.7,
          28.9,
          33.8,
          38.7,
          40,
          30,
          38.7,
          38.7,
          38.7,
          25,
          40,
          24,
          38.7,
          38.7,
          28.9,
          28.9,
          38.7,
          38.7,
          33.8,
          38.7,
          28.9,
          38.7,
          28.9,
          40,
          40,
          38.7,
          38.7,
          38.7,
          38.7,
          40,
          38.7,
          30,
          30,
          35,
          28.9,
          28.9,
          28.9,
          28.9,
          38.7,
          28.9,
          38.7,
          38.7,
          28.9,
          28.9,
          33.8,
          33.8,
          25,
          35,
          33.8,
          38.7,
          28.9,
          28.9,
          33.8,
          38.7,
          38.7,
          28.9,
          24,
          40,
          38.7,
          38.7,
          28.9,
          28.9,
          28.9,
          33.8,
          28.9,
          38.7,
          38.7,
          38.7,
          38.7,
          38.7,
          38.7,
          38.7,
          33.8,
          38.7,
          38.7,
          38.7,
          38.7,
          33.8,
          35,
          33.8,
          33.8,
          28.9,
          33.8,
          38.7,
          38.7,
          33.8,
          32.82,
          32.82,
          39,
          37.72,
          37.72,
          37.72,
          37.72,
          27.92,
          39,
          27.92,
          32.82,
          39,
          37.72,
          39,
          37.72,
          32.82,
          37.72,
          32.82,
          32.82,
          37.72,
          32.82,
          32.82,
          32.82,
          32.82,
          32.82,
          32.82,
          37.72,
          27.92,
          37.72,
          27.92,
          27.92,
          37.72,
          37.72,
          37.72,
          27.92,
          27.92,
          27.92,
          27.92,
          37.72,
          37.72,
          37.72,
          37.72,
          37.72,
          27.92,
          27.92,
          37.72,
          27.92,
          27.92,
          27.92,
          27.92,
          32.82,
          37.72,
          37.72,
          37.72,
          37.72,
          32.82,
          32.82,
          27.92,
          32.82,
          37.72,
          32.82,
          37.72,
          27.92,
          39,
          32.82,
          37.72,
          32.82,
          37.72,
          37.72,
          39,
          37.72,
          37.72,
          27.92,
          37.72,
          32.82,
          27.92,
          27.92,
          29,
          27.92,
          27.92,
          37.72,
          37.72,
          37.72,
          27.92,
          27.92,
          37.72,
          27.92,
          37.72,
          37.72,
          34,
          37.72,
          37.72,
          37.72,
          37.72,
          27.92,
          37.72,
          37.72,
          37.72,
          27.92,
          27.92,
          27.92,
          32.82,
          39,
          37.72,
          37.72,
          34,
          37.72,
          39,
          32.82,
          37.72,
          37.72,
          32.82,
          37.72,
          37.72,
          37.72,
          37.72,
          27.92,
          37.72,
          32.82,
          32.82,
          32.82,
          32.82,
          32.82,
          29,
          29,
          27.92,
          27.92,
          27.92,
          37.72,
          37.72,
          37.72,
          37.72,
          32.82,
          27.92,
          32.82,
          37.72,
          37.72,
          37.72,
          23.02,
          27.92,
          27.92,
          27.92,
          27.92,
          32.82,
          29,
          27.92,
          27.92,
          23.02,
          37.72,
          32.82,
          32.82,
          39,
          39,
          32.82,
          37.72,
          37.72,
          37.72,
          37.72,
          27.92,
          32.82,
          34,
          32.82,
          37.72,
          37.72,
          27.92,
          37.72,
          37.72,
          37.72,
          37.72,
          32.82,
          32.82,
          32.82,
          32.82,
          37.72,
          39,
          27.92,
          27.92,
          37.72,
          24,
          32.82,
          27.92,
          32.82,
          32.82,
          23.02,
          37.72,
          37.72,
          37.72,
          37.72,
          32.82,
          37.72,
          37.72,
          27.92,
          27.92,
          27.92,
          27.92,
          32.82,
          37.72,
          29,
          37.72,
          37.72,
          32.82,
          37.72,
          27.92,
          32.82,
          32.82,
          37.72,
          29,
          34,
          39,
          39,
          37.72,
          23.02,
          37.72,
          37.72,
          37.72,
          32.82,
          27.92,
          32.82,
          27.92,
          27.92,
          32.82,
          37.72,
          37.72,
          37.72,
          37.72,
          37.72,
          23.02,
          37.72,
          37.72,
          37.72,
          37.72,
          37.72,
          37.72,
          27.92,
          37.72,
          37.72,
          37.72,
          37.72,
          37.72,
          32.82,
          39,
          27.92,
          27.92,
          27.92,
          37.72,
          27.92,
          27.92,
          32.82,
          29,
          37.72,
          29,
          32.82,
          32.82,
          32.82,
          32.82,
          27.92,
          37.72,
          32.82,
          27.92,
          32.82,
          37.72,
          37.72,
          37.72,
          27.92,
          37.72,
          37.72,
          37.72,
          27.92,
          37.72,
          37.72,
          37.72,
          27.92,
          32.82,
          37.72,
          27.92,
          27.92,
          37.72,
          27.92,
          37.72,
          37.72,
          32.82,
          37.72,
          32.82,
          32.82,
          37.72,
          37.72,
          37.72,
          27.92,
          39,
          27.92,
          37.72,
          32.82,
          27.92,
          37.72,
          39,
          37.72,
          27.92,
          37.72,
          37.72,
          37.72,
          27.92,
          37.72,
          37.72,
          37.72,
          37.72,
          37.72,
          32.82,
          37.72,
          32.82,
          23.02,
          23.02,
          37.72,
          37.72,
          37.72,
          32.82,
          32.82,
          37.72,
          39,
          37.72,
          37.72,
          32.82,
          37.72,
          37.72,
          37.72,
          32.82,
          37.72,
          37.72,
          32.82,
          27.92,
          27.92,
          37.72,
          37.72,
          32.82,
          32.82,
          32.82,
          37.72,
          37.72,
          39,
          37.72,
          32.82,
          37.72,
          32.82,
          37.72,
          32.82,
          37.72,
          34,
          37.72,
          37.72,
          37.72,
          32.82,
          37.72,
          34,
          34,
          27.92,
          32.82,
          37.72,
          37.72,
          37.72,
          27.92,
          37.72,
          37.72,
          37.72,
          27.92,
          32.82,
          32.82,
          32.82,
          32.82,
          37.72,
          37.72,
          27.92,
          37.72,
          32.82,
          32.82,
          37.72,
          37.72,
          27.92,
          32.82,
          32.82,
          37.72,
          27.92,
          32.82,
          37.72,
          37.72,
          37.72,
          37.72,
          32.82,
          37.72,
          37.72,
          23.02,
          32.82,
          27.92,
          27.92,
          27.92,
          32.82,
          37.72,
          37.72,
          37.72,
          37.72,
          37.72,
          27.92,
          23.02,
          37.72,
          32.82,
          37.72,
          37.72,
          27.92,
          37.72,
          32.82,
          27.92,
          37.72,
          37.72,
          37.72,
          37.72,
          37.72,
          37.72,
          32.82,
          37.72,
          37.72,
          37.72,
          32.82,
          32.82,
          37.72,
          37.72,
          37.72,
          37.72,
          37.72,
          32.82,
          27.92,
          37.72,
          32.82,
          27.92,
          32.82,
          37.72,
          37.72,
          32.82,
          23.02,
          23.02,
          32.82,
          32.82,
          27.92,
          27.92,
          37.72,
          32.82,
          37.72,
          37.72,
          32.82,
          23.02,
          37.72,
          32.82,
          32.82,
          27.92,
          32.82,
          37.72,
          37.72,
          37.72,
          32.82,
          23.02,
          32.82,
          32.82,
          37.72,
          37.72,
          32.82,
          32.82,
          27.92,
          27.92,
          27.92,
          37.72,
          37.72,
          37.72,
          37.72,
          27.92,
          27.92,
          32.82,
          27.92,
          37.72,
          37.72,
          37.72,
          27.92,
          32.82,
          32.82,
          37.72,
          27.92,
          27.92,
          37.72,
          37.72,
          32.82,
          37.72,
          37.72,
          32.82,
          37.72,
          32.82,
          37.72,
          37.72,
          37.72,
          37.72,
          37.72,
          32.82,
          37.72,
          27.92,
          32.82,
          32.82,
          23.02,
          37.72,
          37.72,
          37.72,
          37.72,
          37.72,
          27.92,
          32.82,
          27.92,
          32.82,
          32.82,
          37.72,
          37.72,
          32.82,
          32.82,
          37.72,
          37.72,
          37.72,
          32.82,
          37.72,
          37.72,
          37.72,
          37.72,
          37.72,
          37.72,
          32.82,
          32.82,
          37.72,
          37.72,
          23.02,
          27.92,
          37.72,
          37.72,
          32.82,
          32.82,
          27.92,
          32.82,
          37.72,
          27.92,
          23.02,
          32.82,
          37.72,
          37.72,
          32.82,
          32.82,
          32.82,
          37.72,
          37.72,
          37.72,
          37.72,
          37.72,
          37.72,
          23.02,
          37.72,
          32.82,
          23.02,
          37.72,
          37.72,
          32.82,
          27.92,
          37.72,
          27.92,
          32.82,
          32.82,
          32.82,
          37.72,
          37.72,
          32.82,
          32.82,
          37.72,
          23.02,
          37.72,
          37.72,
          32.82,
          27.92,
          37.72,
          32.82,
          32.82,
          23.02,
          27.92,
          23.02,
          27.92,
          27.92,
          37.72,
          32.82,
          37.72,
          32.82,
          32.82,
          32.82,
          27.92,
          32.82,
          27.92,
          27.92,
          32.82,
          32.82,
          32.82,
          32.82,
          32.82,
          32.82,
          32.82,
          27.92,
          32.82,
          23.02,
          23.02,
          27.92,
          32.82,
          27.92,
          27.92,
          27.92,
          32.82,
          27.92,
          23.02,
          27.92,
          32.82,
          32.82,
          27.92,
          32.82,
          23.02,
          23.02,
          32.82,
          32.82,
          32.82,
          32.82,
          32.82,
          32.82,
          23.02,
          27.92,
          32.82,
          32.82,
          23.02,
          32.82,
          32.82,
          27.92,
          32.82,
          27.92
         ],
         "yaxis": "y"
        }
       ],
       "layout": {
        "legend": {
         "tracegroupgap": 0
        },
        "template": {
         "data": {
          "bar": [
           {
            "error_x": {
             "color": "#2a3f5f"
            },
            "error_y": {
             "color": "#2a3f5f"
            },
            "marker": {
             "line": {
              "color": "#E5ECF6",
              "width": 0.5
             },
             "pattern": {
              "fillmode": "overlay",
              "size": 10,
              "solidity": 0.2
             }
            },
            "type": "bar"
           }
          ],
          "barpolar": [
           {
            "marker": {
             "line": {
              "color": "#E5ECF6",
              "width": 0.5
             },
             "pattern": {
              "fillmode": "overlay",
              "size": 10,
              "solidity": 0.2
             }
            },
            "type": "barpolar"
           }
          ],
          "carpet": [
           {
            "aaxis": {
             "endlinecolor": "#2a3f5f",
             "gridcolor": "white",
             "linecolor": "white",
             "minorgridcolor": "white",
             "startlinecolor": "#2a3f5f"
            },
            "baxis": {
             "endlinecolor": "#2a3f5f",
             "gridcolor": "white",
             "linecolor": "white",
             "minorgridcolor": "white",
             "startlinecolor": "#2a3f5f"
            },
            "type": "carpet"
           }
          ],
          "choropleth": [
           {
            "colorbar": {
             "outlinewidth": 0,
             "ticks": ""
            },
            "type": "choropleth"
           }
          ],
          "contour": [
           {
            "colorbar": {
             "outlinewidth": 0,
             "ticks": ""
            },
            "colorscale": [
             [
              0,
              "#0d0887"
             ],
             [
              0.1111111111111111,
              "#46039f"
             ],
             [
              0.2222222222222222,
              "#7201a8"
             ],
             [
              0.3333333333333333,
              "#9c179e"
             ],
             [
              0.4444444444444444,
              "#bd3786"
             ],
             [
              0.5555555555555556,
              "#d8576b"
             ],
             [
              0.6666666666666666,
              "#ed7953"
             ],
             [
              0.7777777777777778,
              "#fb9f3a"
             ],
             [
              0.8888888888888888,
              "#fdca26"
             ],
             [
              1,
              "#f0f921"
             ]
            ],
            "type": "contour"
           }
          ],
          "contourcarpet": [
           {
            "colorbar": {
             "outlinewidth": 0,
             "ticks": ""
            },
            "type": "contourcarpet"
           }
          ],
          "heatmap": [
           {
            "colorbar": {
             "outlinewidth": 0,
             "ticks": ""
            },
            "colorscale": [
             [
              0,
              "#0d0887"
             ],
             [
              0.1111111111111111,
              "#46039f"
             ],
             [
              0.2222222222222222,
              "#7201a8"
             ],
             [
              0.3333333333333333,
              "#9c179e"
             ],
             [
              0.4444444444444444,
              "#bd3786"
             ],
             [
              0.5555555555555556,
              "#d8576b"
             ],
             [
              0.6666666666666666,
              "#ed7953"
             ],
             [
              0.7777777777777778,
              "#fb9f3a"
             ],
             [
              0.8888888888888888,
              "#fdca26"
             ],
             [
              1,
              "#f0f921"
             ]
            ],
            "type": "heatmap"
           }
          ],
          "heatmapgl": [
           {
            "colorbar": {
             "outlinewidth": 0,
             "ticks": ""
            },
            "colorscale": [
             [
              0,
              "#0d0887"
             ],
             [
              0.1111111111111111,
              "#46039f"
             ],
             [
              0.2222222222222222,
              "#7201a8"
             ],
             [
              0.3333333333333333,
              "#9c179e"
             ],
             [
              0.4444444444444444,
              "#bd3786"
             ],
             [
              0.5555555555555556,
              "#d8576b"
             ],
             [
              0.6666666666666666,
              "#ed7953"
             ],
             [
              0.7777777777777778,
              "#fb9f3a"
             ],
             [
              0.8888888888888888,
              "#fdca26"
             ],
             [
              1,
              "#f0f921"
             ]
            ],
            "type": "heatmapgl"
           }
          ],
          "histogram": [
           {
            "marker": {
             "pattern": {
              "fillmode": "overlay",
              "size": 10,
              "solidity": 0.2
             }
            },
            "type": "histogram"
           }
          ],
          "histogram2d": [
           {
            "colorbar": {
             "outlinewidth": 0,
             "ticks": ""
            },
            "colorscale": [
             [
              0,
              "#0d0887"
             ],
             [
              0.1111111111111111,
              "#46039f"
             ],
             [
              0.2222222222222222,
              "#7201a8"
             ],
             [
              0.3333333333333333,
              "#9c179e"
             ],
             [
              0.4444444444444444,
              "#bd3786"
             ],
             [
              0.5555555555555556,
              "#d8576b"
             ],
             [
              0.6666666666666666,
              "#ed7953"
             ],
             [
              0.7777777777777778,
              "#fb9f3a"
             ],
             [
              0.8888888888888888,
              "#fdca26"
             ],
             [
              1,
              "#f0f921"
             ]
            ],
            "type": "histogram2d"
           }
          ],
          "histogram2dcontour": [
           {
            "colorbar": {
             "outlinewidth": 0,
             "ticks": ""
            },
            "colorscale": [
             [
              0,
              "#0d0887"
             ],
             [
              0.1111111111111111,
              "#46039f"
             ],
             [
              0.2222222222222222,
              "#7201a8"
             ],
             [
              0.3333333333333333,
              "#9c179e"
             ],
             [
              0.4444444444444444,
              "#bd3786"
             ],
             [
              0.5555555555555556,
              "#d8576b"
             ],
             [
              0.6666666666666666,
              "#ed7953"
             ],
             [
              0.7777777777777778,
              "#fb9f3a"
             ],
             [
              0.8888888888888888,
              "#fdca26"
             ],
             [
              1,
              "#f0f921"
             ]
            ],
            "type": "histogram2dcontour"
           }
          ],
          "mesh3d": [
           {
            "colorbar": {
             "outlinewidth": 0,
             "ticks": ""
            },
            "type": "mesh3d"
           }
          ],
          "parcoords": [
           {
            "line": {
             "colorbar": {
              "outlinewidth": 0,
              "ticks": ""
             }
            },
            "type": "parcoords"
           }
          ],
          "pie": [
           {
            "automargin": true,
            "type": "pie"
           }
          ],
          "scatter": [
           {
            "fillpattern": {
             "fillmode": "overlay",
             "size": 10,
             "solidity": 0.2
            },
            "type": "scatter"
           }
          ],
          "scatter3d": [
           {
            "line": {
             "colorbar": {
              "outlinewidth": 0,
              "ticks": ""
             }
            },
            "marker": {
             "colorbar": {
              "outlinewidth": 0,
              "ticks": ""
             }
            },
            "type": "scatter3d"
           }
          ],
          "scattercarpet": [
           {
            "marker": {
             "colorbar": {
              "outlinewidth": 0,
              "ticks": ""
             }
            },
            "type": "scattercarpet"
           }
          ],
          "scattergeo": [
           {
            "marker": {
             "colorbar": {
              "outlinewidth": 0,
              "ticks": ""
             }
            },
            "type": "scattergeo"
           }
          ],
          "scattergl": [
           {
            "marker": {
             "colorbar": {
              "outlinewidth": 0,
              "ticks": ""
             }
            },
            "type": "scattergl"
           }
          ],
          "scattermapbox": [
           {
            "marker": {
             "colorbar": {
              "outlinewidth": 0,
              "ticks": ""
             }
            },
            "type": "scattermapbox"
           }
          ],
          "scatterpolar": [
           {
            "marker": {
             "colorbar": {
              "outlinewidth": 0,
              "ticks": ""
             }
            },
            "type": "scatterpolar"
           }
          ],
          "scatterpolargl": [
           {
            "marker": {
             "colorbar": {
              "outlinewidth": 0,
              "ticks": ""
             }
            },
            "type": "scatterpolargl"
           }
          ],
          "scatterternary": [
           {
            "marker": {
             "colorbar": {
              "outlinewidth": 0,
              "ticks": ""
             }
            },
            "type": "scatterternary"
           }
          ],
          "surface": [
           {
            "colorbar": {
             "outlinewidth": 0,
             "ticks": ""
            },
            "colorscale": [
             [
              0,
              "#0d0887"
             ],
             [
              0.1111111111111111,
              "#46039f"
             ],
             [
              0.2222222222222222,
              "#7201a8"
             ],
             [
              0.3333333333333333,
              "#9c179e"
             ],
             [
              0.4444444444444444,
              "#bd3786"
             ],
             [
              0.5555555555555556,
              "#d8576b"
             ],
             [
              0.6666666666666666,
              "#ed7953"
             ],
             [
              0.7777777777777778,
              "#fb9f3a"
             ],
             [
              0.8888888888888888,
              "#fdca26"
             ],
             [
              1,
              "#f0f921"
             ]
            ],
            "type": "surface"
           }
          ],
          "table": [
           {
            "cells": {
             "fill": {
              "color": "#EBF0F8"
             },
             "line": {
              "color": "white"
             }
            },
            "header": {
             "fill": {
              "color": "#C8D4E3"
             },
             "line": {
              "color": "white"
             }
            },
            "type": "table"
           }
          ]
         },
         "layout": {
          "annotationdefaults": {
           "arrowcolor": "#2a3f5f",
           "arrowhead": 0,
           "arrowwidth": 1
          },
          "autotypenumbers": "strict",
          "coloraxis": {
           "colorbar": {
            "outlinewidth": 0,
            "ticks": ""
           }
          },
          "colorscale": {
           "diverging": [
            [
             0,
             "#8e0152"
            ],
            [
             0.1,
             "#c51b7d"
            ],
            [
             0.2,
             "#de77ae"
            ],
            [
             0.3,
             "#f1b6da"
            ],
            [
             0.4,
             "#fde0ef"
            ],
            [
             0.5,
             "#f7f7f7"
            ],
            [
             0.6,
             "#e6f5d0"
            ],
            [
             0.7,
             "#b8e186"
            ],
            [
             0.8,
             "#7fbc41"
            ],
            [
             0.9,
             "#4d9221"
            ],
            [
             1,
             "#276419"
            ]
           ],
           "sequential": [
            [
             0,
             "#0d0887"
            ],
            [
             0.1111111111111111,
             "#46039f"
            ],
            [
             0.2222222222222222,
             "#7201a8"
            ],
            [
             0.3333333333333333,
             "#9c179e"
            ],
            [
             0.4444444444444444,
             "#bd3786"
            ],
            [
             0.5555555555555556,
             "#d8576b"
            ],
            [
             0.6666666666666666,
             "#ed7953"
            ],
            [
             0.7777777777777778,
             "#fb9f3a"
            ],
            [
             0.8888888888888888,
             "#fdca26"
            ],
            [
             1,
             "#f0f921"
            ]
           ],
           "sequentialminus": [
            [
             0,
             "#0d0887"
            ],
            [
             0.1111111111111111,
             "#46039f"
            ],
            [
             0.2222222222222222,
             "#7201a8"
            ],
            [
             0.3333333333333333,
             "#9c179e"
            ],
            [
             0.4444444444444444,
             "#bd3786"
            ],
            [
             0.5555555555555556,
             "#d8576b"
            ],
            [
             0.6666666666666666,
             "#ed7953"
            ],
            [
             0.7777777777777778,
             "#fb9f3a"
            ],
            [
             0.8888888888888888,
             "#fdca26"
            ],
            [
             1,
             "#f0f921"
            ]
           ]
          },
          "colorway": [
           "#636efa",
           "#EF553B",
           "#00cc96",
           "#ab63fa",
           "#FFA15A",
           "#19d3f3",
           "#FF6692",
           "#B6E880",
           "#FF97FF",
           "#FECB52"
          ],
          "font": {
           "color": "#2a3f5f"
          },
          "geo": {
           "bgcolor": "white",
           "lakecolor": "white",
           "landcolor": "#E5ECF6",
           "showlakes": true,
           "showland": true,
           "subunitcolor": "white"
          },
          "hoverlabel": {
           "align": "left"
          },
          "hovermode": "closest",
          "mapbox": {
           "style": "light"
          },
          "paper_bgcolor": "white",
          "plot_bgcolor": "#E5ECF6",
          "polar": {
           "angularaxis": {
            "gridcolor": "white",
            "linecolor": "white",
            "ticks": ""
           },
           "bgcolor": "#E5ECF6",
           "radialaxis": {
            "gridcolor": "white",
            "linecolor": "white",
            "ticks": ""
           }
          },
          "scene": {
           "xaxis": {
            "backgroundcolor": "#E5ECF6",
            "gridcolor": "white",
            "gridwidth": 2,
            "linecolor": "white",
            "showbackground": true,
            "ticks": "",
            "zerolinecolor": "white"
           },
           "yaxis": {
            "backgroundcolor": "#E5ECF6",
            "gridcolor": "white",
            "gridwidth": 2,
            "linecolor": "white",
            "showbackground": true,
            "ticks": "",
            "zerolinecolor": "white"
           },
           "zaxis": {
            "backgroundcolor": "#E5ECF6",
            "gridcolor": "white",
            "gridwidth": 2,
            "linecolor": "white",
            "showbackground": true,
            "ticks": "",
            "zerolinecolor": "white"
           }
          },
          "shapedefaults": {
           "line": {
            "color": "#2a3f5f"
           }
          },
          "ternary": {
           "aaxis": {
            "gridcolor": "white",
            "linecolor": "white",
            "ticks": ""
           },
           "baxis": {
            "gridcolor": "white",
            "linecolor": "white",
            "ticks": ""
           },
           "bgcolor": "#E5ECF6",
           "caxis": {
            "gridcolor": "white",
            "linecolor": "white",
            "ticks": ""
           }
          },
          "title": {
           "x": 0.05
          },
          "xaxis": {
           "automargin": true,
           "gridcolor": "white",
           "linecolor": "white",
           "ticks": "",
           "title": {
            "standoff": 15
           },
           "zerolinecolor": "white",
           "zerolinewidth": 2
          },
          "yaxis": {
           "automargin": true,
           "gridcolor": "white",
           "linecolor": "white",
           "ticks": "",
           "title": {
            "standoff": 15
           },
           "zerolinecolor": "white",
           "zerolinewidth": 2
          }
         }
        },
        "title": {
         "text": "Money Spent Over Time"
        },
        "xaxis": {
         "anchor": "y",
         "domain": [
          0,
          1
         ],
         "title": {
          "text": "datetime"
         }
        },
        "yaxis": {
         "anchor": "x",
         "domain": [
          0,
          1
         ],
         "title": {
          "text": "money"
         }
        }
       }
      }
     },
     "metadata": {},
     "output_type": "display_data"
    }
   ],
   "source": [
    "fig = px.scatter(df, x='datetime', y='money', title='Money Spent Over Time')\n",
    "fig.show()"
   ]
  },
  {
   "cell_type": "code",
   "execution_count": 48,
   "metadata": {},
   "outputs": [
    {
     "data": {
      "application/vnd.plotly.v1+json": {
       "config": {
        "plotlyServerURL": "https://plot.ly"
       },
       "data": [
        {
         "alignmentgroup": "True",
         "hovertemplate": "cash_type=%{x}<br>money=%{y}<extra></extra>",
         "legendgroup": "",
         "marker": {
          "color": "#636efa"
         },
         "name": "",
         "notched": false,
         "offsetgroup": "",
         "orientation": "v",
         "showlegend": false,
         "type": "box",
         "x": [
          "card",
          "card",
          "card",
          "card",
          "card",
          "card",
          "card",
          "card",
          "card",
          "card",
          "card",
          "card",
          "cash",
          "card",
          "card",
          "card",
          "card",
          "card",
          "cash",
          "card",
          "card",
          "card",
          "card",
          "card",
          "card",
          "card",
          "card",
          "card",
          "card",
          "card",
          "card",
          "card",
          "card",
          "card",
          "card",
          "card",
          "card",
          "card",
          "card",
          "card",
          "card",
          "cash",
          "card",
          "card",
          "card",
          "card",
          "cash",
          "card",
          "card",
          "cash",
          "card",
          "card",
          "card",
          "card",
          "card",
          "card",
          "card",
          "card",
          "card",
          "card",
          "cash",
          "card",
          "card",
          "card",
          "card",
          "card",
          "card",
          "card",
          "card",
          "card",
          "card",
          "card",
          "card",
          "card",
          "cash",
          "cash",
          "cash",
          "card",
          "cash",
          "card",
          "card",
          "cash",
          "cash",
          "cash",
          "cash",
          "card",
          "card",
          "card",
          "card",
          "cash",
          "card",
          "card",
          "card",
          "card",
          "card",
          "card",
          "card",
          "card",
          "card",
          "card",
          "cash",
          "card",
          "card",
          "card",
          "card",
          "cash",
          "card",
          "card",
          "card",
          "card",
          "card",
          "card",
          "card",
          "card",
          "card",
          "card",
          "card",
          "cash",
          "card",
          "card",
          "card",
          "card",
          "card",
          "card",
          "card",
          "card",
          "cash",
          "card",
          "card",
          "card",
          "card",
          "card",
          "cash",
          "card",
          "card",
          "card",
          "card",
          "cash",
          "card",
          "cash",
          "card",
          "card",
          "card",
          "card",
          "cash",
          "card",
          "card",
          "cash",
          "card",
          "card",
          "card",
          "card",
          "cash",
          "card",
          "card",
          "card",
          "card",
          "card",
          "card",
          "card",
          "card",
          "card",
          "card",
          "card",
          "cash",
          "card",
          "card",
          "cash",
          "card",
          "card",
          "card",
          "card",
          "card",
          "card",
          "card",
          "card",
          "card",
          "card",
          "card",
          "card",
          "card",
          "card",
          "card",
          "card",
          "card",
          "card",
          "card",
          "card",
          "card",
          "card",
          "cash",
          "card",
          "card",
          "card",
          "card",
          "card",
          "card",
          "card",
          "cash",
          "card",
          "cash",
          "card",
          "card",
          "card",
          "card",
          "cash",
          "card",
          "card",
          "card",
          "card",
          "cash",
          "card",
          "card",
          "card",
          "card",
          "card",
          "cash",
          "card",
          "card",
          "card",
          "cash",
          "card",
          "card",
          "card",
          "card",
          "cash",
          "card",
          "card",
          "card",
          "card",
          "card",
          "card",
          "cash",
          "cash",
          "cash",
          "cash",
          "card",
          "card",
          "card",
          "card",
          "card",
          "card",
          "card",
          "card",
          "card",
          "card",
          "card",
          "card",
          "card",
          "card",
          "card",
          "card",
          "cash",
          "cash",
          "card",
          "card",
          "card",
          "card",
          "cash",
          "cash",
          "card",
          "card",
          "card",
          "cash",
          "cash",
          "card",
          "card",
          "card",
          "card",
          "card",
          "card",
          "card",
          "card",
          "card",
          "card",
          "card",
          "card",
          "cash",
          "cash",
          "card",
          "card",
          "card",
          "card",
          "cash",
          "card",
          "cash",
          "cash",
          "cash",
          "card",
          "card",
          "card",
          "card",
          "card",
          "card",
          "card",
          "card",
          "card",
          "card",
          "card",
          "card",
          "cash",
          "cash",
          "card",
          "card",
          "card",
          "card",
          "card",
          "card",
          "card",
          "card",
          "card",
          "cash",
          "card",
          "card",
          "card",
          "card",
          "card",
          "card",
          "card",
          "card",
          "card",
          "card",
          "card",
          "card",
          "card",
          "card",
          "card",
          "card",
          "card",
          "card",
          "card",
          "card",
          "cash",
          "card",
          "card",
          "card",
          "card",
          "card",
          "card",
          "card",
          "card",
          "card",
          "cash",
          "card",
          "card",
          "card",
          "card",
          "card",
          "cash",
          "card",
          "card",
          "cash",
          "card",
          "cash",
          "card",
          "card",
          "card",
          "card",
          "card",
          "card",
          "card",
          "card",
          "card",
          "card",
          "card",
          "card",
          "card",
          "card",
          "card",
          "card",
          "card",
          "card",
          "card",
          "card",
          "card",
          "card",
          "card",
          "card",
          "card",
          "card",
          "card",
          "card",
          "card",
          "card",
          "card",
          "card",
          "card",
          "card",
          "card",
          "card",
          "card",
          "card",
          "card",
          "card",
          "card",
          "card",
          "card",
          "card",
          "card",
          "card",
          "card",
          "card",
          "card",
          "cash",
          "card",
          "card",
          "card",
          "card",
          "card",
          "cash",
          "card",
          "card",
          "card",
          "card",
          "card",
          "card",
          "card",
          "cash",
          "card",
          "card",
          "card",
          "card",
          "card",
          "card",
          "card",
          "card",
          "card",
          "card",
          "card",
          "cash",
          "card",
          "card",
          "card",
          "card",
          "card",
          "card",
          "card",
          "card",
          "card",
          "card",
          "card",
          "card",
          "cash",
          "card",
          "card",
          "cash",
          "card",
          "cash",
          "card",
          "card",
          "card",
          "card",
          "card",
          "card",
          "card",
          "card",
          "card",
          "card",
          "card",
          "card",
          "card",
          "card",
          "card",
          "cash",
          "cash",
          "card",
          "card",
          "card",
          "card",
          "card",
          "card",
          "card",
          "card",
          "card",
          "card",
          "card",
          "card",
          "card",
          "card",
          "card",
          "card",
          "card",
          "card",
          "card",
          "cash",
          "card",
          "card",
          "card",
          "card",
          "card",
          "card",
          "cash",
          "cash",
          "card",
          "card",
          "card",
          "card",
          "card",
          "card",
          "card",
          "cash",
          "card",
          "card",
          "card",
          "card",
          "card",
          "card",
          "card",
          "card",
          "card",
          "card",
          "card",
          "card",
          "card",
          "cash",
          "card",
          "card",
          "card",
          "cash",
          "card",
          "card",
          "card",
          "card",
          "card",
          "card",
          "card",
          "card",
          "card",
          "card",
          "card",
          "card",
          "card",
          "card",
          "card",
          "card",
          "card",
          "card",
          "cash",
          "card",
          "card",
          "card",
          "card",
          "card",
          "card",
          "card",
          "card",
          "cash",
          "cash",
          "cash",
          "cash",
          "card",
          "card",
          "card",
          "card",
          "card",
          "card",
          "card",
          "card",
          "card",
          "card",
          "card",
          "card",
          "card",
          "card",
          "card",
          "card",
          "card",
          "card",
          "card",
          "card",
          "card",
          "card",
          "card",
          "card",
          "card",
          "card",
          "card",
          "card",
          "card",
          "card",
          "cash",
          "card",
          "card",
          "card",
          "card",
          "card",
          "card",
          "card",
          "cash",
          "card",
          "cash",
          "card",
          "card",
          "card",
          "card",
          "card",
          "card",
          "card",
          "card",
          "card",
          "card",
          "card",
          "card",
          "card",
          "card",
          "card",
          "card",
          "card",
          "card",
          "card",
          "card",
          "card",
          "card",
          "card",
          "card",
          "card",
          "card",
          "card",
          "card",
          "card",
          "card",
          "card",
          "card",
          "card",
          "card",
          "card",
          "card",
          "card",
          "cash",
          "card",
          "card",
          "card",
          "card",
          "card",
          "cash",
          "card",
          "card",
          "card",
          "card",
          "card",
          "card",
          "card",
          "card",
          "card",
          "card",
          "card",
          "card",
          "card",
          "card",
          "card",
          "card",
          "card",
          "card",
          "card",
          "card",
          "card",
          "card",
          "cash",
          "card",
          "card",
          "card",
          "card",
          "card",
          "card",
          "card",
          "card",
          "card",
          "card",
          "card",
          "card",
          "card",
          "card",
          "card",
          "card",
          "card",
          "card",
          "card",
          "cash",
          "card",
          "card",
          "card",
          "card",
          "card",
          "card",
          "card",
          "cash",
          "card",
          "card",
          "card",
          "card",
          "card",
          "cash",
          "cash",
          "card",
          "card",
          "card",
          "card",
          "card",
          "card",
          "card",
          "card",
          "card",
          "card",
          "card",
          "card",
          "card",
          "card",
          "card",
          "card",
          "card",
          "card",
          "card",
          "card",
          "card",
          "card",
          "card",
          "card",
          "card",
          "card",
          "card",
          "card",
          "card",
          "card",
          "card",
          "card",
          "card",
          "card",
          "card",
          "card",
          "card",
          "card",
          "card",
          "card",
          "card",
          "card",
          "card",
          "card",
          "card",
          "card",
          "card",
          "card",
          "card",
          "card",
          "card",
          "card",
          "card",
          "card",
          "card",
          "card",
          "card",
          "card",
          "card",
          "card",
          "card",
          "card",
          "card",
          "card",
          "card",
          "card",
          "card",
          "card",
          "card",
          "card",
          "card",
          "card",
          "card",
          "card",
          "card",
          "card",
          "card",
          "card",
          "card",
          "card",
          "card",
          "card",
          "card",
          "card",
          "card",
          "card",
          "card",
          "card",
          "card",
          "card",
          "card",
          "card",
          "card",
          "card",
          "card",
          "card",
          "card",
          "card",
          "card",
          "card",
          "card",
          "card",
          "card",
          "card",
          "card",
          "card",
          "card",
          "card",
          "card",
          "card",
          "card",
          "card",
          "card",
          "card",
          "card",
          "card",
          "card",
          "card",
          "card",
          "card",
          "card",
          "card",
          "card",
          "card",
          "card",
          "card",
          "card",
          "card",
          "card",
          "card",
          "card",
          "card",
          "card",
          "card",
          "card",
          "card",
          "card",
          "card",
          "card",
          "card",
          "card",
          "card",
          "card",
          "card",
          "card",
          "card",
          "card",
          "card",
          "card",
          "card",
          "card",
          "card",
          "card",
          "card",
          "card",
          "card",
          "card",
          "card",
          "card",
          "card",
          "card",
          "card",
          "card",
          "card",
          "card",
          "card",
          "card",
          "card",
          "card",
          "card",
          "card",
          "card",
          "card",
          "card",
          "card",
          "card",
          "card",
          "card",
          "card",
          "card",
          "card",
          "card",
          "card",
          "card",
          "card",
          "card",
          "card",
          "card",
          "card",
          "card",
          "card",
          "card",
          "card",
          "card",
          "card",
          "card",
          "card",
          "card",
          "card",
          "card",
          "card",
          "card",
          "card",
          "card",
          "card",
          "card",
          "card",
          "card",
          "card",
          "card",
          "card",
          "card",
          "card",
          "card",
          "card",
          "card",
          "card",
          "card",
          "card",
          "card",
          "card",
          "card",
          "card",
          "card",
          "card",
          "card",
          "card",
          "card",
          "card",
          "card",
          "card",
          "card",
          "card",
          "card",
          "card",
          "card",
          "card",
          "card",
          "card",
          "card",
          "card",
          "card",
          "card",
          "card",
          "card",
          "card",
          "card",
          "card",
          "card",
          "card",
          "card",
          "card",
          "card",
          "card",
          "card",
          "card",
          "card",
          "card",
          "card",
          "card",
          "card",
          "card",
          "card",
          "card",
          "card",
          "card",
          "card",
          "card",
          "card",
          "card",
          "card",
          "card",
          "card",
          "card",
          "card",
          "card",
          "card",
          "card",
          "card",
          "card",
          "card",
          "card",
          "card"
         ],
         "x0": " ",
         "xaxis": "x",
         "y": [
          38.7,
          38.7,
          38.7,
          28.9,
          38.7,
          33.8,
          38.7,
          33.8,
          38.7,
          33.8,
          33.8,
          28.9,
          40,
          33.8,
          33.8,
          28.9,
          33.8,
          28.9,
          40,
          38.7,
          28.9,
          28.9,
          38.7,
          38.7,
          28.9,
          33.8,
          33.8,
          38.7,
          38.7,
          38.7,
          33.8,
          24,
          38.7,
          38.7,
          38.7,
          38.7,
          38.7,
          38.7,
          38.7,
          28.9,
          38.7,
          35,
          28.9,
          28.9,
          38.7,
          38.7,
          40,
          38.7,
          38.7,
          40,
          28.9,
          33.8,
          28.9,
          38.7,
          28.9,
          28.9,
          28.9,
          33.8,
          38.7,
          38.7,
          40,
          24,
          28.9,
          38.7,
          28.9,
          28.9,
          38.7,
          33.8,
          28.9,
          38.7,
          33.8,
          38.7,
          38.7,
          38.7,
          30,
          35,
          40,
          24,
          35,
          38.7,
          28.9,
          40,
          40,
          30,
          30,
          38.7,
          28.9,
          38.7,
          28.9,
          40,
          28.9,
          28.9,
          38.7,
          33.8,
          28.9,
          28.9,
          38.7,
          28.9,
          28.9,
          28.9,
          25,
          33.8,
          24,
          24,
          24,
          40,
          38.7,
          38.7,
          28.9,
          28.9,
          33.8,
          24,
          38.7,
          33.8,
          24,
          38.7,
          28.9,
          40,
          38.7,
          28.9,
          33.8,
          28.9,
          28.9,
          28.9,
          28.9,
          33.8,
          40,
          28.9,
          28.9,
          28.9,
          28.9,
          28.9,
          30,
          38.7,
          38.7,
          38.7,
          33.8,
          40,
          28.9,
          40,
          28.9,
          38.7,
          38.7,
          38.7,
          40,
          28.9,
          38.7,
          30,
          28.9,
          38.7,
          33.8,
          33.8,
          40,
          28.9,
          24,
          28.9,
          38.7,
          33.8,
          38.7,
          38.7,
          33.8,
          38.7,
          33.8,
          28.9,
          40,
          38.7,
          38.7,
          35,
          38.7,
          38.7,
          33.8,
          38.7,
          38.7,
          38.7,
          38.7,
          28.9,
          28.9,
          28.9,
          28.9,
          28.9,
          38.7,
          38.7,
          38.7,
          28.9,
          33.8,
          33.8,
          38.7,
          38.7,
          28.9,
          28.9,
          40,
          28.9,
          28.9,
          28.9,
          38.7,
          38.7,
          38.7,
          38.7,
          40,
          38.7,
          40,
          38.7,
          38.7,
          33.8,
          38.7,
          30,
          28.9,
          33.8,
          33.8,
          33.8,
          40,
          33.8,
          38.7,
          38.7,
          28.9,
          28.9,
          40,
          28.9,
          28.9,
          38.7,
          30,
          38.7,
          38.7,
          38.7,
          28.9,
          40,
          28.9,
          28.9,
          28.9,
          33.8,
          38.7,
          28.9,
          40,
          40,
          30,
          40,
          24,
          33.8,
          38.7,
          28.9,
          38.7,
          38.7,
          38.7,
          38.7,
          28.9,
          24,
          38.7,
          33.8,
          33.8,
          38.7,
          28.9,
          38.7,
          25,
          35,
          38.7,
          28.9,
          33.8,
          38.7,
          40,
          30,
          38.7,
          38.7,
          38.7,
          25,
          40,
          24,
          38.7,
          38.7,
          28.9,
          28.9,
          38.7,
          38.7,
          33.8,
          38.7,
          28.9,
          38.7,
          28.9,
          40,
          40,
          38.7,
          38.7,
          38.7,
          38.7,
          40,
          38.7,
          30,
          30,
          35,
          28.9,
          28.9,
          28.9,
          28.9,
          38.7,
          28.9,
          38.7,
          38.7,
          28.9,
          28.9,
          33.8,
          33.8,
          25,
          35,
          33.8,
          38.7,
          28.9,
          28.9,
          33.8,
          38.7,
          38.7,
          28.9,
          24,
          40,
          38.7,
          38.7,
          28.9,
          28.9,
          28.9,
          33.8,
          28.9,
          38.7,
          38.7,
          38.7,
          38.7,
          38.7,
          38.7,
          38.7,
          33.8,
          38.7,
          38.7,
          38.7,
          38.7,
          33.8,
          35,
          33.8,
          33.8,
          28.9,
          33.8,
          38.7,
          38.7,
          33.8,
          32.82,
          32.82,
          39,
          37.72,
          37.72,
          37.72,
          37.72,
          27.92,
          39,
          27.92,
          32.82,
          39,
          37.72,
          39,
          37.72,
          32.82,
          37.72,
          32.82,
          32.82,
          37.72,
          32.82,
          32.82,
          32.82,
          32.82,
          32.82,
          32.82,
          37.72,
          27.92,
          37.72,
          27.92,
          27.92,
          37.72,
          37.72,
          37.72,
          27.92,
          27.92,
          27.92,
          27.92,
          37.72,
          37.72,
          37.72,
          37.72,
          37.72,
          27.92,
          27.92,
          37.72,
          27.92,
          27.92,
          27.92,
          27.92,
          32.82,
          37.72,
          37.72,
          37.72,
          37.72,
          32.82,
          32.82,
          27.92,
          32.82,
          37.72,
          32.82,
          37.72,
          27.92,
          39,
          32.82,
          37.72,
          32.82,
          37.72,
          37.72,
          39,
          37.72,
          37.72,
          27.92,
          37.72,
          32.82,
          27.92,
          27.92,
          29,
          27.92,
          27.92,
          37.72,
          37.72,
          37.72,
          27.92,
          27.92,
          37.72,
          27.92,
          37.72,
          37.72,
          34,
          37.72,
          37.72,
          37.72,
          37.72,
          27.92,
          37.72,
          37.72,
          37.72,
          27.92,
          27.92,
          27.92,
          32.82,
          39,
          37.72,
          37.72,
          34,
          37.72,
          39,
          32.82,
          37.72,
          37.72,
          32.82,
          37.72,
          37.72,
          37.72,
          37.72,
          27.92,
          37.72,
          32.82,
          32.82,
          32.82,
          32.82,
          32.82,
          29,
          29,
          27.92,
          27.92,
          27.92,
          37.72,
          37.72,
          37.72,
          37.72,
          32.82,
          27.92,
          32.82,
          37.72,
          37.72,
          37.72,
          23.02,
          27.92,
          27.92,
          27.92,
          27.92,
          32.82,
          29,
          27.92,
          27.92,
          23.02,
          37.72,
          32.82,
          32.82,
          39,
          39,
          32.82,
          37.72,
          37.72,
          37.72,
          37.72,
          27.92,
          32.82,
          34,
          32.82,
          37.72,
          37.72,
          27.92,
          37.72,
          37.72,
          37.72,
          37.72,
          32.82,
          32.82,
          32.82,
          32.82,
          37.72,
          39,
          27.92,
          27.92,
          37.72,
          24,
          32.82,
          27.92,
          32.82,
          32.82,
          23.02,
          37.72,
          37.72,
          37.72,
          37.72,
          32.82,
          37.72,
          37.72,
          27.92,
          27.92,
          27.92,
          27.92,
          32.82,
          37.72,
          29,
          37.72,
          37.72,
          32.82,
          37.72,
          27.92,
          32.82,
          32.82,
          37.72,
          29,
          34,
          39,
          39,
          37.72,
          23.02,
          37.72,
          37.72,
          37.72,
          32.82,
          27.92,
          32.82,
          27.92,
          27.92,
          32.82,
          37.72,
          37.72,
          37.72,
          37.72,
          37.72,
          23.02,
          37.72,
          37.72,
          37.72,
          37.72,
          37.72,
          37.72,
          27.92,
          37.72,
          37.72,
          37.72,
          37.72,
          37.72,
          32.82,
          39,
          27.92,
          27.92,
          27.92,
          37.72,
          27.92,
          27.92,
          32.82,
          29,
          37.72,
          29,
          32.82,
          32.82,
          32.82,
          32.82,
          27.92,
          37.72,
          32.82,
          27.92,
          32.82,
          37.72,
          37.72,
          37.72,
          27.92,
          37.72,
          37.72,
          37.72,
          27.92,
          37.72,
          37.72,
          37.72,
          27.92,
          32.82,
          37.72,
          27.92,
          27.92,
          37.72,
          27.92,
          37.72,
          37.72,
          32.82,
          37.72,
          32.82,
          32.82,
          37.72,
          37.72,
          37.72,
          27.92,
          39,
          27.92,
          37.72,
          32.82,
          27.92,
          37.72,
          39,
          37.72,
          27.92,
          37.72,
          37.72,
          37.72,
          27.92,
          37.72,
          37.72,
          37.72,
          37.72,
          37.72,
          32.82,
          37.72,
          32.82,
          23.02,
          23.02,
          37.72,
          37.72,
          37.72,
          32.82,
          32.82,
          37.72,
          39,
          37.72,
          37.72,
          32.82,
          37.72,
          37.72,
          37.72,
          32.82,
          37.72,
          37.72,
          32.82,
          27.92,
          27.92,
          37.72,
          37.72,
          32.82,
          32.82,
          32.82,
          37.72,
          37.72,
          39,
          37.72,
          32.82,
          37.72,
          32.82,
          37.72,
          32.82,
          37.72,
          34,
          37.72,
          37.72,
          37.72,
          32.82,
          37.72,
          34,
          34,
          27.92,
          32.82,
          37.72,
          37.72,
          37.72,
          27.92,
          37.72,
          37.72,
          37.72,
          27.92,
          32.82,
          32.82,
          32.82,
          32.82,
          37.72,
          37.72,
          27.92,
          37.72,
          32.82,
          32.82,
          37.72,
          37.72,
          27.92,
          32.82,
          32.82,
          37.72,
          27.92,
          32.82,
          37.72,
          37.72,
          37.72,
          37.72,
          32.82,
          37.72,
          37.72,
          23.02,
          32.82,
          27.92,
          27.92,
          27.92,
          32.82,
          37.72,
          37.72,
          37.72,
          37.72,
          37.72,
          27.92,
          23.02,
          37.72,
          32.82,
          37.72,
          37.72,
          27.92,
          37.72,
          32.82,
          27.92,
          37.72,
          37.72,
          37.72,
          37.72,
          37.72,
          37.72,
          32.82,
          37.72,
          37.72,
          37.72,
          32.82,
          32.82,
          37.72,
          37.72,
          37.72,
          37.72,
          37.72,
          32.82,
          27.92,
          37.72,
          32.82,
          27.92,
          32.82,
          37.72,
          37.72,
          32.82,
          23.02,
          23.02,
          32.82,
          32.82,
          27.92,
          27.92,
          37.72,
          32.82,
          37.72,
          37.72,
          32.82,
          23.02,
          37.72,
          32.82,
          32.82,
          27.92,
          32.82,
          37.72,
          37.72,
          37.72,
          32.82,
          23.02,
          32.82,
          32.82,
          37.72,
          37.72,
          32.82,
          32.82,
          27.92,
          27.92,
          27.92,
          37.72,
          37.72,
          37.72,
          37.72,
          27.92,
          27.92,
          32.82,
          27.92,
          37.72,
          37.72,
          37.72,
          27.92,
          32.82,
          32.82,
          37.72,
          27.92,
          27.92,
          37.72,
          37.72,
          32.82,
          37.72,
          37.72,
          32.82,
          37.72,
          32.82,
          37.72,
          37.72,
          37.72,
          37.72,
          37.72,
          32.82,
          37.72,
          27.92,
          32.82,
          32.82,
          23.02,
          37.72,
          37.72,
          37.72,
          37.72,
          37.72,
          27.92,
          32.82,
          27.92,
          32.82,
          32.82,
          37.72,
          37.72,
          32.82,
          32.82,
          37.72,
          37.72,
          37.72,
          32.82,
          37.72,
          37.72,
          37.72,
          37.72,
          37.72,
          37.72,
          32.82,
          32.82,
          37.72,
          37.72,
          23.02,
          27.92,
          37.72,
          37.72,
          32.82,
          32.82,
          27.92,
          32.82,
          37.72,
          27.92,
          23.02,
          32.82,
          37.72,
          37.72,
          32.82,
          32.82,
          32.82,
          37.72,
          37.72,
          37.72,
          37.72,
          37.72,
          37.72,
          23.02,
          37.72,
          32.82,
          23.02,
          37.72,
          37.72,
          32.82,
          27.92,
          37.72,
          27.92,
          32.82,
          32.82,
          32.82,
          37.72,
          37.72,
          32.82,
          32.82,
          37.72,
          23.02,
          37.72,
          37.72,
          32.82,
          27.92,
          37.72,
          32.82,
          32.82,
          23.02,
          27.92,
          23.02,
          27.92,
          27.92,
          37.72,
          32.82,
          37.72,
          32.82,
          32.82,
          32.82,
          27.92,
          32.82,
          27.92,
          27.92,
          32.82,
          32.82,
          32.82,
          32.82,
          32.82,
          32.82,
          32.82,
          27.92,
          32.82,
          23.02,
          23.02,
          27.92,
          32.82,
          27.92,
          27.92,
          27.92,
          32.82,
          27.92,
          23.02,
          27.92,
          32.82,
          32.82,
          27.92,
          32.82,
          23.02,
          23.02,
          32.82,
          32.82,
          32.82,
          32.82,
          32.82,
          32.82,
          23.02,
          27.92,
          32.82,
          32.82,
          23.02,
          32.82,
          32.82,
          27.92,
          32.82,
          27.92
         ],
         "y0": " ",
         "yaxis": "y"
        }
       ],
       "layout": {
        "boxmode": "group",
        "legend": {
         "tracegroupgap": 0
        },
        "template": {
         "data": {
          "bar": [
           {
            "error_x": {
             "color": "#2a3f5f"
            },
            "error_y": {
             "color": "#2a3f5f"
            },
            "marker": {
             "line": {
              "color": "#E5ECF6",
              "width": 0.5
             },
             "pattern": {
              "fillmode": "overlay",
              "size": 10,
              "solidity": 0.2
             }
            },
            "type": "bar"
           }
          ],
          "barpolar": [
           {
            "marker": {
             "line": {
              "color": "#E5ECF6",
              "width": 0.5
             },
             "pattern": {
              "fillmode": "overlay",
              "size": 10,
              "solidity": 0.2
             }
            },
            "type": "barpolar"
           }
          ],
          "carpet": [
           {
            "aaxis": {
             "endlinecolor": "#2a3f5f",
             "gridcolor": "white",
             "linecolor": "white",
             "minorgridcolor": "white",
             "startlinecolor": "#2a3f5f"
            },
            "baxis": {
             "endlinecolor": "#2a3f5f",
             "gridcolor": "white",
             "linecolor": "white",
             "minorgridcolor": "white",
             "startlinecolor": "#2a3f5f"
            },
            "type": "carpet"
           }
          ],
          "choropleth": [
           {
            "colorbar": {
             "outlinewidth": 0,
             "ticks": ""
            },
            "type": "choropleth"
           }
          ],
          "contour": [
           {
            "colorbar": {
             "outlinewidth": 0,
             "ticks": ""
            },
            "colorscale": [
             [
              0,
              "#0d0887"
             ],
             [
              0.1111111111111111,
              "#46039f"
             ],
             [
              0.2222222222222222,
              "#7201a8"
             ],
             [
              0.3333333333333333,
              "#9c179e"
             ],
             [
              0.4444444444444444,
              "#bd3786"
             ],
             [
              0.5555555555555556,
              "#d8576b"
             ],
             [
              0.6666666666666666,
              "#ed7953"
             ],
             [
              0.7777777777777778,
              "#fb9f3a"
             ],
             [
              0.8888888888888888,
              "#fdca26"
             ],
             [
              1,
              "#f0f921"
             ]
            ],
            "type": "contour"
           }
          ],
          "contourcarpet": [
           {
            "colorbar": {
             "outlinewidth": 0,
             "ticks": ""
            },
            "type": "contourcarpet"
           }
          ],
          "heatmap": [
           {
            "colorbar": {
             "outlinewidth": 0,
             "ticks": ""
            },
            "colorscale": [
             [
              0,
              "#0d0887"
             ],
             [
              0.1111111111111111,
              "#46039f"
             ],
             [
              0.2222222222222222,
              "#7201a8"
             ],
             [
              0.3333333333333333,
              "#9c179e"
             ],
             [
              0.4444444444444444,
              "#bd3786"
             ],
             [
              0.5555555555555556,
              "#d8576b"
             ],
             [
              0.6666666666666666,
              "#ed7953"
             ],
             [
              0.7777777777777778,
              "#fb9f3a"
             ],
             [
              0.8888888888888888,
              "#fdca26"
             ],
             [
              1,
              "#f0f921"
             ]
            ],
            "type": "heatmap"
           }
          ],
          "heatmapgl": [
           {
            "colorbar": {
             "outlinewidth": 0,
             "ticks": ""
            },
            "colorscale": [
             [
              0,
              "#0d0887"
             ],
             [
              0.1111111111111111,
              "#46039f"
             ],
             [
              0.2222222222222222,
              "#7201a8"
             ],
             [
              0.3333333333333333,
              "#9c179e"
             ],
             [
              0.4444444444444444,
              "#bd3786"
             ],
             [
              0.5555555555555556,
              "#d8576b"
             ],
             [
              0.6666666666666666,
              "#ed7953"
             ],
             [
              0.7777777777777778,
              "#fb9f3a"
             ],
             [
              0.8888888888888888,
              "#fdca26"
             ],
             [
              1,
              "#f0f921"
             ]
            ],
            "type": "heatmapgl"
           }
          ],
          "histogram": [
           {
            "marker": {
             "pattern": {
              "fillmode": "overlay",
              "size": 10,
              "solidity": 0.2
             }
            },
            "type": "histogram"
           }
          ],
          "histogram2d": [
           {
            "colorbar": {
             "outlinewidth": 0,
             "ticks": ""
            },
            "colorscale": [
             [
              0,
              "#0d0887"
             ],
             [
              0.1111111111111111,
              "#46039f"
             ],
             [
              0.2222222222222222,
              "#7201a8"
             ],
             [
              0.3333333333333333,
              "#9c179e"
             ],
             [
              0.4444444444444444,
              "#bd3786"
             ],
             [
              0.5555555555555556,
              "#d8576b"
             ],
             [
              0.6666666666666666,
              "#ed7953"
             ],
             [
              0.7777777777777778,
              "#fb9f3a"
             ],
             [
              0.8888888888888888,
              "#fdca26"
             ],
             [
              1,
              "#f0f921"
             ]
            ],
            "type": "histogram2d"
           }
          ],
          "histogram2dcontour": [
           {
            "colorbar": {
             "outlinewidth": 0,
             "ticks": ""
            },
            "colorscale": [
             [
              0,
              "#0d0887"
             ],
             [
              0.1111111111111111,
              "#46039f"
             ],
             [
              0.2222222222222222,
              "#7201a8"
             ],
             [
              0.3333333333333333,
              "#9c179e"
             ],
             [
              0.4444444444444444,
              "#bd3786"
             ],
             [
              0.5555555555555556,
              "#d8576b"
             ],
             [
              0.6666666666666666,
              "#ed7953"
             ],
             [
              0.7777777777777778,
              "#fb9f3a"
             ],
             [
              0.8888888888888888,
              "#fdca26"
             ],
             [
              1,
              "#f0f921"
             ]
            ],
            "type": "histogram2dcontour"
           }
          ],
          "mesh3d": [
           {
            "colorbar": {
             "outlinewidth": 0,
             "ticks": ""
            },
            "type": "mesh3d"
           }
          ],
          "parcoords": [
           {
            "line": {
             "colorbar": {
              "outlinewidth": 0,
              "ticks": ""
             }
            },
            "type": "parcoords"
           }
          ],
          "pie": [
           {
            "automargin": true,
            "type": "pie"
           }
          ],
          "scatter": [
           {
            "fillpattern": {
             "fillmode": "overlay",
             "size": 10,
             "solidity": 0.2
            },
            "type": "scatter"
           }
          ],
          "scatter3d": [
           {
            "line": {
             "colorbar": {
              "outlinewidth": 0,
              "ticks": ""
             }
            },
            "marker": {
             "colorbar": {
              "outlinewidth": 0,
              "ticks": ""
             }
            },
            "type": "scatter3d"
           }
          ],
          "scattercarpet": [
           {
            "marker": {
             "colorbar": {
              "outlinewidth": 0,
              "ticks": ""
             }
            },
            "type": "scattercarpet"
           }
          ],
          "scattergeo": [
           {
            "marker": {
             "colorbar": {
              "outlinewidth": 0,
              "ticks": ""
             }
            },
            "type": "scattergeo"
           }
          ],
          "scattergl": [
           {
            "marker": {
             "colorbar": {
              "outlinewidth": 0,
              "ticks": ""
             }
            },
            "type": "scattergl"
           }
          ],
          "scattermapbox": [
           {
            "marker": {
             "colorbar": {
              "outlinewidth": 0,
              "ticks": ""
             }
            },
            "type": "scattermapbox"
           }
          ],
          "scatterpolar": [
           {
            "marker": {
             "colorbar": {
              "outlinewidth": 0,
              "ticks": ""
             }
            },
            "type": "scatterpolar"
           }
          ],
          "scatterpolargl": [
           {
            "marker": {
             "colorbar": {
              "outlinewidth": 0,
              "ticks": ""
             }
            },
            "type": "scatterpolargl"
           }
          ],
          "scatterternary": [
           {
            "marker": {
             "colorbar": {
              "outlinewidth": 0,
              "ticks": ""
             }
            },
            "type": "scatterternary"
           }
          ],
          "surface": [
           {
            "colorbar": {
             "outlinewidth": 0,
             "ticks": ""
            },
            "colorscale": [
             [
              0,
              "#0d0887"
             ],
             [
              0.1111111111111111,
              "#46039f"
             ],
             [
              0.2222222222222222,
              "#7201a8"
             ],
             [
              0.3333333333333333,
              "#9c179e"
             ],
             [
              0.4444444444444444,
              "#bd3786"
             ],
             [
              0.5555555555555556,
              "#d8576b"
             ],
             [
              0.6666666666666666,
              "#ed7953"
             ],
             [
              0.7777777777777778,
              "#fb9f3a"
             ],
             [
              0.8888888888888888,
              "#fdca26"
             ],
             [
              1,
              "#f0f921"
             ]
            ],
            "type": "surface"
           }
          ],
          "table": [
           {
            "cells": {
             "fill": {
              "color": "#EBF0F8"
             },
             "line": {
              "color": "white"
             }
            },
            "header": {
             "fill": {
              "color": "#C8D4E3"
             },
             "line": {
              "color": "white"
             }
            },
            "type": "table"
           }
          ]
         },
         "layout": {
          "annotationdefaults": {
           "arrowcolor": "#2a3f5f",
           "arrowhead": 0,
           "arrowwidth": 1
          },
          "autotypenumbers": "strict",
          "coloraxis": {
           "colorbar": {
            "outlinewidth": 0,
            "ticks": ""
           }
          },
          "colorscale": {
           "diverging": [
            [
             0,
             "#8e0152"
            ],
            [
             0.1,
             "#c51b7d"
            ],
            [
             0.2,
             "#de77ae"
            ],
            [
             0.3,
             "#f1b6da"
            ],
            [
             0.4,
             "#fde0ef"
            ],
            [
             0.5,
             "#f7f7f7"
            ],
            [
             0.6,
             "#e6f5d0"
            ],
            [
             0.7,
             "#b8e186"
            ],
            [
             0.8,
             "#7fbc41"
            ],
            [
             0.9,
             "#4d9221"
            ],
            [
             1,
             "#276419"
            ]
           ],
           "sequential": [
            [
             0,
             "#0d0887"
            ],
            [
             0.1111111111111111,
             "#46039f"
            ],
            [
             0.2222222222222222,
             "#7201a8"
            ],
            [
             0.3333333333333333,
             "#9c179e"
            ],
            [
             0.4444444444444444,
             "#bd3786"
            ],
            [
             0.5555555555555556,
             "#d8576b"
            ],
            [
             0.6666666666666666,
             "#ed7953"
            ],
            [
             0.7777777777777778,
             "#fb9f3a"
            ],
            [
             0.8888888888888888,
             "#fdca26"
            ],
            [
             1,
             "#f0f921"
            ]
           ],
           "sequentialminus": [
            [
             0,
             "#0d0887"
            ],
            [
             0.1111111111111111,
             "#46039f"
            ],
            [
             0.2222222222222222,
             "#7201a8"
            ],
            [
             0.3333333333333333,
             "#9c179e"
            ],
            [
             0.4444444444444444,
             "#bd3786"
            ],
            [
             0.5555555555555556,
             "#d8576b"
            ],
            [
             0.6666666666666666,
             "#ed7953"
            ],
            [
             0.7777777777777778,
             "#fb9f3a"
            ],
            [
             0.8888888888888888,
             "#fdca26"
            ],
            [
             1,
             "#f0f921"
            ]
           ]
          },
          "colorway": [
           "#636efa",
           "#EF553B",
           "#00cc96",
           "#ab63fa",
           "#FFA15A",
           "#19d3f3",
           "#FF6692",
           "#B6E880",
           "#FF97FF",
           "#FECB52"
          ],
          "font": {
           "color": "#2a3f5f"
          },
          "geo": {
           "bgcolor": "white",
           "lakecolor": "white",
           "landcolor": "#E5ECF6",
           "showlakes": true,
           "showland": true,
           "subunitcolor": "white"
          },
          "hoverlabel": {
           "align": "left"
          },
          "hovermode": "closest",
          "mapbox": {
           "style": "light"
          },
          "paper_bgcolor": "white",
          "plot_bgcolor": "#E5ECF6",
          "polar": {
           "angularaxis": {
            "gridcolor": "white",
            "linecolor": "white",
            "ticks": ""
           },
           "bgcolor": "#E5ECF6",
           "radialaxis": {
            "gridcolor": "white",
            "linecolor": "white",
            "ticks": ""
           }
          },
          "scene": {
           "xaxis": {
            "backgroundcolor": "#E5ECF6",
            "gridcolor": "white",
            "gridwidth": 2,
            "linecolor": "white",
            "showbackground": true,
            "ticks": "",
            "zerolinecolor": "white"
           },
           "yaxis": {
            "backgroundcolor": "#E5ECF6",
            "gridcolor": "white",
            "gridwidth": 2,
            "linecolor": "white",
            "showbackground": true,
            "ticks": "",
            "zerolinecolor": "white"
           },
           "zaxis": {
            "backgroundcolor": "#E5ECF6",
            "gridcolor": "white",
            "gridwidth": 2,
            "linecolor": "white",
            "showbackground": true,
            "ticks": "",
            "zerolinecolor": "white"
           }
          },
          "shapedefaults": {
           "line": {
            "color": "#2a3f5f"
           }
          },
          "ternary": {
           "aaxis": {
            "gridcolor": "white",
            "linecolor": "white",
            "ticks": ""
           },
           "baxis": {
            "gridcolor": "white",
            "linecolor": "white",
            "ticks": ""
           },
           "bgcolor": "#E5ECF6",
           "caxis": {
            "gridcolor": "white",
            "linecolor": "white",
            "ticks": ""
           }
          },
          "title": {
           "x": 0.05
          },
          "xaxis": {
           "automargin": true,
           "gridcolor": "white",
           "linecolor": "white",
           "ticks": "",
           "title": {
            "standoff": 15
           },
           "zerolinecolor": "white",
           "zerolinewidth": 2
          },
          "yaxis": {
           "automargin": true,
           "gridcolor": "white",
           "linecolor": "white",
           "ticks": "",
           "title": {
            "standoff": 15
           },
           "zerolinecolor": "white",
           "zerolinewidth": 2
          }
         }
        },
        "title": {
         "text": "Money Spent by Cash Type"
        },
        "xaxis": {
         "anchor": "y",
         "domain": [
          0,
          1
         ],
         "title": {
          "text": "cash_type"
         }
        },
        "yaxis": {
         "anchor": "x",
         "domain": [
          0,
          1
         ],
         "title": {
          "text": "money"
         }
        }
       }
      }
     },
     "metadata": {},
     "output_type": "display_data"
    }
   ],
   "source": [
    "fig = px.box(df, x='cash_type', y='money', title='Money Spent by Cash Type')\n",
    "fig.show()"
   ]
  },
  {
   "cell_type": "code",
   "execution_count": 49,
   "metadata": {},
   "outputs": [
    {
     "data": {
      "application/vnd.plotly.v1+json": {
       "config": {
        "plotlyServerURL": "https://plot.ly"
       },
       "data": [
        {
         "alignmentgroup": "True",
         "hovertemplate": "coffee_name=%{x}<br>money=%{y}<extra></extra>",
         "legendgroup": "",
         "marker": {
          "color": "#636efa"
         },
         "name": "",
         "notched": false,
         "offsetgroup": "",
         "orientation": "v",
         "showlegend": false,
         "type": "box",
         "x": [
          "Latte",
          "Hot Chocolate",
          "Hot Chocolate",
          "Americano",
          "Latte",
          "Americano with Milk",
          "Hot Chocolate",
          "Americano with Milk",
          "Cocoa",
          "Americano with Milk",
          "Americano with Milk",
          "Americano",
          "Latte",
          "Americano with Milk",
          "Americano with Milk",
          "Americano",
          "Americano with Milk",
          "Americano",
          "Latte",
          "Latte",
          "Cortado",
          "Americano",
          "Hot Chocolate",
          "Cocoa",
          "Cortado",
          "Americano with Milk",
          "Americano with Milk",
          "Hot Chocolate",
          "Latte",
          "Latte",
          "Americano with Milk",
          "Espresso",
          "Latte",
          "Latte",
          "Latte",
          "Hot Chocolate",
          "Cocoa",
          "Hot Chocolate",
          "Hot Chocolate",
          "Cortado",
          "Hot Chocolate",
          "Americano with Milk",
          "Americano",
          "Cortado",
          "Cappuccino",
          "Cappuccino",
          "Latte",
          "Hot Chocolate",
          "Latte",
          "Latte",
          "Americano",
          "Americano with Milk",
          "Cortado",
          "Cappuccino",
          "Americano",
          "Americano",
          "Americano",
          "Americano with Milk",
          "Latte",
          "Latte",
          "Hot Chocolate",
          "Espresso",
          "Americano",
          "Cappuccino",
          "Americano",
          "Americano",
          "Latte",
          "Americano with Milk",
          "Cortado",
          "Cappuccino",
          "Americano with Milk",
          "Hot Chocolate",
          "Cappuccino",
          "Hot Chocolate",
          "Americano",
          "Americano with Milk",
          "Latte",
          "Espresso",
          "Americano with Milk",
          "Latte",
          "Cortado",
          "Latte",
          "Cappuccino",
          "Cortado",
          "Americano",
          "Cappuccino",
          "Americano",
          "Latte",
          "Cortado",
          "Latte",
          "Americano",
          "Cortado",
          "Hot Chocolate",
          "Americano with Milk",
          "Americano",
          "Americano",
          "Hot Chocolate",
          "Americano",
          "Americano",
          "Americano",
          "Espresso",
          "Americano with Milk",
          "Espresso",
          "Espresso",
          "Espresso",
          "Latte",
          "Latte",
          "Hot Chocolate",
          "Cortado",
          "Americano",
          "Americano with Milk",
          "Espresso",
          "Latte",
          "Americano with Milk",
          "Espresso",
          "Hot Chocolate",
          "Cortado",
          "Latte",
          "Hot Chocolate",
          "Americano",
          "Americano with Milk",
          "Americano",
          "Cortado",
          "Cortado",
          "Cortado",
          "Americano with Milk",
          "Latte",
          "Cortado",
          "Cortado",
          "Americano",
          "Americano",
          "Americano",
          "Cortado",
          "Latte",
          "Latte",
          "Hot Chocolate",
          "Americano with Milk",
          "Hot Chocolate",
          "Cortado",
          "Latte",
          "Cortado",
          "Cappuccino",
          "Cocoa",
          "Latte",
          "Cappuccino",
          "Cortado",
          "Cappuccino",
          "Americano",
          "Cortado",
          "Latte",
          "Americano with Milk",
          "Americano with Milk",
          "Cappuccino",
          "Americano",
          "Espresso",
          "Americano",
          "Latte",
          "Americano with Milk",
          "Cappuccino",
          "Cocoa",
          "Americano with Milk",
          "Latte",
          "Americano with Milk",
          "Cortado",
          "Latte",
          "Latte",
          "Latte",
          "Americano with Milk",
          "Latte",
          "Latte",
          "Americano with Milk",
          "Cappuccino",
          "Cocoa",
          "Latte",
          "Latte",
          "Cortado",
          "Americano",
          "Cortado",
          "Cortado",
          "Americano",
          "Latte",
          "Latte",
          "Hot Chocolate",
          "Cortado",
          "Americano with Milk",
          "Americano with Milk",
          "Hot Chocolate",
          "Cappuccino",
          "Americano",
          "Cortado",
          "Latte",
          "Cortado",
          "Cortado",
          "Americano",
          "Latte",
          "Latte",
          "Cappuccino",
          "Cappuccino",
          "Cappuccino",
          "Latte",
          "Cappuccino",
          "Latte",
          "Latte",
          "Americano with Milk",
          "Cappuccino",
          "Americano",
          "Americano",
          "Americano with Milk",
          "Americano with Milk",
          "Americano with Milk",
          "Cappuccino",
          "Americano with Milk",
          "Hot Chocolate",
          "Latte",
          "Americano",
          "Cortado",
          "Cappuccino",
          "Cortado",
          "Americano",
          "Cappuccino",
          "Cortado",
          "Latte",
          "Latte",
          "Cappuccino",
          "Cortado",
          "Latte",
          "Americano",
          "Americano",
          "Cortado",
          "Americano with Milk",
          "Latte",
          "Cortado",
          "Latte",
          "Cappuccino",
          "Americano",
          "Cocoa",
          "Espresso",
          "Americano with Milk",
          "Cappuccino",
          "Americano",
          "Latte",
          "Latte",
          "Cappuccino",
          "Cappuccino",
          "Cortado",
          "Espresso",
          "Hot Chocolate",
          "Americano with Milk",
          "Americano with Milk",
          "Cappuccino",
          "Americano",
          "Cappuccino",
          "Espresso",
          "Americano with Milk",
          "Latte",
          "Americano",
          "Americano with Milk",
          "Cappuccino",
          "Cappuccino",
          "Americano",
          "Latte",
          "Hot Chocolate",
          "Hot Chocolate",
          "Espresso",
          "Hot Chocolate",
          "Espresso",
          "Cappuccino",
          "Latte",
          "Americano",
          "Americano",
          "Latte",
          "Cappuccino",
          "Americano with Milk",
          "Hot Chocolate",
          "Cortado",
          "Latte",
          "Americano",
          "Hot Chocolate",
          "Hot Chocolate",
          "Cappuccino",
          "Latte",
          "Cappuccino",
          "Cappuccino",
          "Latte",
          "Cappuccino",
          "Cortado",
          "Cortado",
          "Americano with Milk",
          "Cortado",
          "Americano",
          "Americano",
          "Americano",
          "Cappuccino",
          "Cortado",
          "Latte",
          "Cappuccino",
          "Americano",
          "Americano",
          "Americano with Milk",
          "Americano with Milk",
          "Espresso",
          "Americano with Milk",
          "Americano with Milk",
          "Cocoa",
          "Cortado",
          "Americano",
          "Americano with Milk",
          "Cappuccino",
          "Cocoa",
          "Americano",
          "Espresso",
          "Cappuccino",
          "Cappuccino",
          "Cappuccino",
          "Cortado",
          "Americano",
          "Americano",
          "Americano with Milk",
          "Cortado",
          "Cappuccino",
          "Latte",
          "Latte",
          "Cappuccino",
          "Hot Chocolate",
          "Hot Chocolate",
          "Latte",
          "Americano with Milk",
          "Cappuccino",
          "Hot Chocolate",
          "Cappuccino",
          "Cocoa",
          "Americano with Milk",
          "Americano with Milk",
          "Americano with Milk",
          "Americano with Milk",
          "Americano",
          "Americano with Milk",
          "Hot Chocolate",
          "Cappuccino",
          "Americano with Milk",
          "Americano with Milk",
          "Americano with Milk",
          "Cocoa",
          "Cappuccino",
          "Cappuccino",
          "Latte",
          "Latte",
          "Americano",
          "Cappuccino",
          "Americano",
          "Americano with Milk",
          "Latte",
          "Latte",
          "Cappuccino",
          "Cappuccino",
          "Americano with Milk",
          "Cappuccino",
          "Americano with Milk",
          "Americano with Milk",
          "Latte",
          "Americano with Milk",
          "Americano with Milk",
          "Americano with Milk",
          "Americano with Milk",
          "Americano with Milk",
          "Americano with Milk",
          "Cappuccino",
          "Americano",
          "Latte",
          "Americano",
          "Americano",
          "Latte",
          "Latte",
          "Cappuccino",
          "Americano",
          "Americano",
          "Cortado",
          "Americano",
          "Hot Chocolate",
          "Cocoa",
          "Cappuccino",
          "Latte",
          "Cappuccino",
          "Americano",
          "Americano",
          "Latte",
          "Cortado",
          "Americano",
          "Cortado",
          "Cortado",
          "Americano with Milk",
          "Cappuccino",
          "Cappuccino",
          "Cappuccino",
          "Latte",
          "Americano with Milk",
          "Americano with Milk",
          "Americano",
          "Americano with Milk",
          "Cappuccino",
          "Americano with Milk",
          "Latte",
          "Americano",
          "Latte",
          "Americano with Milk",
          "Cappuccino",
          "Americano with Milk",
          "Latte",
          "Cappuccino",
          "Latte",
          "Latte",
          "Latte",
          "Americano",
          "Cappuccino",
          "Americano with Milk",
          "Americano",
          "Cortado",
          "Americano",
          "Cortado",
          "Americano",
          "Cappuccino",
          "Cappuccino",
          "Cocoa",
          "Cortado",
          "Cortado",
          "Cocoa",
          "Americano",
          "Cappuccino",
          "Latte",
          "Americano with Milk",
          "Cappuccino",
          "Cappuccino",
          "Latte",
          "Cappuccino",
          "Americano",
          "Latte",
          "Latte",
          "Latte",
          "Americano",
          "Americano",
          "Americano",
          "Americano with Milk",
          "Latte",
          "Latte",
          "Latte",
          "Americano with Milk",
          "Latte",
          "Latte",
          "Americano with Milk",
          "Cocoa",
          "Cappuccino",
          "Americano with Milk",
          "Cappuccino",
          "Latte",
          "Latte",
          "Latte",
          "Americano",
          "Latte",
          "Americano with Milk",
          "Americano with Milk",
          "Americano with Milk",
          "Americano with Milk",
          "Americano with Milk",
          "Americano",
          "Americano",
          "Americano",
          "Americano",
          "Americano",
          "Cappuccino",
          "Latte",
          "Cappuccino",
          "Cappuccino",
          "Americano with Milk",
          "Americano",
          "Americano with Milk",
          "Cappuccino",
          "Hot Chocolate",
          "Latte",
          "Espresso",
          "Americano",
          "Americano",
          "Americano",
          "Americano",
          "Americano with Milk",
          "Americano",
          "Cortado",
          "Cortado",
          "Espresso",
          "Cappuccino",
          "Americano with Milk",
          "Americano with Milk",
          "Latte",
          "Cappuccino",
          "Americano with Milk",
          "Hot Chocolate",
          "Latte",
          "Hot Chocolate",
          "Latte",
          "Americano",
          "Americano with Milk",
          "Americano with Milk",
          "Americano with Milk",
          "Cappuccino",
          "Cappuccino",
          "Americano",
          "Latte",
          "Latte",
          "Cappuccino",
          "Cappuccino",
          "Americano with Milk",
          "Americano with Milk",
          "Americano with Milk",
          "Americano with Milk",
          "Latte",
          "Cappuccino",
          "Americano",
          "Americano",
          "Cappuccino",
          "Espresso",
          "Americano with Milk",
          "Americano",
          "Americano with Milk",
          "Americano with Milk",
          "Espresso",
          "Hot Chocolate",
          "Cappuccino",
          "Cappuccino",
          "Cappuccino",
          "Americano with Milk",
          "Latte",
          "Latte",
          "Americano",
          "Americano",
          "Americano",
          "Americano",
          "Americano with Milk",
          "Cappuccino",
          "Americano",
          "Latte",
          "Latte",
          "Americano with Milk",
          "Cocoa",
          "Cortado",
          "Americano with Milk",
          "Americano with Milk",
          "Latte",
          "Americano",
          "Americano with Milk",
          "Cocoa",
          "Latte",
          "Latte",
          "Espresso",
          "Cappuccino",
          "Cappuccino",
          "Cappuccino",
          "Americano with Milk",
          "Cortado",
          "Americano with Milk",
          "Americano",
          "Americano",
          "Americano with Milk",
          "Cappuccino",
          "Cappuccino",
          "Hot Chocolate",
          "Cappuccino",
          "Cappuccino",
          "Espresso",
          "Cappuccino",
          "Cappuccino",
          "Cappuccino",
          "Latte",
          "Cappuccino",
          "Latte",
          "Cortado",
          "Cappuccino",
          "Cappuccino",
          "Cappuccino",
          "Cappuccino",
          "Latte",
          "Americano with Milk",
          "Hot Chocolate",
          "Cortado",
          "Americano",
          "Americano",
          "Hot Chocolate",
          "Cortado",
          "Cortado",
          "Americano with Milk",
          "Americano",
          "Latte",
          "Americano",
          "Americano with Milk",
          "Americano with Milk",
          "Americano with Milk",
          "Americano with Milk",
          "Americano",
          "Latte",
          "Americano with Milk",
          "Cortado",
          "Americano with Milk",
          "Cappuccino",
          "Hot Chocolate",
          "Hot Chocolate",
          "Americano",
          "Latte",
          "Hot Chocolate",
          "Cappuccino",
          "Cortado",
          "Cappuccino",
          "Latte",
          "Cappuccino",
          "Americano",
          "Americano with Milk",
          "Cocoa",
          "Americano",
          "Americano",
          "Latte",
          "Americano",
          "Latte",
          "Latte",
          "Americano with Milk",
          "Cappuccino",
          "Americano with Milk",
          "Americano with Milk",
          "Cappuccino",
          "Cappuccino",
          "Cocoa",
          "Cortado",
          "Cappuccino",
          "Americano",
          "Latte",
          "Americano with Milk",
          "Americano",
          "Latte",
          "Latte",
          "Hot Chocolate",
          "Americano",
          "Latte",
          "Cappuccino",
          "Latte",
          "Cortado",
          "Latte",
          "Hot Chocolate",
          "Cocoa",
          "Cappuccino",
          "Latte",
          "Americano with Milk",
          "Latte",
          "Americano with Milk",
          "Espresso",
          "Espresso",
          "Cappuccino",
          "Latte",
          "Hot Chocolate",
          "Americano with Milk",
          "Americano with Milk",
          "Latte",
          "Latte",
          "Hot Chocolate",
          "Cocoa",
          "Americano with Milk",
          "Latte",
          "Latte",
          "Cappuccino",
          "Americano with Milk",
          "Latte",
          "Cappuccino",
          "Americano with Milk",
          "Cortado",
          "Cortado",
          "Latte",
          "Latte",
          "Americano with Milk",
          "Americano with Milk",
          "Americano with Milk",
          "Cappuccino",
          "Cappuccino",
          "Cocoa",
          "Cocoa",
          "Americano with Milk",
          "Latte",
          "Americano with Milk",
          "Cappuccino",
          "Americano with Milk",
          "Latte",
          "Americano with Milk",
          "Latte",
          "Latte",
          "Cappuccino",
          "Americano with Milk",
          "Latte",
          "Americano with Milk",
          "Americano with Milk",
          "Cortado",
          "Americano with Milk",
          "Latte",
          "Hot Chocolate",
          "Latte",
          "Cortado",
          "Cappuccino",
          "Hot Chocolate",
          "Cappuccino",
          "Cortado",
          "Americano with Milk",
          "Americano with Milk",
          "Americano with Milk",
          "Americano with Milk",
          "Cappuccino",
          "Cappuccino",
          "Americano",
          "Latte",
          "Americano with Milk",
          "Americano with Milk",
          "Latte",
          "Cocoa",
          "Cortado",
          "Americano with Milk",
          "Americano with Milk",
          "Latte",
          "Americano",
          "Americano with Milk",
          "Cappuccino",
          "Latte",
          "Latte",
          "Cappuccino",
          "Americano with Milk",
          "Latte",
          "Cappuccino",
          "Espresso",
          "Americano with Milk",
          "Cortado",
          "Cortado",
          "Cortado",
          "Americano with Milk",
          "Cappuccino",
          "Cappuccino",
          "Latte",
          "Latte",
          "Cappuccino",
          "Cortado",
          "Espresso",
          "Cappuccino",
          "Americano with Milk",
          "Latte",
          "Latte",
          "Cortado",
          "Cappuccino",
          "Americano with Milk",
          "Americano",
          "Cappuccino",
          "Latte",
          "Hot Chocolate",
          "Hot Chocolate",
          "Latte",
          "Latte",
          "Americano with Milk",
          "Latte",
          "Latte",
          "Hot Chocolate",
          "Americano with Milk",
          "Americano with Milk",
          "Hot Chocolate",
          "Cappuccino",
          "Latte",
          "Latte",
          "Hot Chocolate",
          "Americano with Milk",
          "Americano",
          "Latte",
          "Americano with Milk",
          "Cortado",
          "Americano with Milk",
          "Hot Chocolate",
          "Latte",
          "Americano with Milk",
          "Espresso",
          "Espresso",
          "Americano with Milk",
          "Americano with Milk",
          "Cortado",
          "Americano",
          "Latte",
          "Americano with Milk",
          "Cappuccino",
          "Latte",
          "Americano with Milk",
          "Espresso",
          "Cocoa",
          "Americano with Milk",
          "Americano with Milk",
          "Americano",
          "Americano with Milk",
          "Latte",
          "Hot Chocolate",
          "Hot Chocolate",
          "Americano with Milk",
          "Espresso",
          "Americano with Milk",
          "Americano with Milk",
          "Hot Chocolate",
          "Hot Chocolate",
          "Americano with Milk",
          "Americano with Milk",
          "Americano",
          "Cortado",
          "Cortado",
          "Cappuccino",
          "Cappuccino",
          "Cappuccino",
          "Cappuccino",
          "Americano",
          "Americano",
          "Americano with Milk",
          "Americano",
          "Cappuccino",
          "Cappuccino",
          "Cappuccino",
          "Cortado",
          "Americano with Milk",
          "Americano with Milk",
          "Latte",
          "Cortado",
          "Americano",
          "Latte",
          "Cocoa",
          "Americano with Milk",
          "Cappuccino",
          "Latte",
          "Americano with Milk",
          "Cappuccino",
          "Americano with Milk",
          "Latte",
          "Latte",
          "Latte",
          "Latte",
          "Latte",
          "Americano with Milk",
          "Latte",
          "Americano",
          "Americano with Milk",
          "Americano with Milk",
          "Espresso",
          "Latte",
          "Cappuccino",
          "Cappuccino",
          "Cappuccino",
          "Cappuccino",
          "Americano",
          "Americano with Milk",
          "Cortado",
          "Americano with Milk",
          "Americano with Milk",
          "Latte",
          "Cappuccino",
          "Americano with Milk",
          "Americano with Milk",
          "Cappuccino",
          "Latte",
          "Cappuccino",
          "Americano with Milk",
          "Cappuccino",
          "Cappuccino",
          "Latte",
          "Cappuccino",
          "Cappuccino",
          "Latte",
          "Americano with Milk",
          "Americano with Milk",
          "Cappuccino",
          "Latte",
          "Espresso",
          "Americano",
          "Latte",
          "Cappuccino",
          "Americano with Milk",
          "Americano with Milk",
          "Cortado",
          "Americano with Milk",
          "Cappuccino",
          "Cortado",
          "Espresso",
          "Americano with Milk",
          "Latte",
          "Cappuccino",
          "Americano with Milk",
          "Americano with Milk",
          "Americano with Milk",
          "Cappuccino",
          "Cappuccino",
          "Cappuccino",
          "Hot Chocolate",
          "Latte",
          "Latte",
          "Espresso",
          "Hot Chocolate",
          "Americano with Milk",
          "Espresso",
          "Cappuccino",
          "Cappuccino",
          "Americano with Milk",
          "Americano",
          "Latte",
          "Americano",
          "Americano with Milk",
          "Americano with Milk",
          "Americano with Milk",
          "Cappuccino",
          "Cappuccino",
          "Americano with Milk",
          "Americano with Milk",
          "Latte",
          "Espresso",
          "Cappuccino",
          "Latte",
          "Americano with Milk",
          "Americano",
          "Cocoa",
          "Americano with Milk",
          "Americano with Milk",
          "Espresso",
          "Americano",
          "Espresso",
          "Americano",
          "Americano",
          "Cappuccino",
          "Americano with Milk",
          "Latte",
          "Latte",
          "Latte",
          "Latte",
          "Americano with Milk",
          "Cappuccino",
          "Americano with Milk",
          "Americano with Milk",
          "Cappuccino",
          "Cappuccino",
          "Hot Chocolate",
          "Cocoa",
          "Latte",
          "Cappuccino",
          "Hot Chocolate",
          "Americano with Milk",
          "Latte",
          "Americano",
          "Americano",
          "Americano with Milk",
          "Latte",
          "Americano with Milk",
          "Americano with Milk",
          "Americano with Milk",
          "Cappuccino",
          "Americano with Milk",
          "Americano",
          "Americano with Milk",
          "Latte",
          "Hot Chocolate",
          "Americano with Milk",
          "Latte",
          "Americano",
          "Cortado",
          "Hot Chocolate",
          "Hot Chocolate",
          "Hot Chocolate",
          "Hot Chocolate",
          "Latte",
          "Latte",
          "Americano",
          "Americano with Milk",
          "Cappuccino",
          "Latte",
          "Americano",
          "Latte",
          "Cappuccino",
          "Americano with Milk",
          "Hot Chocolate",
          "Americano with Milk"
         ],
         "x0": " ",
         "xaxis": "x",
         "y": [
          38.7,
          38.7,
          38.7,
          28.9,
          38.7,
          33.8,
          38.7,
          33.8,
          38.7,
          33.8,
          33.8,
          28.9,
          40,
          33.8,
          33.8,
          28.9,
          33.8,
          28.9,
          40,
          38.7,
          28.9,
          28.9,
          38.7,
          38.7,
          28.9,
          33.8,
          33.8,
          38.7,
          38.7,
          38.7,
          33.8,
          24,
          38.7,
          38.7,
          38.7,
          38.7,
          38.7,
          38.7,
          38.7,
          28.9,
          38.7,
          35,
          28.9,
          28.9,
          38.7,
          38.7,
          40,
          38.7,
          38.7,
          40,
          28.9,
          33.8,
          28.9,
          38.7,
          28.9,
          28.9,
          28.9,
          33.8,
          38.7,
          38.7,
          40,
          24,
          28.9,
          38.7,
          28.9,
          28.9,
          38.7,
          33.8,
          28.9,
          38.7,
          33.8,
          38.7,
          38.7,
          38.7,
          30,
          35,
          40,
          24,
          35,
          38.7,
          28.9,
          40,
          40,
          30,
          30,
          38.7,
          28.9,
          38.7,
          28.9,
          40,
          28.9,
          28.9,
          38.7,
          33.8,
          28.9,
          28.9,
          38.7,
          28.9,
          28.9,
          28.9,
          25,
          33.8,
          24,
          24,
          24,
          40,
          38.7,
          38.7,
          28.9,
          28.9,
          33.8,
          24,
          38.7,
          33.8,
          24,
          38.7,
          28.9,
          40,
          38.7,
          28.9,
          33.8,
          28.9,
          28.9,
          28.9,
          28.9,
          33.8,
          40,
          28.9,
          28.9,
          28.9,
          28.9,
          28.9,
          30,
          38.7,
          38.7,
          38.7,
          33.8,
          40,
          28.9,
          40,
          28.9,
          38.7,
          38.7,
          38.7,
          40,
          28.9,
          38.7,
          30,
          28.9,
          38.7,
          33.8,
          33.8,
          40,
          28.9,
          24,
          28.9,
          38.7,
          33.8,
          38.7,
          38.7,
          33.8,
          38.7,
          33.8,
          28.9,
          40,
          38.7,
          38.7,
          35,
          38.7,
          38.7,
          33.8,
          38.7,
          38.7,
          38.7,
          38.7,
          28.9,
          28.9,
          28.9,
          28.9,
          28.9,
          38.7,
          38.7,
          38.7,
          28.9,
          33.8,
          33.8,
          38.7,
          38.7,
          28.9,
          28.9,
          40,
          28.9,
          28.9,
          28.9,
          38.7,
          38.7,
          38.7,
          38.7,
          40,
          38.7,
          40,
          38.7,
          38.7,
          33.8,
          38.7,
          30,
          28.9,
          33.8,
          33.8,
          33.8,
          40,
          33.8,
          38.7,
          38.7,
          28.9,
          28.9,
          40,
          28.9,
          28.9,
          38.7,
          30,
          38.7,
          38.7,
          38.7,
          28.9,
          40,
          28.9,
          28.9,
          28.9,
          33.8,
          38.7,
          28.9,
          40,
          40,
          30,
          40,
          24,
          33.8,
          38.7,
          28.9,
          38.7,
          38.7,
          38.7,
          38.7,
          28.9,
          24,
          38.7,
          33.8,
          33.8,
          38.7,
          28.9,
          38.7,
          25,
          35,
          38.7,
          28.9,
          33.8,
          38.7,
          40,
          30,
          38.7,
          38.7,
          38.7,
          25,
          40,
          24,
          38.7,
          38.7,
          28.9,
          28.9,
          38.7,
          38.7,
          33.8,
          38.7,
          28.9,
          38.7,
          28.9,
          40,
          40,
          38.7,
          38.7,
          38.7,
          38.7,
          40,
          38.7,
          30,
          30,
          35,
          28.9,
          28.9,
          28.9,
          28.9,
          38.7,
          28.9,
          38.7,
          38.7,
          28.9,
          28.9,
          33.8,
          33.8,
          25,
          35,
          33.8,
          38.7,
          28.9,
          28.9,
          33.8,
          38.7,
          38.7,
          28.9,
          24,
          40,
          38.7,
          38.7,
          28.9,
          28.9,
          28.9,
          33.8,
          28.9,
          38.7,
          38.7,
          38.7,
          38.7,
          38.7,
          38.7,
          38.7,
          33.8,
          38.7,
          38.7,
          38.7,
          38.7,
          33.8,
          35,
          33.8,
          33.8,
          28.9,
          33.8,
          38.7,
          38.7,
          33.8,
          32.82,
          32.82,
          39,
          37.72,
          37.72,
          37.72,
          37.72,
          27.92,
          39,
          27.92,
          32.82,
          39,
          37.72,
          39,
          37.72,
          32.82,
          37.72,
          32.82,
          32.82,
          37.72,
          32.82,
          32.82,
          32.82,
          32.82,
          32.82,
          32.82,
          37.72,
          27.92,
          37.72,
          27.92,
          27.92,
          37.72,
          37.72,
          37.72,
          27.92,
          27.92,
          27.92,
          27.92,
          37.72,
          37.72,
          37.72,
          37.72,
          37.72,
          27.92,
          27.92,
          37.72,
          27.92,
          27.92,
          27.92,
          27.92,
          32.82,
          37.72,
          37.72,
          37.72,
          37.72,
          32.82,
          32.82,
          27.92,
          32.82,
          37.72,
          32.82,
          37.72,
          27.92,
          39,
          32.82,
          37.72,
          32.82,
          37.72,
          37.72,
          39,
          37.72,
          37.72,
          27.92,
          37.72,
          32.82,
          27.92,
          27.92,
          29,
          27.92,
          27.92,
          37.72,
          37.72,
          37.72,
          27.92,
          27.92,
          37.72,
          27.92,
          37.72,
          37.72,
          34,
          37.72,
          37.72,
          37.72,
          37.72,
          27.92,
          37.72,
          37.72,
          37.72,
          27.92,
          27.92,
          27.92,
          32.82,
          39,
          37.72,
          37.72,
          34,
          37.72,
          39,
          32.82,
          37.72,
          37.72,
          32.82,
          37.72,
          37.72,
          37.72,
          37.72,
          27.92,
          37.72,
          32.82,
          32.82,
          32.82,
          32.82,
          32.82,
          29,
          29,
          27.92,
          27.92,
          27.92,
          37.72,
          37.72,
          37.72,
          37.72,
          32.82,
          27.92,
          32.82,
          37.72,
          37.72,
          37.72,
          23.02,
          27.92,
          27.92,
          27.92,
          27.92,
          32.82,
          29,
          27.92,
          27.92,
          23.02,
          37.72,
          32.82,
          32.82,
          39,
          39,
          32.82,
          37.72,
          37.72,
          37.72,
          37.72,
          27.92,
          32.82,
          34,
          32.82,
          37.72,
          37.72,
          27.92,
          37.72,
          37.72,
          37.72,
          37.72,
          32.82,
          32.82,
          32.82,
          32.82,
          37.72,
          39,
          27.92,
          27.92,
          37.72,
          24,
          32.82,
          27.92,
          32.82,
          32.82,
          23.02,
          37.72,
          37.72,
          37.72,
          37.72,
          32.82,
          37.72,
          37.72,
          27.92,
          27.92,
          27.92,
          27.92,
          32.82,
          37.72,
          29,
          37.72,
          37.72,
          32.82,
          37.72,
          27.92,
          32.82,
          32.82,
          37.72,
          29,
          34,
          39,
          39,
          37.72,
          23.02,
          37.72,
          37.72,
          37.72,
          32.82,
          27.92,
          32.82,
          27.92,
          27.92,
          32.82,
          37.72,
          37.72,
          37.72,
          37.72,
          37.72,
          23.02,
          37.72,
          37.72,
          37.72,
          37.72,
          37.72,
          37.72,
          27.92,
          37.72,
          37.72,
          37.72,
          37.72,
          37.72,
          32.82,
          39,
          27.92,
          27.92,
          27.92,
          37.72,
          27.92,
          27.92,
          32.82,
          29,
          37.72,
          29,
          32.82,
          32.82,
          32.82,
          32.82,
          27.92,
          37.72,
          32.82,
          27.92,
          32.82,
          37.72,
          37.72,
          37.72,
          27.92,
          37.72,
          37.72,
          37.72,
          27.92,
          37.72,
          37.72,
          37.72,
          27.92,
          32.82,
          37.72,
          27.92,
          27.92,
          37.72,
          27.92,
          37.72,
          37.72,
          32.82,
          37.72,
          32.82,
          32.82,
          37.72,
          37.72,
          37.72,
          27.92,
          39,
          27.92,
          37.72,
          32.82,
          27.92,
          37.72,
          39,
          37.72,
          27.92,
          37.72,
          37.72,
          37.72,
          27.92,
          37.72,
          37.72,
          37.72,
          37.72,
          37.72,
          32.82,
          37.72,
          32.82,
          23.02,
          23.02,
          37.72,
          37.72,
          37.72,
          32.82,
          32.82,
          37.72,
          39,
          37.72,
          37.72,
          32.82,
          37.72,
          37.72,
          37.72,
          32.82,
          37.72,
          37.72,
          32.82,
          27.92,
          27.92,
          37.72,
          37.72,
          32.82,
          32.82,
          32.82,
          37.72,
          37.72,
          39,
          37.72,
          32.82,
          37.72,
          32.82,
          37.72,
          32.82,
          37.72,
          34,
          37.72,
          37.72,
          37.72,
          32.82,
          37.72,
          34,
          34,
          27.92,
          32.82,
          37.72,
          37.72,
          37.72,
          27.92,
          37.72,
          37.72,
          37.72,
          27.92,
          32.82,
          32.82,
          32.82,
          32.82,
          37.72,
          37.72,
          27.92,
          37.72,
          32.82,
          32.82,
          37.72,
          37.72,
          27.92,
          32.82,
          32.82,
          37.72,
          27.92,
          32.82,
          37.72,
          37.72,
          37.72,
          37.72,
          32.82,
          37.72,
          37.72,
          23.02,
          32.82,
          27.92,
          27.92,
          27.92,
          32.82,
          37.72,
          37.72,
          37.72,
          37.72,
          37.72,
          27.92,
          23.02,
          37.72,
          32.82,
          37.72,
          37.72,
          27.92,
          37.72,
          32.82,
          27.92,
          37.72,
          37.72,
          37.72,
          37.72,
          37.72,
          37.72,
          32.82,
          37.72,
          37.72,
          37.72,
          32.82,
          32.82,
          37.72,
          37.72,
          37.72,
          37.72,
          37.72,
          32.82,
          27.92,
          37.72,
          32.82,
          27.92,
          32.82,
          37.72,
          37.72,
          32.82,
          23.02,
          23.02,
          32.82,
          32.82,
          27.92,
          27.92,
          37.72,
          32.82,
          37.72,
          37.72,
          32.82,
          23.02,
          37.72,
          32.82,
          32.82,
          27.92,
          32.82,
          37.72,
          37.72,
          37.72,
          32.82,
          23.02,
          32.82,
          32.82,
          37.72,
          37.72,
          32.82,
          32.82,
          27.92,
          27.92,
          27.92,
          37.72,
          37.72,
          37.72,
          37.72,
          27.92,
          27.92,
          32.82,
          27.92,
          37.72,
          37.72,
          37.72,
          27.92,
          32.82,
          32.82,
          37.72,
          27.92,
          27.92,
          37.72,
          37.72,
          32.82,
          37.72,
          37.72,
          32.82,
          37.72,
          32.82,
          37.72,
          37.72,
          37.72,
          37.72,
          37.72,
          32.82,
          37.72,
          27.92,
          32.82,
          32.82,
          23.02,
          37.72,
          37.72,
          37.72,
          37.72,
          37.72,
          27.92,
          32.82,
          27.92,
          32.82,
          32.82,
          37.72,
          37.72,
          32.82,
          32.82,
          37.72,
          37.72,
          37.72,
          32.82,
          37.72,
          37.72,
          37.72,
          37.72,
          37.72,
          37.72,
          32.82,
          32.82,
          37.72,
          37.72,
          23.02,
          27.92,
          37.72,
          37.72,
          32.82,
          32.82,
          27.92,
          32.82,
          37.72,
          27.92,
          23.02,
          32.82,
          37.72,
          37.72,
          32.82,
          32.82,
          32.82,
          37.72,
          37.72,
          37.72,
          37.72,
          37.72,
          37.72,
          23.02,
          37.72,
          32.82,
          23.02,
          37.72,
          37.72,
          32.82,
          27.92,
          37.72,
          27.92,
          32.82,
          32.82,
          32.82,
          37.72,
          37.72,
          32.82,
          32.82,
          37.72,
          23.02,
          37.72,
          37.72,
          32.82,
          27.92,
          37.72,
          32.82,
          32.82,
          23.02,
          27.92,
          23.02,
          27.92,
          27.92,
          37.72,
          32.82,
          37.72,
          32.82,
          32.82,
          32.82,
          27.92,
          32.82,
          27.92,
          27.92,
          32.82,
          32.82,
          32.82,
          32.82,
          32.82,
          32.82,
          32.82,
          27.92,
          32.82,
          23.02,
          23.02,
          27.92,
          32.82,
          27.92,
          27.92,
          27.92,
          32.82,
          27.92,
          23.02,
          27.92,
          32.82,
          32.82,
          27.92,
          32.82,
          23.02,
          23.02,
          32.82,
          32.82,
          32.82,
          32.82,
          32.82,
          32.82,
          23.02,
          27.92,
          32.82,
          32.82,
          23.02,
          32.82,
          32.82,
          27.92,
          32.82,
          27.92
         ],
         "y0": " ",
         "yaxis": "y"
        }
       ],
       "layout": {
        "boxmode": "group",
        "legend": {
         "tracegroupgap": 0
        },
        "template": {
         "data": {
          "bar": [
           {
            "error_x": {
             "color": "#2a3f5f"
            },
            "error_y": {
             "color": "#2a3f5f"
            },
            "marker": {
             "line": {
              "color": "#E5ECF6",
              "width": 0.5
             },
             "pattern": {
              "fillmode": "overlay",
              "size": 10,
              "solidity": 0.2
             }
            },
            "type": "bar"
           }
          ],
          "barpolar": [
           {
            "marker": {
             "line": {
              "color": "#E5ECF6",
              "width": 0.5
             },
             "pattern": {
              "fillmode": "overlay",
              "size": 10,
              "solidity": 0.2
             }
            },
            "type": "barpolar"
           }
          ],
          "carpet": [
           {
            "aaxis": {
             "endlinecolor": "#2a3f5f",
             "gridcolor": "white",
             "linecolor": "white",
             "minorgridcolor": "white",
             "startlinecolor": "#2a3f5f"
            },
            "baxis": {
             "endlinecolor": "#2a3f5f",
             "gridcolor": "white",
             "linecolor": "white",
             "minorgridcolor": "white",
             "startlinecolor": "#2a3f5f"
            },
            "type": "carpet"
           }
          ],
          "choropleth": [
           {
            "colorbar": {
             "outlinewidth": 0,
             "ticks": ""
            },
            "type": "choropleth"
           }
          ],
          "contour": [
           {
            "colorbar": {
             "outlinewidth": 0,
             "ticks": ""
            },
            "colorscale": [
             [
              0,
              "#0d0887"
             ],
             [
              0.1111111111111111,
              "#46039f"
             ],
             [
              0.2222222222222222,
              "#7201a8"
             ],
             [
              0.3333333333333333,
              "#9c179e"
             ],
             [
              0.4444444444444444,
              "#bd3786"
             ],
             [
              0.5555555555555556,
              "#d8576b"
             ],
             [
              0.6666666666666666,
              "#ed7953"
             ],
             [
              0.7777777777777778,
              "#fb9f3a"
             ],
             [
              0.8888888888888888,
              "#fdca26"
             ],
             [
              1,
              "#f0f921"
             ]
            ],
            "type": "contour"
           }
          ],
          "contourcarpet": [
           {
            "colorbar": {
             "outlinewidth": 0,
             "ticks": ""
            },
            "type": "contourcarpet"
           }
          ],
          "heatmap": [
           {
            "colorbar": {
             "outlinewidth": 0,
             "ticks": ""
            },
            "colorscale": [
             [
              0,
              "#0d0887"
             ],
             [
              0.1111111111111111,
              "#46039f"
             ],
             [
              0.2222222222222222,
              "#7201a8"
             ],
             [
              0.3333333333333333,
              "#9c179e"
             ],
             [
              0.4444444444444444,
              "#bd3786"
             ],
             [
              0.5555555555555556,
              "#d8576b"
             ],
             [
              0.6666666666666666,
              "#ed7953"
             ],
             [
              0.7777777777777778,
              "#fb9f3a"
             ],
             [
              0.8888888888888888,
              "#fdca26"
             ],
             [
              1,
              "#f0f921"
             ]
            ],
            "type": "heatmap"
           }
          ],
          "heatmapgl": [
           {
            "colorbar": {
             "outlinewidth": 0,
             "ticks": ""
            },
            "colorscale": [
             [
              0,
              "#0d0887"
             ],
             [
              0.1111111111111111,
              "#46039f"
             ],
             [
              0.2222222222222222,
              "#7201a8"
             ],
             [
              0.3333333333333333,
              "#9c179e"
             ],
             [
              0.4444444444444444,
              "#bd3786"
             ],
             [
              0.5555555555555556,
              "#d8576b"
             ],
             [
              0.6666666666666666,
              "#ed7953"
             ],
             [
              0.7777777777777778,
              "#fb9f3a"
             ],
             [
              0.8888888888888888,
              "#fdca26"
             ],
             [
              1,
              "#f0f921"
             ]
            ],
            "type": "heatmapgl"
           }
          ],
          "histogram": [
           {
            "marker": {
             "pattern": {
              "fillmode": "overlay",
              "size": 10,
              "solidity": 0.2
             }
            },
            "type": "histogram"
           }
          ],
          "histogram2d": [
           {
            "colorbar": {
             "outlinewidth": 0,
             "ticks": ""
            },
            "colorscale": [
             [
              0,
              "#0d0887"
             ],
             [
              0.1111111111111111,
              "#46039f"
             ],
             [
              0.2222222222222222,
              "#7201a8"
             ],
             [
              0.3333333333333333,
              "#9c179e"
             ],
             [
              0.4444444444444444,
              "#bd3786"
             ],
             [
              0.5555555555555556,
              "#d8576b"
             ],
             [
              0.6666666666666666,
              "#ed7953"
             ],
             [
              0.7777777777777778,
              "#fb9f3a"
             ],
             [
              0.8888888888888888,
              "#fdca26"
             ],
             [
              1,
              "#f0f921"
             ]
            ],
            "type": "histogram2d"
           }
          ],
          "histogram2dcontour": [
           {
            "colorbar": {
             "outlinewidth": 0,
             "ticks": ""
            },
            "colorscale": [
             [
              0,
              "#0d0887"
             ],
             [
              0.1111111111111111,
              "#46039f"
             ],
             [
              0.2222222222222222,
              "#7201a8"
             ],
             [
              0.3333333333333333,
              "#9c179e"
             ],
             [
              0.4444444444444444,
              "#bd3786"
             ],
             [
              0.5555555555555556,
              "#d8576b"
             ],
             [
              0.6666666666666666,
              "#ed7953"
             ],
             [
              0.7777777777777778,
              "#fb9f3a"
             ],
             [
              0.8888888888888888,
              "#fdca26"
             ],
             [
              1,
              "#f0f921"
             ]
            ],
            "type": "histogram2dcontour"
           }
          ],
          "mesh3d": [
           {
            "colorbar": {
             "outlinewidth": 0,
             "ticks": ""
            },
            "type": "mesh3d"
           }
          ],
          "parcoords": [
           {
            "line": {
             "colorbar": {
              "outlinewidth": 0,
              "ticks": ""
             }
            },
            "type": "parcoords"
           }
          ],
          "pie": [
           {
            "automargin": true,
            "type": "pie"
           }
          ],
          "scatter": [
           {
            "fillpattern": {
             "fillmode": "overlay",
             "size": 10,
             "solidity": 0.2
            },
            "type": "scatter"
           }
          ],
          "scatter3d": [
           {
            "line": {
             "colorbar": {
              "outlinewidth": 0,
              "ticks": ""
             }
            },
            "marker": {
             "colorbar": {
              "outlinewidth": 0,
              "ticks": ""
             }
            },
            "type": "scatter3d"
           }
          ],
          "scattercarpet": [
           {
            "marker": {
             "colorbar": {
              "outlinewidth": 0,
              "ticks": ""
             }
            },
            "type": "scattercarpet"
           }
          ],
          "scattergeo": [
           {
            "marker": {
             "colorbar": {
              "outlinewidth": 0,
              "ticks": ""
             }
            },
            "type": "scattergeo"
           }
          ],
          "scattergl": [
           {
            "marker": {
             "colorbar": {
              "outlinewidth": 0,
              "ticks": ""
             }
            },
            "type": "scattergl"
           }
          ],
          "scattermapbox": [
           {
            "marker": {
             "colorbar": {
              "outlinewidth": 0,
              "ticks": ""
             }
            },
            "type": "scattermapbox"
           }
          ],
          "scatterpolar": [
           {
            "marker": {
             "colorbar": {
              "outlinewidth": 0,
              "ticks": ""
             }
            },
            "type": "scatterpolar"
           }
          ],
          "scatterpolargl": [
           {
            "marker": {
             "colorbar": {
              "outlinewidth": 0,
              "ticks": ""
             }
            },
            "type": "scatterpolargl"
           }
          ],
          "scatterternary": [
           {
            "marker": {
             "colorbar": {
              "outlinewidth": 0,
              "ticks": ""
             }
            },
            "type": "scatterternary"
           }
          ],
          "surface": [
           {
            "colorbar": {
             "outlinewidth": 0,
             "ticks": ""
            },
            "colorscale": [
             [
              0,
              "#0d0887"
             ],
             [
              0.1111111111111111,
              "#46039f"
             ],
             [
              0.2222222222222222,
              "#7201a8"
             ],
             [
              0.3333333333333333,
              "#9c179e"
             ],
             [
              0.4444444444444444,
              "#bd3786"
             ],
             [
              0.5555555555555556,
              "#d8576b"
             ],
             [
              0.6666666666666666,
              "#ed7953"
             ],
             [
              0.7777777777777778,
              "#fb9f3a"
             ],
             [
              0.8888888888888888,
              "#fdca26"
             ],
             [
              1,
              "#f0f921"
             ]
            ],
            "type": "surface"
           }
          ],
          "table": [
           {
            "cells": {
             "fill": {
              "color": "#EBF0F8"
             },
             "line": {
              "color": "white"
             }
            },
            "header": {
             "fill": {
              "color": "#C8D4E3"
             },
             "line": {
              "color": "white"
             }
            },
            "type": "table"
           }
          ]
         },
         "layout": {
          "annotationdefaults": {
           "arrowcolor": "#2a3f5f",
           "arrowhead": 0,
           "arrowwidth": 1
          },
          "autotypenumbers": "strict",
          "coloraxis": {
           "colorbar": {
            "outlinewidth": 0,
            "ticks": ""
           }
          },
          "colorscale": {
           "diverging": [
            [
             0,
             "#8e0152"
            ],
            [
             0.1,
             "#c51b7d"
            ],
            [
             0.2,
             "#de77ae"
            ],
            [
             0.3,
             "#f1b6da"
            ],
            [
             0.4,
             "#fde0ef"
            ],
            [
             0.5,
             "#f7f7f7"
            ],
            [
             0.6,
             "#e6f5d0"
            ],
            [
             0.7,
             "#b8e186"
            ],
            [
             0.8,
             "#7fbc41"
            ],
            [
             0.9,
             "#4d9221"
            ],
            [
             1,
             "#276419"
            ]
           ],
           "sequential": [
            [
             0,
             "#0d0887"
            ],
            [
             0.1111111111111111,
             "#46039f"
            ],
            [
             0.2222222222222222,
             "#7201a8"
            ],
            [
             0.3333333333333333,
             "#9c179e"
            ],
            [
             0.4444444444444444,
             "#bd3786"
            ],
            [
             0.5555555555555556,
             "#d8576b"
            ],
            [
             0.6666666666666666,
             "#ed7953"
            ],
            [
             0.7777777777777778,
             "#fb9f3a"
            ],
            [
             0.8888888888888888,
             "#fdca26"
            ],
            [
             1,
             "#f0f921"
            ]
           ],
           "sequentialminus": [
            [
             0,
             "#0d0887"
            ],
            [
             0.1111111111111111,
             "#46039f"
            ],
            [
             0.2222222222222222,
             "#7201a8"
            ],
            [
             0.3333333333333333,
             "#9c179e"
            ],
            [
             0.4444444444444444,
             "#bd3786"
            ],
            [
             0.5555555555555556,
             "#d8576b"
            ],
            [
             0.6666666666666666,
             "#ed7953"
            ],
            [
             0.7777777777777778,
             "#fb9f3a"
            ],
            [
             0.8888888888888888,
             "#fdca26"
            ],
            [
             1,
             "#f0f921"
            ]
           ]
          },
          "colorway": [
           "#636efa",
           "#EF553B",
           "#00cc96",
           "#ab63fa",
           "#FFA15A",
           "#19d3f3",
           "#FF6692",
           "#B6E880",
           "#FF97FF",
           "#FECB52"
          ],
          "font": {
           "color": "#2a3f5f"
          },
          "geo": {
           "bgcolor": "white",
           "lakecolor": "white",
           "landcolor": "#E5ECF6",
           "showlakes": true,
           "showland": true,
           "subunitcolor": "white"
          },
          "hoverlabel": {
           "align": "left"
          },
          "hovermode": "closest",
          "mapbox": {
           "style": "light"
          },
          "paper_bgcolor": "white",
          "plot_bgcolor": "#E5ECF6",
          "polar": {
           "angularaxis": {
            "gridcolor": "white",
            "linecolor": "white",
            "ticks": ""
           },
           "bgcolor": "#E5ECF6",
           "radialaxis": {
            "gridcolor": "white",
            "linecolor": "white",
            "ticks": ""
           }
          },
          "scene": {
           "xaxis": {
            "backgroundcolor": "#E5ECF6",
            "gridcolor": "white",
            "gridwidth": 2,
            "linecolor": "white",
            "showbackground": true,
            "ticks": "",
            "zerolinecolor": "white"
           },
           "yaxis": {
            "backgroundcolor": "#E5ECF6",
            "gridcolor": "white",
            "gridwidth": 2,
            "linecolor": "white",
            "showbackground": true,
            "ticks": "",
            "zerolinecolor": "white"
           },
           "zaxis": {
            "backgroundcolor": "#E5ECF6",
            "gridcolor": "white",
            "gridwidth": 2,
            "linecolor": "white",
            "showbackground": true,
            "ticks": "",
            "zerolinecolor": "white"
           }
          },
          "shapedefaults": {
           "line": {
            "color": "#2a3f5f"
           }
          },
          "ternary": {
           "aaxis": {
            "gridcolor": "white",
            "linecolor": "white",
            "ticks": ""
           },
           "baxis": {
            "gridcolor": "white",
            "linecolor": "white",
            "ticks": ""
           },
           "bgcolor": "#E5ECF6",
           "caxis": {
            "gridcolor": "white",
            "linecolor": "white",
            "ticks": ""
           }
          },
          "title": {
           "x": 0.05
          },
          "xaxis": {
           "automargin": true,
           "gridcolor": "white",
           "linecolor": "white",
           "ticks": "",
           "title": {
            "standoff": 15
           },
           "zerolinecolor": "white",
           "zerolinewidth": 2
          },
          "yaxis": {
           "automargin": true,
           "gridcolor": "white",
           "linecolor": "white",
           "ticks": "",
           "title": {
            "standoff": 15
           },
           "zerolinecolor": "white",
           "zerolinewidth": 2
          }
         }
        },
        "title": {
         "text": "Money Spent by Coffee Type"
        },
        "xaxis": {
         "anchor": "y",
         "domain": [
          0,
          1
         ],
         "title": {
          "text": "coffee_name"
         }
        },
        "yaxis": {
         "anchor": "x",
         "domain": [
          0,
          1
         ],
         "title": {
          "text": "money"
         }
        }
       }
      }
     },
     "metadata": {},
     "output_type": "display_data"
    }
   ],
   "source": [
    "fig = px.box(df, x='coffee_name', y='money', title='Money Spent by Coffee Type')\n",
    "fig.show()\n"
   ]
  },
  {
   "cell_type": "code",
   "execution_count": 50,
   "metadata": {},
   "outputs": [
    {
     "data": {
      "application/vnd.plotly.v1+json": {
       "config": {
        "plotlyServerURL": "https://plot.ly"
       },
       "data": [
        {
         "alignmentgroup": "True",
         "bingroup": "x",
         "hovertemplate": "coffee_name=Latte<br>cash_type=%{x}<br>count=%{y}<extra></extra>",
         "legendgroup": "Latte",
         "marker": {
          "color": "#636efa",
          "pattern": {
           "shape": ""
          }
         },
         "name": "Latte",
         "offsetgroup": "Latte",
         "orientation": "v",
         "showlegend": true,
         "type": "histogram",
         "x": [
          "card",
          "card",
          "cash",
          "cash",
          "card",
          "card",
          "card",
          "card",
          "card",
          "card",
          "cash",
          "card",
          "cash",
          "card",
          "card",
          "card",
          "cash",
          "card",
          "cash",
          "card",
          "cash",
          "cash",
          "card",
          "card",
          "cash",
          "cash",
          "card",
          "card",
          "cash",
          "card",
          "card",
          "card",
          "card",
          "cash",
          "card",
          "card",
          "card",
          "card",
          "card",
          "card",
          "card",
          "card",
          "cash",
          "card",
          "card",
          "card",
          "card",
          "card",
          "card",
          "card",
          "card",
          "cash",
          "card",
          "cash",
          "card",
          "card",
          "card",
          "card",
          "card",
          "card",
          "card",
          "card",
          "cash",
          "card",
          "card",
          "card",
          "card",
          "card",
          "card",
          "cash",
          "card",
          "card",
          "card",
          "card",
          "card",
          "card",
          "card",
          "card",
          "card",
          "cash",
          "card",
          "cash",
          "card",
          "card",
          "card",
          "card",
          "card",
          "card",
          "card",
          "cash",
          "card",
          "card",
          "card",
          "cash",
          "card",
          "card",
          "card",
          "card",
          "card",
          "card",
          "cash",
          "card",
          "card",
          "card",
          "card",
          "card",
          "card",
          "card",
          "card",
          "card",
          "card",
          "cash",
          "card",
          "card",
          "card",
          "card",
          "card",
          "card",
          "card",
          "card",
          "card",
          "card",
          "card",
          "card",
          "card",
          "cash",
          "card",
          "card",
          "card",
          "card",
          "card",
          "card",
          "card",
          "cash",
          "card",
          "card",
          "card",
          "card",
          "card",
          "card",
          "card",
          "card",
          "card",
          "card",
          "card",
          "card",
          "card",
          "card",
          "card",
          "card",
          "card",
          "card",
          "card",
          "card",
          "card",
          "card",
          "card",
          "card",
          "card",
          "card",
          "card",
          "card",
          "card",
          "card",
          "card",
          "card",
          "card",
          "card",
          "card",
          "card",
          "card",
          "card",
          "card",
          "card",
          "card",
          "card",
          "card",
          "card",
          "card",
          "card",
          "card",
          "card",
          "card",
          "card",
          "card",
          "card",
          "card",
          "card",
          "card",
          "card",
          "card",
          "card",
          "card",
          "card",
          "card",
          "card",
          "card",
          "card",
          "card",
          "card",
          "card",
          "card",
          "card"
         ],
         "xaxis": "x",
         "yaxis": "y"
        },
        {
         "alignmentgroup": "True",
         "bingroup": "x",
         "hovertemplate": "coffee_name=Hot Chocolate<br>cash_type=%{x}<br>count=%{y}<extra></extra>",
         "legendgroup": "Hot Chocolate",
         "marker": {
          "color": "#EF553B",
          "pattern": {
           "shape": ""
          }
         },
         "name": "Hot Chocolate",
         "offsetgroup": "Hot Chocolate",
         "orientation": "v",
         "showlegend": true,
         "type": "histogram",
         "x": [
          "card",
          "card",
          "card",
          "card",
          "card",
          "card",
          "card",
          "card",
          "card",
          "card",
          "cash",
          "card",
          "card",
          "card",
          "card",
          "card",
          "card",
          "card",
          "card",
          "cash",
          "card",
          "card",
          "card",
          "card",
          "card",
          "card",
          "cash",
          "card",
          "cash",
          "cash",
          "card",
          "card",
          "card",
          "card",
          "card",
          "card",
          "card",
          "card",
          "card",
          "card",
          "cash",
          "card",
          "card",
          "card",
          "card",
          "card",
          "card",
          "card",
          "card",
          "card",
          "card",
          "card",
          "card",
          "card",
          "card",
          "card",
          "card",
          "card",
          "card",
          "card",
          "card",
          "card",
          "card",
          "card",
          "card",
          "card",
          "card",
          "card",
          "card",
          "card",
          "card"
         ],
         "xaxis": "x",
         "yaxis": "y"
        },
        {
         "alignmentgroup": "True",
         "bingroup": "x",
         "hovertemplate": "coffee_name=Americano<br>cash_type=%{x}<br>count=%{y}<extra></extra>",
         "legendgroup": "Americano",
         "marker": {
          "color": "#00cc96",
          "pattern": {
           "shape": ""
          }
         },
         "name": "Americano",
         "offsetgroup": "Americano",
         "orientation": "v",
         "showlegend": true,
         "type": "histogram",
         "x": [
          "card",
          "card",
          "card",
          "card",
          "card",
          "card",
          "card",
          "card",
          "card",
          "card",
          "card",
          "card",
          "card",
          "cash",
          "cash",
          "card",
          "card",
          "card",
          "card",
          "card",
          "card",
          "card",
          "card",
          "card",
          "card",
          "card",
          "card",
          "card",
          "cash",
          "card",
          "card",
          "card",
          "card",
          "card",
          "card",
          "cash",
          "card",
          "card",
          "card",
          "card",
          "card",
          "cash",
          "card",
          "card",
          "card",
          "cash",
          "card",
          "card",
          "card",
          "card",
          "card",
          "card",
          "card",
          "card",
          "card",
          "card",
          "card",
          "card",
          "card",
          "card",
          "card",
          "card",
          "card",
          "card",
          "card",
          "card",
          "card",
          "card",
          "card",
          "card",
          "card",
          "card",
          "card",
          "card",
          "cash",
          "card",
          "card",
          "card",
          "card",
          "card",
          "card",
          "card",
          "cash",
          "cash",
          "card",
          "card",
          "card",
          "card",
          "card",
          "card",
          "card",
          "card",
          "cash",
          "card",
          "card",
          "card",
          "card",
          "card",
          "card",
          "card",
          "card",
          "card",
          "cash",
          "cash",
          "card",
          "card",
          "card",
          "card",
          "cash",
          "cash",
          "card",
          "card",
          "card",
          "card",
          "card",
          "card",
          "card",
          "card",
          "card",
          "card",
          "card",
          "card",
          "card",
          "card",
          "card",
          "card",
          "card",
          "card",
          "card",
          "card",
          "card",
          "card",
          "card",
          "card",
          "card",
          "card",
          "card",
          "card",
          "card",
          "card",
          "card",
          "card",
          "card",
          "card",
          "card"
         ],
         "xaxis": "x",
         "yaxis": "y"
        },
        {
         "alignmentgroup": "True",
         "bingroup": "x",
         "hovertemplate": "coffee_name=Americano with Milk<br>cash_type=%{x}<br>count=%{y}<extra></extra>",
         "legendgroup": "Americano with Milk",
         "marker": {
          "color": "#ab63fa",
          "pattern": {
           "shape": ""
          }
         },
         "name": "Americano with Milk",
         "offsetgroup": "Americano with Milk",
         "orientation": "v",
         "showlegend": true,
         "type": "histogram",
         "x": [
          "card",
          "card",
          "card",
          "card",
          "card",
          "card",
          "card",
          "card",
          "card",
          "card",
          "cash",
          "card",
          "card",
          "card",
          "card",
          "cash",
          "cash",
          "card",
          "card",
          "card",
          "card",
          "card",
          "card",
          "card",
          "card",
          "card",
          "card",
          "card",
          "card",
          "cash",
          "card",
          "card",
          "card",
          "card",
          "card",
          "card",
          "card",
          "card",
          "card",
          "card",
          "card",
          "card",
          "cash",
          "card",
          "card",
          "cash",
          "card",
          "card",
          "cash",
          "card",
          "card",
          "card",
          "card",
          "card",
          "cash",
          "card",
          "card",
          "card",
          "card",
          "card",
          "card",
          "card",
          "card",
          "card",
          "card",
          "card",
          "card",
          "card",
          "card",
          "card",
          "card",
          "card",
          "card",
          "card",
          "card",
          "card",
          "card",
          "card",
          "card",
          "cash",
          "card",
          "cash",
          "card",
          "card",
          "card",
          "card",
          "card",
          "card",
          "card",
          "card",
          "card",
          "card",
          "card",
          "card",
          "card",
          "card",
          "cash",
          "card",
          "card",
          "card",
          "card",
          "card",
          "card",
          "card",
          "card",
          "card",
          "card",
          "card",
          "card",
          "card",
          "cash",
          "card",
          "card",
          "card",
          "card",
          "card",
          "card",
          "card",
          "card",
          "card",
          "card",
          "card",
          "card",
          "card",
          "card",
          "card",
          "card",
          "card",
          "card",
          "card",
          "card",
          "card",
          "card",
          "card",
          "card",
          "card",
          "card",
          "card",
          "card",
          "card",
          "cash",
          "card",
          "cash",
          "cash",
          "card",
          "card",
          "card",
          "card",
          "card",
          "card",
          "card",
          "card",
          "card",
          "card",
          "card",
          "card",
          "card",
          "card",
          "card",
          "card",
          "card",
          "card",
          "card",
          "card",
          "card",
          "card",
          "card",
          "card",
          "card",
          "card",
          "card",
          "card",
          "card",
          "card",
          "card",
          "card",
          "card",
          "card",
          "card",
          "card",
          "card",
          "card",
          "card",
          "card",
          "card",
          "card",
          "card",
          "card",
          "card",
          "card",
          "card",
          "card",
          "card",
          "card",
          "card",
          "card",
          "card",
          "card",
          "card",
          "card",
          "card",
          "card",
          "card",
          "card",
          "card",
          "card",
          "card",
          "card",
          "card",
          "card",
          "card",
          "card",
          "card",
          "card",
          "card",
          "card",
          "card",
          "card",
          "card",
          "card",
          "card",
          "card",
          "card",
          "card",
          "card",
          "card",
          "card"
         ],
         "xaxis": "x",
         "yaxis": "y"
        },
        {
         "alignmentgroup": "True",
         "bingroup": "x",
         "hovertemplate": "coffee_name=Cocoa<br>cash_type=%{x}<br>count=%{y}<extra></extra>",
         "legendgroup": "Cocoa",
         "marker": {
          "color": "#FFA15A",
          "pattern": {
           "shape": ""
          }
         },
         "name": "Cocoa",
         "offsetgroup": "Cocoa",
         "orientation": "v",
         "showlegend": true,
         "type": "histogram",
         "x": [
          "card",
          "card",
          "card",
          "card",
          "card",
          "card",
          "cash",
          "card",
          "card",
          "card",
          "cash",
          "card",
          "card",
          "card",
          "card",
          "card",
          "cash",
          "card",
          "card",
          "card",
          "card",
          "cash",
          "card",
          "card",
          "card",
          "card",
          "card",
          "card"
         ],
         "xaxis": "x",
         "yaxis": "y"
        },
        {
         "alignmentgroup": "True",
         "bingroup": "x",
         "hovertemplate": "coffee_name=Cortado<br>cash_type=%{x}<br>count=%{y}<extra></extra>",
         "legendgroup": "Cortado",
         "marker": {
          "color": "#19d3f3",
          "pattern": {
           "shape": ""
          }
         },
         "name": "Cortado",
         "offsetgroup": "Cortado",
         "orientation": "v",
         "showlegend": true,
         "type": "histogram",
         "x": [
          "card",
          "card",
          "card",
          "card",
          "card",
          "card",
          "card",
          "cash",
          "card",
          "card",
          "card",
          "card",
          "card",
          "card",
          "card",
          "card",
          "card",
          "cash",
          "card",
          "card",
          "card",
          "card",
          "card",
          "card",
          "card",
          "card",
          "card",
          "card",
          "card",
          "card",
          "card",
          "card",
          "cash",
          "card",
          "card",
          "card",
          "card",
          "card",
          "cash",
          "cash",
          "card",
          "card",
          "card",
          "card",
          "card",
          "card",
          "card",
          "card",
          "card",
          "card",
          "card",
          "card",
          "card",
          "card",
          "card",
          "card",
          "card",
          "card",
          "card",
          "card",
          "card",
          "card",
          "card",
          "card",
          "card",
          "card",
          "card",
          "card",
          "card",
          "card",
          "card",
          "card",
          "card",
          "card",
          "card",
          "card",
          "card",
          "card",
          "card",
          "card",
          "card",
          "card",
          "card",
          "card",
          "card",
          "card"
         ],
         "xaxis": "x",
         "yaxis": "y"
        },
        {
         "alignmentgroup": "True",
         "bingroup": "x",
         "hovertemplate": "coffee_name=Espresso<br>cash_type=%{x}<br>count=%{y}<extra></extra>",
         "legendgroup": "Espresso",
         "marker": {
          "color": "#FF6692",
          "pattern": {
           "shape": ""
          }
         },
         "name": "Espresso",
         "offsetgroup": "Espresso",
         "orientation": "v",
         "showlegend": true,
         "type": "histogram",
         "x": [
          "card",
          "card",
          "card",
          "cash",
          "card",
          "card",
          "card",
          "card",
          "card",
          "card",
          "card",
          "card",
          "cash",
          "cash",
          "card",
          "cash",
          "card",
          "card",
          "card",
          "cash",
          "card",
          "card",
          "card",
          "card",
          "card",
          "card",
          "card",
          "card",
          "card",
          "card",
          "card",
          "card",
          "card",
          "card",
          "card",
          "card",
          "card",
          "card",
          "card"
         ],
         "xaxis": "x",
         "yaxis": "y"
        },
        {
         "alignmentgroup": "True",
         "bingroup": "x",
         "hovertemplate": "coffee_name=Cappuccino<br>cash_type=%{x}<br>count=%{y}<extra></extra>",
         "legendgroup": "Cappuccino",
         "marker": {
          "color": "#B6E880",
          "pattern": {
           "shape": ""
          }
         },
         "name": "Cappuccino",
         "offsetgroup": "Cappuccino",
         "orientation": "v",
         "showlegend": true,
         "type": "histogram",
         "x": [
          "card",
          "card",
          "card",
          "card",
          "card",
          "card",
          "cash",
          "card",
          "card",
          "cash",
          "card",
          "cash",
          "card",
          "card",
          "card",
          "card",
          "card",
          "cash",
          "cash",
          "card",
          "cash",
          "cash",
          "card",
          "card",
          "cash",
          "card",
          "card",
          "card",
          "card",
          "card",
          "card",
          "cash",
          "card",
          "card",
          "card",
          "card",
          "card",
          "card",
          "card",
          "card",
          "card",
          "cash",
          "card",
          "card",
          "card",
          "card",
          "card",
          "card",
          "card",
          "card",
          "card",
          "cash",
          "cash",
          "card",
          "card",
          "card",
          "card",
          "card",
          "card",
          "card",
          "card",
          "card",
          "card",
          "card",
          "card",
          "card",
          "card",
          "card",
          "card",
          "card",
          "card",
          "card",
          "card",
          "card",
          "card",
          "card",
          "card",
          "card",
          "card",
          "cash",
          "card",
          "card",
          "card",
          "card",
          "cash",
          "card",
          "card",
          "card",
          "card",
          "card",
          "card",
          "card",
          "card",
          "card",
          "card",
          "card",
          "card",
          "card",
          "card",
          "card",
          "card",
          "card",
          "card",
          "card",
          "card",
          "card",
          "card",
          "card",
          "card",
          "card",
          "card",
          "card",
          "cash",
          "card",
          "card",
          "card",
          "card",
          "card",
          "card",
          "card",
          "card",
          "card",
          "card",
          "card",
          "card",
          "card",
          "card",
          "card",
          "card",
          "card",
          "card",
          "card",
          "card",
          "card",
          "card",
          "card",
          "card",
          "card",
          "card",
          "card",
          "card",
          "card",
          "card",
          "card",
          "card",
          "card",
          "card",
          "card",
          "card",
          "card",
          "card",
          "card",
          "card",
          "card",
          "card",
          "card",
          "card",
          "card",
          "card",
          "card",
          "card",
          "card",
          "card",
          "card",
          "card",
          "card",
          "card",
          "card",
          "card",
          "card",
          "card",
          "card",
          "card",
          "card",
          "card",
          "card",
          "card"
         ],
         "xaxis": "x",
         "yaxis": "y"
        }
       ],
       "layout": {
        "barmode": "group",
        "legend": {
         "title": {
          "text": "coffee_name"
         },
         "tracegroupgap": 0
        },
        "template": {
         "data": {
          "bar": [
           {
            "error_x": {
             "color": "#2a3f5f"
            },
            "error_y": {
             "color": "#2a3f5f"
            },
            "marker": {
             "line": {
              "color": "#E5ECF6",
              "width": 0.5
             },
             "pattern": {
              "fillmode": "overlay",
              "size": 10,
              "solidity": 0.2
             }
            },
            "type": "bar"
           }
          ],
          "barpolar": [
           {
            "marker": {
             "line": {
              "color": "#E5ECF6",
              "width": 0.5
             },
             "pattern": {
              "fillmode": "overlay",
              "size": 10,
              "solidity": 0.2
             }
            },
            "type": "barpolar"
           }
          ],
          "carpet": [
           {
            "aaxis": {
             "endlinecolor": "#2a3f5f",
             "gridcolor": "white",
             "linecolor": "white",
             "minorgridcolor": "white",
             "startlinecolor": "#2a3f5f"
            },
            "baxis": {
             "endlinecolor": "#2a3f5f",
             "gridcolor": "white",
             "linecolor": "white",
             "minorgridcolor": "white",
             "startlinecolor": "#2a3f5f"
            },
            "type": "carpet"
           }
          ],
          "choropleth": [
           {
            "colorbar": {
             "outlinewidth": 0,
             "ticks": ""
            },
            "type": "choropleth"
           }
          ],
          "contour": [
           {
            "colorbar": {
             "outlinewidth": 0,
             "ticks": ""
            },
            "colorscale": [
             [
              0,
              "#0d0887"
             ],
             [
              0.1111111111111111,
              "#46039f"
             ],
             [
              0.2222222222222222,
              "#7201a8"
             ],
             [
              0.3333333333333333,
              "#9c179e"
             ],
             [
              0.4444444444444444,
              "#bd3786"
             ],
             [
              0.5555555555555556,
              "#d8576b"
             ],
             [
              0.6666666666666666,
              "#ed7953"
             ],
             [
              0.7777777777777778,
              "#fb9f3a"
             ],
             [
              0.8888888888888888,
              "#fdca26"
             ],
             [
              1,
              "#f0f921"
             ]
            ],
            "type": "contour"
           }
          ],
          "contourcarpet": [
           {
            "colorbar": {
             "outlinewidth": 0,
             "ticks": ""
            },
            "type": "contourcarpet"
           }
          ],
          "heatmap": [
           {
            "colorbar": {
             "outlinewidth": 0,
             "ticks": ""
            },
            "colorscale": [
             [
              0,
              "#0d0887"
             ],
             [
              0.1111111111111111,
              "#46039f"
             ],
             [
              0.2222222222222222,
              "#7201a8"
             ],
             [
              0.3333333333333333,
              "#9c179e"
             ],
             [
              0.4444444444444444,
              "#bd3786"
             ],
             [
              0.5555555555555556,
              "#d8576b"
             ],
             [
              0.6666666666666666,
              "#ed7953"
             ],
             [
              0.7777777777777778,
              "#fb9f3a"
             ],
             [
              0.8888888888888888,
              "#fdca26"
             ],
             [
              1,
              "#f0f921"
             ]
            ],
            "type": "heatmap"
           }
          ],
          "heatmapgl": [
           {
            "colorbar": {
             "outlinewidth": 0,
             "ticks": ""
            },
            "colorscale": [
             [
              0,
              "#0d0887"
             ],
             [
              0.1111111111111111,
              "#46039f"
             ],
             [
              0.2222222222222222,
              "#7201a8"
             ],
             [
              0.3333333333333333,
              "#9c179e"
             ],
             [
              0.4444444444444444,
              "#bd3786"
             ],
             [
              0.5555555555555556,
              "#d8576b"
             ],
             [
              0.6666666666666666,
              "#ed7953"
             ],
             [
              0.7777777777777778,
              "#fb9f3a"
             ],
             [
              0.8888888888888888,
              "#fdca26"
             ],
             [
              1,
              "#f0f921"
             ]
            ],
            "type": "heatmapgl"
           }
          ],
          "histogram": [
           {
            "marker": {
             "pattern": {
              "fillmode": "overlay",
              "size": 10,
              "solidity": 0.2
             }
            },
            "type": "histogram"
           }
          ],
          "histogram2d": [
           {
            "colorbar": {
             "outlinewidth": 0,
             "ticks": ""
            },
            "colorscale": [
             [
              0,
              "#0d0887"
             ],
             [
              0.1111111111111111,
              "#46039f"
             ],
             [
              0.2222222222222222,
              "#7201a8"
             ],
             [
              0.3333333333333333,
              "#9c179e"
             ],
             [
              0.4444444444444444,
              "#bd3786"
             ],
             [
              0.5555555555555556,
              "#d8576b"
             ],
             [
              0.6666666666666666,
              "#ed7953"
             ],
             [
              0.7777777777777778,
              "#fb9f3a"
             ],
             [
              0.8888888888888888,
              "#fdca26"
             ],
             [
              1,
              "#f0f921"
             ]
            ],
            "type": "histogram2d"
           }
          ],
          "histogram2dcontour": [
           {
            "colorbar": {
             "outlinewidth": 0,
             "ticks": ""
            },
            "colorscale": [
             [
              0,
              "#0d0887"
             ],
             [
              0.1111111111111111,
              "#46039f"
             ],
             [
              0.2222222222222222,
              "#7201a8"
             ],
             [
              0.3333333333333333,
              "#9c179e"
             ],
             [
              0.4444444444444444,
              "#bd3786"
             ],
             [
              0.5555555555555556,
              "#d8576b"
             ],
             [
              0.6666666666666666,
              "#ed7953"
             ],
             [
              0.7777777777777778,
              "#fb9f3a"
             ],
             [
              0.8888888888888888,
              "#fdca26"
             ],
             [
              1,
              "#f0f921"
             ]
            ],
            "type": "histogram2dcontour"
           }
          ],
          "mesh3d": [
           {
            "colorbar": {
             "outlinewidth": 0,
             "ticks": ""
            },
            "type": "mesh3d"
           }
          ],
          "parcoords": [
           {
            "line": {
             "colorbar": {
              "outlinewidth": 0,
              "ticks": ""
             }
            },
            "type": "parcoords"
           }
          ],
          "pie": [
           {
            "automargin": true,
            "type": "pie"
           }
          ],
          "scatter": [
           {
            "fillpattern": {
             "fillmode": "overlay",
             "size": 10,
             "solidity": 0.2
            },
            "type": "scatter"
           }
          ],
          "scatter3d": [
           {
            "line": {
             "colorbar": {
              "outlinewidth": 0,
              "ticks": ""
             }
            },
            "marker": {
             "colorbar": {
              "outlinewidth": 0,
              "ticks": ""
             }
            },
            "type": "scatter3d"
           }
          ],
          "scattercarpet": [
           {
            "marker": {
             "colorbar": {
              "outlinewidth": 0,
              "ticks": ""
             }
            },
            "type": "scattercarpet"
           }
          ],
          "scattergeo": [
           {
            "marker": {
             "colorbar": {
              "outlinewidth": 0,
              "ticks": ""
             }
            },
            "type": "scattergeo"
           }
          ],
          "scattergl": [
           {
            "marker": {
             "colorbar": {
              "outlinewidth": 0,
              "ticks": ""
             }
            },
            "type": "scattergl"
           }
          ],
          "scattermapbox": [
           {
            "marker": {
             "colorbar": {
              "outlinewidth": 0,
              "ticks": ""
             }
            },
            "type": "scattermapbox"
           }
          ],
          "scatterpolar": [
           {
            "marker": {
             "colorbar": {
              "outlinewidth": 0,
              "ticks": ""
             }
            },
            "type": "scatterpolar"
           }
          ],
          "scatterpolargl": [
           {
            "marker": {
             "colorbar": {
              "outlinewidth": 0,
              "ticks": ""
             }
            },
            "type": "scatterpolargl"
           }
          ],
          "scatterternary": [
           {
            "marker": {
             "colorbar": {
              "outlinewidth": 0,
              "ticks": ""
             }
            },
            "type": "scatterternary"
           }
          ],
          "surface": [
           {
            "colorbar": {
             "outlinewidth": 0,
             "ticks": ""
            },
            "colorscale": [
             [
              0,
              "#0d0887"
             ],
             [
              0.1111111111111111,
              "#46039f"
             ],
             [
              0.2222222222222222,
              "#7201a8"
             ],
             [
              0.3333333333333333,
              "#9c179e"
             ],
             [
              0.4444444444444444,
              "#bd3786"
             ],
             [
              0.5555555555555556,
              "#d8576b"
             ],
             [
              0.6666666666666666,
              "#ed7953"
             ],
             [
              0.7777777777777778,
              "#fb9f3a"
             ],
             [
              0.8888888888888888,
              "#fdca26"
             ],
             [
              1,
              "#f0f921"
             ]
            ],
            "type": "surface"
           }
          ],
          "table": [
           {
            "cells": {
             "fill": {
              "color": "#EBF0F8"
             },
             "line": {
              "color": "white"
             }
            },
            "header": {
             "fill": {
              "color": "#C8D4E3"
             },
             "line": {
              "color": "white"
             }
            },
            "type": "table"
           }
          ]
         },
         "layout": {
          "annotationdefaults": {
           "arrowcolor": "#2a3f5f",
           "arrowhead": 0,
           "arrowwidth": 1
          },
          "autotypenumbers": "strict",
          "coloraxis": {
           "colorbar": {
            "outlinewidth": 0,
            "ticks": ""
           }
          },
          "colorscale": {
           "diverging": [
            [
             0,
             "#8e0152"
            ],
            [
             0.1,
             "#c51b7d"
            ],
            [
             0.2,
             "#de77ae"
            ],
            [
             0.3,
             "#f1b6da"
            ],
            [
             0.4,
             "#fde0ef"
            ],
            [
             0.5,
             "#f7f7f7"
            ],
            [
             0.6,
             "#e6f5d0"
            ],
            [
             0.7,
             "#b8e186"
            ],
            [
             0.8,
             "#7fbc41"
            ],
            [
             0.9,
             "#4d9221"
            ],
            [
             1,
             "#276419"
            ]
           ],
           "sequential": [
            [
             0,
             "#0d0887"
            ],
            [
             0.1111111111111111,
             "#46039f"
            ],
            [
             0.2222222222222222,
             "#7201a8"
            ],
            [
             0.3333333333333333,
             "#9c179e"
            ],
            [
             0.4444444444444444,
             "#bd3786"
            ],
            [
             0.5555555555555556,
             "#d8576b"
            ],
            [
             0.6666666666666666,
             "#ed7953"
            ],
            [
             0.7777777777777778,
             "#fb9f3a"
            ],
            [
             0.8888888888888888,
             "#fdca26"
            ],
            [
             1,
             "#f0f921"
            ]
           ],
           "sequentialminus": [
            [
             0,
             "#0d0887"
            ],
            [
             0.1111111111111111,
             "#46039f"
            ],
            [
             0.2222222222222222,
             "#7201a8"
            ],
            [
             0.3333333333333333,
             "#9c179e"
            ],
            [
             0.4444444444444444,
             "#bd3786"
            ],
            [
             0.5555555555555556,
             "#d8576b"
            ],
            [
             0.6666666666666666,
             "#ed7953"
            ],
            [
             0.7777777777777778,
             "#fb9f3a"
            ],
            [
             0.8888888888888888,
             "#fdca26"
            ],
            [
             1,
             "#f0f921"
            ]
           ]
          },
          "colorway": [
           "#636efa",
           "#EF553B",
           "#00cc96",
           "#ab63fa",
           "#FFA15A",
           "#19d3f3",
           "#FF6692",
           "#B6E880",
           "#FF97FF",
           "#FECB52"
          ],
          "font": {
           "color": "#2a3f5f"
          },
          "geo": {
           "bgcolor": "white",
           "lakecolor": "white",
           "landcolor": "#E5ECF6",
           "showlakes": true,
           "showland": true,
           "subunitcolor": "white"
          },
          "hoverlabel": {
           "align": "left"
          },
          "hovermode": "closest",
          "mapbox": {
           "style": "light"
          },
          "paper_bgcolor": "white",
          "plot_bgcolor": "#E5ECF6",
          "polar": {
           "angularaxis": {
            "gridcolor": "white",
            "linecolor": "white",
            "ticks": ""
           },
           "bgcolor": "#E5ECF6",
           "radialaxis": {
            "gridcolor": "white",
            "linecolor": "white",
            "ticks": ""
           }
          },
          "scene": {
           "xaxis": {
            "backgroundcolor": "#E5ECF6",
            "gridcolor": "white",
            "gridwidth": 2,
            "linecolor": "white",
            "showbackground": true,
            "ticks": "",
            "zerolinecolor": "white"
           },
           "yaxis": {
            "backgroundcolor": "#E5ECF6",
            "gridcolor": "white",
            "gridwidth": 2,
            "linecolor": "white",
            "showbackground": true,
            "ticks": "",
            "zerolinecolor": "white"
           },
           "zaxis": {
            "backgroundcolor": "#E5ECF6",
            "gridcolor": "white",
            "gridwidth": 2,
            "linecolor": "white",
            "showbackground": true,
            "ticks": "",
            "zerolinecolor": "white"
           }
          },
          "shapedefaults": {
           "line": {
            "color": "#2a3f5f"
           }
          },
          "ternary": {
           "aaxis": {
            "gridcolor": "white",
            "linecolor": "white",
            "ticks": ""
           },
           "baxis": {
            "gridcolor": "white",
            "linecolor": "white",
            "ticks": ""
           },
           "bgcolor": "#E5ECF6",
           "caxis": {
            "gridcolor": "white",
            "linecolor": "white",
            "ticks": ""
           }
          },
          "title": {
           "x": 0.05
          },
          "xaxis": {
           "automargin": true,
           "gridcolor": "white",
           "linecolor": "white",
           "ticks": "",
           "title": {
            "standoff": 15
           },
           "zerolinecolor": "white",
           "zerolinewidth": 2
          },
          "yaxis": {
           "automargin": true,
           "gridcolor": "white",
           "linecolor": "white",
           "ticks": "",
           "title": {
            "standoff": 15
           },
           "zerolinecolor": "white",
           "zerolinewidth": 2
          }
         }
        },
        "title": {
         "text": "Coffee Types by Cash Type"
        },
        "xaxis": {
         "anchor": "y",
         "domain": [
          0,
          1
         ],
         "title": {
          "text": "cash_type"
         }
        },
        "yaxis": {
         "anchor": "x",
         "domain": [
          0,
          1
         ],
         "title": {
          "text": "count"
         }
        }
       }
      }
     },
     "metadata": {},
     "output_type": "display_data"
    }
   ],
   "source": [
    "fig = px.histogram(df, x='cash_type', color='coffee_name', barmode='group', title='Coffee Types by Cash Type')\n",
    "fig.show()"
   ]
  },
  {
   "cell_type": "code",
   "execution_count": 51,
   "metadata": {},
   "outputs": [
    {
     "data": {
      "application/vnd.plotly.v1+json": {
       "config": {
        "plotlyServerURL": "https://plot.ly"
       },
       "data": [
        {
         "alignmentgroup": "True",
         "hovertemplate": "Month=%{x}<br>Total Money=%{y}<extra></extra>",
         "legendgroup": "",
         "marker": {
          "color": "#636efa",
          "pattern": {
           "shape": ""
          }
         },
         "name": "",
         "offsetgroup": "",
         "orientation": "v",
         "showlegend": false,
         "textposition": "auto",
         "type": "bar",
         "x": [
          "2024-03",
          "2024-04",
          "2024-05",
          "2024-06",
          "2024-07"
         ],
         "xaxis": "x",
         "y": [
          7050.2,
          6720.56,
          9063.42,
          7758.76,
          2473.7
         ],
         "yaxis": "y"
        }
       ],
       "layout": {
        "barmode": "relative",
        "legend": {
         "tracegroupgap": 0
        },
        "template": {
         "data": {
          "bar": [
           {
            "error_x": {
             "color": "#2a3f5f"
            },
            "error_y": {
             "color": "#2a3f5f"
            },
            "marker": {
             "line": {
              "color": "#E5ECF6",
              "width": 0.5
             },
             "pattern": {
              "fillmode": "overlay",
              "size": 10,
              "solidity": 0.2
             }
            },
            "type": "bar"
           }
          ],
          "barpolar": [
           {
            "marker": {
             "line": {
              "color": "#E5ECF6",
              "width": 0.5
             },
             "pattern": {
              "fillmode": "overlay",
              "size": 10,
              "solidity": 0.2
             }
            },
            "type": "barpolar"
           }
          ],
          "carpet": [
           {
            "aaxis": {
             "endlinecolor": "#2a3f5f",
             "gridcolor": "white",
             "linecolor": "white",
             "minorgridcolor": "white",
             "startlinecolor": "#2a3f5f"
            },
            "baxis": {
             "endlinecolor": "#2a3f5f",
             "gridcolor": "white",
             "linecolor": "white",
             "minorgridcolor": "white",
             "startlinecolor": "#2a3f5f"
            },
            "type": "carpet"
           }
          ],
          "choropleth": [
           {
            "colorbar": {
             "outlinewidth": 0,
             "ticks": ""
            },
            "type": "choropleth"
           }
          ],
          "contour": [
           {
            "colorbar": {
             "outlinewidth": 0,
             "ticks": ""
            },
            "colorscale": [
             [
              0,
              "#0d0887"
             ],
             [
              0.1111111111111111,
              "#46039f"
             ],
             [
              0.2222222222222222,
              "#7201a8"
             ],
             [
              0.3333333333333333,
              "#9c179e"
             ],
             [
              0.4444444444444444,
              "#bd3786"
             ],
             [
              0.5555555555555556,
              "#d8576b"
             ],
             [
              0.6666666666666666,
              "#ed7953"
             ],
             [
              0.7777777777777778,
              "#fb9f3a"
             ],
             [
              0.8888888888888888,
              "#fdca26"
             ],
             [
              1,
              "#f0f921"
             ]
            ],
            "type": "contour"
           }
          ],
          "contourcarpet": [
           {
            "colorbar": {
             "outlinewidth": 0,
             "ticks": ""
            },
            "type": "contourcarpet"
           }
          ],
          "heatmap": [
           {
            "colorbar": {
             "outlinewidth": 0,
             "ticks": ""
            },
            "colorscale": [
             [
              0,
              "#0d0887"
             ],
             [
              0.1111111111111111,
              "#46039f"
             ],
             [
              0.2222222222222222,
              "#7201a8"
             ],
             [
              0.3333333333333333,
              "#9c179e"
             ],
             [
              0.4444444444444444,
              "#bd3786"
             ],
             [
              0.5555555555555556,
              "#d8576b"
             ],
             [
              0.6666666666666666,
              "#ed7953"
             ],
             [
              0.7777777777777778,
              "#fb9f3a"
             ],
             [
              0.8888888888888888,
              "#fdca26"
             ],
             [
              1,
              "#f0f921"
             ]
            ],
            "type": "heatmap"
           }
          ],
          "heatmapgl": [
           {
            "colorbar": {
             "outlinewidth": 0,
             "ticks": ""
            },
            "colorscale": [
             [
              0,
              "#0d0887"
             ],
             [
              0.1111111111111111,
              "#46039f"
             ],
             [
              0.2222222222222222,
              "#7201a8"
             ],
             [
              0.3333333333333333,
              "#9c179e"
             ],
             [
              0.4444444444444444,
              "#bd3786"
             ],
             [
              0.5555555555555556,
              "#d8576b"
             ],
             [
              0.6666666666666666,
              "#ed7953"
             ],
             [
              0.7777777777777778,
              "#fb9f3a"
             ],
             [
              0.8888888888888888,
              "#fdca26"
             ],
             [
              1,
              "#f0f921"
             ]
            ],
            "type": "heatmapgl"
           }
          ],
          "histogram": [
           {
            "marker": {
             "pattern": {
              "fillmode": "overlay",
              "size": 10,
              "solidity": 0.2
             }
            },
            "type": "histogram"
           }
          ],
          "histogram2d": [
           {
            "colorbar": {
             "outlinewidth": 0,
             "ticks": ""
            },
            "colorscale": [
             [
              0,
              "#0d0887"
             ],
             [
              0.1111111111111111,
              "#46039f"
             ],
             [
              0.2222222222222222,
              "#7201a8"
             ],
             [
              0.3333333333333333,
              "#9c179e"
             ],
             [
              0.4444444444444444,
              "#bd3786"
             ],
             [
              0.5555555555555556,
              "#d8576b"
             ],
             [
              0.6666666666666666,
              "#ed7953"
             ],
             [
              0.7777777777777778,
              "#fb9f3a"
             ],
             [
              0.8888888888888888,
              "#fdca26"
             ],
             [
              1,
              "#f0f921"
             ]
            ],
            "type": "histogram2d"
           }
          ],
          "histogram2dcontour": [
           {
            "colorbar": {
             "outlinewidth": 0,
             "ticks": ""
            },
            "colorscale": [
             [
              0,
              "#0d0887"
             ],
             [
              0.1111111111111111,
              "#46039f"
             ],
             [
              0.2222222222222222,
              "#7201a8"
             ],
             [
              0.3333333333333333,
              "#9c179e"
             ],
             [
              0.4444444444444444,
              "#bd3786"
             ],
             [
              0.5555555555555556,
              "#d8576b"
             ],
             [
              0.6666666666666666,
              "#ed7953"
             ],
             [
              0.7777777777777778,
              "#fb9f3a"
             ],
             [
              0.8888888888888888,
              "#fdca26"
             ],
             [
              1,
              "#f0f921"
             ]
            ],
            "type": "histogram2dcontour"
           }
          ],
          "mesh3d": [
           {
            "colorbar": {
             "outlinewidth": 0,
             "ticks": ""
            },
            "type": "mesh3d"
           }
          ],
          "parcoords": [
           {
            "line": {
             "colorbar": {
              "outlinewidth": 0,
              "ticks": ""
             }
            },
            "type": "parcoords"
           }
          ],
          "pie": [
           {
            "automargin": true,
            "type": "pie"
           }
          ],
          "scatter": [
           {
            "fillpattern": {
             "fillmode": "overlay",
             "size": 10,
             "solidity": 0.2
            },
            "type": "scatter"
           }
          ],
          "scatter3d": [
           {
            "line": {
             "colorbar": {
              "outlinewidth": 0,
              "ticks": ""
             }
            },
            "marker": {
             "colorbar": {
              "outlinewidth": 0,
              "ticks": ""
             }
            },
            "type": "scatter3d"
           }
          ],
          "scattercarpet": [
           {
            "marker": {
             "colorbar": {
              "outlinewidth": 0,
              "ticks": ""
             }
            },
            "type": "scattercarpet"
           }
          ],
          "scattergeo": [
           {
            "marker": {
             "colorbar": {
              "outlinewidth": 0,
              "ticks": ""
             }
            },
            "type": "scattergeo"
           }
          ],
          "scattergl": [
           {
            "marker": {
             "colorbar": {
              "outlinewidth": 0,
              "ticks": ""
             }
            },
            "type": "scattergl"
           }
          ],
          "scattermapbox": [
           {
            "marker": {
             "colorbar": {
              "outlinewidth": 0,
              "ticks": ""
             }
            },
            "type": "scattermapbox"
           }
          ],
          "scatterpolar": [
           {
            "marker": {
             "colorbar": {
              "outlinewidth": 0,
              "ticks": ""
             }
            },
            "type": "scatterpolar"
           }
          ],
          "scatterpolargl": [
           {
            "marker": {
             "colorbar": {
              "outlinewidth": 0,
              "ticks": ""
             }
            },
            "type": "scatterpolargl"
           }
          ],
          "scatterternary": [
           {
            "marker": {
             "colorbar": {
              "outlinewidth": 0,
              "ticks": ""
             }
            },
            "type": "scatterternary"
           }
          ],
          "surface": [
           {
            "colorbar": {
             "outlinewidth": 0,
             "ticks": ""
            },
            "colorscale": [
             [
              0,
              "#0d0887"
             ],
             [
              0.1111111111111111,
              "#46039f"
             ],
             [
              0.2222222222222222,
              "#7201a8"
             ],
             [
              0.3333333333333333,
              "#9c179e"
             ],
             [
              0.4444444444444444,
              "#bd3786"
             ],
             [
              0.5555555555555556,
              "#d8576b"
             ],
             [
              0.6666666666666666,
              "#ed7953"
             ],
             [
              0.7777777777777778,
              "#fb9f3a"
             ],
             [
              0.8888888888888888,
              "#fdca26"
             ],
             [
              1,
              "#f0f921"
             ]
            ],
            "type": "surface"
           }
          ],
          "table": [
           {
            "cells": {
             "fill": {
              "color": "#EBF0F8"
             },
             "line": {
              "color": "white"
             }
            },
            "header": {
             "fill": {
              "color": "#C8D4E3"
             },
             "line": {
              "color": "white"
             }
            },
            "type": "table"
           }
          ]
         },
         "layout": {
          "annotationdefaults": {
           "arrowcolor": "#2a3f5f",
           "arrowhead": 0,
           "arrowwidth": 1
          },
          "autotypenumbers": "strict",
          "coloraxis": {
           "colorbar": {
            "outlinewidth": 0,
            "ticks": ""
           }
          },
          "colorscale": {
           "diverging": [
            [
             0,
             "#8e0152"
            ],
            [
             0.1,
             "#c51b7d"
            ],
            [
             0.2,
             "#de77ae"
            ],
            [
             0.3,
             "#f1b6da"
            ],
            [
             0.4,
             "#fde0ef"
            ],
            [
             0.5,
             "#f7f7f7"
            ],
            [
             0.6,
             "#e6f5d0"
            ],
            [
             0.7,
             "#b8e186"
            ],
            [
             0.8,
             "#7fbc41"
            ],
            [
             0.9,
             "#4d9221"
            ],
            [
             1,
             "#276419"
            ]
           ],
           "sequential": [
            [
             0,
             "#0d0887"
            ],
            [
             0.1111111111111111,
             "#46039f"
            ],
            [
             0.2222222222222222,
             "#7201a8"
            ],
            [
             0.3333333333333333,
             "#9c179e"
            ],
            [
             0.4444444444444444,
             "#bd3786"
            ],
            [
             0.5555555555555556,
             "#d8576b"
            ],
            [
             0.6666666666666666,
             "#ed7953"
            ],
            [
             0.7777777777777778,
             "#fb9f3a"
            ],
            [
             0.8888888888888888,
             "#fdca26"
            ],
            [
             1,
             "#f0f921"
            ]
           ],
           "sequentialminus": [
            [
             0,
             "#0d0887"
            ],
            [
             0.1111111111111111,
             "#46039f"
            ],
            [
             0.2222222222222222,
             "#7201a8"
            ],
            [
             0.3333333333333333,
             "#9c179e"
            ],
            [
             0.4444444444444444,
             "#bd3786"
            ],
            [
             0.5555555555555556,
             "#d8576b"
            ],
            [
             0.6666666666666666,
             "#ed7953"
            ],
            [
             0.7777777777777778,
             "#fb9f3a"
            ],
            [
             0.8888888888888888,
             "#fdca26"
            ],
            [
             1,
             "#f0f921"
            ]
           ]
          },
          "colorway": [
           "#636efa",
           "#EF553B",
           "#00cc96",
           "#ab63fa",
           "#FFA15A",
           "#19d3f3",
           "#FF6692",
           "#B6E880",
           "#FF97FF",
           "#FECB52"
          ],
          "font": {
           "color": "#2a3f5f"
          },
          "geo": {
           "bgcolor": "white",
           "lakecolor": "white",
           "landcolor": "#E5ECF6",
           "showlakes": true,
           "showland": true,
           "subunitcolor": "white"
          },
          "hoverlabel": {
           "align": "left"
          },
          "hovermode": "closest",
          "mapbox": {
           "style": "light"
          },
          "paper_bgcolor": "white",
          "plot_bgcolor": "#E5ECF6",
          "polar": {
           "angularaxis": {
            "gridcolor": "white",
            "linecolor": "white",
            "ticks": ""
           },
           "bgcolor": "#E5ECF6",
           "radialaxis": {
            "gridcolor": "white",
            "linecolor": "white",
            "ticks": ""
           }
          },
          "scene": {
           "xaxis": {
            "backgroundcolor": "#E5ECF6",
            "gridcolor": "white",
            "gridwidth": 2,
            "linecolor": "white",
            "showbackground": true,
            "ticks": "",
            "zerolinecolor": "white"
           },
           "yaxis": {
            "backgroundcolor": "#E5ECF6",
            "gridcolor": "white",
            "gridwidth": 2,
            "linecolor": "white",
            "showbackground": true,
            "ticks": "",
            "zerolinecolor": "white"
           },
           "zaxis": {
            "backgroundcolor": "#E5ECF6",
            "gridcolor": "white",
            "gridwidth": 2,
            "linecolor": "white",
            "showbackground": true,
            "ticks": "",
            "zerolinecolor": "white"
           }
          },
          "shapedefaults": {
           "line": {
            "color": "#2a3f5f"
           }
          },
          "ternary": {
           "aaxis": {
            "gridcolor": "white",
            "linecolor": "white",
            "ticks": ""
           },
           "baxis": {
            "gridcolor": "white",
            "linecolor": "white",
            "ticks": ""
           },
           "bgcolor": "#E5ECF6",
           "caxis": {
            "gridcolor": "white",
            "linecolor": "white",
            "ticks": ""
           }
          },
          "title": {
           "x": 0.05
          },
          "xaxis": {
           "automargin": true,
           "gridcolor": "white",
           "linecolor": "white",
           "ticks": "",
           "title": {
            "standoff": 15
           },
           "zerolinecolor": "white",
           "zerolinewidth": 2
          },
          "yaxis": {
           "automargin": true,
           "gridcolor": "white",
           "linecolor": "white",
           "ticks": "",
           "title": {
            "standoff": 15
           },
           "zerolinecolor": "white",
           "zerolinewidth": 2
          }
         }
        },
        "title": {
         "text": "Total Money Spent Each Month"
        },
        "xaxis": {
         "anchor": "y",
         "domain": [
          0,
          1
         ],
         "tickangle": -45,
         "title": {
          "text": "Month"
         }
        },
        "yaxis": {
         "anchor": "x",
         "domain": [
          0,
          1
         ],
         "title": {
          "text": "Total Money"
         }
        }
       }
      }
     },
     "metadata": {},
     "output_type": "display_data"
    }
   ],
   "source": [
    "df['year_month'] = df['datetime'].dt.to_period('M').astype(str)\n",
    "df_by_month = df.groupby('year_month').agg({'money': ['sum', 'count']}).reset_index()\n",
    "df_by_month.columns = ['month', 'total_money', 'total_cups']\n",
    "fig = px.bar(df_by_month, x='month', y='total_money', title='Total Money Spent Each Month', labels={'total_money': 'Total Money', 'month': 'Month'})\n",
    "fig.update_xaxes(tickangle=-45)  # Rotate x-axis labels for better readability\n",
    "fig.show()"
   ]
  },
  {
   "cell_type": "code",
   "execution_count": 52,
   "metadata": {},
   "outputs": [
    {
     "data": {
      "application/vnd.plotly.v1+json": {
       "config": {
        "plotlyServerURL": "https://plot.ly"
       },
       "data": [
        {
         "alignmentgroup": "True",
         "hovertemplate": "Month=%{x}<br>Total Cups=%{y}<extra></extra>",
         "legendgroup": "",
         "marker": {
          "color": "#636efa",
          "pattern": {
           "shape": ""
          }
         },
         "name": "",
         "offsetgroup": "",
         "orientation": "v",
         "showlegend": false,
         "textposition": "auto",
         "type": "bar",
         "x": [
          "2024-03",
          "2024-04",
          "2024-05",
          "2024-06",
          "2024-07"
         ],
         "xaxis": "x",
         "y": [
          206,
          196,
          267,
          227,
          80
         ],
         "yaxis": "y"
        }
       ],
       "layout": {
        "barmode": "relative",
        "legend": {
         "tracegroupgap": 0
        },
        "template": {
         "data": {
          "bar": [
           {
            "error_x": {
             "color": "#2a3f5f"
            },
            "error_y": {
             "color": "#2a3f5f"
            },
            "marker": {
             "line": {
              "color": "#E5ECF6",
              "width": 0.5
             },
             "pattern": {
              "fillmode": "overlay",
              "size": 10,
              "solidity": 0.2
             }
            },
            "type": "bar"
           }
          ],
          "barpolar": [
           {
            "marker": {
             "line": {
              "color": "#E5ECF6",
              "width": 0.5
             },
             "pattern": {
              "fillmode": "overlay",
              "size": 10,
              "solidity": 0.2
             }
            },
            "type": "barpolar"
           }
          ],
          "carpet": [
           {
            "aaxis": {
             "endlinecolor": "#2a3f5f",
             "gridcolor": "white",
             "linecolor": "white",
             "minorgridcolor": "white",
             "startlinecolor": "#2a3f5f"
            },
            "baxis": {
             "endlinecolor": "#2a3f5f",
             "gridcolor": "white",
             "linecolor": "white",
             "minorgridcolor": "white",
             "startlinecolor": "#2a3f5f"
            },
            "type": "carpet"
           }
          ],
          "choropleth": [
           {
            "colorbar": {
             "outlinewidth": 0,
             "ticks": ""
            },
            "type": "choropleth"
           }
          ],
          "contour": [
           {
            "colorbar": {
             "outlinewidth": 0,
             "ticks": ""
            },
            "colorscale": [
             [
              0,
              "#0d0887"
             ],
             [
              0.1111111111111111,
              "#46039f"
             ],
             [
              0.2222222222222222,
              "#7201a8"
             ],
             [
              0.3333333333333333,
              "#9c179e"
             ],
             [
              0.4444444444444444,
              "#bd3786"
             ],
             [
              0.5555555555555556,
              "#d8576b"
             ],
             [
              0.6666666666666666,
              "#ed7953"
             ],
             [
              0.7777777777777778,
              "#fb9f3a"
             ],
             [
              0.8888888888888888,
              "#fdca26"
             ],
             [
              1,
              "#f0f921"
             ]
            ],
            "type": "contour"
           }
          ],
          "contourcarpet": [
           {
            "colorbar": {
             "outlinewidth": 0,
             "ticks": ""
            },
            "type": "contourcarpet"
           }
          ],
          "heatmap": [
           {
            "colorbar": {
             "outlinewidth": 0,
             "ticks": ""
            },
            "colorscale": [
             [
              0,
              "#0d0887"
             ],
             [
              0.1111111111111111,
              "#46039f"
             ],
             [
              0.2222222222222222,
              "#7201a8"
             ],
             [
              0.3333333333333333,
              "#9c179e"
             ],
             [
              0.4444444444444444,
              "#bd3786"
             ],
             [
              0.5555555555555556,
              "#d8576b"
             ],
             [
              0.6666666666666666,
              "#ed7953"
             ],
             [
              0.7777777777777778,
              "#fb9f3a"
             ],
             [
              0.8888888888888888,
              "#fdca26"
             ],
             [
              1,
              "#f0f921"
             ]
            ],
            "type": "heatmap"
           }
          ],
          "heatmapgl": [
           {
            "colorbar": {
             "outlinewidth": 0,
             "ticks": ""
            },
            "colorscale": [
             [
              0,
              "#0d0887"
             ],
             [
              0.1111111111111111,
              "#46039f"
             ],
             [
              0.2222222222222222,
              "#7201a8"
             ],
             [
              0.3333333333333333,
              "#9c179e"
             ],
             [
              0.4444444444444444,
              "#bd3786"
             ],
             [
              0.5555555555555556,
              "#d8576b"
             ],
             [
              0.6666666666666666,
              "#ed7953"
             ],
             [
              0.7777777777777778,
              "#fb9f3a"
             ],
             [
              0.8888888888888888,
              "#fdca26"
             ],
             [
              1,
              "#f0f921"
             ]
            ],
            "type": "heatmapgl"
           }
          ],
          "histogram": [
           {
            "marker": {
             "pattern": {
              "fillmode": "overlay",
              "size": 10,
              "solidity": 0.2
             }
            },
            "type": "histogram"
           }
          ],
          "histogram2d": [
           {
            "colorbar": {
             "outlinewidth": 0,
             "ticks": ""
            },
            "colorscale": [
             [
              0,
              "#0d0887"
             ],
             [
              0.1111111111111111,
              "#46039f"
             ],
             [
              0.2222222222222222,
              "#7201a8"
             ],
             [
              0.3333333333333333,
              "#9c179e"
             ],
             [
              0.4444444444444444,
              "#bd3786"
             ],
             [
              0.5555555555555556,
              "#d8576b"
             ],
             [
              0.6666666666666666,
              "#ed7953"
             ],
             [
              0.7777777777777778,
              "#fb9f3a"
             ],
             [
              0.8888888888888888,
              "#fdca26"
             ],
             [
              1,
              "#f0f921"
             ]
            ],
            "type": "histogram2d"
           }
          ],
          "histogram2dcontour": [
           {
            "colorbar": {
             "outlinewidth": 0,
             "ticks": ""
            },
            "colorscale": [
             [
              0,
              "#0d0887"
             ],
             [
              0.1111111111111111,
              "#46039f"
             ],
             [
              0.2222222222222222,
              "#7201a8"
             ],
             [
              0.3333333333333333,
              "#9c179e"
             ],
             [
              0.4444444444444444,
              "#bd3786"
             ],
             [
              0.5555555555555556,
              "#d8576b"
             ],
             [
              0.6666666666666666,
              "#ed7953"
             ],
             [
              0.7777777777777778,
              "#fb9f3a"
             ],
             [
              0.8888888888888888,
              "#fdca26"
             ],
             [
              1,
              "#f0f921"
             ]
            ],
            "type": "histogram2dcontour"
           }
          ],
          "mesh3d": [
           {
            "colorbar": {
             "outlinewidth": 0,
             "ticks": ""
            },
            "type": "mesh3d"
           }
          ],
          "parcoords": [
           {
            "line": {
             "colorbar": {
              "outlinewidth": 0,
              "ticks": ""
             }
            },
            "type": "parcoords"
           }
          ],
          "pie": [
           {
            "automargin": true,
            "type": "pie"
           }
          ],
          "scatter": [
           {
            "fillpattern": {
             "fillmode": "overlay",
             "size": 10,
             "solidity": 0.2
            },
            "type": "scatter"
           }
          ],
          "scatter3d": [
           {
            "line": {
             "colorbar": {
              "outlinewidth": 0,
              "ticks": ""
             }
            },
            "marker": {
             "colorbar": {
              "outlinewidth": 0,
              "ticks": ""
             }
            },
            "type": "scatter3d"
           }
          ],
          "scattercarpet": [
           {
            "marker": {
             "colorbar": {
              "outlinewidth": 0,
              "ticks": ""
             }
            },
            "type": "scattercarpet"
           }
          ],
          "scattergeo": [
           {
            "marker": {
             "colorbar": {
              "outlinewidth": 0,
              "ticks": ""
             }
            },
            "type": "scattergeo"
           }
          ],
          "scattergl": [
           {
            "marker": {
             "colorbar": {
              "outlinewidth": 0,
              "ticks": ""
             }
            },
            "type": "scattergl"
           }
          ],
          "scattermapbox": [
           {
            "marker": {
             "colorbar": {
              "outlinewidth": 0,
              "ticks": ""
             }
            },
            "type": "scattermapbox"
           }
          ],
          "scatterpolar": [
           {
            "marker": {
             "colorbar": {
              "outlinewidth": 0,
              "ticks": ""
             }
            },
            "type": "scatterpolar"
           }
          ],
          "scatterpolargl": [
           {
            "marker": {
             "colorbar": {
              "outlinewidth": 0,
              "ticks": ""
             }
            },
            "type": "scatterpolargl"
           }
          ],
          "scatterternary": [
           {
            "marker": {
             "colorbar": {
              "outlinewidth": 0,
              "ticks": ""
             }
            },
            "type": "scatterternary"
           }
          ],
          "surface": [
           {
            "colorbar": {
             "outlinewidth": 0,
             "ticks": ""
            },
            "colorscale": [
             [
              0,
              "#0d0887"
             ],
             [
              0.1111111111111111,
              "#46039f"
             ],
             [
              0.2222222222222222,
              "#7201a8"
             ],
             [
              0.3333333333333333,
              "#9c179e"
             ],
             [
              0.4444444444444444,
              "#bd3786"
             ],
             [
              0.5555555555555556,
              "#d8576b"
             ],
             [
              0.6666666666666666,
              "#ed7953"
             ],
             [
              0.7777777777777778,
              "#fb9f3a"
             ],
             [
              0.8888888888888888,
              "#fdca26"
             ],
             [
              1,
              "#f0f921"
             ]
            ],
            "type": "surface"
           }
          ],
          "table": [
           {
            "cells": {
             "fill": {
              "color": "#EBF0F8"
             },
             "line": {
              "color": "white"
             }
            },
            "header": {
             "fill": {
              "color": "#C8D4E3"
             },
             "line": {
              "color": "white"
             }
            },
            "type": "table"
           }
          ]
         },
         "layout": {
          "annotationdefaults": {
           "arrowcolor": "#2a3f5f",
           "arrowhead": 0,
           "arrowwidth": 1
          },
          "autotypenumbers": "strict",
          "coloraxis": {
           "colorbar": {
            "outlinewidth": 0,
            "ticks": ""
           }
          },
          "colorscale": {
           "diverging": [
            [
             0,
             "#8e0152"
            ],
            [
             0.1,
             "#c51b7d"
            ],
            [
             0.2,
             "#de77ae"
            ],
            [
             0.3,
             "#f1b6da"
            ],
            [
             0.4,
             "#fde0ef"
            ],
            [
             0.5,
             "#f7f7f7"
            ],
            [
             0.6,
             "#e6f5d0"
            ],
            [
             0.7,
             "#b8e186"
            ],
            [
             0.8,
             "#7fbc41"
            ],
            [
             0.9,
             "#4d9221"
            ],
            [
             1,
             "#276419"
            ]
           ],
           "sequential": [
            [
             0,
             "#0d0887"
            ],
            [
             0.1111111111111111,
             "#46039f"
            ],
            [
             0.2222222222222222,
             "#7201a8"
            ],
            [
             0.3333333333333333,
             "#9c179e"
            ],
            [
             0.4444444444444444,
             "#bd3786"
            ],
            [
             0.5555555555555556,
             "#d8576b"
            ],
            [
             0.6666666666666666,
             "#ed7953"
            ],
            [
             0.7777777777777778,
             "#fb9f3a"
            ],
            [
             0.8888888888888888,
             "#fdca26"
            ],
            [
             1,
             "#f0f921"
            ]
           ],
           "sequentialminus": [
            [
             0,
             "#0d0887"
            ],
            [
             0.1111111111111111,
             "#46039f"
            ],
            [
             0.2222222222222222,
             "#7201a8"
            ],
            [
             0.3333333333333333,
             "#9c179e"
            ],
            [
             0.4444444444444444,
             "#bd3786"
            ],
            [
             0.5555555555555556,
             "#d8576b"
            ],
            [
             0.6666666666666666,
             "#ed7953"
            ],
            [
             0.7777777777777778,
             "#fb9f3a"
            ],
            [
             0.8888888888888888,
             "#fdca26"
            ],
            [
             1,
             "#f0f921"
            ]
           ]
          },
          "colorway": [
           "#636efa",
           "#EF553B",
           "#00cc96",
           "#ab63fa",
           "#FFA15A",
           "#19d3f3",
           "#FF6692",
           "#B6E880",
           "#FF97FF",
           "#FECB52"
          ],
          "font": {
           "color": "#2a3f5f"
          },
          "geo": {
           "bgcolor": "white",
           "lakecolor": "white",
           "landcolor": "#E5ECF6",
           "showlakes": true,
           "showland": true,
           "subunitcolor": "white"
          },
          "hoverlabel": {
           "align": "left"
          },
          "hovermode": "closest",
          "mapbox": {
           "style": "light"
          },
          "paper_bgcolor": "white",
          "plot_bgcolor": "#E5ECF6",
          "polar": {
           "angularaxis": {
            "gridcolor": "white",
            "linecolor": "white",
            "ticks": ""
           },
           "bgcolor": "#E5ECF6",
           "radialaxis": {
            "gridcolor": "white",
            "linecolor": "white",
            "ticks": ""
           }
          },
          "scene": {
           "xaxis": {
            "backgroundcolor": "#E5ECF6",
            "gridcolor": "white",
            "gridwidth": 2,
            "linecolor": "white",
            "showbackground": true,
            "ticks": "",
            "zerolinecolor": "white"
           },
           "yaxis": {
            "backgroundcolor": "#E5ECF6",
            "gridcolor": "white",
            "gridwidth": 2,
            "linecolor": "white",
            "showbackground": true,
            "ticks": "",
            "zerolinecolor": "white"
           },
           "zaxis": {
            "backgroundcolor": "#E5ECF6",
            "gridcolor": "white",
            "gridwidth": 2,
            "linecolor": "white",
            "showbackground": true,
            "ticks": "",
            "zerolinecolor": "white"
           }
          },
          "shapedefaults": {
           "line": {
            "color": "#2a3f5f"
           }
          },
          "ternary": {
           "aaxis": {
            "gridcolor": "white",
            "linecolor": "white",
            "ticks": ""
           },
           "baxis": {
            "gridcolor": "white",
            "linecolor": "white",
            "ticks": ""
           },
           "bgcolor": "#E5ECF6",
           "caxis": {
            "gridcolor": "white",
            "linecolor": "white",
            "ticks": ""
           }
          },
          "title": {
           "x": 0.05
          },
          "xaxis": {
           "automargin": true,
           "gridcolor": "white",
           "linecolor": "white",
           "ticks": "",
           "title": {
            "standoff": 15
           },
           "zerolinecolor": "white",
           "zerolinewidth": 2
          },
          "yaxis": {
           "automargin": true,
           "gridcolor": "white",
           "linecolor": "white",
           "ticks": "",
           "title": {
            "standoff": 15
           },
           "zerolinecolor": "white",
           "zerolinewidth": 2
          }
         }
        },
        "title": {
         "text": "Number of Transactions (Cups) Each Month"
        },
        "xaxis": {
         "anchor": "y",
         "domain": [
          0,
          1
         ],
         "tickangle": -45,
         "title": {
          "text": "Month"
         }
        },
        "yaxis": {
         "anchor": "x",
         "domain": [
          0,
          1
         ],
         "title": {
          "text": "Total Cups"
         }
        }
       }
      }
     },
     "metadata": {},
     "output_type": "display_data"
    }
   ],
   "source": [
    "fig_cups = px.bar(df_by_month, x='month', y='total_cups', title='Number of Transactions (Cups) Each Month', labels={'total_cups': 'Total Cups', 'month': 'Month'})\n",
    "fig_cups.update_xaxes(tickangle=-45)  # Rotate x-axis labels for better readability\n",
    "fig_cups.show()"
   ]
  },
  {
   "cell_type": "code",
   "execution_count": 53,
   "metadata": {},
   "outputs": [
    {
     "data": {
      "application/vnd.plotly.v1+json": {
       "config": {
        "plotlyServerURL": "https://plot.ly"
       },
       "data": [
        {
         "alignmentgroup": "True",
         "hovertemplate": "Coffee Type=%{x}<br>Total Money=%{y}<extra></extra>",
         "legendgroup": "",
         "marker": {
          "color": "#636efa",
          "pattern": {
           "shape": ""
          }
         },
         "name": "",
         "offsetgroup": "",
         "orientation": "v",
         "showlegend": false,
         "textposition": "auto",
         "type": "bar",
         "x": [
          "Americano",
          "Americano with Milk",
          "Cappuccino",
          "Cocoa",
          "Cortado",
          "Espresso",
          "Hot Chocolate",
          "Latte"
         ],
         "xaxis": "x",
         "y": [
          4092.06,
          7457.22,
          6709.56,
          1066.2,
          2445.82,
          919.42,
          2680.02,
          7696.34
         ],
         "yaxis": "y"
        }
       ],
       "layout": {
        "barmode": "relative",
        "legend": {
         "tracegroupgap": 0
        },
        "template": {
         "data": {
          "bar": [
           {
            "error_x": {
             "color": "#2a3f5f"
            },
            "error_y": {
             "color": "#2a3f5f"
            },
            "marker": {
             "line": {
              "color": "#E5ECF6",
              "width": 0.5
             },
             "pattern": {
              "fillmode": "overlay",
              "size": 10,
              "solidity": 0.2
             }
            },
            "type": "bar"
           }
          ],
          "barpolar": [
           {
            "marker": {
             "line": {
              "color": "#E5ECF6",
              "width": 0.5
             },
             "pattern": {
              "fillmode": "overlay",
              "size": 10,
              "solidity": 0.2
             }
            },
            "type": "barpolar"
           }
          ],
          "carpet": [
           {
            "aaxis": {
             "endlinecolor": "#2a3f5f",
             "gridcolor": "white",
             "linecolor": "white",
             "minorgridcolor": "white",
             "startlinecolor": "#2a3f5f"
            },
            "baxis": {
             "endlinecolor": "#2a3f5f",
             "gridcolor": "white",
             "linecolor": "white",
             "minorgridcolor": "white",
             "startlinecolor": "#2a3f5f"
            },
            "type": "carpet"
           }
          ],
          "choropleth": [
           {
            "colorbar": {
             "outlinewidth": 0,
             "ticks": ""
            },
            "type": "choropleth"
           }
          ],
          "contour": [
           {
            "colorbar": {
             "outlinewidth": 0,
             "ticks": ""
            },
            "colorscale": [
             [
              0,
              "#0d0887"
             ],
             [
              0.1111111111111111,
              "#46039f"
             ],
             [
              0.2222222222222222,
              "#7201a8"
             ],
             [
              0.3333333333333333,
              "#9c179e"
             ],
             [
              0.4444444444444444,
              "#bd3786"
             ],
             [
              0.5555555555555556,
              "#d8576b"
             ],
             [
              0.6666666666666666,
              "#ed7953"
             ],
             [
              0.7777777777777778,
              "#fb9f3a"
             ],
             [
              0.8888888888888888,
              "#fdca26"
             ],
             [
              1,
              "#f0f921"
             ]
            ],
            "type": "contour"
           }
          ],
          "contourcarpet": [
           {
            "colorbar": {
             "outlinewidth": 0,
             "ticks": ""
            },
            "type": "contourcarpet"
           }
          ],
          "heatmap": [
           {
            "colorbar": {
             "outlinewidth": 0,
             "ticks": ""
            },
            "colorscale": [
             [
              0,
              "#0d0887"
             ],
             [
              0.1111111111111111,
              "#46039f"
             ],
             [
              0.2222222222222222,
              "#7201a8"
             ],
             [
              0.3333333333333333,
              "#9c179e"
             ],
             [
              0.4444444444444444,
              "#bd3786"
             ],
             [
              0.5555555555555556,
              "#d8576b"
             ],
             [
              0.6666666666666666,
              "#ed7953"
             ],
             [
              0.7777777777777778,
              "#fb9f3a"
             ],
             [
              0.8888888888888888,
              "#fdca26"
             ],
             [
              1,
              "#f0f921"
             ]
            ],
            "type": "heatmap"
           }
          ],
          "heatmapgl": [
           {
            "colorbar": {
             "outlinewidth": 0,
             "ticks": ""
            },
            "colorscale": [
             [
              0,
              "#0d0887"
             ],
             [
              0.1111111111111111,
              "#46039f"
             ],
             [
              0.2222222222222222,
              "#7201a8"
             ],
             [
              0.3333333333333333,
              "#9c179e"
             ],
             [
              0.4444444444444444,
              "#bd3786"
             ],
             [
              0.5555555555555556,
              "#d8576b"
             ],
             [
              0.6666666666666666,
              "#ed7953"
             ],
             [
              0.7777777777777778,
              "#fb9f3a"
             ],
             [
              0.8888888888888888,
              "#fdca26"
             ],
             [
              1,
              "#f0f921"
             ]
            ],
            "type": "heatmapgl"
           }
          ],
          "histogram": [
           {
            "marker": {
             "pattern": {
              "fillmode": "overlay",
              "size": 10,
              "solidity": 0.2
             }
            },
            "type": "histogram"
           }
          ],
          "histogram2d": [
           {
            "colorbar": {
             "outlinewidth": 0,
             "ticks": ""
            },
            "colorscale": [
             [
              0,
              "#0d0887"
             ],
             [
              0.1111111111111111,
              "#46039f"
             ],
             [
              0.2222222222222222,
              "#7201a8"
             ],
             [
              0.3333333333333333,
              "#9c179e"
             ],
             [
              0.4444444444444444,
              "#bd3786"
             ],
             [
              0.5555555555555556,
              "#d8576b"
             ],
             [
              0.6666666666666666,
              "#ed7953"
             ],
             [
              0.7777777777777778,
              "#fb9f3a"
             ],
             [
              0.8888888888888888,
              "#fdca26"
             ],
             [
              1,
              "#f0f921"
             ]
            ],
            "type": "histogram2d"
           }
          ],
          "histogram2dcontour": [
           {
            "colorbar": {
             "outlinewidth": 0,
             "ticks": ""
            },
            "colorscale": [
             [
              0,
              "#0d0887"
             ],
             [
              0.1111111111111111,
              "#46039f"
             ],
             [
              0.2222222222222222,
              "#7201a8"
             ],
             [
              0.3333333333333333,
              "#9c179e"
             ],
             [
              0.4444444444444444,
              "#bd3786"
             ],
             [
              0.5555555555555556,
              "#d8576b"
             ],
             [
              0.6666666666666666,
              "#ed7953"
             ],
             [
              0.7777777777777778,
              "#fb9f3a"
             ],
             [
              0.8888888888888888,
              "#fdca26"
             ],
             [
              1,
              "#f0f921"
             ]
            ],
            "type": "histogram2dcontour"
           }
          ],
          "mesh3d": [
           {
            "colorbar": {
             "outlinewidth": 0,
             "ticks": ""
            },
            "type": "mesh3d"
           }
          ],
          "parcoords": [
           {
            "line": {
             "colorbar": {
              "outlinewidth": 0,
              "ticks": ""
             }
            },
            "type": "parcoords"
           }
          ],
          "pie": [
           {
            "automargin": true,
            "type": "pie"
           }
          ],
          "scatter": [
           {
            "fillpattern": {
             "fillmode": "overlay",
             "size": 10,
             "solidity": 0.2
            },
            "type": "scatter"
           }
          ],
          "scatter3d": [
           {
            "line": {
             "colorbar": {
              "outlinewidth": 0,
              "ticks": ""
             }
            },
            "marker": {
             "colorbar": {
              "outlinewidth": 0,
              "ticks": ""
             }
            },
            "type": "scatter3d"
           }
          ],
          "scattercarpet": [
           {
            "marker": {
             "colorbar": {
              "outlinewidth": 0,
              "ticks": ""
             }
            },
            "type": "scattercarpet"
           }
          ],
          "scattergeo": [
           {
            "marker": {
             "colorbar": {
              "outlinewidth": 0,
              "ticks": ""
             }
            },
            "type": "scattergeo"
           }
          ],
          "scattergl": [
           {
            "marker": {
             "colorbar": {
              "outlinewidth": 0,
              "ticks": ""
             }
            },
            "type": "scattergl"
           }
          ],
          "scattermapbox": [
           {
            "marker": {
             "colorbar": {
              "outlinewidth": 0,
              "ticks": ""
             }
            },
            "type": "scattermapbox"
           }
          ],
          "scatterpolar": [
           {
            "marker": {
             "colorbar": {
              "outlinewidth": 0,
              "ticks": ""
             }
            },
            "type": "scatterpolar"
           }
          ],
          "scatterpolargl": [
           {
            "marker": {
             "colorbar": {
              "outlinewidth": 0,
              "ticks": ""
             }
            },
            "type": "scatterpolargl"
           }
          ],
          "scatterternary": [
           {
            "marker": {
             "colorbar": {
              "outlinewidth": 0,
              "ticks": ""
             }
            },
            "type": "scatterternary"
           }
          ],
          "surface": [
           {
            "colorbar": {
             "outlinewidth": 0,
             "ticks": ""
            },
            "colorscale": [
             [
              0,
              "#0d0887"
             ],
             [
              0.1111111111111111,
              "#46039f"
             ],
             [
              0.2222222222222222,
              "#7201a8"
             ],
             [
              0.3333333333333333,
              "#9c179e"
             ],
             [
              0.4444444444444444,
              "#bd3786"
             ],
             [
              0.5555555555555556,
              "#d8576b"
             ],
             [
              0.6666666666666666,
              "#ed7953"
             ],
             [
              0.7777777777777778,
              "#fb9f3a"
             ],
             [
              0.8888888888888888,
              "#fdca26"
             ],
             [
              1,
              "#f0f921"
             ]
            ],
            "type": "surface"
           }
          ],
          "table": [
           {
            "cells": {
             "fill": {
              "color": "#EBF0F8"
             },
             "line": {
              "color": "white"
             }
            },
            "header": {
             "fill": {
              "color": "#C8D4E3"
             },
             "line": {
              "color": "white"
             }
            },
            "type": "table"
           }
          ]
         },
         "layout": {
          "annotationdefaults": {
           "arrowcolor": "#2a3f5f",
           "arrowhead": 0,
           "arrowwidth": 1
          },
          "autotypenumbers": "strict",
          "coloraxis": {
           "colorbar": {
            "outlinewidth": 0,
            "ticks": ""
           }
          },
          "colorscale": {
           "diverging": [
            [
             0,
             "#8e0152"
            ],
            [
             0.1,
             "#c51b7d"
            ],
            [
             0.2,
             "#de77ae"
            ],
            [
             0.3,
             "#f1b6da"
            ],
            [
             0.4,
             "#fde0ef"
            ],
            [
             0.5,
             "#f7f7f7"
            ],
            [
             0.6,
             "#e6f5d0"
            ],
            [
             0.7,
             "#b8e186"
            ],
            [
             0.8,
             "#7fbc41"
            ],
            [
             0.9,
             "#4d9221"
            ],
            [
             1,
             "#276419"
            ]
           ],
           "sequential": [
            [
             0,
             "#0d0887"
            ],
            [
             0.1111111111111111,
             "#46039f"
            ],
            [
             0.2222222222222222,
             "#7201a8"
            ],
            [
             0.3333333333333333,
             "#9c179e"
            ],
            [
             0.4444444444444444,
             "#bd3786"
            ],
            [
             0.5555555555555556,
             "#d8576b"
            ],
            [
             0.6666666666666666,
             "#ed7953"
            ],
            [
             0.7777777777777778,
             "#fb9f3a"
            ],
            [
             0.8888888888888888,
             "#fdca26"
            ],
            [
             1,
             "#f0f921"
            ]
           ],
           "sequentialminus": [
            [
             0,
             "#0d0887"
            ],
            [
             0.1111111111111111,
             "#46039f"
            ],
            [
             0.2222222222222222,
             "#7201a8"
            ],
            [
             0.3333333333333333,
             "#9c179e"
            ],
            [
             0.4444444444444444,
             "#bd3786"
            ],
            [
             0.5555555555555556,
             "#d8576b"
            ],
            [
             0.6666666666666666,
             "#ed7953"
            ],
            [
             0.7777777777777778,
             "#fb9f3a"
            ],
            [
             0.8888888888888888,
             "#fdca26"
            ],
            [
             1,
             "#f0f921"
            ]
           ]
          },
          "colorway": [
           "#636efa",
           "#EF553B",
           "#00cc96",
           "#ab63fa",
           "#FFA15A",
           "#19d3f3",
           "#FF6692",
           "#B6E880",
           "#FF97FF",
           "#FECB52"
          ],
          "font": {
           "color": "#2a3f5f"
          },
          "geo": {
           "bgcolor": "white",
           "lakecolor": "white",
           "landcolor": "#E5ECF6",
           "showlakes": true,
           "showland": true,
           "subunitcolor": "white"
          },
          "hoverlabel": {
           "align": "left"
          },
          "hovermode": "closest",
          "mapbox": {
           "style": "light"
          },
          "paper_bgcolor": "white",
          "plot_bgcolor": "#E5ECF6",
          "polar": {
           "angularaxis": {
            "gridcolor": "white",
            "linecolor": "white",
            "ticks": ""
           },
           "bgcolor": "#E5ECF6",
           "radialaxis": {
            "gridcolor": "white",
            "linecolor": "white",
            "ticks": ""
           }
          },
          "scene": {
           "xaxis": {
            "backgroundcolor": "#E5ECF6",
            "gridcolor": "white",
            "gridwidth": 2,
            "linecolor": "white",
            "showbackground": true,
            "ticks": "",
            "zerolinecolor": "white"
           },
           "yaxis": {
            "backgroundcolor": "#E5ECF6",
            "gridcolor": "white",
            "gridwidth": 2,
            "linecolor": "white",
            "showbackground": true,
            "ticks": "",
            "zerolinecolor": "white"
           },
           "zaxis": {
            "backgroundcolor": "#E5ECF6",
            "gridcolor": "white",
            "gridwidth": 2,
            "linecolor": "white",
            "showbackground": true,
            "ticks": "",
            "zerolinecolor": "white"
           }
          },
          "shapedefaults": {
           "line": {
            "color": "#2a3f5f"
           }
          },
          "ternary": {
           "aaxis": {
            "gridcolor": "white",
            "linecolor": "white",
            "ticks": ""
           },
           "baxis": {
            "gridcolor": "white",
            "linecolor": "white",
            "ticks": ""
           },
           "bgcolor": "#E5ECF6",
           "caxis": {
            "gridcolor": "white",
            "linecolor": "white",
            "ticks": ""
           }
          },
          "title": {
           "x": 0.05
          },
          "xaxis": {
           "automargin": true,
           "gridcolor": "white",
           "linecolor": "white",
           "ticks": "",
           "title": {
            "standoff": 15
           },
           "zerolinecolor": "white",
           "zerolinewidth": 2
          },
          "yaxis": {
           "automargin": true,
           "gridcolor": "white",
           "linecolor": "white",
           "ticks": "",
           "title": {
            "standoff": 15
           },
           "zerolinecolor": "white",
           "zerolinewidth": 2
          }
         }
        },
        "title": {
         "text": "Total Money Spent by Coffee Type"
        },
        "xaxis": {
         "anchor": "y",
         "domain": [
          0,
          1
         ],
         "tickangle": -45,
         "title": {
          "text": "Coffee Type"
         }
        },
        "yaxis": {
         "anchor": "x",
         "domain": [
          0,
          1
         ],
         "title": {
          "text": "Total Money"
         }
        }
       }
      }
     },
     "metadata": {},
     "output_type": "display_data"
    }
   ],
   "source": [
    "df_coffee_distribution = df.groupby('coffee_name').agg({'money': 'sum'}).reset_index()\n",
    "df_coffee_distribution.columns = ['coffee_name', 'total_money']\n",
    "fig = px.bar(df_coffee_distribution, x='coffee_name', y='total_money', \n",
    "             title='Total Money Spent by Coffee Type', \n",
    "             labels={'total_money': 'Total Money', 'coffee_name': 'Coffee Type'})\n",
    "fig.update_xaxes(tickangle=-45)  # Rotate x-axis labels for better readability\n",
    "fig.show()"
   ]
  },
  {
   "cell_type": "code",
   "execution_count": 54,
   "metadata": {},
   "outputs": [
    {
     "data": {
      "application/vnd.plotly.v1+json": {
       "config": {
        "plotlyServerURL": "https://plot.ly"
       },
       "data": [
        {
         "alignmentgroup": "True",
         "hovertemplate": "Week=%{x}<br>Total Money=%{y}<extra></extra>",
         "legendgroup": "",
         "marker": {
          "color": "#636efa",
          "pattern": {
           "shape": ""
          }
         },
         "name": "",
         "offsetgroup": "",
         "orientation": "v",
         "showlegend": false,
         "textposition": "auto",
         "type": "bar",
         "x": [
          "2024-02-26/2024-03-03",
          "2024-03-04/2024-03-10",
          "2024-03-11/2024-03-17",
          "2024-03-18/2024-03-24",
          "2024-03-25/2024-03-31",
          "2024-04-01/2024-04-07",
          "2024-04-08/2024-04-14",
          "2024-04-15/2024-04-21",
          "2024-04-22/2024-04-28",
          "2024-04-29/2024-05-05",
          "2024-05-06/2024-05-12",
          "2024-05-13/2024-05-19",
          "2024-05-20/2024-05-26",
          "2024-05-27/2024-06-02",
          "2024-06-03/2024-06-09",
          "2024-06-10/2024-06-16",
          "2024-06-17/2024-06-23",
          "2024-06-24/2024-06-30",
          "2024-07-01/2024-07-07",
          "2024-07-08/2024-07-14",
          "2024-07-15/2024-07-21"
         ],
         "xaxis": "x",
         "y": [
          973.5,
          1840.5,
          1516.3,
          1307.8,
          1412.1000000000001,
          1434.5,
          1666,
          1838.84,
          1251.2,
          890.18,
          1705.8,
          2180.26,
          2811.8,
          2605,
          2143.52,
          1835.98,
          1911.42,
          1268.24,
          1475.42,
          876.8,
          121.48
         ],
         "yaxis": "y"
        }
       ],
       "layout": {
        "barmode": "relative",
        "legend": {
         "tracegroupgap": 0
        },
        "template": {
         "data": {
          "bar": [
           {
            "error_x": {
             "color": "#2a3f5f"
            },
            "error_y": {
             "color": "#2a3f5f"
            },
            "marker": {
             "line": {
              "color": "#E5ECF6",
              "width": 0.5
             },
             "pattern": {
              "fillmode": "overlay",
              "size": 10,
              "solidity": 0.2
             }
            },
            "type": "bar"
           }
          ],
          "barpolar": [
           {
            "marker": {
             "line": {
              "color": "#E5ECF6",
              "width": 0.5
             },
             "pattern": {
              "fillmode": "overlay",
              "size": 10,
              "solidity": 0.2
             }
            },
            "type": "barpolar"
           }
          ],
          "carpet": [
           {
            "aaxis": {
             "endlinecolor": "#2a3f5f",
             "gridcolor": "white",
             "linecolor": "white",
             "minorgridcolor": "white",
             "startlinecolor": "#2a3f5f"
            },
            "baxis": {
             "endlinecolor": "#2a3f5f",
             "gridcolor": "white",
             "linecolor": "white",
             "minorgridcolor": "white",
             "startlinecolor": "#2a3f5f"
            },
            "type": "carpet"
           }
          ],
          "choropleth": [
           {
            "colorbar": {
             "outlinewidth": 0,
             "ticks": ""
            },
            "type": "choropleth"
           }
          ],
          "contour": [
           {
            "colorbar": {
             "outlinewidth": 0,
             "ticks": ""
            },
            "colorscale": [
             [
              0,
              "#0d0887"
             ],
             [
              0.1111111111111111,
              "#46039f"
             ],
             [
              0.2222222222222222,
              "#7201a8"
             ],
             [
              0.3333333333333333,
              "#9c179e"
             ],
             [
              0.4444444444444444,
              "#bd3786"
             ],
             [
              0.5555555555555556,
              "#d8576b"
             ],
             [
              0.6666666666666666,
              "#ed7953"
             ],
             [
              0.7777777777777778,
              "#fb9f3a"
             ],
             [
              0.8888888888888888,
              "#fdca26"
             ],
             [
              1,
              "#f0f921"
             ]
            ],
            "type": "contour"
           }
          ],
          "contourcarpet": [
           {
            "colorbar": {
             "outlinewidth": 0,
             "ticks": ""
            },
            "type": "contourcarpet"
           }
          ],
          "heatmap": [
           {
            "colorbar": {
             "outlinewidth": 0,
             "ticks": ""
            },
            "colorscale": [
             [
              0,
              "#0d0887"
             ],
             [
              0.1111111111111111,
              "#46039f"
             ],
             [
              0.2222222222222222,
              "#7201a8"
             ],
             [
              0.3333333333333333,
              "#9c179e"
             ],
             [
              0.4444444444444444,
              "#bd3786"
             ],
             [
              0.5555555555555556,
              "#d8576b"
             ],
             [
              0.6666666666666666,
              "#ed7953"
             ],
             [
              0.7777777777777778,
              "#fb9f3a"
             ],
             [
              0.8888888888888888,
              "#fdca26"
             ],
             [
              1,
              "#f0f921"
             ]
            ],
            "type": "heatmap"
           }
          ],
          "heatmapgl": [
           {
            "colorbar": {
             "outlinewidth": 0,
             "ticks": ""
            },
            "colorscale": [
             [
              0,
              "#0d0887"
             ],
             [
              0.1111111111111111,
              "#46039f"
             ],
             [
              0.2222222222222222,
              "#7201a8"
             ],
             [
              0.3333333333333333,
              "#9c179e"
             ],
             [
              0.4444444444444444,
              "#bd3786"
             ],
             [
              0.5555555555555556,
              "#d8576b"
             ],
             [
              0.6666666666666666,
              "#ed7953"
             ],
             [
              0.7777777777777778,
              "#fb9f3a"
             ],
             [
              0.8888888888888888,
              "#fdca26"
             ],
             [
              1,
              "#f0f921"
             ]
            ],
            "type": "heatmapgl"
           }
          ],
          "histogram": [
           {
            "marker": {
             "pattern": {
              "fillmode": "overlay",
              "size": 10,
              "solidity": 0.2
             }
            },
            "type": "histogram"
           }
          ],
          "histogram2d": [
           {
            "colorbar": {
             "outlinewidth": 0,
             "ticks": ""
            },
            "colorscale": [
             [
              0,
              "#0d0887"
             ],
             [
              0.1111111111111111,
              "#46039f"
             ],
             [
              0.2222222222222222,
              "#7201a8"
             ],
             [
              0.3333333333333333,
              "#9c179e"
             ],
             [
              0.4444444444444444,
              "#bd3786"
             ],
             [
              0.5555555555555556,
              "#d8576b"
             ],
             [
              0.6666666666666666,
              "#ed7953"
             ],
             [
              0.7777777777777778,
              "#fb9f3a"
             ],
             [
              0.8888888888888888,
              "#fdca26"
             ],
             [
              1,
              "#f0f921"
             ]
            ],
            "type": "histogram2d"
           }
          ],
          "histogram2dcontour": [
           {
            "colorbar": {
             "outlinewidth": 0,
             "ticks": ""
            },
            "colorscale": [
             [
              0,
              "#0d0887"
             ],
             [
              0.1111111111111111,
              "#46039f"
             ],
             [
              0.2222222222222222,
              "#7201a8"
             ],
             [
              0.3333333333333333,
              "#9c179e"
             ],
             [
              0.4444444444444444,
              "#bd3786"
             ],
             [
              0.5555555555555556,
              "#d8576b"
             ],
             [
              0.6666666666666666,
              "#ed7953"
             ],
             [
              0.7777777777777778,
              "#fb9f3a"
             ],
             [
              0.8888888888888888,
              "#fdca26"
             ],
             [
              1,
              "#f0f921"
             ]
            ],
            "type": "histogram2dcontour"
           }
          ],
          "mesh3d": [
           {
            "colorbar": {
             "outlinewidth": 0,
             "ticks": ""
            },
            "type": "mesh3d"
           }
          ],
          "parcoords": [
           {
            "line": {
             "colorbar": {
              "outlinewidth": 0,
              "ticks": ""
             }
            },
            "type": "parcoords"
           }
          ],
          "pie": [
           {
            "automargin": true,
            "type": "pie"
           }
          ],
          "scatter": [
           {
            "fillpattern": {
             "fillmode": "overlay",
             "size": 10,
             "solidity": 0.2
            },
            "type": "scatter"
           }
          ],
          "scatter3d": [
           {
            "line": {
             "colorbar": {
              "outlinewidth": 0,
              "ticks": ""
             }
            },
            "marker": {
             "colorbar": {
              "outlinewidth": 0,
              "ticks": ""
             }
            },
            "type": "scatter3d"
           }
          ],
          "scattercarpet": [
           {
            "marker": {
             "colorbar": {
              "outlinewidth": 0,
              "ticks": ""
             }
            },
            "type": "scattercarpet"
           }
          ],
          "scattergeo": [
           {
            "marker": {
             "colorbar": {
              "outlinewidth": 0,
              "ticks": ""
             }
            },
            "type": "scattergeo"
           }
          ],
          "scattergl": [
           {
            "marker": {
             "colorbar": {
              "outlinewidth": 0,
              "ticks": ""
             }
            },
            "type": "scattergl"
           }
          ],
          "scattermapbox": [
           {
            "marker": {
             "colorbar": {
              "outlinewidth": 0,
              "ticks": ""
             }
            },
            "type": "scattermapbox"
           }
          ],
          "scatterpolar": [
           {
            "marker": {
             "colorbar": {
              "outlinewidth": 0,
              "ticks": ""
             }
            },
            "type": "scatterpolar"
           }
          ],
          "scatterpolargl": [
           {
            "marker": {
             "colorbar": {
              "outlinewidth": 0,
              "ticks": ""
             }
            },
            "type": "scatterpolargl"
           }
          ],
          "scatterternary": [
           {
            "marker": {
             "colorbar": {
              "outlinewidth": 0,
              "ticks": ""
             }
            },
            "type": "scatterternary"
           }
          ],
          "surface": [
           {
            "colorbar": {
             "outlinewidth": 0,
             "ticks": ""
            },
            "colorscale": [
             [
              0,
              "#0d0887"
             ],
             [
              0.1111111111111111,
              "#46039f"
             ],
             [
              0.2222222222222222,
              "#7201a8"
             ],
             [
              0.3333333333333333,
              "#9c179e"
             ],
             [
              0.4444444444444444,
              "#bd3786"
             ],
             [
              0.5555555555555556,
              "#d8576b"
             ],
             [
              0.6666666666666666,
              "#ed7953"
             ],
             [
              0.7777777777777778,
              "#fb9f3a"
             ],
             [
              0.8888888888888888,
              "#fdca26"
             ],
             [
              1,
              "#f0f921"
             ]
            ],
            "type": "surface"
           }
          ],
          "table": [
           {
            "cells": {
             "fill": {
              "color": "#EBF0F8"
             },
             "line": {
              "color": "white"
             }
            },
            "header": {
             "fill": {
              "color": "#C8D4E3"
             },
             "line": {
              "color": "white"
             }
            },
            "type": "table"
           }
          ]
         },
         "layout": {
          "annotationdefaults": {
           "arrowcolor": "#2a3f5f",
           "arrowhead": 0,
           "arrowwidth": 1
          },
          "autotypenumbers": "strict",
          "coloraxis": {
           "colorbar": {
            "outlinewidth": 0,
            "ticks": ""
           }
          },
          "colorscale": {
           "diverging": [
            [
             0,
             "#8e0152"
            ],
            [
             0.1,
             "#c51b7d"
            ],
            [
             0.2,
             "#de77ae"
            ],
            [
             0.3,
             "#f1b6da"
            ],
            [
             0.4,
             "#fde0ef"
            ],
            [
             0.5,
             "#f7f7f7"
            ],
            [
             0.6,
             "#e6f5d0"
            ],
            [
             0.7,
             "#b8e186"
            ],
            [
             0.8,
             "#7fbc41"
            ],
            [
             0.9,
             "#4d9221"
            ],
            [
             1,
             "#276419"
            ]
           ],
           "sequential": [
            [
             0,
             "#0d0887"
            ],
            [
             0.1111111111111111,
             "#46039f"
            ],
            [
             0.2222222222222222,
             "#7201a8"
            ],
            [
             0.3333333333333333,
             "#9c179e"
            ],
            [
             0.4444444444444444,
             "#bd3786"
            ],
            [
             0.5555555555555556,
             "#d8576b"
            ],
            [
             0.6666666666666666,
             "#ed7953"
            ],
            [
             0.7777777777777778,
             "#fb9f3a"
            ],
            [
             0.8888888888888888,
             "#fdca26"
            ],
            [
             1,
             "#f0f921"
            ]
           ],
           "sequentialminus": [
            [
             0,
             "#0d0887"
            ],
            [
             0.1111111111111111,
             "#46039f"
            ],
            [
             0.2222222222222222,
             "#7201a8"
            ],
            [
             0.3333333333333333,
             "#9c179e"
            ],
            [
             0.4444444444444444,
             "#bd3786"
            ],
            [
             0.5555555555555556,
             "#d8576b"
            ],
            [
             0.6666666666666666,
             "#ed7953"
            ],
            [
             0.7777777777777778,
             "#fb9f3a"
            ],
            [
             0.8888888888888888,
             "#fdca26"
            ],
            [
             1,
             "#f0f921"
            ]
           ]
          },
          "colorway": [
           "#636efa",
           "#EF553B",
           "#00cc96",
           "#ab63fa",
           "#FFA15A",
           "#19d3f3",
           "#FF6692",
           "#B6E880",
           "#FF97FF",
           "#FECB52"
          ],
          "font": {
           "color": "#2a3f5f"
          },
          "geo": {
           "bgcolor": "white",
           "lakecolor": "white",
           "landcolor": "#E5ECF6",
           "showlakes": true,
           "showland": true,
           "subunitcolor": "white"
          },
          "hoverlabel": {
           "align": "left"
          },
          "hovermode": "closest",
          "mapbox": {
           "style": "light"
          },
          "paper_bgcolor": "white",
          "plot_bgcolor": "#E5ECF6",
          "polar": {
           "angularaxis": {
            "gridcolor": "white",
            "linecolor": "white",
            "ticks": ""
           },
           "bgcolor": "#E5ECF6",
           "radialaxis": {
            "gridcolor": "white",
            "linecolor": "white",
            "ticks": ""
           }
          },
          "scene": {
           "xaxis": {
            "backgroundcolor": "#E5ECF6",
            "gridcolor": "white",
            "gridwidth": 2,
            "linecolor": "white",
            "showbackground": true,
            "ticks": "",
            "zerolinecolor": "white"
           },
           "yaxis": {
            "backgroundcolor": "#E5ECF6",
            "gridcolor": "white",
            "gridwidth": 2,
            "linecolor": "white",
            "showbackground": true,
            "ticks": "",
            "zerolinecolor": "white"
           },
           "zaxis": {
            "backgroundcolor": "#E5ECF6",
            "gridcolor": "white",
            "gridwidth": 2,
            "linecolor": "white",
            "showbackground": true,
            "ticks": "",
            "zerolinecolor": "white"
           }
          },
          "shapedefaults": {
           "line": {
            "color": "#2a3f5f"
           }
          },
          "ternary": {
           "aaxis": {
            "gridcolor": "white",
            "linecolor": "white",
            "ticks": ""
           },
           "baxis": {
            "gridcolor": "white",
            "linecolor": "white",
            "ticks": ""
           },
           "bgcolor": "#E5ECF6",
           "caxis": {
            "gridcolor": "white",
            "linecolor": "white",
            "ticks": ""
           }
          },
          "title": {
           "x": 0.05
          },
          "xaxis": {
           "automargin": true,
           "gridcolor": "white",
           "linecolor": "white",
           "ticks": "",
           "title": {
            "standoff": 15
           },
           "zerolinecolor": "white",
           "zerolinewidth": 2
          },
          "yaxis": {
           "automargin": true,
           "gridcolor": "white",
           "linecolor": "white",
           "ticks": "",
           "title": {
            "standoff": 15
           },
           "zerolinecolor": "white",
           "zerolinewidth": 2
          }
         }
        },
        "title": {
         "text": "Total Money Spent Each Week"
        },
        "xaxis": {
         "anchor": "y",
         "domain": [
          0,
          1
         ],
         "tickangle": -45,
         "title": {
          "text": "Week"
         }
        },
        "yaxis": {
         "anchor": "x",
         "domain": [
          0,
          1
         ],
         "title": {
          "text": "Total Money"
         }
        }
       }
      }
     },
     "metadata": {},
     "output_type": "display_data"
    }
   ],
   "source": [
    "df['year_week'] = df['datetime'].dt.to_period('W').astype(str)\n",
    "df_by_week = df.groupby('year_week').agg({'money': ['sum', 'count']}).reset_index()\n",
    "df_by_week.columns = ['week', 'total_money', 'total_cups']\n",
    "fig = px.bar(df_by_week, x='week', y='total_money', title='Total Money Spent Each Week', labels={'total_money': 'Total Money', 'week': 'Week'})\n",
    "fig.update_xaxes(tickangle=-45)  # Rotate x-axis labels for better readability\n",
    "fig.show()"
   ]
  },
  {
   "cell_type": "code",
   "execution_count": 55,
   "metadata": {},
   "outputs": [
    {
     "data": {
      "application/vnd.plotly.v1+json": {
       "config": {
        "plotlyServerURL": "https://plot.ly"
       },
       "data": [
        {
         "alignmentgroup": "True",
         "hovertemplate": "Week=%{x}<br>Total Cups=%{y}<extra></extra>",
         "legendgroup": "",
         "marker": {
          "color": "#636efa",
          "pattern": {
           "shape": ""
          }
         },
         "name": "",
         "offsetgroup": "",
         "orientation": "v",
         "showlegend": false,
         "textposition": "auto",
         "type": "bar",
         "x": [
          "2024-02-26/2024-03-03",
          "2024-03-04/2024-03-10",
          "2024-03-11/2024-03-17",
          "2024-03-18/2024-03-24",
          "2024-03-25/2024-03-31",
          "2024-04-01/2024-04-07",
          "2024-04-08/2024-04-14",
          "2024-04-15/2024-04-21",
          "2024-04-22/2024-04-28",
          "2024-04-29/2024-05-05",
          "2024-05-06/2024-05-12",
          "2024-05-13/2024-05-19",
          "2024-05-20/2024-05-26",
          "2024-05-27/2024-06-02",
          "2024-06-03/2024-06-09",
          "2024-06-10/2024-06-16",
          "2024-06-17/2024-06-23",
          "2024-06-24/2024-06-30",
          "2024-07-01/2024-07-07",
          "2024-07-08/2024-07-14",
          "2024-07-15/2024-07-21"
         ],
         "xaxis": "x",
         "y": [
          28,
          53,
          47,
          38,
          40,
          42,
          48,
          53,
          37,
          26,
          50,
          66,
          83,
          75,
          63,
          54,
          56,
          37,
          46,
          30,
          4
         ],
         "yaxis": "y"
        }
       ],
       "layout": {
        "barmode": "relative",
        "legend": {
         "tracegroupgap": 0
        },
        "template": {
         "data": {
          "bar": [
           {
            "error_x": {
             "color": "#2a3f5f"
            },
            "error_y": {
             "color": "#2a3f5f"
            },
            "marker": {
             "line": {
              "color": "#E5ECF6",
              "width": 0.5
             },
             "pattern": {
              "fillmode": "overlay",
              "size": 10,
              "solidity": 0.2
             }
            },
            "type": "bar"
           }
          ],
          "barpolar": [
           {
            "marker": {
             "line": {
              "color": "#E5ECF6",
              "width": 0.5
             },
             "pattern": {
              "fillmode": "overlay",
              "size": 10,
              "solidity": 0.2
             }
            },
            "type": "barpolar"
           }
          ],
          "carpet": [
           {
            "aaxis": {
             "endlinecolor": "#2a3f5f",
             "gridcolor": "white",
             "linecolor": "white",
             "minorgridcolor": "white",
             "startlinecolor": "#2a3f5f"
            },
            "baxis": {
             "endlinecolor": "#2a3f5f",
             "gridcolor": "white",
             "linecolor": "white",
             "minorgridcolor": "white",
             "startlinecolor": "#2a3f5f"
            },
            "type": "carpet"
           }
          ],
          "choropleth": [
           {
            "colorbar": {
             "outlinewidth": 0,
             "ticks": ""
            },
            "type": "choropleth"
           }
          ],
          "contour": [
           {
            "colorbar": {
             "outlinewidth": 0,
             "ticks": ""
            },
            "colorscale": [
             [
              0,
              "#0d0887"
             ],
             [
              0.1111111111111111,
              "#46039f"
             ],
             [
              0.2222222222222222,
              "#7201a8"
             ],
             [
              0.3333333333333333,
              "#9c179e"
             ],
             [
              0.4444444444444444,
              "#bd3786"
             ],
             [
              0.5555555555555556,
              "#d8576b"
             ],
             [
              0.6666666666666666,
              "#ed7953"
             ],
             [
              0.7777777777777778,
              "#fb9f3a"
             ],
             [
              0.8888888888888888,
              "#fdca26"
             ],
             [
              1,
              "#f0f921"
             ]
            ],
            "type": "contour"
           }
          ],
          "contourcarpet": [
           {
            "colorbar": {
             "outlinewidth": 0,
             "ticks": ""
            },
            "type": "contourcarpet"
           }
          ],
          "heatmap": [
           {
            "colorbar": {
             "outlinewidth": 0,
             "ticks": ""
            },
            "colorscale": [
             [
              0,
              "#0d0887"
             ],
             [
              0.1111111111111111,
              "#46039f"
             ],
             [
              0.2222222222222222,
              "#7201a8"
             ],
             [
              0.3333333333333333,
              "#9c179e"
             ],
             [
              0.4444444444444444,
              "#bd3786"
             ],
             [
              0.5555555555555556,
              "#d8576b"
             ],
             [
              0.6666666666666666,
              "#ed7953"
             ],
             [
              0.7777777777777778,
              "#fb9f3a"
             ],
             [
              0.8888888888888888,
              "#fdca26"
             ],
             [
              1,
              "#f0f921"
             ]
            ],
            "type": "heatmap"
           }
          ],
          "heatmapgl": [
           {
            "colorbar": {
             "outlinewidth": 0,
             "ticks": ""
            },
            "colorscale": [
             [
              0,
              "#0d0887"
             ],
             [
              0.1111111111111111,
              "#46039f"
             ],
             [
              0.2222222222222222,
              "#7201a8"
             ],
             [
              0.3333333333333333,
              "#9c179e"
             ],
             [
              0.4444444444444444,
              "#bd3786"
             ],
             [
              0.5555555555555556,
              "#d8576b"
             ],
             [
              0.6666666666666666,
              "#ed7953"
             ],
             [
              0.7777777777777778,
              "#fb9f3a"
             ],
             [
              0.8888888888888888,
              "#fdca26"
             ],
             [
              1,
              "#f0f921"
             ]
            ],
            "type": "heatmapgl"
           }
          ],
          "histogram": [
           {
            "marker": {
             "pattern": {
              "fillmode": "overlay",
              "size": 10,
              "solidity": 0.2
             }
            },
            "type": "histogram"
           }
          ],
          "histogram2d": [
           {
            "colorbar": {
             "outlinewidth": 0,
             "ticks": ""
            },
            "colorscale": [
             [
              0,
              "#0d0887"
             ],
             [
              0.1111111111111111,
              "#46039f"
             ],
             [
              0.2222222222222222,
              "#7201a8"
             ],
             [
              0.3333333333333333,
              "#9c179e"
             ],
             [
              0.4444444444444444,
              "#bd3786"
             ],
             [
              0.5555555555555556,
              "#d8576b"
             ],
             [
              0.6666666666666666,
              "#ed7953"
             ],
             [
              0.7777777777777778,
              "#fb9f3a"
             ],
             [
              0.8888888888888888,
              "#fdca26"
             ],
             [
              1,
              "#f0f921"
             ]
            ],
            "type": "histogram2d"
           }
          ],
          "histogram2dcontour": [
           {
            "colorbar": {
             "outlinewidth": 0,
             "ticks": ""
            },
            "colorscale": [
             [
              0,
              "#0d0887"
             ],
             [
              0.1111111111111111,
              "#46039f"
             ],
             [
              0.2222222222222222,
              "#7201a8"
             ],
             [
              0.3333333333333333,
              "#9c179e"
             ],
             [
              0.4444444444444444,
              "#bd3786"
             ],
             [
              0.5555555555555556,
              "#d8576b"
             ],
             [
              0.6666666666666666,
              "#ed7953"
             ],
             [
              0.7777777777777778,
              "#fb9f3a"
             ],
             [
              0.8888888888888888,
              "#fdca26"
             ],
             [
              1,
              "#f0f921"
             ]
            ],
            "type": "histogram2dcontour"
           }
          ],
          "mesh3d": [
           {
            "colorbar": {
             "outlinewidth": 0,
             "ticks": ""
            },
            "type": "mesh3d"
           }
          ],
          "parcoords": [
           {
            "line": {
             "colorbar": {
              "outlinewidth": 0,
              "ticks": ""
             }
            },
            "type": "parcoords"
           }
          ],
          "pie": [
           {
            "automargin": true,
            "type": "pie"
           }
          ],
          "scatter": [
           {
            "fillpattern": {
             "fillmode": "overlay",
             "size": 10,
             "solidity": 0.2
            },
            "type": "scatter"
           }
          ],
          "scatter3d": [
           {
            "line": {
             "colorbar": {
              "outlinewidth": 0,
              "ticks": ""
             }
            },
            "marker": {
             "colorbar": {
              "outlinewidth": 0,
              "ticks": ""
             }
            },
            "type": "scatter3d"
           }
          ],
          "scattercarpet": [
           {
            "marker": {
             "colorbar": {
              "outlinewidth": 0,
              "ticks": ""
             }
            },
            "type": "scattercarpet"
           }
          ],
          "scattergeo": [
           {
            "marker": {
             "colorbar": {
              "outlinewidth": 0,
              "ticks": ""
             }
            },
            "type": "scattergeo"
           }
          ],
          "scattergl": [
           {
            "marker": {
             "colorbar": {
              "outlinewidth": 0,
              "ticks": ""
             }
            },
            "type": "scattergl"
           }
          ],
          "scattermapbox": [
           {
            "marker": {
             "colorbar": {
              "outlinewidth": 0,
              "ticks": ""
             }
            },
            "type": "scattermapbox"
           }
          ],
          "scatterpolar": [
           {
            "marker": {
             "colorbar": {
              "outlinewidth": 0,
              "ticks": ""
             }
            },
            "type": "scatterpolar"
           }
          ],
          "scatterpolargl": [
           {
            "marker": {
             "colorbar": {
              "outlinewidth": 0,
              "ticks": ""
             }
            },
            "type": "scatterpolargl"
           }
          ],
          "scatterternary": [
           {
            "marker": {
             "colorbar": {
              "outlinewidth": 0,
              "ticks": ""
             }
            },
            "type": "scatterternary"
           }
          ],
          "surface": [
           {
            "colorbar": {
             "outlinewidth": 0,
             "ticks": ""
            },
            "colorscale": [
             [
              0,
              "#0d0887"
             ],
             [
              0.1111111111111111,
              "#46039f"
             ],
             [
              0.2222222222222222,
              "#7201a8"
             ],
             [
              0.3333333333333333,
              "#9c179e"
             ],
             [
              0.4444444444444444,
              "#bd3786"
             ],
             [
              0.5555555555555556,
              "#d8576b"
             ],
             [
              0.6666666666666666,
              "#ed7953"
             ],
             [
              0.7777777777777778,
              "#fb9f3a"
             ],
             [
              0.8888888888888888,
              "#fdca26"
             ],
             [
              1,
              "#f0f921"
             ]
            ],
            "type": "surface"
           }
          ],
          "table": [
           {
            "cells": {
             "fill": {
              "color": "#EBF0F8"
             },
             "line": {
              "color": "white"
             }
            },
            "header": {
             "fill": {
              "color": "#C8D4E3"
             },
             "line": {
              "color": "white"
             }
            },
            "type": "table"
           }
          ]
         },
         "layout": {
          "annotationdefaults": {
           "arrowcolor": "#2a3f5f",
           "arrowhead": 0,
           "arrowwidth": 1
          },
          "autotypenumbers": "strict",
          "coloraxis": {
           "colorbar": {
            "outlinewidth": 0,
            "ticks": ""
           }
          },
          "colorscale": {
           "diverging": [
            [
             0,
             "#8e0152"
            ],
            [
             0.1,
             "#c51b7d"
            ],
            [
             0.2,
             "#de77ae"
            ],
            [
             0.3,
             "#f1b6da"
            ],
            [
             0.4,
             "#fde0ef"
            ],
            [
             0.5,
             "#f7f7f7"
            ],
            [
             0.6,
             "#e6f5d0"
            ],
            [
             0.7,
             "#b8e186"
            ],
            [
             0.8,
             "#7fbc41"
            ],
            [
             0.9,
             "#4d9221"
            ],
            [
             1,
             "#276419"
            ]
           ],
           "sequential": [
            [
             0,
             "#0d0887"
            ],
            [
             0.1111111111111111,
             "#46039f"
            ],
            [
             0.2222222222222222,
             "#7201a8"
            ],
            [
             0.3333333333333333,
             "#9c179e"
            ],
            [
             0.4444444444444444,
             "#bd3786"
            ],
            [
             0.5555555555555556,
             "#d8576b"
            ],
            [
             0.6666666666666666,
             "#ed7953"
            ],
            [
             0.7777777777777778,
             "#fb9f3a"
            ],
            [
             0.8888888888888888,
             "#fdca26"
            ],
            [
             1,
             "#f0f921"
            ]
           ],
           "sequentialminus": [
            [
             0,
             "#0d0887"
            ],
            [
             0.1111111111111111,
             "#46039f"
            ],
            [
             0.2222222222222222,
             "#7201a8"
            ],
            [
             0.3333333333333333,
             "#9c179e"
            ],
            [
             0.4444444444444444,
             "#bd3786"
            ],
            [
             0.5555555555555556,
             "#d8576b"
            ],
            [
             0.6666666666666666,
             "#ed7953"
            ],
            [
             0.7777777777777778,
             "#fb9f3a"
            ],
            [
             0.8888888888888888,
             "#fdca26"
            ],
            [
             1,
             "#f0f921"
            ]
           ]
          },
          "colorway": [
           "#636efa",
           "#EF553B",
           "#00cc96",
           "#ab63fa",
           "#FFA15A",
           "#19d3f3",
           "#FF6692",
           "#B6E880",
           "#FF97FF",
           "#FECB52"
          ],
          "font": {
           "color": "#2a3f5f"
          },
          "geo": {
           "bgcolor": "white",
           "lakecolor": "white",
           "landcolor": "#E5ECF6",
           "showlakes": true,
           "showland": true,
           "subunitcolor": "white"
          },
          "hoverlabel": {
           "align": "left"
          },
          "hovermode": "closest",
          "mapbox": {
           "style": "light"
          },
          "paper_bgcolor": "white",
          "plot_bgcolor": "#E5ECF6",
          "polar": {
           "angularaxis": {
            "gridcolor": "white",
            "linecolor": "white",
            "ticks": ""
           },
           "bgcolor": "#E5ECF6",
           "radialaxis": {
            "gridcolor": "white",
            "linecolor": "white",
            "ticks": ""
           }
          },
          "scene": {
           "xaxis": {
            "backgroundcolor": "#E5ECF6",
            "gridcolor": "white",
            "gridwidth": 2,
            "linecolor": "white",
            "showbackground": true,
            "ticks": "",
            "zerolinecolor": "white"
           },
           "yaxis": {
            "backgroundcolor": "#E5ECF6",
            "gridcolor": "white",
            "gridwidth": 2,
            "linecolor": "white",
            "showbackground": true,
            "ticks": "",
            "zerolinecolor": "white"
           },
           "zaxis": {
            "backgroundcolor": "#E5ECF6",
            "gridcolor": "white",
            "gridwidth": 2,
            "linecolor": "white",
            "showbackground": true,
            "ticks": "",
            "zerolinecolor": "white"
           }
          },
          "shapedefaults": {
           "line": {
            "color": "#2a3f5f"
           }
          },
          "ternary": {
           "aaxis": {
            "gridcolor": "white",
            "linecolor": "white",
            "ticks": ""
           },
           "baxis": {
            "gridcolor": "white",
            "linecolor": "white",
            "ticks": ""
           },
           "bgcolor": "#E5ECF6",
           "caxis": {
            "gridcolor": "white",
            "linecolor": "white",
            "ticks": ""
           }
          },
          "title": {
           "x": 0.05
          },
          "xaxis": {
           "automargin": true,
           "gridcolor": "white",
           "linecolor": "white",
           "ticks": "",
           "title": {
            "standoff": 15
           },
           "zerolinecolor": "white",
           "zerolinewidth": 2
          },
          "yaxis": {
           "automargin": true,
           "gridcolor": "white",
           "linecolor": "white",
           "ticks": "",
           "title": {
            "standoff": 15
           },
           "zerolinecolor": "white",
           "zerolinewidth": 2
          }
         }
        },
        "title": {
         "text": "Number of Transactions (Cups) Each Week"
        },
        "xaxis": {
         "anchor": "y",
         "domain": [
          0,
          1
         ],
         "tickangle": -45,
         "title": {
          "text": "Week"
         }
        },
        "yaxis": {
         "anchor": "x",
         "domain": [
          0,
          1
         ],
         "title": {
          "text": "Total Cups"
         }
        }
       }
      }
     },
     "metadata": {},
     "output_type": "display_data"
    }
   ],
   "source": [
    "fig_cups = px.bar(df_by_week, x='week', y='total_cups', title='Number of Transactions (Cups) Each Week', labels={'total_cups': 'Total Cups', 'week': 'Week'})\n",
    "fig_cups.update_xaxes(tickangle=-45)  # Rotate x-axis labels for better readability\n",
    "fig_cups.show()"
   ]
  },
  {
   "cell_type": "code",
   "execution_count": 56,
   "metadata": {},
   "outputs": [
    {
     "data": {
      "application/vnd.plotly.v1+json": {
       "config": {
        "plotlyServerURL": "https://plot.ly"
       },
       "data": [
        {
         "domain": {
          "x": [
           0,
           1
          ],
          "y": [
           0,
           1
          ]
         },
         "hovertemplate": "coffee_name=%{label}<br>total_money=%{value}<extra></extra>",
         "labels": [
          "Americano",
          "Americano with Milk",
          "Cappuccino",
          "Cocoa",
          "Cortado",
          "Espresso",
          "Hot Chocolate",
          "Latte"
         ],
         "legendgroup": "",
         "name": "",
         "showlegend": true,
         "type": "pie",
         "values": [
          4092.06,
          7457.22,
          6709.56,
          1066.2,
          2445.82,
          919.42,
          2680.02,
          7696.34
         ]
        }
       ],
       "layout": {
        "legend": {
         "tracegroupgap": 0
        },
        "template": {
         "data": {
          "bar": [
           {
            "error_x": {
             "color": "#2a3f5f"
            },
            "error_y": {
             "color": "#2a3f5f"
            },
            "marker": {
             "line": {
              "color": "#E5ECF6",
              "width": 0.5
             },
             "pattern": {
              "fillmode": "overlay",
              "size": 10,
              "solidity": 0.2
             }
            },
            "type": "bar"
           }
          ],
          "barpolar": [
           {
            "marker": {
             "line": {
              "color": "#E5ECF6",
              "width": 0.5
             },
             "pattern": {
              "fillmode": "overlay",
              "size": 10,
              "solidity": 0.2
             }
            },
            "type": "barpolar"
           }
          ],
          "carpet": [
           {
            "aaxis": {
             "endlinecolor": "#2a3f5f",
             "gridcolor": "white",
             "linecolor": "white",
             "minorgridcolor": "white",
             "startlinecolor": "#2a3f5f"
            },
            "baxis": {
             "endlinecolor": "#2a3f5f",
             "gridcolor": "white",
             "linecolor": "white",
             "minorgridcolor": "white",
             "startlinecolor": "#2a3f5f"
            },
            "type": "carpet"
           }
          ],
          "choropleth": [
           {
            "colorbar": {
             "outlinewidth": 0,
             "ticks": ""
            },
            "type": "choropleth"
           }
          ],
          "contour": [
           {
            "colorbar": {
             "outlinewidth": 0,
             "ticks": ""
            },
            "colorscale": [
             [
              0,
              "#0d0887"
             ],
             [
              0.1111111111111111,
              "#46039f"
             ],
             [
              0.2222222222222222,
              "#7201a8"
             ],
             [
              0.3333333333333333,
              "#9c179e"
             ],
             [
              0.4444444444444444,
              "#bd3786"
             ],
             [
              0.5555555555555556,
              "#d8576b"
             ],
             [
              0.6666666666666666,
              "#ed7953"
             ],
             [
              0.7777777777777778,
              "#fb9f3a"
             ],
             [
              0.8888888888888888,
              "#fdca26"
             ],
             [
              1,
              "#f0f921"
             ]
            ],
            "type": "contour"
           }
          ],
          "contourcarpet": [
           {
            "colorbar": {
             "outlinewidth": 0,
             "ticks": ""
            },
            "type": "contourcarpet"
           }
          ],
          "heatmap": [
           {
            "colorbar": {
             "outlinewidth": 0,
             "ticks": ""
            },
            "colorscale": [
             [
              0,
              "#0d0887"
             ],
             [
              0.1111111111111111,
              "#46039f"
             ],
             [
              0.2222222222222222,
              "#7201a8"
             ],
             [
              0.3333333333333333,
              "#9c179e"
             ],
             [
              0.4444444444444444,
              "#bd3786"
             ],
             [
              0.5555555555555556,
              "#d8576b"
             ],
             [
              0.6666666666666666,
              "#ed7953"
             ],
             [
              0.7777777777777778,
              "#fb9f3a"
             ],
             [
              0.8888888888888888,
              "#fdca26"
             ],
             [
              1,
              "#f0f921"
             ]
            ],
            "type": "heatmap"
           }
          ],
          "heatmapgl": [
           {
            "colorbar": {
             "outlinewidth": 0,
             "ticks": ""
            },
            "colorscale": [
             [
              0,
              "#0d0887"
             ],
             [
              0.1111111111111111,
              "#46039f"
             ],
             [
              0.2222222222222222,
              "#7201a8"
             ],
             [
              0.3333333333333333,
              "#9c179e"
             ],
             [
              0.4444444444444444,
              "#bd3786"
             ],
             [
              0.5555555555555556,
              "#d8576b"
             ],
             [
              0.6666666666666666,
              "#ed7953"
             ],
             [
              0.7777777777777778,
              "#fb9f3a"
             ],
             [
              0.8888888888888888,
              "#fdca26"
             ],
             [
              1,
              "#f0f921"
             ]
            ],
            "type": "heatmapgl"
           }
          ],
          "histogram": [
           {
            "marker": {
             "pattern": {
              "fillmode": "overlay",
              "size": 10,
              "solidity": 0.2
             }
            },
            "type": "histogram"
           }
          ],
          "histogram2d": [
           {
            "colorbar": {
             "outlinewidth": 0,
             "ticks": ""
            },
            "colorscale": [
             [
              0,
              "#0d0887"
             ],
             [
              0.1111111111111111,
              "#46039f"
             ],
             [
              0.2222222222222222,
              "#7201a8"
             ],
             [
              0.3333333333333333,
              "#9c179e"
             ],
             [
              0.4444444444444444,
              "#bd3786"
             ],
             [
              0.5555555555555556,
              "#d8576b"
             ],
             [
              0.6666666666666666,
              "#ed7953"
             ],
             [
              0.7777777777777778,
              "#fb9f3a"
             ],
             [
              0.8888888888888888,
              "#fdca26"
             ],
             [
              1,
              "#f0f921"
             ]
            ],
            "type": "histogram2d"
           }
          ],
          "histogram2dcontour": [
           {
            "colorbar": {
             "outlinewidth": 0,
             "ticks": ""
            },
            "colorscale": [
             [
              0,
              "#0d0887"
             ],
             [
              0.1111111111111111,
              "#46039f"
             ],
             [
              0.2222222222222222,
              "#7201a8"
             ],
             [
              0.3333333333333333,
              "#9c179e"
             ],
             [
              0.4444444444444444,
              "#bd3786"
             ],
             [
              0.5555555555555556,
              "#d8576b"
             ],
             [
              0.6666666666666666,
              "#ed7953"
             ],
             [
              0.7777777777777778,
              "#fb9f3a"
             ],
             [
              0.8888888888888888,
              "#fdca26"
             ],
             [
              1,
              "#f0f921"
             ]
            ],
            "type": "histogram2dcontour"
           }
          ],
          "mesh3d": [
           {
            "colorbar": {
             "outlinewidth": 0,
             "ticks": ""
            },
            "type": "mesh3d"
           }
          ],
          "parcoords": [
           {
            "line": {
             "colorbar": {
              "outlinewidth": 0,
              "ticks": ""
             }
            },
            "type": "parcoords"
           }
          ],
          "pie": [
           {
            "automargin": true,
            "type": "pie"
           }
          ],
          "scatter": [
           {
            "fillpattern": {
             "fillmode": "overlay",
             "size": 10,
             "solidity": 0.2
            },
            "type": "scatter"
           }
          ],
          "scatter3d": [
           {
            "line": {
             "colorbar": {
              "outlinewidth": 0,
              "ticks": ""
             }
            },
            "marker": {
             "colorbar": {
              "outlinewidth": 0,
              "ticks": ""
             }
            },
            "type": "scatter3d"
           }
          ],
          "scattercarpet": [
           {
            "marker": {
             "colorbar": {
              "outlinewidth": 0,
              "ticks": ""
             }
            },
            "type": "scattercarpet"
           }
          ],
          "scattergeo": [
           {
            "marker": {
             "colorbar": {
              "outlinewidth": 0,
              "ticks": ""
             }
            },
            "type": "scattergeo"
           }
          ],
          "scattergl": [
           {
            "marker": {
             "colorbar": {
              "outlinewidth": 0,
              "ticks": ""
             }
            },
            "type": "scattergl"
           }
          ],
          "scattermapbox": [
           {
            "marker": {
             "colorbar": {
              "outlinewidth": 0,
              "ticks": ""
             }
            },
            "type": "scattermapbox"
           }
          ],
          "scatterpolar": [
           {
            "marker": {
             "colorbar": {
              "outlinewidth": 0,
              "ticks": ""
             }
            },
            "type": "scatterpolar"
           }
          ],
          "scatterpolargl": [
           {
            "marker": {
             "colorbar": {
              "outlinewidth": 0,
              "ticks": ""
             }
            },
            "type": "scatterpolargl"
           }
          ],
          "scatterternary": [
           {
            "marker": {
             "colorbar": {
              "outlinewidth": 0,
              "ticks": ""
             }
            },
            "type": "scatterternary"
           }
          ],
          "surface": [
           {
            "colorbar": {
             "outlinewidth": 0,
             "ticks": ""
            },
            "colorscale": [
             [
              0,
              "#0d0887"
             ],
             [
              0.1111111111111111,
              "#46039f"
             ],
             [
              0.2222222222222222,
              "#7201a8"
             ],
             [
              0.3333333333333333,
              "#9c179e"
             ],
             [
              0.4444444444444444,
              "#bd3786"
             ],
             [
              0.5555555555555556,
              "#d8576b"
             ],
             [
              0.6666666666666666,
              "#ed7953"
             ],
             [
              0.7777777777777778,
              "#fb9f3a"
             ],
             [
              0.8888888888888888,
              "#fdca26"
             ],
             [
              1,
              "#f0f921"
             ]
            ],
            "type": "surface"
           }
          ],
          "table": [
           {
            "cells": {
             "fill": {
              "color": "#EBF0F8"
             },
             "line": {
              "color": "white"
             }
            },
            "header": {
             "fill": {
              "color": "#C8D4E3"
             },
             "line": {
              "color": "white"
             }
            },
            "type": "table"
           }
          ]
         },
         "layout": {
          "annotationdefaults": {
           "arrowcolor": "#2a3f5f",
           "arrowhead": 0,
           "arrowwidth": 1
          },
          "autotypenumbers": "strict",
          "coloraxis": {
           "colorbar": {
            "outlinewidth": 0,
            "ticks": ""
           }
          },
          "colorscale": {
           "diverging": [
            [
             0,
             "#8e0152"
            ],
            [
             0.1,
             "#c51b7d"
            ],
            [
             0.2,
             "#de77ae"
            ],
            [
             0.3,
             "#f1b6da"
            ],
            [
             0.4,
             "#fde0ef"
            ],
            [
             0.5,
             "#f7f7f7"
            ],
            [
             0.6,
             "#e6f5d0"
            ],
            [
             0.7,
             "#b8e186"
            ],
            [
             0.8,
             "#7fbc41"
            ],
            [
             0.9,
             "#4d9221"
            ],
            [
             1,
             "#276419"
            ]
           ],
           "sequential": [
            [
             0,
             "#0d0887"
            ],
            [
             0.1111111111111111,
             "#46039f"
            ],
            [
             0.2222222222222222,
             "#7201a8"
            ],
            [
             0.3333333333333333,
             "#9c179e"
            ],
            [
             0.4444444444444444,
             "#bd3786"
            ],
            [
             0.5555555555555556,
             "#d8576b"
            ],
            [
             0.6666666666666666,
             "#ed7953"
            ],
            [
             0.7777777777777778,
             "#fb9f3a"
            ],
            [
             0.8888888888888888,
             "#fdca26"
            ],
            [
             1,
             "#f0f921"
            ]
           ],
           "sequentialminus": [
            [
             0,
             "#0d0887"
            ],
            [
             0.1111111111111111,
             "#46039f"
            ],
            [
             0.2222222222222222,
             "#7201a8"
            ],
            [
             0.3333333333333333,
             "#9c179e"
            ],
            [
             0.4444444444444444,
             "#bd3786"
            ],
            [
             0.5555555555555556,
             "#d8576b"
            ],
            [
             0.6666666666666666,
             "#ed7953"
            ],
            [
             0.7777777777777778,
             "#fb9f3a"
            ],
            [
             0.8888888888888888,
             "#fdca26"
            ],
            [
             1,
             "#f0f921"
            ]
           ]
          },
          "colorway": [
           "#636efa",
           "#EF553B",
           "#00cc96",
           "#ab63fa",
           "#FFA15A",
           "#19d3f3",
           "#FF6692",
           "#B6E880",
           "#FF97FF",
           "#FECB52"
          ],
          "font": {
           "color": "#2a3f5f"
          },
          "geo": {
           "bgcolor": "white",
           "lakecolor": "white",
           "landcolor": "#E5ECF6",
           "showlakes": true,
           "showland": true,
           "subunitcolor": "white"
          },
          "hoverlabel": {
           "align": "left"
          },
          "hovermode": "closest",
          "mapbox": {
           "style": "light"
          },
          "paper_bgcolor": "white",
          "plot_bgcolor": "#E5ECF6",
          "polar": {
           "angularaxis": {
            "gridcolor": "white",
            "linecolor": "white",
            "ticks": ""
           },
           "bgcolor": "#E5ECF6",
           "radialaxis": {
            "gridcolor": "white",
            "linecolor": "white",
            "ticks": ""
           }
          },
          "scene": {
           "xaxis": {
            "backgroundcolor": "#E5ECF6",
            "gridcolor": "white",
            "gridwidth": 2,
            "linecolor": "white",
            "showbackground": true,
            "ticks": "",
            "zerolinecolor": "white"
           },
           "yaxis": {
            "backgroundcolor": "#E5ECF6",
            "gridcolor": "white",
            "gridwidth": 2,
            "linecolor": "white",
            "showbackground": true,
            "ticks": "",
            "zerolinecolor": "white"
           },
           "zaxis": {
            "backgroundcolor": "#E5ECF6",
            "gridcolor": "white",
            "gridwidth": 2,
            "linecolor": "white",
            "showbackground": true,
            "ticks": "",
            "zerolinecolor": "white"
           }
          },
          "shapedefaults": {
           "line": {
            "color": "#2a3f5f"
           }
          },
          "ternary": {
           "aaxis": {
            "gridcolor": "white",
            "linecolor": "white",
            "ticks": ""
           },
           "baxis": {
            "gridcolor": "white",
            "linecolor": "white",
            "ticks": ""
           },
           "bgcolor": "#E5ECF6",
           "caxis": {
            "gridcolor": "white",
            "linecolor": "white",
            "ticks": ""
           }
          },
          "title": {
           "x": 0.05
          },
          "xaxis": {
           "automargin": true,
           "gridcolor": "white",
           "linecolor": "white",
           "ticks": "",
           "title": {
            "standoff": 15
           },
           "zerolinecolor": "white",
           "zerolinewidth": 2
          },
          "yaxis": {
           "automargin": true,
           "gridcolor": "white",
           "linecolor": "white",
           "ticks": "",
           "title": {
            "standoff": 15
           },
           "zerolinecolor": "white",
           "zerolinewidth": 2
          }
         }
        },
        "title": {
         "text": "Distribution of Money Spent by Coffee Type"
        }
       }
      }
     },
     "metadata": {},
     "output_type": "display_data"
    }
   ],
   "source": [
    "fig_pie = px.pie(df_coffee_distribution, names='coffee_name', values='total_money', \n",
    "                 title='Distribution of Money Spent by Coffee Type')\n",
    "fig_pie.show()"
   ]
  },
  {
   "cell_type": "code",
   "execution_count": 57,
   "metadata": {},
   "outputs": [
    {
     "data": {
      "application/vnd.plotly.v1+json": {
       "config": {
        "plotlyServerURL": "https://plot.ly"
       },
       "data": [
        {
         "hovertemplate": "Date=%{x}<br>Total Money=%{y}<extra></extra>",
         "legendgroup": "",
         "line": {
          "color": "#636efa",
          "dash": "solid"
         },
         "marker": {
          "symbol": "circle"
         },
         "mode": "lines",
         "name": "",
         "orientation": "v",
         "showlegend": false,
         "type": "scatter",
         "x": [
          "2024-03-01",
          "2024-03-02",
          "2024-03-03",
          "2024-03-04",
          "2024-03-05",
          "2024-03-06",
          "2024-03-07",
          "2024-03-08",
          "2024-03-09",
          "2024-03-10",
          "2024-03-11",
          "2024-03-12",
          "2024-03-13",
          "2024-03-14",
          "2024-03-15",
          "2024-03-16",
          "2024-03-17",
          "2024-03-18",
          "2024-03-19",
          "2024-03-20",
          "2024-03-21",
          "2024-03-22",
          "2024-03-23",
          "2024-03-24",
          "2024-03-25",
          "2024-03-26",
          "2024-03-27",
          "2024-03-28",
          "2024-03-29",
          "2024-03-30",
          "2024-03-31",
          "2024-04-01",
          "2024-04-02",
          "2024-04-03",
          "2024-04-04",
          "2024-04-05",
          "2024-04-06",
          "2024-04-07",
          "2024-04-08",
          "2024-04-09",
          "2024-04-10",
          "2024-04-11",
          "2024-04-12",
          "2024-04-13",
          "2024-04-14",
          "2024-04-15",
          "2024-04-16",
          "2024-04-17",
          "2024-04-18",
          "2024-04-19",
          "2024-04-20",
          "2024-04-21",
          "2024-04-22",
          "2024-04-23",
          "2024-04-24",
          "2024-04-25",
          "2024-04-26",
          "2024-04-27",
          "2024-04-28",
          "2024-04-29",
          "2024-04-30",
          "2024-05-02",
          "2024-05-03",
          "2024-05-06",
          "2024-05-07",
          "2024-05-08",
          "2024-05-09",
          "2024-05-10",
          "2024-05-11",
          "2024-05-12",
          "2024-05-13",
          "2024-05-14",
          "2024-05-15",
          "2024-05-16",
          "2024-05-17",
          "2024-05-18",
          "2024-05-19",
          "2024-05-20",
          "2024-05-21",
          "2024-05-22",
          "2024-05-23",
          "2024-05-24",
          "2024-05-25",
          "2024-05-26",
          "2024-05-27",
          "2024-05-28",
          "2024-05-29",
          "2024-05-30",
          "2024-05-31",
          "2024-06-01",
          "2024-06-02",
          "2024-06-03",
          "2024-06-04",
          "2024-06-05",
          "2024-06-06",
          "2024-06-07",
          "2024-06-08",
          "2024-06-09",
          "2024-06-10",
          "2024-06-11",
          "2024-06-12",
          "2024-06-13",
          "2024-06-14",
          "2024-06-15",
          "2024-06-16",
          "2024-06-17",
          "2024-06-18",
          "2024-06-19",
          "2024-06-20",
          "2024-06-21",
          "2024-06-22",
          "2024-06-23",
          "2024-06-24",
          "2024-06-25",
          "2024-06-26",
          "2024-06-27",
          "2024-06-28",
          "2024-06-29",
          "2024-06-30",
          "2024-07-01",
          "2024-07-02",
          "2024-07-03",
          "2024-07-04",
          "2024-07-05",
          "2024-07-06",
          "2024-07-07",
          "2024-07-08",
          "2024-07-09",
          "2024-07-10",
          "2024-07-11",
          "2024-07-12",
          "2024-07-13",
          "2024-07-14",
          "2024-07-15",
          "2024-07-16",
          "2024-07-17"
         ],
         "xaxis": "x",
         "y": [
          396.3,
          228.1,
          349.1,
          135.2,
          338.5,
          170.2,
          220.1,
          265.5,
          479.4,
          231.6,
          275.2,
          228.1,
          256.2,
          397.1,
          107.6,
          183.2,
          68.9,
          115.6,
          219.9,
          213.9,
          205.2,
          189.39999999999998,
          285.1,
          78.7,
          223.60000000000002,
          376.7,
          271.7,
          125.4,
          156.10000000000002,
          189.9,
          68.7,
          242.79999999999998,
          136.5,
          126.5,
          185,
          362.1,
          140.1,
          241.5,
          340.2,
          186.10000000000002,
          166.4,
          169,
          67.6,
          302.40000000000003,
          434.3,
          150.39999999999998,
          276.5,
          199.2,
          352.7,
          261.1,
          494.3,
          104.64,
          176.46,
          173.9,
          272.36,
          121.48,
          300.28,
          37.72,
          169,
          257.66,
          272.36,
          245.72,
          114.44,
          314.58,
          344.08,
          37.72,
          295.38,
          148.44,
          293.24,
          272.36,
          90.82,
          403.64,
          350.82,
          327.34,
          306.36,
          283.44,
          417.84000000000003,
          559.02,
          314.9,
          370.82,
          575.4,
          210.14000000000001,
          254.92000000000002,
          526.6,
          365.92,
          372.1,
          396.6,
          370.82,
          499.96,
          386.8,
          212.8,
          251.7,
          474.18,
          310.08,
          385.52,
          149.4,
          136.18,
          436.46,
          226.32,
          211.62,
          221.42,
          379.14,
          126.38,
          262.56,
          408.54,
          323.3,
          234.64,
          380.62,
          221.42,
          403.64,
          169,
          178.8,
          221.42,
          141.07999999999998,
          196.92,
          131.28,
          159.2,
          287.06,
          131.28,
          98.46,
          192.02,
          310.08,
          60.74,
          303.7,
          164.1,
          346.32,
          139.6,
          144.5,
          83.76,
          116.58,
          154.3,
          65.64,
          172.42000000000002,
          32.82,
          60.74,
          27.92
         ],
         "yaxis": "y"
        }
       ],
       "layout": {
        "legend": {
         "tracegroupgap": 0
        },
        "template": {
         "data": {
          "bar": [
           {
            "error_x": {
             "color": "#2a3f5f"
            },
            "error_y": {
             "color": "#2a3f5f"
            },
            "marker": {
             "line": {
              "color": "#E5ECF6",
              "width": 0.5
             },
             "pattern": {
              "fillmode": "overlay",
              "size": 10,
              "solidity": 0.2
             }
            },
            "type": "bar"
           }
          ],
          "barpolar": [
           {
            "marker": {
             "line": {
              "color": "#E5ECF6",
              "width": 0.5
             },
             "pattern": {
              "fillmode": "overlay",
              "size": 10,
              "solidity": 0.2
             }
            },
            "type": "barpolar"
           }
          ],
          "carpet": [
           {
            "aaxis": {
             "endlinecolor": "#2a3f5f",
             "gridcolor": "white",
             "linecolor": "white",
             "minorgridcolor": "white",
             "startlinecolor": "#2a3f5f"
            },
            "baxis": {
             "endlinecolor": "#2a3f5f",
             "gridcolor": "white",
             "linecolor": "white",
             "minorgridcolor": "white",
             "startlinecolor": "#2a3f5f"
            },
            "type": "carpet"
           }
          ],
          "choropleth": [
           {
            "colorbar": {
             "outlinewidth": 0,
             "ticks": ""
            },
            "type": "choropleth"
           }
          ],
          "contour": [
           {
            "colorbar": {
             "outlinewidth": 0,
             "ticks": ""
            },
            "colorscale": [
             [
              0,
              "#0d0887"
             ],
             [
              0.1111111111111111,
              "#46039f"
             ],
             [
              0.2222222222222222,
              "#7201a8"
             ],
             [
              0.3333333333333333,
              "#9c179e"
             ],
             [
              0.4444444444444444,
              "#bd3786"
             ],
             [
              0.5555555555555556,
              "#d8576b"
             ],
             [
              0.6666666666666666,
              "#ed7953"
             ],
             [
              0.7777777777777778,
              "#fb9f3a"
             ],
             [
              0.8888888888888888,
              "#fdca26"
             ],
             [
              1,
              "#f0f921"
             ]
            ],
            "type": "contour"
           }
          ],
          "contourcarpet": [
           {
            "colorbar": {
             "outlinewidth": 0,
             "ticks": ""
            },
            "type": "contourcarpet"
           }
          ],
          "heatmap": [
           {
            "colorbar": {
             "outlinewidth": 0,
             "ticks": ""
            },
            "colorscale": [
             [
              0,
              "#0d0887"
             ],
             [
              0.1111111111111111,
              "#46039f"
             ],
             [
              0.2222222222222222,
              "#7201a8"
             ],
             [
              0.3333333333333333,
              "#9c179e"
             ],
             [
              0.4444444444444444,
              "#bd3786"
             ],
             [
              0.5555555555555556,
              "#d8576b"
             ],
             [
              0.6666666666666666,
              "#ed7953"
             ],
             [
              0.7777777777777778,
              "#fb9f3a"
             ],
             [
              0.8888888888888888,
              "#fdca26"
             ],
             [
              1,
              "#f0f921"
             ]
            ],
            "type": "heatmap"
           }
          ],
          "heatmapgl": [
           {
            "colorbar": {
             "outlinewidth": 0,
             "ticks": ""
            },
            "colorscale": [
             [
              0,
              "#0d0887"
             ],
             [
              0.1111111111111111,
              "#46039f"
             ],
             [
              0.2222222222222222,
              "#7201a8"
             ],
             [
              0.3333333333333333,
              "#9c179e"
             ],
             [
              0.4444444444444444,
              "#bd3786"
             ],
             [
              0.5555555555555556,
              "#d8576b"
             ],
             [
              0.6666666666666666,
              "#ed7953"
             ],
             [
              0.7777777777777778,
              "#fb9f3a"
             ],
             [
              0.8888888888888888,
              "#fdca26"
             ],
             [
              1,
              "#f0f921"
             ]
            ],
            "type": "heatmapgl"
           }
          ],
          "histogram": [
           {
            "marker": {
             "pattern": {
              "fillmode": "overlay",
              "size": 10,
              "solidity": 0.2
             }
            },
            "type": "histogram"
           }
          ],
          "histogram2d": [
           {
            "colorbar": {
             "outlinewidth": 0,
             "ticks": ""
            },
            "colorscale": [
             [
              0,
              "#0d0887"
             ],
             [
              0.1111111111111111,
              "#46039f"
             ],
             [
              0.2222222222222222,
              "#7201a8"
             ],
             [
              0.3333333333333333,
              "#9c179e"
             ],
             [
              0.4444444444444444,
              "#bd3786"
             ],
             [
              0.5555555555555556,
              "#d8576b"
             ],
             [
              0.6666666666666666,
              "#ed7953"
             ],
             [
              0.7777777777777778,
              "#fb9f3a"
             ],
             [
              0.8888888888888888,
              "#fdca26"
             ],
             [
              1,
              "#f0f921"
             ]
            ],
            "type": "histogram2d"
           }
          ],
          "histogram2dcontour": [
           {
            "colorbar": {
             "outlinewidth": 0,
             "ticks": ""
            },
            "colorscale": [
             [
              0,
              "#0d0887"
             ],
             [
              0.1111111111111111,
              "#46039f"
             ],
             [
              0.2222222222222222,
              "#7201a8"
             ],
             [
              0.3333333333333333,
              "#9c179e"
             ],
             [
              0.4444444444444444,
              "#bd3786"
             ],
             [
              0.5555555555555556,
              "#d8576b"
             ],
             [
              0.6666666666666666,
              "#ed7953"
             ],
             [
              0.7777777777777778,
              "#fb9f3a"
             ],
             [
              0.8888888888888888,
              "#fdca26"
             ],
             [
              1,
              "#f0f921"
             ]
            ],
            "type": "histogram2dcontour"
           }
          ],
          "mesh3d": [
           {
            "colorbar": {
             "outlinewidth": 0,
             "ticks": ""
            },
            "type": "mesh3d"
           }
          ],
          "parcoords": [
           {
            "line": {
             "colorbar": {
              "outlinewidth": 0,
              "ticks": ""
             }
            },
            "type": "parcoords"
           }
          ],
          "pie": [
           {
            "automargin": true,
            "type": "pie"
           }
          ],
          "scatter": [
           {
            "fillpattern": {
             "fillmode": "overlay",
             "size": 10,
             "solidity": 0.2
            },
            "type": "scatter"
           }
          ],
          "scatter3d": [
           {
            "line": {
             "colorbar": {
              "outlinewidth": 0,
              "ticks": ""
             }
            },
            "marker": {
             "colorbar": {
              "outlinewidth": 0,
              "ticks": ""
             }
            },
            "type": "scatter3d"
           }
          ],
          "scattercarpet": [
           {
            "marker": {
             "colorbar": {
              "outlinewidth": 0,
              "ticks": ""
             }
            },
            "type": "scattercarpet"
           }
          ],
          "scattergeo": [
           {
            "marker": {
             "colorbar": {
              "outlinewidth": 0,
              "ticks": ""
             }
            },
            "type": "scattergeo"
           }
          ],
          "scattergl": [
           {
            "marker": {
             "colorbar": {
              "outlinewidth": 0,
              "ticks": ""
             }
            },
            "type": "scattergl"
           }
          ],
          "scattermapbox": [
           {
            "marker": {
             "colorbar": {
              "outlinewidth": 0,
              "ticks": ""
             }
            },
            "type": "scattermapbox"
           }
          ],
          "scatterpolar": [
           {
            "marker": {
             "colorbar": {
              "outlinewidth": 0,
              "ticks": ""
             }
            },
            "type": "scatterpolar"
           }
          ],
          "scatterpolargl": [
           {
            "marker": {
             "colorbar": {
              "outlinewidth": 0,
              "ticks": ""
             }
            },
            "type": "scatterpolargl"
           }
          ],
          "scatterternary": [
           {
            "marker": {
             "colorbar": {
              "outlinewidth": 0,
              "ticks": ""
             }
            },
            "type": "scatterternary"
           }
          ],
          "surface": [
           {
            "colorbar": {
             "outlinewidth": 0,
             "ticks": ""
            },
            "colorscale": [
             [
              0,
              "#0d0887"
             ],
             [
              0.1111111111111111,
              "#46039f"
             ],
             [
              0.2222222222222222,
              "#7201a8"
             ],
             [
              0.3333333333333333,
              "#9c179e"
             ],
             [
              0.4444444444444444,
              "#bd3786"
             ],
             [
              0.5555555555555556,
              "#d8576b"
             ],
             [
              0.6666666666666666,
              "#ed7953"
             ],
             [
              0.7777777777777778,
              "#fb9f3a"
             ],
             [
              0.8888888888888888,
              "#fdca26"
             ],
             [
              1,
              "#f0f921"
             ]
            ],
            "type": "surface"
           }
          ],
          "table": [
           {
            "cells": {
             "fill": {
              "color": "#EBF0F8"
             },
             "line": {
              "color": "white"
             }
            },
            "header": {
             "fill": {
              "color": "#C8D4E3"
             },
             "line": {
              "color": "white"
             }
            },
            "type": "table"
           }
          ]
         },
         "layout": {
          "annotationdefaults": {
           "arrowcolor": "#2a3f5f",
           "arrowhead": 0,
           "arrowwidth": 1
          },
          "autotypenumbers": "strict",
          "coloraxis": {
           "colorbar": {
            "outlinewidth": 0,
            "ticks": ""
           }
          },
          "colorscale": {
           "diverging": [
            [
             0,
             "#8e0152"
            ],
            [
             0.1,
             "#c51b7d"
            ],
            [
             0.2,
             "#de77ae"
            ],
            [
             0.3,
             "#f1b6da"
            ],
            [
             0.4,
             "#fde0ef"
            ],
            [
             0.5,
             "#f7f7f7"
            ],
            [
             0.6,
             "#e6f5d0"
            ],
            [
             0.7,
             "#b8e186"
            ],
            [
             0.8,
             "#7fbc41"
            ],
            [
             0.9,
             "#4d9221"
            ],
            [
             1,
             "#276419"
            ]
           ],
           "sequential": [
            [
             0,
             "#0d0887"
            ],
            [
             0.1111111111111111,
             "#46039f"
            ],
            [
             0.2222222222222222,
             "#7201a8"
            ],
            [
             0.3333333333333333,
             "#9c179e"
            ],
            [
             0.4444444444444444,
             "#bd3786"
            ],
            [
             0.5555555555555556,
             "#d8576b"
            ],
            [
             0.6666666666666666,
             "#ed7953"
            ],
            [
             0.7777777777777778,
             "#fb9f3a"
            ],
            [
             0.8888888888888888,
             "#fdca26"
            ],
            [
             1,
             "#f0f921"
            ]
           ],
           "sequentialminus": [
            [
             0,
             "#0d0887"
            ],
            [
             0.1111111111111111,
             "#46039f"
            ],
            [
             0.2222222222222222,
             "#7201a8"
            ],
            [
             0.3333333333333333,
             "#9c179e"
            ],
            [
             0.4444444444444444,
             "#bd3786"
            ],
            [
             0.5555555555555556,
             "#d8576b"
            ],
            [
             0.6666666666666666,
             "#ed7953"
            ],
            [
             0.7777777777777778,
             "#fb9f3a"
            ],
            [
             0.8888888888888888,
             "#fdca26"
            ],
            [
             1,
             "#f0f921"
            ]
           ]
          },
          "colorway": [
           "#636efa",
           "#EF553B",
           "#00cc96",
           "#ab63fa",
           "#FFA15A",
           "#19d3f3",
           "#FF6692",
           "#B6E880",
           "#FF97FF",
           "#FECB52"
          ],
          "font": {
           "color": "#2a3f5f"
          },
          "geo": {
           "bgcolor": "white",
           "lakecolor": "white",
           "landcolor": "#E5ECF6",
           "showlakes": true,
           "showland": true,
           "subunitcolor": "white"
          },
          "hoverlabel": {
           "align": "left"
          },
          "hovermode": "closest",
          "mapbox": {
           "style": "light"
          },
          "paper_bgcolor": "white",
          "plot_bgcolor": "#E5ECF6",
          "polar": {
           "angularaxis": {
            "gridcolor": "white",
            "linecolor": "white",
            "ticks": ""
           },
           "bgcolor": "#E5ECF6",
           "radialaxis": {
            "gridcolor": "white",
            "linecolor": "white",
            "ticks": ""
           }
          },
          "scene": {
           "xaxis": {
            "backgroundcolor": "#E5ECF6",
            "gridcolor": "white",
            "gridwidth": 2,
            "linecolor": "white",
            "showbackground": true,
            "ticks": "",
            "zerolinecolor": "white"
           },
           "yaxis": {
            "backgroundcolor": "#E5ECF6",
            "gridcolor": "white",
            "gridwidth": 2,
            "linecolor": "white",
            "showbackground": true,
            "ticks": "",
            "zerolinecolor": "white"
           },
           "zaxis": {
            "backgroundcolor": "#E5ECF6",
            "gridcolor": "white",
            "gridwidth": 2,
            "linecolor": "white",
            "showbackground": true,
            "ticks": "",
            "zerolinecolor": "white"
           }
          },
          "shapedefaults": {
           "line": {
            "color": "#2a3f5f"
           }
          },
          "ternary": {
           "aaxis": {
            "gridcolor": "white",
            "linecolor": "white",
            "ticks": ""
           },
           "baxis": {
            "gridcolor": "white",
            "linecolor": "white",
            "ticks": ""
           },
           "bgcolor": "#E5ECF6",
           "caxis": {
            "gridcolor": "white",
            "linecolor": "white",
            "ticks": ""
           }
          },
          "title": {
           "x": 0.05
          },
          "xaxis": {
           "automargin": true,
           "gridcolor": "white",
           "linecolor": "white",
           "ticks": "",
           "title": {
            "standoff": 15
           },
           "zerolinecolor": "white",
           "zerolinewidth": 2
          },
          "yaxis": {
           "automargin": true,
           "gridcolor": "white",
           "linecolor": "white",
           "ticks": "",
           "title": {
            "standoff": 15
           },
           "zerolinecolor": "white",
           "zerolinewidth": 2
          }
         }
        },
        "title": {
         "text": "Daily Spending Trend"
        },
        "xaxis": {
         "anchor": "y",
         "domain": [
          0,
          1
         ],
         "title": {
          "text": "Date"
         }
        },
        "yaxis": {
         "anchor": "x",
         "domain": [
          0,
          1
         ],
         "title": {
          "text": "Total Money"
         }
        }
       }
      }
     },
     "metadata": {},
     "output_type": "display_data"
    }
   ],
   "source": [
    "df['day'] = df['datetime'].dt.date\n",
    "daily_spending = df.groupby('day').agg({'money': 'sum'}).reset_index()\n",
    "fig = px.line(daily_spending, x='day', y='money', title='Daily Spending Trend', labels={'money': 'Total Money', 'day': 'Date'})\n",
    "fig.show()"
   ]
  },
  {
   "cell_type": "code",
   "execution_count": 58,
   "metadata": {},
   "outputs": [
    {
     "data": {
      "application/vnd.plotly.v1+json": {
       "config": {
        "plotlyServerURL": "https://plot.ly"
       },
       "data": [
        {
         "hovertemplate": "Week=%{x}<br>Total Money=%{y}<extra></extra>",
         "legendgroup": "",
         "line": {
          "color": "#636efa",
          "dash": "solid"
         },
         "marker": {
          "symbol": "circle"
         },
         "mode": "lines",
         "name": "",
         "orientation": "v",
         "showlegend": false,
         "type": "scatter",
         "x": [
          "2024-02-26/2024-03-03",
          "2024-03-04/2024-03-10",
          "2024-03-11/2024-03-17",
          "2024-03-18/2024-03-24",
          "2024-03-25/2024-03-31",
          "2024-04-01/2024-04-07",
          "2024-04-08/2024-04-14",
          "2024-04-15/2024-04-21",
          "2024-04-22/2024-04-28",
          "2024-04-29/2024-05-05",
          "2024-05-06/2024-05-12",
          "2024-05-13/2024-05-19",
          "2024-05-20/2024-05-26",
          "2024-05-27/2024-06-02",
          "2024-06-03/2024-06-09",
          "2024-06-10/2024-06-16",
          "2024-06-17/2024-06-23",
          "2024-06-24/2024-06-30",
          "2024-07-01/2024-07-07",
          "2024-07-08/2024-07-14",
          "2024-07-15/2024-07-21"
         ],
         "xaxis": "x",
         "y": [
          973.5,
          1840.5,
          1516.3,
          1307.8,
          1412.1000000000001,
          1434.5,
          1666,
          1838.84,
          1251.2,
          890.18,
          1705.8,
          2180.26,
          2811.8,
          2605,
          2143.52,
          1835.98,
          1911.42,
          1268.24,
          1475.42,
          876.8,
          121.48
         ],
         "yaxis": "y"
        }
       ],
       "layout": {
        "legend": {
         "tracegroupgap": 0
        },
        "template": {
         "data": {
          "bar": [
           {
            "error_x": {
             "color": "#2a3f5f"
            },
            "error_y": {
             "color": "#2a3f5f"
            },
            "marker": {
             "line": {
              "color": "#E5ECF6",
              "width": 0.5
             },
             "pattern": {
              "fillmode": "overlay",
              "size": 10,
              "solidity": 0.2
             }
            },
            "type": "bar"
           }
          ],
          "barpolar": [
           {
            "marker": {
             "line": {
              "color": "#E5ECF6",
              "width": 0.5
             },
             "pattern": {
              "fillmode": "overlay",
              "size": 10,
              "solidity": 0.2
             }
            },
            "type": "barpolar"
           }
          ],
          "carpet": [
           {
            "aaxis": {
             "endlinecolor": "#2a3f5f",
             "gridcolor": "white",
             "linecolor": "white",
             "minorgridcolor": "white",
             "startlinecolor": "#2a3f5f"
            },
            "baxis": {
             "endlinecolor": "#2a3f5f",
             "gridcolor": "white",
             "linecolor": "white",
             "minorgridcolor": "white",
             "startlinecolor": "#2a3f5f"
            },
            "type": "carpet"
           }
          ],
          "choropleth": [
           {
            "colorbar": {
             "outlinewidth": 0,
             "ticks": ""
            },
            "type": "choropleth"
           }
          ],
          "contour": [
           {
            "colorbar": {
             "outlinewidth": 0,
             "ticks": ""
            },
            "colorscale": [
             [
              0,
              "#0d0887"
             ],
             [
              0.1111111111111111,
              "#46039f"
             ],
             [
              0.2222222222222222,
              "#7201a8"
             ],
             [
              0.3333333333333333,
              "#9c179e"
             ],
             [
              0.4444444444444444,
              "#bd3786"
             ],
             [
              0.5555555555555556,
              "#d8576b"
             ],
             [
              0.6666666666666666,
              "#ed7953"
             ],
             [
              0.7777777777777778,
              "#fb9f3a"
             ],
             [
              0.8888888888888888,
              "#fdca26"
             ],
             [
              1,
              "#f0f921"
             ]
            ],
            "type": "contour"
           }
          ],
          "contourcarpet": [
           {
            "colorbar": {
             "outlinewidth": 0,
             "ticks": ""
            },
            "type": "contourcarpet"
           }
          ],
          "heatmap": [
           {
            "colorbar": {
             "outlinewidth": 0,
             "ticks": ""
            },
            "colorscale": [
             [
              0,
              "#0d0887"
             ],
             [
              0.1111111111111111,
              "#46039f"
             ],
             [
              0.2222222222222222,
              "#7201a8"
             ],
             [
              0.3333333333333333,
              "#9c179e"
             ],
             [
              0.4444444444444444,
              "#bd3786"
             ],
             [
              0.5555555555555556,
              "#d8576b"
             ],
             [
              0.6666666666666666,
              "#ed7953"
             ],
             [
              0.7777777777777778,
              "#fb9f3a"
             ],
             [
              0.8888888888888888,
              "#fdca26"
             ],
             [
              1,
              "#f0f921"
             ]
            ],
            "type": "heatmap"
           }
          ],
          "heatmapgl": [
           {
            "colorbar": {
             "outlinewidth": 0,
             "ticks": ""
            },
            "colorscale": [
             [
              0,
              "#0d0887"
             ],
             [
              0.1111111111111111,
              "#46039f"
             ],
             [
              0.2222222222222222,
              "#7201a8"
             ],
             [
              0.3333333333333333,
              "#9c179e"
             ],
             [
              0.4444444444444444,
              "#bd3786"
             ],
             [
              0.5555555555555556,
              "#d8576b"
             ],
             [
              0.6666666666666666,
              "#ed7953"
             ],
             [
              0.7777777777777778,
              "#fb9f3a"
             ],
             [
              0.8888888888888888,
              "#fdca26"
             ],
             [
              1,
              "#f0f921"
             ]
            ],
            "type": "heatmapgl"
           }
          ],
          "histogram": [
           {
            "marker": {
             "pattern": {
              "fillmode": "overlay",
              "size": 10,
              "solidity": 0.2
             }
            },
            "type": "histogram"
           }
          ],
          "histogram2d": [
           {
            "colorbar": {
             "outlinewidth": 0,
             "ticks": ""
            },
            "colorscale": [
             [
              0,
              "#0d0887"
             ],
             [
              0.1111111111111111,
              "#46039f"
             ],
             [
              0.2222222222222222,
              "#7201a8"
             ],
             [
              0.3333333333333333,
              "#9c179e"
             ],
             [
              0.4444444444444444,
              "#bd3786"
             ],
             [
              0.5555555555555556,
              "#d8576b"
             ],
             [
              0.6666666666666666,
              "#ed7953"
             ],
             [
              0.7777777777777778,
              "#fb9f3a"
             ],
             [
              0.8888888888888888,
              "#fdca26"
             ],
             [
              1,
              "#f0f921"
             ]
            ],
            "type": "histogram2d"
           }
          ],
          "histogram2dcontour": [
           {
            "colorbar": {
             "outlinewidth": 0,
             "ticks": ""
            },
            "colorscale": [
             [
              0,
              "#0d0887"
             ],
             [
              0.1111111111111111,
              "#46039f"
             ],
             [
              0.2222222222222222,
              "#7201a8"
             ],
             [
              0.3333333333333333,
              "#9c179e"
             ],
             [
              0.4444444444444444,
              "#bd3786"
             ],
             [
              0.5555555555555556,
              "#d8576b"
             ],
             [
              0.6666666666666666,
              "#ed7953"
             ],
             [
              0.7777777777777778,
              "#fb9f3a"
             ],
             [
              0.8888888888888888,
              "#fdca26"
             ],
             [
              1,
              "#f0f921"
             ]
            ],
            "type": "histogram2dcontour"
           }
          ],
          "mesh3d": [
           {
            "colorbar": {
             "outlinewidth": 0,
             "ticks": ""
            },
            "type": "mesh3d"
           }
          ],
          "parcoords": [
           {
            "line": {
             "colorbar": {
              "outlinewidth": 0,
              "ticks": ""
             }
            },
            "type": "parcoords"
           }
          ],
          "pie": [
           {
            "automargin": true,
            "type": "pie"
           }
          ],
          "scatter": [
           {
            "fillpattern": {
             "fillmode": "overlay",
             "size": 10,
             "solidity": 0.2
            },
            "type": "scatter"
           }
          ],
          "scatter3d": [
           {
            "line": {
             "colorbar": {
              "outlinewidth": 0,
              "ticks": ""
             }
            },
            "marker": {
             "colorbar": {
              "outlinewidth": 0,
              "ticks": ""
             }
            },
            "type": "scatter3d"
           }
          ],
          "scattercarpet": [
           {
            "marker": {
             "colorbar": {
              "outlinewidth": 0,
              "ticks": ""
             }
            },
            "type": "scattercarpet"
           }
          ],
          "scattergeo": [
           {
            "marker": {
             "colorbar": {
              "outlinewidth": 0,
              "ticks": ""
             }
            },
            "type": "scattergeo"
           }
          ],
          "scattergl": [
           {
            "marker": {
             "colorbar": {
              "outlinewidth": 0,
              "ticks": ""
             }
            },
            "type": "scattergl"
           }
          ],
          "scattermapbox": [
           {
            "marker": {
             "colorbar": {
              "outlinewidth": 0,
              "ticks": ""
             }
            },
            "type": "scattermapbox"
           }
          ],
          "scatterpolar": [
           {
            "marker": {
             "colorbar": {
              "outlinewidth": 0,
              "ticks": ""
             }
            },
            "type": "scatterpolar"
           }
          ],
          "scatterpolargl": [
           {
            "marker": {
             "colorbar": {
              "outlinewidth": 0,
              "ticks": ""
             }
            },
            "type": "scatterpolargl"
           }
          ],
          "scatterternary": [
           {
            "marker": {
             "colorbar": {
              "outlinewidth": 0,
              "ticks": ""
             }
            },
            "type": "scatterternary"
           }
          ],
          "surface": [
           {
            "colorbar": {
             "outlinewidth": 0,
             "ticks": ""
            },
            "colorscale": [
             [
              0,
              "#0d0887"
             ],
             [
              0.1111111111111111,
              "#46039f"
             ],
             [
              0.2222222222222222,
              "#7201a8"
             ],
             [
              0.3333333333333333,
              "#9c179e"
             ],
             [
              0.4444444444444444,
              "#bd3786"
             ],
             [
              0.5555555555555556,
              "#d8576b"
             ],
             [
              0.6666666666666666,
              "#ed7953"
             ],
             [
              0.7777777777777778,
              "#fb9f3a"
             ],
             [
              0.8888888888888888,
              "#fdca26"
             ],
             [
              1,
              "#f0f921"
             ]
            ],
            "type": "surface"
           }
          ],
          "table": [
           {
            "cells": {
             "fill": {
              "color": "#EBF0F8"
             },
             "line": {
              "color": "white"
             }
            },
            "header": {
             "fill": {
              "color": "#C8D4E3"
             },
             "line": {
              "color": "white"
             }
            },
            "type": "table"
           }
          ]
         },
         "layout": {
          "annotationdefaults": {
           "arrowcolor": "#2a3f5f",
           "arrowhead": 0,
           "arrowwidth": 1
          },
          "autotypenumbers": "strict",
          "coloraxis": {
           "colorbar": {
            "outlinewidth": 0,
            "ticks": ""
           }
          },
          "colorscale": {
           "diverging": [
            [
             0,
             "#8e0152"
            ],
            [
             0.1,
             "#c51b7d"
            ],
            [
             0.2,
             "#de77ae"
            ],
            [
             0.3,
             "#f1b6da"
            ],
            [
             0.4,
             "#fde0ef"
            ],
            [
             0.5,
             "#f7f7f7"
            ],
            [
             0.6,
             "#e6f5d0"
            ],
            [
             0.7,
             "#b8e186"
            ],
            [
             0.8,
             "#7fbc41"
            ],
            [
             0.9,
             "#4d9221"
            ],
            [
             1,
             "#276419"
            ]
           ],
           "sequential": [
            [
             0,
             "#0d0887"
            ],
            [
             0.1111111111111111,
             "#46039f"
            ],
            [
             0.2222222222222222,
             "#7201a8"
            ],
            [
             0.3333333333333333,
             "#9c179e"
            ],
            [
             0.4444444444444444,
             "#bd3786"
            ],
            [
             0.5555555555555556,
             "#d8576b"
            ],
            [
             0.6666666666666666,
             "#ed7953"
            ],
            [
             0.7777777777777778,
             "#fb9f3a"
            ],
            [
             0.8888888888888888,
             "#fdca26"
            ],
            [
             1,
             "#f0f921"
            ]
           ],
           "sequentialminus": [
            [
             0,
             "#0d0887"
            ],
            [
             0.1111111111111111,
             "#46039f"
            ],
            [
             0.2222222222222222,
             "#7201a8"
            ],
            [
             0.3333333333333333,
             "#9c179e"
            ],
            [
             0.4444444444444444,
             "#bd3786"
            ],
            [
             0.5555555555555556,
             "#d8576b"
            ],
            [
             0.6666666666666666,
             "#ed7953"
            ],
            [
             0.7777777777777778,
             "#fb9f3a"
            ],
            [
             0.8888888888888888,
             "#fdca26"
            ],
            [
             1,
             "#f0f921"
            ]
           ]
          },
          "colorway": [
           "#636efa",
           "#EF553B",
           "#00cc96",
           "#ab63fa",
           "#FFA15A",
           "#19d3f3",
           "#FF6692",
           "#B6E880",
           "#FF97FF",
           "#FECB52"
          ],
          "font": {
           "color": "#2a3f5f"
          },
          "geo": {
           "bgcolor": "white",
           "lakecolor": "white",
           "landcolor": "#E5ECF6",
           "showlakes": true,
           "showland": true,
           "subunitcolor": "white"
          },
          "hoverlabel": {
           "align": "left"
          },
          "hovermode": "closest",
          "mapbox": {
           "style": "light"
          },
          "paper_bgcolor": "white",
          "plot_bgcolor": "#E5ECF6",
          "polar": {
           "angularaxis": {
            "gridcolor": "white",
            "linecolor": "white",
            "ticks": ""
           },
           "bgcolor": "#E5ECF6",
           "radialaxis": {
            "gridcolor": "white",
            "linecolor": "white",
            "ticks": ""
           }
          },
          "scene": {
           "xaxis": {
            "backgroundcolor": "#E5ECF6",
            "gridcolor": "white",
            "gridwidth": 2,
            "linecolor": "white",
            "showbackground": true,
            "ticks": "",
            "zerolinecolor": "white"
           },
           "yaxis": {
            "backgroundcolor": "#E5ECF6",
            "gridcolor": "white",
            "gridwidth": 2,
            "linecolor": "white",
            "showbackground": true,
            "ticks": "",
            "zerolinecolor": "white"
           },
           "zaxis": {
            "backgroundcolor": "#E5ECF6",
            "gridcolor": "white",
            "gridwidth": 2,
            "linecolor": "white",
            "showbackground": true,
            "ticks": "",
            "zerolinecolor": "white"
           }
          },
          "shapedefaults": {
           "line": {
            "color": "#2a3f5f"
           }
          },
          "ternary": {
           "aaxis": {
            "gridcolor": "white",
            "linecolor": "white",
            "ticks": ""
           },
           "baxis": {
            "gridcolor": "white",
            "linecolor": "white",
            "ticks": ""
           },
           "bgcolor": "#E5ECF6",
           "caxis": {
            "gridcolor": "white",
            "linecolor": "white",
            "ticks": ""
           }
          },
          "title": {
           "x": 0.05
          },
          "xaxis": {
           "automargin": true,
           "gridcolor": "white",
           "linecolor": "white",
           "ticks": "",
           "title": {
            "standoff": 15
           },
           "zerolinecolor": "white",
           "zerolinewidth": 2
          },
          "yaxis": {
           "automargin": true,
           "gridcolor": "white",
           "linecolor": "white",
           "ticks": "",
           "title": {
            "standoff": 15
           },
           "zerolinecolor": "white",
           "zerolinewidth": 2
          }
         }
        },
        "title": {
         "text": "Weekly Spending Trend"
        },
        "xaxis": {
         "anchor": "y",
         "domain": [
          0,
          1
         ],
         "title": {
          "text": "Week"
         }
        },
        "yaxis": {
         "anchor": "x",
         "domain": [
          0,
          1
         ],
         "title": {
          "text": "Total Money"
         }
        }
       }
      }
     },
     "metadata": {},
     "output_type": "display_data"
    }
   ],
   "source": [
    "df['week'] = df['datetime'].dt.to_period('W').astype(str)\n",
    "weekly_spending = df.groupby('week').agg({'money': 'sum'}).reset_index()\n",
    "fig = px.line(weekly_spending, x='week', y='money', title='Weekly Spending Trend', labels={'money': 'Total Money', 'week': 'Week'})\n",
    "fig.show()"
   ]
  },
  {
   "cell_type": "code",
   "execution_count": null,
   "metadata": {},
   "outputs": [],
   "source": []
  }
 ],
 "metadata": {
  "kernelspec": {
   "display_name": "Python 3",
   "language": "python",
   "name": "python3"
  },
  "language_info": {
   "codemirror_mode": {
    "name": "ipython",
    "version": 3
   },
   "file_extension": ".py",
   "mimetype": "text/x-python",
   "name": "python",
   "nbconvert_exporter": "python",
   "pygments_lexer": "ipython3",
   "version": "3.12.4"
  }
 },
 "nbformat": 4,
 "nbformat_minor": 2
}
